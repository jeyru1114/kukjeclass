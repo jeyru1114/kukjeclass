{
 "cells": [
  {
   "cell_type": "code",
   "execution_count": 1,
   "id": "36a64b0c",
   "metadata": {},
   "outputs": [],
   "source": [
    "# 리스트의 짝수의 총합 "
   ]
  },
  {
   "cell_type": "code",
   "execution_count": 2,
   "id": "ff35dfa2",
   "metadata": {},
   "outputs": [],
   "source": [
    "arr=[2,4,5,6,7,8,11]"
   ]
  },
  {
   "cell_type": "code",
   "execution_count": 3,
   "id": "3644f054",
   "metadata": {},
   "outputs": [],
   "source": [
    "# 딕셔너리(dictionary) ,키와 value의 쌍으로 이루어진 데이터 구조 "
   ]
  },
  {
   "cell_type": "code",
   "execution_count": 4,
   "id": "6e32007e",
   "metadata": {},
   "outputs": [
    {
     "data": {
      "text/plain": [
       "4"
      ]
     },
     "execution_count": 4,
     "metadata": {},
     "output_type": "execute_result"
    }
   ],
   "source": [
    "v,w = [4,5]\n",
    "v"
   ]
  },
  {
   "cell_type": "code",
   "execution_count": 5,
   "id": "87502eb5",
   "metadata": {},
   "outputs": [
    {
     "data": {
      "text/plain": [
       "{'a': 10, 'arr': [1, 2, 3, 4, 5, 6], '짝수': [22, 36, 52, 42, 40], '홀수': [101]}"
      ]
     },
     "execution_count": 5,
     "metadata": {},
     "output_type": "execute_result"
    }
   ],
   "source": [
    "obj={} # 빈 dictionary 만들겠다\n",
    "obj['a']=10 # obj의  key(a)  value가 10인 데이터 저장\n",
    "obj['arr']=[1,2,3,4,5,6]# obj에  key가 arr인 곳에  value를 list로 저장 \n",
    "obj['짝수']=[]\n",
    "obj['홀수'] =[ ]\n",
    "arr=[11,23,56,17,23,19]\n",
    "arr2= [11,13,45,35,19,21]\n",
    "for i,j in zip(arr, arr2):\n",
    "    res = i+j\n",
    "    if res%2==0:\n",
    "        obj['짝수'].append(res)\n",
    "    else :\n",
    "        obj['홀수'].append(res)\n",
    "obj        \n"
   ]
  },
  {
   "cell_type": "code",
   "execution_count": 6,
   "id": "45e96326",
   "metadata": {},
   "outputs": [
    {
     "data": {
      "text/plain": [
       "{'a': 10, 'arr': [1, 2, 3, 4, 5, 6], '짝수': [22, 36, 52, 42, 40], '홀수': [101]}"
      ]
     },
     "execution_count": 6,
     "metadata": {},
     "output_type": "execute_result"
    }
   ],
   "source": [
    "obj={} # 빈 dictionary 만들겠다\n",
    "obj['a']=10 # obj의  key(a)  value가 10인 데이터 저장\n",
    "obj['arr']=[1,2,3,4,5,6]# obj에  key가 arr인 곳에  value를 list로 저장 \n",
    "\n",
    "arr=[11,23,56,17,23,19]\n",
    "arr2= [11,13,45,35,19,21]\n",
    "obj[\"짝수\"]= [i + j  for i,j in zip(arr, arr2) if (i+j)%2==0 ]\n",
    "obj[\"홀수\"]= [i + j  for i,j in zip(arr, arr2) if (i+j)%2==1 ]\n",
    "obj       \n"
   ]
  },
  {
   "cell_type": "code",
   "execution_count": 7,
   "id": "d43c95e3",
   "metadata": {},
   "outputs": [],
   "source": [
    "def chae(v):\n",
    "    return  v>2"
   ]
  },
  {
   "cell_type": "code",
   "execution_count": 8,
   "id": "bdfc405e",
   "metadata": {},
   "outputs": [
    {
     "data": {
      "text/plain": [
       "[3, 4]"
      ]
     },
     "execution_count": 8,
     "metadata": {},
     "output_type": "execute_result"
    }
   ],
   "source": [
    "list(filter( chae ,   [1,2,3,4]))"
   ]
  },
  {
   "cell_type": "code",
   "execution_count": 9,
   "id": "9afed3dc",
   "metadata": {},
   "outputs": [],
   "source": [
    "def f_even(x):\n",
    "    i,j = x\n",
    "    return (i +j)%2==0\n",
    "def f_odd(x):\n",
    "    i,j = x\n",
    "    return (i +j)%2==1"
   ]
  },
  {
   "cell_type": "code",
   "execution_count": 10,
   "id": "f82a3b8d",
   "metadata": {},
   "outputs": [],
   "source": [
    "temp_even = list(filter(   f_even  ,  zip(arr, arr2)))\n",
    "obj['짝수']= [ i+j for i ,j  in  temp_even ]"
   ]
  },
  {
   "cell_type": "code",
   "execution_count": 11,
   "id": "dc30749a",
   "metadata": {},
   "outputs": [
    {
     "data": {
      "text/plain": [
       "{'a': 10, 'arr': [1, 2, 3, 4, 5, 6], '짝수': [22, 36, 52, 42, 40], '홀수': [101]}"
      ]
     },
     "execution_count": 11,
     "metadata": {},
     "output_type": "execute_result"
    }
   ],
   "source": [
    "temp_odd = list(filter(   f_odd  ,  zip(arr, arr2)))\n",
    "obj['홀수']=  [ i+j for i ,j  in  temp_odd ]\n",
    "obj"
   ]
  },
  {
   "cell_type": "code",
   "execution_count": 12,
   "id": "b68ae604",
   "metadata": {
    "scrolled": true
   },
   "outputs": [
    {
     "data": {
      "text/plain": [
       "56"
      ]
     },
     "execution_count": 12,
     "metadata": {},
     "output_type": "execute_result"
    }
   ],
   "source": [
    "#지은2 현준 지영 가영  단아 지현 태규 지호  정호  \n",
    "# {'짝수': [11+11,23+13,...] '홀수':[56+45]}\n",
    "#문제10) 여기를 채우세요\n",
    "#짝수의 총합을 반환하는 기능 구현\n",
    "def f(x):\n",
    "    sum_=0;\n",
    "    for i in x:\n",
    "        if i%2==0:\n",
    "            sum_+=i\n",
    "    return sum_\n",
    "f([11,23,45,56])"
   ]
  },
  {
   "cell_type": "code",
   "execution_count": 13,
   "id": "4f779519",
   "metadata": {
    "scrolled": true
   },
   "outputs": [
    {
     "data": {
      "text/plain": [
       "323"
      ]
     },
     "execution_count": 13,
     "metadata": {},
     "output_type": "execute_result"
    }
   ],
   "source": [
    "#지은2 현준 지영 가영  단아 지현 태규 지호  정호  \n",
    "# {'짝수': [11+11,23+13,...] '홀수':[56+45]}\n",
    "#문제10) 여기를 채우세요\n",
    "#짝수의 총합을 반환하는 기능 구현\n",
    "def f_1(x1,x2,x3,x4,x5,x6,x7,x8):\n",
    "    \n",
    "    return x1+ x2+ x3+ x4+ x5+ x6+x7+ x8\n",
    "f_1(11,23,45,56,11,23,43,111)"
   ]
  },
  {
   "cell_type": "code",
   "execution_count": 14,
   "id": "4d27ed82",
   "metadata": {},
   "outputs": [
    {
     "data": {
      "text/plain": [
       "4"
      ]
     },
     "execution_count": 14,
     "metadata": {},
     "output_type": "execute_result"
    }
   ],
   "source": [
    "#문제11) g함수 구현 dictionary를 받아서 key(a)의 리스트중 홀수의 갯수 반환함\n",
    "def g(v):\n",
    "    cnt=0\n",
    "    for i in v['a']:\n",
    "        if i%2==1:\n",
    "            cnt+=1;\n",
    "    return cnt\n",
    "g({\"a\":[3,4,5,6,7,8,11]}) # 문11) g 함수 구현 dictionary를 받아서  key(a)  의 리스트중 홀수의 갯수 반환함 "
   ]
  },
  {
   "cell_type": "code",
   "execution_count": 15,
   "id": "c4f09078",
   "metadata": {},
   "outputs": [
    {
     "data": {
      "text/plain": [
       "4"
      ]
     },
     "execution_count": 15,
     "metadata": {},
     "output_type": "execute_result"
    }
   ],
   "source": [
    "obj1= {\"a\":[3,4,5,6,7,8,11]}\n",
    "len(list(filter(lambda x:x %2==1, obj1['a'] )))"
   ]
  },
  {
   "cell_type": "code",
   "execution_count": 16,
   "id": "6dc09c14",
   "metadata": {},
   "outputs": [
    {
     "data": {
      "text/plain": [
       "220"
      ]
     },
     "execution_count": 16,
     "metadata": {},
     "output_type": "execute_result"
    }
   ],
   "source": [
    "#문 12) g1 함수 구현 2개의 인자를 받아요\n",
    "#첫번째 인자는 리스트이고 두번째 인자는 숫자값 하나\n",
    "#첫번째 인자의 각각의 요소와 두번째 숫자를 곱하고 그 결과를 다 더한 결과를 반환하는 함수 구현\n",
    "#위의 g1 함수 호출후 결과 확인 \n",
    "def g1(x ,y):\n",
    "    sum_=0\n",
    "    for i in x:\n",
    "        sum_+=i*y;\n",
    "    return sum_\n",
    "g1([1,3,4,5,6,11,14],5)"
   ]
  },
  {
   "cell_type": "code",
   "execution_count": 17,
   "id": "49cae6c8",
   "metadata": {},
   "outputs": [
    {
     "name": "stdout",
     "output_type": "stream",
     "text": [
      "[11, 34, 56, 23, 19]\n",
      "[3, 4, 5, 6, 7]\n",
      "[2, 3, 4, 5, 11, 23]\n"
     ]
    }
   ],
   "source": [
    "def g3(x,y):\n",
    "    for i in x.keys():\n",
    "        print(x[i])\n",
    "# 문13) 함수 정의 g3\n",
    "#dictionary 2개를 인자로 받아서 첫번째 dictionary는 짝수의 총합을 구하고 두번째 dictionary에서는\n",
    "# 홀수의 갯수를 구해서 2개를 list로 반환하는 기능 구현 \n",
    "g3(\n",
    "    {\"a\":[11,34,56,23,19],\"b\":[3,4,5,6,7],\"c\":[2,3,4,5,11,23]},\n",
    "    {\"f\":[11,34,56,123,119],\"b1\":[3,4,15,6,7],\"c1\":[2,13,4,5,111,23]}\n",
    "  )"
   ]
  },
  {
   "cell_type": "code",
   "execution_count": 18,
   "id": "30e9fee6",
   "metadata": {},
   "outputs": [],
   "source": [
    "# 문16) 함수 정의 \n",
    "#입력으로 dictoinary 받아서 dictionary 를 반환함 \n",
    "#a_1:11,32,45,67,56 의 총합 , b_1:11,56,78,34,111,345 의 총합 \n",
    "#c_b_1: \"qrrr\",\"rrzz\",\"zzvv\" 문자열 결합 \n",
    "#\"a_2\":[111,32,45,67,56] 의 총합 \n",
    "#,\"b_2\":[11,56,278,34,111,1345]의 총합 ,\"c_b_2\":\"qr\",\"rr\",\"zzr\"  의 문자열 결합 "
   ]
  },
  {
   "cell_type": "code",
   "execution_count": 19,
   "id": "94d361b4",
   "metadata": {},
   "outputs": [],
   "source": [
    "arr_of_dict=[\n",
    "    {\"a\":[11,32,45,67,56],\"b\":[11,56,78,34,111,345],\"c\":{\"b\":[\"qrrr\",\"rrzz\",\"zzvv\"]}},\n",
    "    {\"a\":[111,32,45,67,56],\"b\":[11,56,278,34,111,1345],\"c\":{\"b\":[\"qr\",\"rr\",\"zzr\"]}},\n",
    "    {\"a\":[11,322,425,67,516],\"b\":[151,56,758,324,1211,2345],\"c\":{\"b\":[\"qr\",\"rrrr\",\"zz\"]}},\n",
    "    {\"a\":[11,32,45,617,516],\"b\":[11,56,78,34,111,3405],\"c\":{\"b\":[\"qrrf\",\"rfr\",\"zzr\"]}},\n",
    "    {\"a\":[11,32,45,67,516],\"b\":[11,56,78,394,111,3405],\"c\":{\"b\":[\"qrf\",\"rrf\",\"zzv\"]}},\n",
    "]"
   ]
  },
  {
   "cell_type": "code",
   "execution_count": 20,
   "id": "1d68dfc8",
   "metadata": {},
   "outputs": [],
   "source": [
    "#16 배열의 합을 구하는 함수 \n",
    "def sum_of_list(x):\n",
    "    if type(x[0])==str:\n",
    "        sum_=''\n",
    "    else : sum_=0\n",
    "    for i in x:\n",
    "        sum_+=i\n",
    "    return sum_"
   ]
  },
  {
   "cell_type": "code",
   "execution_count": 21,
   "id": "d0fe4c44",
   "metadata": {},
   "outputs": [],
   "source": [
    "from functools import reduce\n",
    "def f_arr_of_dict_reduce(x):\n",
    "    dict_result={}\n",
    "    for idx , i in enumerate(x):\n",
    "        for k, v in i.items():\n",
    "            if type(v)==list:\n",
    "                dict_result[k+'_'+str(idx+1)] = reduce(lambda x,y: x+y, i[k])\n",
    "            else :\n",
    "                if type(v)== dict:\n",
    "                    for t ,v1 in v.items():\n",
    "                        dict_result[k+'_'+t+\"_\"+str(idx+1)]= reduce(lambda x,y: x+y, v1)\n",
    "    return dict_result"
   ]
  },
  {
   "cell_type": "code",
   "execution_count": 22,
   "id": "4aa5da56",
   "metadata": {},
   "outputs": [],
   "source": [
    "#16 배열의 합을 호출하는 version\n",
    "def f_arr_of_dict(x):\n",
    "    dict_result={}\n",
    "    for idx , i in enumerate(x):\n",
    "        for k, v in i.items():\n",
    "            if type(v)==list:\n",
    "                dict_result[k+'_'+str(idx+1)] = sum_of_list(v)\n",
    "            else :\n",
    "                if type(v)== dict:\n",
    "                    for t ,v1 in v.items():\n",
    "                        dict_result[k+'_'+t+\"_\"+str(idx+1)]= sum_of_list(v1)\n",
    "    return dict_result"
   ]
  },
  {
   "cell_type": "code",
   "execution_count": 23,
   "id": "0ebf31d8",
   "metadata": {},
   "outputs": [],
   "source": [
    "#17 함수 정의 \n",
    "def f_dict(x, idx):\n",
    "    dict_result={}\n",
    "    for k, v in x.items():\n",
    "        if type(v)==list:\n",
    "            dict_result[k+'_'+str(idx+1)] = sum_of_list(v)\n",
    "        else :\n",
    "            if type(v)== dict:\n",
    "                for t ,v1 in v.items():\n",
    "                    dict_result[k+'_'+t+\"_\"+str(idx+1)]= sum_of_list(v1)\n",
    "    return dict_result"
   ]
  },
  {
   "cell_type": "code",
   "execution_count": 24,
   "id": "b02de632",
   "metadata": {},
   "outputs": [
    {
     "data": {
      "text/plain": [
       "{'a_1': 211,\n",
       " 'b_1': 635,\n",
       " 'c_b_1': 'qrrrrrzzzzvv',\n",
       " 'a_2': 311,\n",
       " 'b_2': 1835,\n",
       " 'c_b_2': 'qrrrzzr',\n",
       " 'a_3': 1341,\n",
       " 'b_3': 4845,\n",
       " 'c_b_3': 'qrrrrrzz',\n",
       " 'a_4': 1221,\n",
       " 'b_4': 3695,\n",
       " 'c_b_4': 'qrrfrfrzzr',\n",
       " 'a_5': 671,\n",
       " 'b_5': 4055,\n",
       " 'c_b_5': 'qrfrrfzzv'}"
      ]
     },
     "execution_count": 24,
     "metadata": {},
     "output_type": "execute_result"
    }
   ],
   "source": [
    "f_arr_of_dict_reduce(arr_of_dict)"
   ]
  },
  {
   "cell_type": "code",
   "execution_count": 25,
   "id": "b435d4fb",
   "metadata": {},
   "outputs": [
    {
     "data": {
      "text/plain": [
       "{'a_1': 211,\n",
       " 'b_1': 635,\n",
       " 'c_b_1': 'qrrrrrzzzzvv',\n",
       " 'a_2': 311,\n",
       " 'b_2': 1835,\n",
       " 'c_b_2': 'qrrrzzr',\n",
       " 'a_3': 1341,\n",
       " 'b_3': 4845,\n",
       " 'c_b_3': 'qrrrrrzz',\n",
       " 'a_4': 1221,\n",
       " 'b_4': 3695,\n",
       " 'c_b_4': 'qrrfrfrzzr',\n",
       " 'a_5': 671,\n",
       " 'b_5': 4055,\n",
       " 'c_b_5': 'qrfrrfzzv'}"
      ]
     },
     "execution_count": 25,
     "metadata": {},
     "output_type": "execute_result"
    }
   ],
   "source": [
    "f_arr_of_dict(arr_of_dict)"
   ]
  },
  {
   "cell_type": "code",
   "execution_count": 30,
   "id": "03673bc3",
   "metadata": {
    "scrolled": false
   },
   "outputs": [
    {
     "data": {
      "text/plain": [
       "{'a_1': 211,\n",
       " 'b_1': 635,\n",
       " 'c_b_1': 'qrrrrrzzzzvv',\n",
       " 'a_2': 311,\n",
       " 'b_2': 1835,\n",
       " 'c_b_2': 'qrrrzzr',\n",
       " 'a_3': 1341,\n",
       " 'b_3': 4845,\n",
       " 'c_b_3': 'qrrrrrzz',\n",
       " 'a_4': 1221,\n",
       " 'b_4': 3695,\n",
       " 'c_b_4': 'qrrfrfrzzr',\n",
       " 'a_5': 671,\n",
       " 'b_5': 4055,\n",
       " 'c_b_5': 'qrfrrfzzv'}"
      ]
     },
     "execution_count": 30,
     "metadata": {},
     "output_type": "execute_result"
    }
   ],
   "source": [
    "#17 함수 호출 (5회)\n",
    "result_dict= [f_dict(arr_of_dict[i],i) for  i in range(len(arr_of_dict))]\n",
    "new_dict={}\n",
    "for i in result_dict:\n",
    "    for k,v in i.items():\n",
    "        new_dict[k]=v\n",
    "new_dict"
   ]
  }
 ],
 "metadata": {
  "kernelspec": {
   "display_name": "Python 3 (ipykernel)",
   "language": "python",
   "name": "python3"
  },
  "language_info": {
   "codemirror_mode": {
    "name": "ipython",
    "version": 3
   },
   "file_extension": ".py",
   "mimetype": "text/x-python",
   "name": "python",
   "nbconvert_exporter": "python",
   "pygments_lexer": "ipython3",
   "version": "3.11.4"
  }
 },
 "nbformat": 4,
 "nbformat_minor": 5
}
