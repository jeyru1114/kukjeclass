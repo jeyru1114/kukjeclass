{
 "cells": [
  {
   "cell_type": "code",
   "execution_count": 106,
   "id": "5d843098",
   "metadata": {},
   "outputs": [
    {
     "name": "stdout",
     "output_type": "stream",
     "text": [
      "0 10\n",
      "1 20\n",
      "2 30\n"
     ]
    }
   ],
   "source": [
    "arr=[10,20,30]\n",
    "for idx, data in enumerate(arr):  #enumerate는 데이터가 몇번째위치해있고, 값이뭔지 나타내는 것\n",
    "    print(idx,data)"
   ]
  },
  {
   "cell_type": "code",
   "execution_count": 12,
   "id": "8d46bc1c",
   "metadata": {},
   "outputs": [],
   "source": [
    "list_1=[]"
   ]
  },
  {
   "cell_type": "code",
   "execution_count": 13,
   "id": "d7b96ace",
   "metadata": {
    "scrolled": true
   },
   "outputs": [
    {
     "data": {
      "text/plain": [
       "[{'a': [1, 3, 45, 22, 18], 'b': {'c': 7}}]"
      ]
     },
     "execution_count": 13,
     "metadata": {},
     "output_type": "execute_result"
    }
   ],
   "source": [
    "list_1.append({\"a\":[1,3,45,22,18],\"b\":{\"c\":7}})\n",
    "list_1"
   ]
  },
  {
   "cell_type": "code",
   "execution_count": 21,
   "id": "8bdf87bc",
   "metadata": {
    "scrolled": true
   },
   "outputs": [],
   "source": [
    "#문제 1) 7에 접근\n",
    "#문제 2) a의 리스트의 짝수들의 총합 구하기\n",
    "#문제 3) dict3={\"a_1\":[1,3,45,22,18]의 총합, \"a_2\" : [11,13,145,122,118] 총합\n",
    "# a, \"a_3\":[121,131,66,44,19]의 총합\n",
    "#dict4['a_1']="
   ]
  },
  {
   "cell_type": "code",
   "execution_count": 47,
   "id": "64b7c02a",
   "metadata": {},
   "outputs": [
    {
     "data": {
      "text/plain": [
       "{'a_1': 40, 'a_2': [1, 2, 3, 4]}"
      ]
     },
     "execution_count": 47,
     "metadata": {},
     "output_type": "execute_result"
    }
   ],
   "source": [
    "obj1={}\n",
    "obj1['a_1']=20\n",
    "obj1['a_1']=40\n",
    "obj1['a_2']=[1,2,3,4]\n",
    "obj1"
   ]
  },
  {
   "cell_type": "code",
   "execution_count": 19,
   "id": "ed5d7e30",
   "metadata": {},
   "outputs": [],
   "source": [
    "list_2=[]"
   ]
  },
  {
   "cell_type": "code",
   "execution_count": 20,
   "id": "cfd1b6c5",
   "metadata": {
    "scrolled": false
   },
   "outputs": [
    {
     "data": {
      "text/plain": [
       "[{'a': [1, 3, 45, 22, 18], 'b': {'c': 7}},\n",
       " {'a': [11, 13, 145, 122, 118], 'b': {'c': 71}},\n",
       " {'a': [121, 131, 66, 44, 19], 'b': {'c': 712}}]"
      ]
     },
     "execution_count": 20,
     "metadata": {},
     "output_type": "execute_result"
    }
   ],
   "source": [
    "list_2.append({\"a\":[1,3,45,22,18],\"b\":{\"c\":7}})\n",
    "list_2.append({\"a\":[11,13,145,122,118],\"b\":{\"c\":71}})\n",
    "list_2.append({\"a\":[121,131,66,44,19],\"b\":{\"c\":712}})\n",
    "list_2"
   ]
  },
  {
   "cell_type": "code",
   "execution_count": 86,
   "id": "b819b54b",
   "metadata": {},
   "outputs": [
    {
     "name": "stdout",
     "output_type": "stream",
     "text": [
      "<class 'dict'>\n",
      "<class 'dict'>\n",
      "<class 'dict'>\n"
     ]
    }
   ],
   "source": [
    "for i in list_2:\n",
    "    print(type(i))"
   ]
  },
  {
   "cell_type": "code",
   "execution_count": 84,
   "id": "8b0a6a53",
   "metadata": {},
   "outputs": [],
   "source": [
    "#1번)"
   ]
  },
  {
   "cell_type": "code",
   "execution_count": 72,
   "id": "b6a38068",
   "metadata": {},
   "outputs": [
    {
     "name": "stdout",
     "output_type": "stream",
     "text": [
      "7\n"
     ]
    }
   ],
   "source": [
    "print(list_1[0]['b']['c']"
   ]
  },
  {
   "cell_type": "code",
   "execution_count": 85,
   "id": "e030d8ac",
   "metadata": {},
   "outputs": [],
   "source": [
    "#2번)"
   ]
  },
  {
   "cell_type": "code",
   "execution_count": 39,
   "id": "31ed86c8",
   "metadata": {
    "scrolled": true
   },
   "outputs": [
    {
     "data": {
      "text/plain": [
       "40"
      ]
     },
     "execution_count": 39,
     "metadata": {},
     "output_type": "execute_result"
    }
   ],
   "source": [
    "sum_1=0\n",
    "for i in list_1[0]['a']:\n",
    "    if i%2==0:\n",
    "        sum_1+=i\n",
    "sum_1"
   ]
  },
  {
   "cell_type": "code",
   "execution_count": 94,
   "id": "7f9c5247",
   "metadata": {},
   "outputs": [
    {
     "data": {
      "text/plain": [
       "{'a1': 1, 'a2': 23, 'a3': 23, 'a4': 11, 'a5': 17}"
      ]
     },
     "execution_count": 94,
     "metadata": {},
     "output_type": "execute_result"
    }
   ],
   "source": [
    "obj_7={}\n",
    "for idx, data in enumerate([1,23,23,11,17]):\n",
    "    obj_7['a'+str(idx+1)]=data\n",
    "obj_7"
   ]
  },
  {
   "cell_type": "code",
   "execution_count": 95,
   "id": "3f5d6a3c",
   "metadata": {
    "scrolled": true
   },
   "outputs": [
    {
     "name": "stdout",
     "output_type": "stream",
     "text": [
      "a 7\n",
      "b 11\n"
     ]
    }
   ],
   "source": [
    "obj={\"a\":7,\"b\":11}\n",
    "for i,j in obj.items():\n",
    "    print(i,j)"
   ]
  },
  {
   "cell_type": "markdown",
   "id": "30e1817c",
   "metadata": {},
   "source": [
    "## ()-set {}-tuple []-list"
   ]
  },
  {
   "cell_type": "code",
   "execution_count": 101,
   "id": "ca0beb4d",
   "metadata": {},
   "outputs": [
    {
     "data": {
      "text/plain": [
       "set"
      ]
     },
     "execution_count": 101,
     "metadata": {},
     "output_type": "execute_result"
    }
   ],
   "source": [
    "a={3,4,5}\n",
    "type(a)"
   ]
  },
  {
   "cell_type": "code",
   "execution_count": 100,
   "id": "d9877862",
   "metadata": {
    "scrolled": false
   },
   "outputs": [
    {
     "name": "stdout",
     "output_type": "stream",
     "text": [
      "0 <class 'tuple'>\n",
      "1 <class 'tuple'>\n"
     ]
    }
   ],
   "source": [
    "obj={\"a\":7,\"b\":11}\n",
    "for i,j in enumerate(obj.items()):\n",
    "    print(i,type(j))"
   ]
  },
  {
   "cell_type": "code",
   "execution_count": 103,
   "id": "f0340bcf",
   "metadata": {
    "scrolled": false
   },
   "outputs": [
    {
     "name": "stdout",
     "output_type": "stream",
     "text": [
      "0 a\n",
      "1 b\n"
     ]
    }
   ],
   "source": [
    "obj={\"a\":7,\"b\":11}\n",
    "for i,j in enumerate(obj.items()):\n",
    "    print(i,j[0])"
   ]
  },
  {
   "cell_type": "code",
   "execution_count": 105,
   "id": "817b39fe",
   "metadata": {
    "scrolled": true
   },
   "outputs": [
    {
     "ename": "TypeError",
     "evalue": "'tuple' object does not support item assignment",
     "output_type": "error",
     "traceback": [
      "\u001b[1;31m---------------------------------------------------------------------------\u001b[0m",
      "\u001b[1;31mTypeError\u001b[0m                                 Traceback (most recent call last)",
      "Cell \u001b[1;32mIn[105], line 2\u001b[0m\n\u001b[0;32m      1\u001b[0m t\u001b[38;5;241m=\u001b[39m(\u001b[38;5;241m1\u001b[39m,\u001b[38;5;241m32\u001b[39m,\u001b[38;5;241m23\u001b[39m,\u001b[38;5;241m11\u001b[39m) \u001b[38;5;66;03m#tuple\u001b[39;00m\n\u001b[1;32m----> 2\u001b[0m t[\u001b[38;5;241m0\u001b[39m]\u001b[38;5;241m=\u001b[39m\u001b[38;5;241m7\u001b[39m\n",
      "\u001b[1;31mTypeError\u001b[0m: 'tuple' object does not support item assignment"
     ]
    }
   ],
   "source": [
    "t=(1,32,23,11) #tuple\n",
    "t[0]=7"
   ]
  },
  {
   "cell_type": "code",
   "execution_count": 97,
   "id": "9fcfa046",
   "metadata": {
    "scrolled": true
   },
   "outputs": [
    {
     "name": "stdout",
     "output_type": "stream",
     "text": [
      "a\n",
      "b\n"
     ]
    }
   ],
   "source": [
    "obj={\"a\":7,\"b\":11}\n",
    "for i in obj.keys():\n",
    "    print(i)"
   ]
  },
  {
   "cell_type": "code",
   "execution_count": 90,
   "id": "95f9672d",
   "metadata": {
    "scrolled": true
   },
   "outputs": [
    {
     "data": {
      "text/plain": [
       "{'a_1': [1, 3, 45, 22, 18],\n",
       " 'a_2': [11, 13, 145, 122, 118],\n",
       " 'a_3': [121, 131, 66, 44, 19]}"
      ]
     },
     "execution_count": 90,
     "metadata": {},
     "output_type": "execute_result"
    }
   ],
   "source": [
    "obj2={}\n",
    "obj2['a_1']=[1,3,45,22,18]\n",
    "obj2['a_2']=[11,13,145,122,118]\n",
    "obj2['a_3']=[121,131,66,44,19]\n",
    "obj2"
   ]
  },
  {
   "cell_type": "code",
   "execution_count": 107,
   "id": "ec7614a1",
   "metadata": {
    "scrolled": true
   },
   "outputs": [
    {
     "data": {
      "text/plain": [
       "{'a_1': 89, 'a_2': 409, 'a_3': 381}"
      ]
     },
     "execution_count": 107,
     "metadata": {},
     "output_type": "execute_result"
    }
   ],
   "source": [
    "# 총합 선생님 답\n",
    "result_dict={'a_1':0,'a_2':0,'a_3':0}\n",
    "for idx, data in enumerate(list_2):\n",
    "    for j in data['a']:\n",
    "        result_dict['a_'+str(idx+1)] += j\n",
    "result_dict"
   ]
  },
  {
   "cell_type": "code",
   "execution_count": 111,
   "id": "dcecddb6",
   "metadata": {},
   "outputs": [],
   "source": [
    "def f(x): return x*4"
   ]
  },
  {
   "cell_type": "code",
   "execution_count": 113,
   "id": "cc4d59b2",
   "metadata": {},
   "outputs": [
    {
     "data": {
      "text/plain": [
       "[8, 12, 16, 20, 24]"
      ]
     },
     "execution_count": 113,
     "metadata": {},
     "output_type": "execute_result"
    }
   ],
   "source": [
    "list(map( f, [2,3,4,5,6]))"
   ]
  },
  {
   "cell_type": "code",
   "execution_count": 114,
   "id": "a8c06c45",
   "metadata": {},
   "outputs": [
    {
     "data": {
      "text/plain": [
       "[8, 12, 16, 20, 24]"
      ]
     },
     "execution_count": 114,
     "metadata": {},
     "output_type": "execute_result"
    }
   ],
   "source": [
    "list(map( lambda x: x*4, [2,3,4,5,6]))"
   ]
  },
  {
   "cell_type": "code",
   "execution_count": 117,
   "id": "217f6e75",
   "metadata": {},
   "outputs": [
    {
     "data": {
      "text/plain": [
       "[32, 48, 64, 80, 96]"
      ]
     },
     "execution_count": 117,
     "metadata": {},
     "output_type": "execute_result"
    }
   ],
   "source": [
    "list(map ( lambda v : f(v), map(lambda x:x*4, [2,3,4,5,6])))"
   ]
  },
  {
   "cell_type": "code",
   "execution_count": 110,
   "id": "baa0a1f8",
   "metadata": {
    "scrolled": true
   },
   "outputs": [
    {
     "ename": "IndentationError",
     "evalue": "expected an indented block after 'if' statement on line 3 (1060573814.py, line 4)",
     "output_type": "error",
     "traceback": [
      "\u001b[1;36m  Cell \u001b[1;32mIn[110], line 4\u001b[1;36m\u001b[0m\n\u001b[1;33m    result_dict['a_'+str(idx+1)]=0\u001b[0m\n\u001b[1;37m    ^\u001b[0m\n\u001b[1;31mIndentationError\u001b[0m\u001b[1;31m:\u001b[0m expected an indented block after 'if' statement on line 3\n"
     ]
    }
   ],
   "source": [
    "result_dict={}\n",
    "for idx, data in enumerate(list_2):\n",
    "    if v not in result_dict.keys():\n",
    "    result_dict['a_'+str(idx+1)]=0\n",
    "    else :\n",
    "        for j in data['a']:\n",
    "            result_dict['a_'+str(idx+1)] += j\n",
    "result_dict"
   ]
  },
  {
   "cell_type": "code",
   "execution_count": 92,
   "id": "a66ec559",
   "metadata": {},
   "outputs": [
    {
     "data": {
      "text/plain": [
       "{'a_1': 89, 'a_2': 409, 'a_3': 381}"
      ]
     },
     "execution_count": 92,
     "metadata": {},
     "output_type": "execute_result"
    }
   ],
   "source": [
    "obj3={}\n",
    "obj3[\"a_1\"]=sum(list_2[0][\"a\"])\n",
    "obj3[\"a_2\"]=sum(list_2[1][\"a\"])\n",
    "obj3[\"a_3\"]=sum(list_2[2][\"a\"])\n",
    "obj3"
   ]
  },
  {
   "cell_type": "code",
   "execution_count": 91,
   "id": "81f646ab",
   "metadata": {},
   "outputs": [
    {
     "data": {
      "text/plain": [
       "{'a_1': 89, 'a_2': 409, 'a_3': 381}"
      ]
     },
     "execution_count": 91,
     "metadata": {},
     "output_type": "execute_result"
    }
   ],
   "source": [
    "sum_2={}\n",
    "for i in range(0,3):\n",
    "    sum_3=0\n",
    "    for j in obj2['a_'+str(i+1)]:\n",
    "        sum_3 += j\n",
    "    sum_2['a_'+str(i+1)]=sum_3\n",
    "sum_2"
   ]
  }
 ],
 "metadata": {
  "kernelspec": {
   "display_name": "Python 3 (ipykernel)",
   "language": "python",
   "name": "python3"
  },
  "language_info": {
   "codemirror_mode": {
    "name": "ipython",
    "version": 3
   },
   "file_extension": ".py",
   "mimetype": "text/x-python",
   "name": "python",
   "nbconvert_exporter": "python",
   "pygments_lexer": "ipython3",
   "version": "3.11.4"
  }
 },
 "nbformat": 4,
 "nbformat_minor": 5
}
