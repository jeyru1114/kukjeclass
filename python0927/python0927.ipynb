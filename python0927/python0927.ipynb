{
 "cells": [
  {
   "cell_type": "code",
   "execution_count": 3,
   "id": "ce972af0",
   "metadata": {
    "scrolled": true
   },
   "outputs": [
    {
     "data": {
      "text/plain": [
       "[(1, 10, 20, 20), (2, 20, 100, 200), (3, 10, 23, 34)]"
      ]
     },
     "execution_count": 3,
     "metadata": {},
     "output_type": "execute_result"
    }
   ],
   "source": [
    "list_of_tuple = [(1,10,20,20),(2,20,100,200),(3,10,23,34)]\n",
    "list_of_tuple"
   ]
  },
  {
   "cell_type": "code",
   "execution_count": 4,
   "id": "95f46ad3",
   "metadata": {},
   "outputs": [],
   "source": [
    "data = [(1, 30, 40, 50, 100, 34.0, '가'), (2, 30, 40, 50, 100, 34.0, '가'), (3, 30, 40, 50, 100, 34.0, '가'), (4, 90, 90, 90, 270, 90.0, '수')]"
   ]
  },
  {
   "cell_type": "code",
   "execution_count": 5,
   "id": "2e51fbb5",
   "metadata": {},
   "outputs": [
    {
     "data": {
      "text/plain": [
       "[(1, 30, 40, 50, 100, 34.0, '가'),\n",
       " (2, 30, 40, 50, 100, 34.0, '가'),\n",
       " (3, 30, 40, 50, 100, 34.0, '가'),\n",
       " (4, 90, 90, 90, 270, 90.0, '수')]"
      ]
     },
     "execution_count": 5,
     "metadata": {},
     "output_type": "execute_result"
    }
   ],
   "source": [
    "data"
   ]
  },
  {
   "cell_type": "code",
   "execution_count": 2,
   "id": "e2729466",
   "metadata": {
    "scrolled": false
   },
   "outputs": [
    {
     "data": {
      "text/plain": [
       "[{'fno': 1, 'korea': 10, 'math': 20, 'eng': 20},\n",
       " {'fno': 2, 'korea': 20, 'math': 110, 'eng': 200},\n",
       " {'fno': 3, 'korea': 10, 'math': 23, 'eng': 34}]"
      ]
     },
     "execution_count": 2,
     "metadata": {},
     "output_type": "execute_result"
    }
   ],
   "source": [
    "[\n",
    "    {'fno':1, 'korea':10, 'math':20, 'eng':20},\n",
    "    {'fno':2, 'korea':20, 'math':110, 'eng':200},\n",
    "    {'fno':3, 'korea':10, 'math':23, 'eng':34}\n",
    "    \n",
    "]"
   ]
  },
  {
   "cell_type": "code",
   "execution_count": 60,
   "id": "8098da9e",
   "metadata": {},
   "outputs": [
    {
     "data": {
      "text/plain": [
       "[{'fno': 1,\n",
       "  'korea': 30,\n",
       "  'math': 40,\n",
       "  'eng': 50,\n",
       "  'total': 100,\n",
       "  'avg': 34.0,\n",
       "  'grade': '가'},\n",
       " {'fno': 2,\n",
       "  'korea': 30,\n",
       "  'math': 40,\n",
       "  'eng': 50,\n",
       "  'total': 100,\n",
       "  'avg': 34.0,\n",
       "  'grade': '가'},\n",
       " {'fno': 3,\n",
       "  'korea': 30,\n",
       "  'math': 40,\n",
       "  'eng': 50,\n",
       "  'total': 100,\n",
       "  'avg': 34.0,\n",
       "  'grade': '가'},\n",
       " {'fno': 4,\n",
       "  'korea': 90,\n",
       "  'math': 90,\n",
       "  'eng': 90,\n",
       "  'total': 270,\n",
       "  'avg': 90.0,\n",
       "  'grade': '수'}]"
      ]
     },
     "execution_count": 60,
     "metadata": {},
     "output_type": "execute_result"
    }
   ],
   "source": [
    "list1=[]\n",
    "for i in data:\n",
    "    fno, k , m , e , t , a , g = i # 각 열에 해당되는 값을 지정해줌\n",
    "    dict1={}\n",
    "    dict1['fno'] = fno\n",
    "    dict1['korea'] = k\n",
    "    dict1['math'] = m\n",
    "    dict1['eng'] = e\n",
    "    dict1['total'] = t\n",
    "    dict1['avg'] = a\n",
    "    dict1['grade'] = g\n",
    "    list1.append(dict1)\n",
    "        \n",
    "list1  "
   ]
  }
 ],
 "metadata": {
  "kernelspec": {
   "display_name": "Python 3 (ipykernel)",
   "language": "python",
   "name": "python3"
  },
  "language_info": {
   "codemirror_mode": {
    "name": "ipython",
    "version": 3
   },
   "file_extension": ".py",
   "mimetype": "text/x-python",
   "name": "python",
   "nbconvert_exporter": "python",
   "pygments_lexer": "ipython3",
   "version": "3.11.4"
  }
 },
 "nbformat": 4,
 "nbformat_minor": 5
}
