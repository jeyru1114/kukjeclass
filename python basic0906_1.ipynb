{
 "cells": [
  {
   "cell_type": "code",
   "execution_count": null,
   "id": "1415aaa5",
   "metadata": {},
   "outputs": [],
   "source": [
    "#문제1) 리스트의 짝수 총합\n",
    "arr=[2,4,5,6,7,8,11]\n",
    "sum_=0\n",
    "for i in arr:\n",
    "    if i%2==0:\n",
    "        sum_+=i\n",
    "sum_"
   ]
  },
  {
   "cell_type": "code",
   "execution_count": null,
   "id": "13c2b50b",
   "metadata": {},
   "outputs": [],
   "source": [
    "#딕셔너리(dictionary), 키와 value의 쌍으로 이루어진 데이터 구조"
   ]
  },
  {
   "cell_type": "code",
   "execution_count": null,
   "id": "dbb4a0ab",
   "metadata": {
    "scrolled": true
   },
   "outputs": [],
   "source": [
    "obj={} #빈 dictionary 만들겠다\n",
    "obj['a']=10 #obj의 key(a) value가 10인 데이터 저장\n",
    "obj['arr']=[1,2,3,4,5,6] #obj에 key가 arr인 곳에 value를 list로 저장\n",
    "print(obj)\n",
    "\n",
    "#문제2) obj의 key(arr)의 value(list)의 총합 구하기\n",
    "sum_=0\n",
    "for i in obj['arr']:\n",
    "    sum_+=i\n",
    "sum_"
   ]
  },
  {
   "cell_type": "code",
   "execution_count": null,
   "id": "6838bdfe",
   "metadata": {},
   "outputs": [],
   "source": [
    "#문제3) obj에 ttt(key)에 새로운 dictionary({\"b\":[2,4,6,8]}) 추가\n",
    "\n",
    "obj={}\n",
    "ttt={}\n",
    "ttt[\"b\"] = [2, 4, 6, 8]\n",
    "obj[\"ttt\"]=ttt\n",
    "print(obj)"
   ]
  },
  {
   "cell_type": "code",
   "execution_count": null,
   "id": "013f3118",
   "metadata": {},
   "outputs": [],
   "source": [
    "#문제4) obj에 f(key)에 람다 함수 추가 (lambda x: x+5)\n",
    "\n",
    "obj[\"f\"]=lambda x: x+5\n",
    "print(obj[\"f\"])"
   ]
  },
  {
   "cell_type": "code",
   "execution_count": null,
   "id": "df6ea09b",
   "metadata": {},
   "outputs": [],
   "source": [
    "obj={} \n",
    "obj['a']=10\n",
    "obj['arr']=[1,2,3,4,5,6]\n",
    "#문제5) obj의 a키값에 해당하는 (10)과 obj의 arr에 해당하는 리스트의 각각의 원소에\n",
    "#10을 곱하고 다 더한 값이 홀수인지 짝수인지 확인하세요\n",
    "print(obj)\n",
    "\n",
    "sum_1=0\n",
    "sum_list=[]\n",
    "for i in obj['arr']:\n",
    "    sum_1=i*obj['a']\n",
    "    sum_list.append(sum_1)\n",
    "    obj['arr']=sum_list\n",
    "print(obj,\"총합:\",sum_1)\n",
    "    \n",
    "if i%2==0:\n",
    "    print(\"짝수\")\n",
    "else:\n",
    "    print(\"홀수\")"
   ]
  },
  {
   "cell_type": "code",
   "execution_count": null,
   "id": "2177e730",
   "metadata": {
    "scrolled": true
   },
   "outputs": [],
   "source": [
    "obj={}\n",
    "ttt={}\n",
    "ttt[\"b\"] = [2, 4, 6, 8]\n",
    "obj[\"ttt\"]=ttt\n",
    "print(obj)\n",
    "\n",
    "#문제6) obj의 ttt->b에 저장되어 있는 리스트의 4의 배수의 총합 구해서\n",
    "#obj의 total(key)에 value로 저장\n",
    "\n",
    "total={}\n",
    "sum_1=0\n",
    "for i in obj['ttt']['b']:\n",
    "    if i%4==0:\n",
    "        sum_1+=i\n",
    "sum_1\n",
    "obj['total']=sum_1\n",
    "obj"
   ]
  },
  {
   "cell_type": "code",
   "execution_count": null,
   "id": "7badd686",
   "metadata": {},
   "outputs": [],
   "source": [
    "#문제7) obj의 f에 저장되어 있는 함수 호출 (값은 10을 전달)\n",
    "obj[\"f\"]=lambda x: x+5\n",
    "obj[\"f\"](10)"
   ]
  },
  {
   "cell_type": "code",
   "execution_count": null,
   "id": "8bb02872",
   "metadata": {},
   "outputs": [],
   "source": [
    "#문제8) 56부터 19까지 slicing을 이용하여 총합 구하세요\n",
    "arr=[11,23,56,17,23,19]\n",
    "total=0\n",
    "arr_total= arr[2:]\n",
    "arr_total\n",
    "for i in arr_total:\n",
    "    total+=i\n",
    "total"
   ]
  },
  {
   "cell_type": "code",
   "execution_count": null,
   "id": "4f536b88",
   "metadata": {
    "scrolled": false
   },
   "outputs": [],
   "source": [
    "#문제) arr과 arr2의 각각의 원소의 합이 홀수인 것과 짝수인 것을 분리하고\n",
    "#obj에 저장 (\"홀수\": 홀수들의 집합(리스트), \"짝수\":짝수들의 집합(리스트))\n",
    "arr=[11,23,56,17,23,19]\n",
    "arr2=[11,13,45,35,19,21]\n",
    "\n",
    "result=[]\n",
    "for i,j in zip(arr, arr2):\n",
    "    result.append(i+j)\n",
    "print(result)\n",
    "\n",
    "obj={}\n",
    "odd=[]\n",
    "even=[]\n",
    "for i in result:\n",
    "    if i%2==0:\n",
    "        even.append(i)\n",
    "        obj[\"even\"]=even\n",
    "    else:\n",
    "        odd.append(i)\n",
    "        obj[\"odd\"]=odd\n",
    "obj"
   ]
  },
  {
   "cell_type": "code",
   "execution_count": null,
   "id": "649b47cb",
   "metadata": {},
   "outputs": [],
   "source": [
    "obj1={}\n",
    "obj1[\"짝수\"]=[i+j for i, j in zip(arr, arr2) if (i+j)%2==0]\n",
    "obj1[\"홀수\"]=[i+j for i, j in zip(arr, arr2) if (i+j)%2==1]\n",
    "obj1"
   ]
  },
  {
   "cell_type": "code",
   "execution_count": null,
   "id": "9acc9e39",
   "metadata": {},
   "outputs": [],
   "source": [
    "#이해하기1-1\n",
    "def f_even(x):\n",
    "    i,j=x\n",
    "    return (i+j)%2==0\n",
    "def f_odd(x):\n",
    "    i,j=x\n",
    "    return (i+j)%2==1"
   ]
  },
  {
   "cell_type": "code",
   "execution_count": null,
   "id": "d2a8b5b0",
   "metadata": {},
   "outputs": [],
   "source": [
    "temp_even = list(filter(f_even, zip(arr, arr2)))\n",
    "obj['짝수'] = [i+j for i, j in temp_even]"
   ]
  },
  {
   "cell_type": "code",
   "execution_count": null,
   "id": "ecf78834",
   "metadata": {},
   "outputs": [],
   "source": [
    "temp_odd = list(filter(f_odd, zip(arr, arr2)))\n",
    "obj['홀수'] = [i+j for i, j in temp_odd]\n",
    "obj"
   ]
  },
  {
   "cell_type": "code",
   "execution_count": null,
   "id": "93957967",
   "metadata": {},
   "outputs": [],
   "source": [
    "#이해하기1-2\n",
    "list(filter(lambda x: (x[0]+x[1])%2==0, zip(arr, arr2)))"
   ]
  },
  {
   "cell_type": "code",
   "execution_count": null,
   "id": "f7fc0b81",
   "metadata": {},
   "outputs": [],
   "source": [
    "#이해하기2-1\n",
    "def chae(v):\n",
    "    return v>2"
   ]
  },
  {
   "cell_type": "code",
   "execution_count": null,
   "id": "babea54b",
   "metadata": {},
   "outputs": [],
   "source": [
    "#이해하기2-2\n",
    "list(filter(chae, [1,2,3,4]))"
   ]
  },
  {
   "cell_type": "code",
   "execution_count": null,
   "id": "85d53f65",
   "metadata": {},
   "outputs": [],
   "source": [
    "#문제10) 짝수의 총합을 반환하는 기능 구현\n",
    "#f([11,23,45,56])\n",
    "def f(v): \n",
    "    total=0 #함수 안에서 정의 해야함\n",
    "    for i in v:\n",
    "        if i%2==0:\n",
    "            total+=i\n",
    "    return total"
   ]
  },
  {
   "cell_type": "code",
   "execution_count": null,
   "id": "7387d60a",
   "metadata": {
    "scrolled": true
   },
   "outputs": [],
   "source": [
    "f([11,23,45,56])"
   ]
  },
  {
   "cell_type": "code",
   "execution_count": null,
   "id": "5bceaed8",
   "metadata": {},
   "outputs": [],
   "source": [
    "def f(*x): # *인자를 다가져오는것\n",
    "    sum_ =0\n",
    "    for i in x:\n",
    "        sum_ += i\n",
    "    return sum_"
   ]
  },
  {
   "cell_type": "code",
   "execution_count": null,
   "id": "ccb160d2",
   "metadata": {
    "scrolled": false
   },
   "outputs": [],
   "source": [
    "f(1,2,3,4,5)"
   ]
  },
  {
   "cell_type": "code",
   "execution_count": null,
   "id": "449fe2fc",
   "metadata": {},
   "outputs": [],
   "source": [
    "def f1(**x): # **는 딕셔너리로 만들어줌\n",
    "    return x"
   ]
  },
  {
   "cell_type": "code",
   "execution_count": null,
   "id": "3a6eccdf",
   "metadata": {},
   "outputs": [],
   "source": [
    "f1(a=1,b=2)"
   ]
  },
  {
   "cell_type": "code",
   "execution_count": null,
   "id": "f93c6d99",
   "metadata": {},
   "outputs": [],
   "source": [
    "#문제11) g 함수 구현 dictionary를 받아서 key(a)의 리스트 중 홀수의 갯수 반환함\n",
    "#g({'a':[1,2,3,4,5]})\n",
    "def g(x):\n",
    "    cnt=0\n",
    "    for i in x.values(): #x\n",
    "        for j in i: #x[i]:\n",
    "            if j%2==1:\n",
    "                cnt+=1\n",
    "    return cnt"
   ]
  },
  {
   "cell_type": "code",
   "execution_count": null,
   "id": "ab3555b6",
   "metadata": {
    "scrolled": true
   },
   "outputs": [],
   "source": [
    "g({'a':[3,4,5,6,7,8,11]})"
   ]
  },
  {
   "cell_type": "code",
   "execution_count": null,
   "id": "3ab5a159",
   "metadata": {},
   "outputs": [],
   "source": [
    "def g1(x):\n",
    "    cnt=0\n",
    "    for i in x:\n",
    "        for j in x[i]:\n",
    "            if j%2==1:\n",
    "                cnt+=1\n",
    "    return cnt"
   ]
  },
  {
   "cell_type": "code",
   "execution_count": null,
   "id": "208083d6",
   "metadata": {
    "scrolled": true
   },
   "outputs": [],
   "source": [
    "g1({'a':[3,4,5,6,7,8,11]})"
   ]
  },
  {
   "cell_type": "code",
   "execution_count": null,
   "id": "647c6aa7",
   "metadata": {},
   "outputs": [],
   "source": [
    "def g2(x):\n",
    "    cnt=0\n",
    "    for i in x[\"a\"]:\n",
    "        if i%2==1:\n",
    "            cnt+=1\n",
    "    return cnt"
   ]
  },
  {
   "cell_type": "code",
   "execution_count": null,
   "id": "7d528ea3",
   "metadata": {},
   "outputs": [],
   "source": [
    "g2({'a':[3,4,5,6,7,8,11]})"
   ]
  },
  {
   "cell_type": "code",
   "execution_count": null,
   "id": "2439bebe",
   "metadata": {},
   "outputs": [],
   "source": [
    "obj1 = {\"a\":[3,4,5,6,7,8,11]}\n",
    "len(list(filter(lambda x:x%2==1, obj1['a'])))"
   ]
  },
  {
   "cell_type": "code",
   "execution_count": null,
   "id": "25da204a",
   "metadata": {},
   "outputs": [],
   "source": [
    "#문제12) g1 함수 구현 2개의 인자를 받아요\n",
    "#첫번째 인자는 리스트이고 두번째 인자는 숫자값 하나\n",
    "#첫번째 인자의 각각의 요소와 두번째 숫자를 곱하고 그 결과를 다 더한 결과를 반환하는 함수 구현\n",
    "#위의 g1 함수 호출 후 결과 확인\n",
    "\n",
    "def g(a,b):\n",
    "    sum_add=0\n",
    "    for i in a:\n",
    "         sum_add+= (i*b)\n",
    "    return sum_add"
   ]
  },
  {
   "cell_type": "code",
   "execution_count": null,
   "id": "76016f95",
   "metadata": {
    "scrolled": false
   },
   "outputs": [],
   "source": [
    "g([3,5,10],2)"
   ]
  },
  {
   "cell_type": "code",
   "execution_count": null,
   "id": "59ab65e6",
   "metadata": {},
   "outputs": [],
   "source": [
    "def g1(x, y):\n",
    "    sum_ =0\n",
    "    for i in x:\n",
    "        sum_ += (i*y)\n",
    "    return sum_"
   ]
  },
  {
   "cell_type": "code",
   "execution_count": null,
   "id": "f32f12a1",
   "metadata": {},
   "outputs": [],
   "source": [
    "g1([3,5,10],2)"
   ]
  },
  {
   "cell_type": "code",
   "execution_count": null,
   "id": "700f587c",
   "metadata": {},
   "outputs": [],
   "source": [
    "#문제13) dictionary의 keys() 호출하면 key값들을 가지고 오고, values()를 호출하면 values를 가지고 오고\n",
    "#items()를 호출하면 key, value를 가지고 옴\n",
    "#함수 정의 g3\n",
    "#dictionary 2개를 인자로 받아서 첫번째 dictionary는 짝수의 총합을 구하고\n",
    "#두번째 dictionary에서는 홀수의 갯수를 구해서 2개를 list로 반환하는 기능 구현\n",
    "\n",
    "def g3(c,d):\n",
    "    sum_even=0\n",
    "    sum_odd=0\n",
    "    list_1=[]\n",
    "    for i in c:\n",
    "        for j in c[i]:\n",
    "            if j%2==0:\n",
    "                sum_even+=j\n",
    "    list_1.append(sum_even)\n",
    "\n",
    "    for i in d:\n",
    "        for j in d[i]:\n",
    "            if j%2==1:\n",
    "                sum_odd+=1\n",
    "    list_1.append(sum_odd)\n",
    "    return list_1"
   ]
  },
  {
   "cell_type": "code",
   "execution_count": null,
   "id": "a07477e7",
   "metadata": {
    "scrolled": true
   },
   "outputs": [],
   "source": [
    "g3(\n",
    "    {\"a\":[11,34,56,23,19], \"b\":[3,4,5,6,7], \"c\":[2,3,4,5,11,23]},\n",
    "    {\"f\":[11,34,56,123, 119], \"b1\":[3,4,15,6,7], \"c1\":[2,13,4,5,111,23]})"
   ]
  },
  {
   "cell_type": "code",
   "execution_count": null,
   "id": "d21f9297",
   "metadata": {},
   "outputs": [],
   "source": [
    "#문제14) 함수 정의\n",
    "#입력으로 arr_of_dict(dictionary를 여러개 가지고 있는 리스트) 받아서 dictionary를 반환함\n",
    "#a_1:11,32,45,67,56의 총합, b_1:11,56,78,34,111,345의 총합의 총합\n",
    "#c_b_1:\"qrrr\", \"rrzz\", \"zzvv\" 문자열 결합\n",
    "#\"a_2\":[111,32,45,67,56]의 총합, \"b_2\":[11,56,278,34,111,1345]의 총합, \n",
    "#\"c_b_2\":[\"qr\",\"rr\",\"zzr\"]의 문자열 결합\n",
    "arr_of_dict=[\n",
    "    {\"a\":[11,32,45,67,56],\"b\":[11,56,78,34,111,345],\"c\":{\"b\":[\"qrrr\",\"rrzz\",\"zzvv\"]}},\n",
    "    {\"a\":[111,32,45,67,56],\"b\":[11,56,278,34,111,1345],\"c\":{\"b\":[\"qr\",\"rr\",\"zzr\"]}},\n",
    "    {\"a\":[11,322,425,67,516],\"b\":[151,56,758,324,1211,2345],\"c\":{\"b\":[\"qr\",\"rrrr\",\"zz\"]}},\n",
    "    {\"a\":[11,32,45,617,516],\"b\":[11,56,78,34,111,3405],\"c\":{\"b\":[\"qrrf\",\"rfr\",\"zzr\"]}},\n",
    "    {\"a\":[11,32,45,67,516],\"b\":[11,56,78,394,111,3405],\"c\":{\"b\":[\"qrf\",\"rrf\",\"zzv\"]}},\n",
    "]\n"
   ]
  },
  {
   "cell_type": "code",
   "execution_count": null,
   "id": "9f7763ae",
   "metadata": {},
   "outputs": [],
   "source": [
    "#문제16\n",
    "def f(x):\n",
    "    dict1 = {}\n",
    "    for idx,i in enumerate(x):\n",
    "        sum_ =0\n",
    "        sum_1 =0\n",
    "        sum_str = \"\"\n",
    "        for k in i[\"a\"]:\n",
    "            sum_ += k\n",
    "        dict1[\"a_\"+str(idx+1)] = [sum_]\n",
    "        for y in i[\"b\"]:\n",
    "            sum_1 += y\n",
    "        dict1[\"b_\"+str(idx+1)] = [sum_1]    \n",
    "        for z in i[\"c\"][\"b\"]:\n",
    "            sum_str += z\n",
    "        dict1[\"c_b_\"+str(idx+1)] = [sum_str]\n",
    "                \n",
    "    return dict1"
   ]
  },
  {
   "cell_type": "code",
   "execution_count": null,
   "id": "644cc389",
   "metadata": {
    "scrolled": true
   },
   "outputs": [],
   "source": [
    "f(arr_of_dict)"
   ]
  },
  {
   "cell_type": "code",
   "execution_count": 3,
   "id": "f284493d",
   "metadata": {},
   "outputs": [],
   "source": [
    "#문제14) \n",
    "#함수 정의\n",
    "#3개의 리스트를 받아서 각각의 대응되는 요소의 총합을 구하고\n",
    "#각각의 요소의 총합이 30보다 큰것만 골라서 리스트에 담아 반환하는 기능 구현\n",
    "arr1=[11,22,3,2,5]\n",
    "arr2=[7,8,8,2,11]\n",
    "arr3=[5,6,-1,5,6]"
   ]
  },
  {
   "cell_type": "code",
   "execution_count": null,
   "id": "941cb127",
   "metadata": {},
   "outputs": [],
   "source": [
    "#문제14\n",
    "def k(x,y,l):\n",
    "    k_list=[]\n",
    "    for i in zip(x,y,l):\n",
    "        sum_ =0\n",
    "        for j in i:\n",
    "            sum_ += j\n",
    "        if sum_ > 30:\n",
    "            k_list.append(sum_)\n",
    "    return k_list"
   ]
  },
  {
   "cell_type": "code",
   "execution_count": null,
   "id": "d077999d",
   "metadata": {
    "scrolled": true
   },
   "outputs": [],
   "source": [
    "k(arr1,arr2,arr3)"
   ]
  },
  {
   "cell_type": "code",
   "execution_count": null,
   "id": "807f0265",
   "metadata": {},
   "outputs": [],
   "source": [
    "#문제15\n",
    "#함수정의\n",
    "#3개의 리스트를 받아서 dictionary로 반환함\n",
    "#{'a_1':첫번째 인자 배열의 총합, 'a_2':두번째 인자의 배열중 짝수인것의 총합}\n",
    "#{'a_3':세번째 인자 리스트중 홀수의 갯수} 를 반환함"
   ]
  },
  {
   "cell_type": "code",
   "execution_count": null,
   "id": "ba67e408",
   "metadata": {},
   "outputs": [],
   "source": [
    "#문제15\n",
    "def v(x,y,l):\n",
    "    dict_arr={}\n",
    "    sum_ =0\n",
    "    sum_1 =0\n",
    "    cnt_ =0\n",
    "    for i in arr1:\n",
    "        sum_ += i\n",
    "    for i in arr2:\n",
    "        if i%2==0:\n",
    "            sum_1 += i\n",
    "    for i in arr3:\n",
    "        if i%2==1:\n",
    "            cnt_ +=1\n",
    "            \n",
    "    dict_arr['a_1'] = sum_\n",
    "    dict_arr['a_2'] = sum_1\n",
    "    dict_arr['a_3'] = cnt_\n",
    "    \n",
    "    return dict_arr"
   ]
  },
  {
   "cell_type": "code",
   "execution_count": null,
   "id": "fd1a39b6",
   "metadata": {},
   "outputs": [],
   "source": [
    "v(arr1,arr2,arr3)"
   ]
  },
  {
   "cell_type": "code",
   "execution_count": 1,
   "id": "209c9173",
   "metadata": {},
   "outputs": [],
   "source": [
    "from functools import reduce"
   ]
  },
  {
   "cell_type": "code",
   "execution_count": 2,
   "id": "ac515c96",
   "metadata": {},
   "outputs": [],
   "source": [
    "def v2(x,y,z):\n",
    "    obj_={}\n",
    "    obj_['a_1'] = reduce(lambda x1,y1: x1+y1, x)\n",
    "    obj_['a_2'] = sum(list(filter(lambda x: x%2==0, y)))\n",
    "    obj_['a_3'] = len(list(filter(lambda x: x%2==1, z)))\n",
    "    return obj_"
   ]
  },
  {
   "cell_type": "code",
   "execution_count": 4,
   "id": "e6d0a788",
   "metadata": {
    "scrolled": true
   },
   "outputs": [
    {
     "data": {
      "text/plain": [
       "{'a_1': 43, 'a_2': 18, 'a_3': 3}"
      ]
     },
     "execution_count": 4,
     "metadata": {},
     "output_type": "execute_result"
    }
   ],
   "source": [
    "v2(arr1,arr2,arr3)"
   ]
  },
  {
   "cell_type": "code",
   "execution_count": 3,
   "id": "d320d089",
   "metadata": {},
   "outputs": [
    {
     "data": {
      "text/plain": [
       "[{'bag': {'price': 50, 'count': 3}, 'tv': {'price': 500, 'count': 2}},\n",
       " {'bag': {'price': 500, 'count': 2}, 'tv': {'price': 57, 'count': 12}},\n",
       " {'bag': {'price': 57, 'count': 5}, 'tv': {'price': 55, 'count': 22}},\n",
       " {'bag': {'price': 53, 'count': 3}, 'tv': {'price': 540, 'count': 32}},\n",
       " {'bag': {'price': 57, 'count': 4}, 'tv': {'price': 520, 'count': 42}}]"
      ]
     },
     "execution_count": 3,
     "metadata": {},
     "output_type": "execute_result"
    }
   ],
   "source": [
    "arr7 = [\n",
    "    {'bag':{'price':50,'count':3},'tv':{'price':500,'count':2}},\n",
    "    {'bag':{'price':500,'count':2},'tv':{'price':57,'count':12}},\n",
    "    {'bag':{'price':57,'count':5},'tv':{'price':55,'count':22}},\n",
    "    {'bag':{'price':53,'count':3},'tv':{'price':540,'count':32}},\n",
    "    {'bag':{'price':57,'count':4},'tv':{'price':520,'count':42}}\n",
    "     \n",
    "]\n",
    "arr7\n",
    "#첫번째 가방: 50*3 , 첫번째 tv : 500*2\n",
    "#두번째 가방: 500*2, 두번째 tv : 57*12"
   ]
  },
  {
   "cell_type": "code",
   "execution_count": 45,
   "id": "6a836734",
   "metadata": {},
   "outputs": [],
   "source": [
    "def b(x):\n",
    "    sum_ =0\n",
    "    for i in x:\n",
    "        print(i['bag']['price'])\n",
    "        sum_ += i['bag']['price']*i['bag']['count']\n"
   ]
  },
  {
   "cell_type": "code",
   "execution_count": 46,
   "id": "daccb185",
   "metadata": {},
   "outputs": [
    {
     "name": "stdout",
     "output_type": "stream",
     "text": [
      "50\n",
      "500\n",
      "57\n",
      "53\n",
      "57\n"
     ]
    }
   ],
   "source": [
    "b(arr7)"
   ]
  }
 ],
 "metadata": {
  "kernelspec": {
   "display_name": "Python 3 (ipykernel)",
   "language": "python",
   "name": "python3"
  },
  "language_info": {
   "codemirror_mode": {
    "name": "ipython",
    "version": 3
   },
   "file_extension": ".py",
   "mimetype": "text/x-python",
   "name": "python",
   "nbconvert_exporter": "python",
   "pygments_lexer": "ipython3",
   "version": "3.11.4"
  }
 },
 "nbformat": 4,
 "nbformat_minor": 5
}
