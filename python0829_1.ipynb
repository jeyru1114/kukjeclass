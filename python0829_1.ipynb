{
 "cells": [
  {
   "cell_type": "code",
   "execution_count": 1,
   "id": "1bba2b5b",
   "metadata": {},
   "outputs": [],
   "source": [
    "words=['apple','bat','bar','atom','book']"
   ]
  },
  {
   "cell_type": "code",
   "execution_count": 2,
   "id": "f4ed1c71",
   "metadata": {},
   "outputs": [],
   "source": [
    "by_letter={}\n",
    "for word in words:\n",
    "    letter=word[0]\n",
    "    if letter not in by_letter:\n",
    "        by_letter[letter]=[word]\n",
    "    else : by_letter[letter].append(word)"
   ]
  },
  {
   "cell_type": "code",
   "execution_count": 3,
   "id": "bd392863",
   "metadata": {
    "scrolled": true
   },
   "outputs": [],
   "source": [
    "by_letter"
   ]
  },
  {
   "cell_type": "code",
   "execution_count": 4,
   "id": "fca4c984",
   "metadata": {
    "scrolled": true
   },
   "outputs": [],
   "source": [
    "'abcde'[0]"
   ]
  },
  {
   "cell_type": "code",
   "execution_count": 5,
   "id": "c1012f3c",
   "metadata": {},
   "outputs": [],
   "source": [
    "by_letter={} # if else 구문을 없애고 사용하기 편하게 제공\n",
    "for word in words:\n",
    "    letter=word[0]\n",
    "    by_letter.setdefault(letter, []).append(word)\n",
    "    #없으면 빈 list를 만든다"
   ]
  },
  {
   "cell_type": "code",
   "execution_count": 6,
   "id": "0b576bdb",
   "metadata": {
    "scrolled": true
   },
   "outputs": [
    {
     "data": {
      "text/plain": [
       "{'a': ['apple', 'atom'], 'b': ['bat', 'bar', 'book']}"
      ]
     },
     "execution_count": 6,
     "metadata": {},
     "output_type": "execute_result"
    }
   ],
   "source": [
    "by_letter"
   ]
  },
  {
   "cell_type": "code",
   "execution_count": 7,
   "id": "90cf4123",
   "metadata": {
    "scrolled": true
   },
   "outputs": [
    {
     "data": {
      "text/plain": [
       "defaultdict(list, {})"
      ]
     },
     "execution_count": 7,
     "metadata": {},
     "output_type": "execute_result"
    }
   ],
   "source": [
    "from collections import defaultdict\n",
    "by_letter=defaultdict(list)\n",
    "#by_letter=defaultdict(set) , 추가할땐 add\n",
    "#by_letter=defaultdict(tuple)\n",
    "by_letter"
   ]
  },
  {
   "cell_type": "code",
   "execution_count": 8,
   "id": "dcf81df5",
   "metadata": {
    "scrolled": false
   },
   "outputs": [
    {
     "data": {
      "text/plain": [
       "defaultdict(list, {'a': ['apple', 'atom'], 'b': ['bat', 'bar', 'book']})"
      ]
     },
     "execution_count": 8,
     "metadata": {},
     "output_type": "execute_result"
    }
   ],
   "source": [
    "for word in words:\n",
    "    by_letter[word[0]].append(word)\n",
    "by_letter"
   ]
  },
  {
   "cell_type": "markdown",
   "id": "bb33254e",
   "metadata": {},
   "source": [
    "## 집합(set)"
   ]
  },
  {
   "cell_type": "code",
   "execution_count": 9,
   "id": "2708c1ef",
   "metadata": {},
   "outputs": [],
   "source": [
    "a={1,2,3,4}\n",
    "b={3,4,5,6,7,8}"
   ]
  },
  {
   "cell_type": "code",
   "execution_count": 10,
   "id": "90048f0f",
   "metadata": {},
   "outputs": [
    {
     "data": {
      "text/plain": [
       "{1, 2, 3, 4, 5, 6, 7, 8}"
      ]
     },
     "execution_count": 10,
     "metadata": {},
     "output_type": "execute_result"
    }
   ],
   "source": [
    "a.union(b) #합집합"
   ]
  },
  {
   "cell_type": "code",
   "execution_count": 11,
   "id": "15263b2f",
   "metadata": {
    "scrolled": true
   },
   "outputs": [
    {
     "data": {
      "text/plain": [
       "{3, 4}"
      ]
     },
     "execution_count": 11,
     "metadata": {},
     "output_type": "execute_result"
    }
   ],
   "source": [
    "a.intersection(b) #교집합"
   ]
  },
  {
   "cell_type": "code",
   "execution_count": 12,
   "id": "18102ee0",
   "metadata": {
    "scrolled": true
   },
   "outputs": [
    {
     "data": {
      "text/plain": [
       "{1, 2}"
      ]
     },
     "execution_count": 12,
     "metadata": {},
     "output_type": "execute_result"
    }
   ],
   "source": [
    "a.difference(b) #차집합"
   ]
  },
  {
   "cell_type": "code",
   "execution_count": 13,
   "id": "2612c6dc",
   "metadata": {
    "scrolled": false
   },
   "outputs": [
    {
     "data": {
      "text/plain": [
       "False"
      ]
     },
     "execution_count": 13,
     "metadata": {},
     "output_type": "execute_result"
    }
   ],
   "source": [
    "a.difference(b).issubset(b) #차집합, 부분집합인지 확인"
   ]
  },
  {
   "cell_type": "markdown",
   "id": "595c116a",
   "metadata": {},
   "source": [
    "<img src=\"1/img.png\"/>"
   ]
  },
  {
   "cell_type": "code",
   "execution_count": 14,
   "id": "cd51b2b7",
   "metadata": {},
   "outputs": [],
   "source": [
    "strings = ['a','as','bat','car','dove','python']"
   ]
  },
  {
   "cell_type": "code",
   "execution_count": 15,
   "id": "71bf7977",
   "metadata": {},
   "outputs": [
    {
     "data": {
      "text/plain": [
       "['BAT', 'CAR', 'DOVE', 'PYTHON']"
      ]
     },
     "execution_count": 15,
     "metadata": {},
     "output_type": "execute_result"
    }
   ],
   "source": [
    "[x.upper() for x in strings if len(x)>2] #upper 소문자를 대문자로 변경"
   ]
  },
  {
   "cell_type": "code",
   "execution_count": 16,
   "id": "d7fbc0f1",
   "metadata": {},
   "outputs": [
    {
     "data": {
      "text/plain": [
       "'ABCD'"
      ]
     },
     "execution_count": 16,
     "metadata": {},
     "output_type": "execute_result"
    }
   ],
   "source": [
    "'abcd'.upper()"
   ]
  },
  {
   "cell_type": "code",
   "execution_count": 17,
   "id": "d6eda801",
   "metadata": {
    "scrolled": true
   },
   "outputs": [
    {
     "data": {
      "text/plain": [
       "'B'"
      ]
     },
     "execution_count": 17,
     "metadata": {},
     "output_type": "execute_result"
    }
   ],
   "source": [
    "chr(66) # ascii 값이 255까지 있으니\n",
    "#ascii code 값이 65~122까지 문자열로 변환하고 문자열 5개씩 랜덤으로 만들고\n",
    "# 대문자로 변환\n",
    "# 5개의 랜덤한 문자열의 20개가 리스트에 담겨 있어요"
   ]
  },
  {
   "cell_type": "code",
   "execution_count": 18,
   "id": "11288395",
   "metadata": {},
   "outputs": [],
   "source": [
    "import numpy as np"
   ]
  },
  {
   "cell_type": "code",
   "execution_count": 80,
   "id": "b3ef9cde",
   "metadata": {
    "scrolled": true
   },
   "outputs": [],
   "source": [
    "list1=[]\n",
    "for i in range(20):\n",
    "    random1= np.random.randint(65,122)\n",
    "    str1=\"\"\n",
    "    str1 += chr(random1)*5\n",
    "    list1.append(str1)\n",
    "    list2=[]\n",
    "    for j in list1:\n",
    "        list2.append(j.upper())\n",
    "list2\n",
    "pass"
   ]
  },
  {
   "cell_type": "code",
   "execution_count": 85,
   "id": "38d285d6",
   "metadata": {
    "scrolled": true
   },
   "outputs": [
    {
     "data": {
      "text/plain": [
       "['M]IRL',\n",
       " 'ZLTTN',\n",
       " ']F`WG',\n",
       " 'GJ_EU',\n",
       " 'RPKPF',\n",
       " 'RVE`G',\n",
       " 'AHORJ',\n",
       " 'WKYBB',\n",
       " 'RPSPI',\n",
       " 'EEJJQ',\n",
       " '`UFQF',\n",
       " 'OD_VR',\n",
       " 'OB_`I',\n",
       " 'OHOKD',\n",
       " 'F\\\\ODO',\n",
       " 'T\\\\KDR',\n",
       " 'YEHMY',\n",
       " 'KVJAW',\n",
       " 'PYYWW',\n",
       " 'GAA\\\\^']"
      ]
     },
     "execution_count": 85,
     "metadata": {},
     "output_type": "execute_result"
    }
   ],
   "source": [
    "#미소답)\n",
    "list3=[]\n",
    "for i in range(20):\n",
    "    str1=\"\"\n",
    "    for i in range(5):\n",
    "        str1 += chr(np.random.randint(65,122)).upper()\n",
    "    list3.append(str1)\n",
    "list3"
   ]
  },
  {
   "cell_type": "code",
   "execution_count": 61,
   "id": "67f889bd",
   "metadata": {
    "scrolled": true
   },
   "outputs": [
    {
     "data": {
      "text/plain": [
       "[58, 59, 60, 61, 62, 63, 91, 92, 93, 94, 95]"
      ]
     },
     "execution_count": 61,
     "metadata": {},
     "output_type": "execute_result"
    }
   ],
   "source": [
    "#강사님)\n",
    "exclude = [x for l in [range(58,64), range(91,96)] for x in l]\n",
    "exclude #특수문자에 대한 ascii 코드값"
   ]
  },
  {
   "cell_type": "code",
   "execution_count": 91,
   "id": "bbe56a91",
   "metadata": {},
   "outputs": [],
   "source": [
    "#강사님)\n",
    "def ascii2str_without_special_str(e,viter): # 하나의 문자열을 생성하는 함수\n",
    "    str_=\"\"\n",
    "    for i in range(20):\n",
    "        x = np.random.randint(65,122)\n",
    "        if x not in e:\n",
    "            str_ += chr(x)\n",
    "        if len(str_)>viter-1: break\n",
    "    return str_"
   ]
  },
  {
   "cell_type": "code",
   "execution_count": 90,
   "id": "443923de",
   "metadata": {},
   "outputs": [],
   "source": [
    "#강사님)\n",
    "def ascii2str_without_special_str(e,viter): # 하나의 문자열을 생성하는 함수\n",
    "    str_=\"\"\n",
    "    while len(str_) < viter:\n",
    "        x = np.random.randint(65,122)\n",
    "        if x not in e:\n",
    "            str_ += chr(x)\n",
    "    return str_"
   ]
  },
  {
   "cell_type": "code",
   "execution_count": 88,
   "id": "20be7ce5",
   "metadata": {},
   "outputs": [
    {
     "data": {
      "text/plain": [
       "['ZQDDWMEAUTBHM`B',\n",
       " '`MDBPYYZFVKBQSO',\n",
       " 'HOFWXOLJLURGYCJ',\n",
       " 'VHPKFLGWRCHLODJ',\n",
       " 'UMMBQWQTASZSFQV',\n",
       " 'CMFDVDG`WQJCCKH',\n",
       " 'OOXRQQKGPXQCILE',\n",
       " 'VMRKUOH`AKTSYGL',\n",
       " 'IMQQCUNLGNVUWTS',\n",
       " 'JNYSNH`GOKPKMAN',\n",
       " 'LAEAWNXQHJDWQPQ',\n",
       " 'AUXEJPATUAJKAGP',\n",
       " 'PPLAOGNEDWIDNVI',\n",
       " 'FTGPOAQPDNBYULJ',\n",
       " 'GRASRWLVKPZ`YFO',\n",
       " 'FVCOCMIIMUB`BHQ',\n",
       " 'B`UFKAPGPRTQWPP',\n",
       " 'MAYMTUDFCCPNKWE',\n",
       " 'NHFVMIGWQAEDUEL',\n",
       " 'PONVAGWLLZOFQMI']"
      ]
     },
     "execution_count": 88,
     "metadata": {},
     "output_type": "execute_result"
    }
   ],
   "source": [
    "[ascii2str_without_special_str(exclude,15).upper() for i in range(20)]"
   ]
  },
  {
   "cell_type": "code",
   "execution_count": 21,
   "id": "73b98a32",
   "metadata": {
    "scrolled": true
   },
   "outputs": [
    {
     "data": {
      "text/plain": [
       "'😀'"
      ]
     },
     "execution_count": 21,
     "metadata": {},
     "output_type": "execute_result"
    }
   ],
   "source": [
    "chr(128512)"
   ]
  },
  {
   "cell_type": "code",
   "execution_count": 54,
   "id": "2d155ad7",
   "metadata": {
    "scrolled": true
   },
   "outputs": [
    {
     "data": {
      "text/plain": [
       "'🍏'"
      ]
     },
     "execution_count": 54,
     "metadata": {},
     "output_type": "execute_result"
    }
   ],
   "source": [
    "chr(0x1F34F)"
   ]
  },
  {
   "cell_type": "code",
   "execution_count": 83,
   "id": "312dc13d",
   "metadata": {
    "scrolled": false
   },
   "outputs": [
    {
     "data": {
      "text/plain": [
       "['😈😞😆😜😉',\n",
       " '😞😄😓😌😛',\n",
       " '😕😎😆😍😅',\n",
       " '😕😆😅😏😌',\n",
       " '😈😚😑😔😖',\n",
       " '😉😅😔😒😑',\n",
       " '😋😜😖😈😚',\n",
       " '😗😘😚😚😉',\n",
       " '😏😛😓😆😐',\n",
       " '😍😓😍😏😌',\n",
       " '😚😖😖😜😖',\n",
       " '😙😒😇😎😜',\n",
       " '😒😇😆😆😆',\n",
       " '😉😉😎😎😗',\n",
       " '😎😝😑😑😞',\n",
       " '😗😚😕😖😗',\n",
       " '😞😕😜😜😈',\n",
       " '😎😙😛😑😛',\n",
       " '😞😚😗😍😔',\n",
       " '😊😚😉😊😐']"
      ]
     },
     "execution_count": 83,
     "metadata": {},
     "output_type": "execute_result"
    }
   ],
   "source": [
    "list4=[]\n",
    "for i in range(20):\n",
    "    str1=\"\"\n",
    "    for i in range(5):\n",
    "        str1 += chr(np.random.randint(0x1f604,0x1f61f)).upper()\n",
    "    list4.append(str1)\n",
    "list4"
   ]
  },
  {
   "cell_type": "markdown",
   "id": "83098e43",
   "metadata": {},
   "source": [
    "## 익명함수(anonymous function)"
   ]
  },
  {
   "cell_type": "code",
   "execution_count": 93,
   "id": "cf730e2e",
   "metadata": {},
   "outputs": [],
   "source": [
    "def short_function(x):\n",
    "    return x*2"
   ]
  },
  {
   "cell_type": "code",
   "execution_count": 99,
   "id": "eae0dff3",
   "metadata": {},
   "outputs": [],
   "source": [
    "def short_function_two(x,y):\n",
    "    return x*y"
   ]
  },
  {
   "cell_type": "code",
   "execution_count": 94,
   "id": "bef7427b",
   "metadata": {},
   "outputs": [],
   "source": [
    "equiv_anon = lambda x: x*2"
   ]
  },
  {
   "cell_type": "code",
   "execution_count": 95,
   "id": "14e12452",
   "metadata": {},
   "outputs": [
    {
     "data": {
      "text/plain": [
       "10"
      ]
     },
     "execution_count": 95,
     "metadata": {},
     "output_type": "execute_result"
    }
   ],
   "source": [
    "equiv_anon(5)"
   ]
  },
  {
   "cell_type": "code",
   "execution_count": 101,
   "id": "454749ee",
   "metadata": {},
   "outputs": [],
   "source": [
    "def apply_in_list(some_list, f):\n",
    "    return [f(x,x+1) for x in some_list]"
   ]
  },
  {
   "cell_type": "code",
   "execution_count": 97,
   "id": "e597fe82",
   "metadata": {},
   "outputs": [
    {
     "data": {
      "text/plain": [
       "[8, 10, 2, 10, 12]"
      ]
     },
     "execution_count": 97,
     "metadata": {},
     "output_type": "execute_result"
    }
   ],
   "source": [
    "ints=[4,5,1,5,6]\n",
    "apply_in_list(ints, lambda x: x*2)"
   ]
  },
  {
   "cell_type": "code",
   "execution_count": 98,
   "id": "418b62bd",
   "metadata": {
    "scrolled": true
   },
   "outputs": [
    {
     "data": {
      "text/plain": [
       "[8, 10, 2, 10, 12]"
      ]
     },
     "execution_count": 98,
     "metadata": {},
     "output_type": "execute_result"
    }
   ],
   "source": [
    "ints=[4,5,1,5,6]\n",
    "apply_in_list(ints, short_function)"
   ]
  },
  {
   "cell_type": "code",
   "execution_count": 102,
   "id": "093aea12",
   "metadata": {
    "scrolled": true
   },
   "outputs": [
    {
     "data": {
      "text/plain": [
       "[20, 30, 2, 30, 42]"
      ]
     },
     "execution_count": 102,
     "metadata": {},
     "output_type": "execute_result"
    }
   ],
   "source": [
    "ints=[4,5,1,5,6]\n",
    "apply_in_list(ints, short_function_two)"
   ]
  },
  {
   "cell_type": "code",
   "execution_count": 119,
   "id": "ae1b1182",
   "metadata": {},
   "outputs": [],
   "source": [
    "#문제1)\n",
    "def ffff(v, w, z):\n",
    "    return v(w,z)*2"
   ]
  },
  {
   "cell_type": "code",
   "execution_count": 132,
   "id": "0da77eb1",
   "metadata": {
    "scrolled": true
   },
   "outputs": [
    {
     "data": {
      "text/plain": [
       "6"
      ]
     },
     "execution_count": 132,
     "metadata": {},
     "output_type": "execute_result"
    }
   ],
   "source": [
    "def ffff_test(f1, f2):\n",
    "    return f1+f2\n",
    "ffff(ffff_test,1,2)"
   ]
  },
  {
   "cell_type": "code",
   "execution_count": 177,
   "id": "3ae0f64e",
   "metadata": {
    "scrolled": true
   },
   "outputs": [
    {
     "data": {
      "text/plain": [
       "224"
      ]
     },
     "execution_count": 177,
     "metadata": {},
     "output_type": "execute_result"
    }
   ],
   "source": [
    "#강사님 문제1 람다식)\n",
    "ffff(lambda x,j : x*j+100,3,4)"
   ]
  },
  {
   "cell_type": "code",
   "execution_count": 180,
   "id": "012fa260",
   "metadata": {},
   "outputs": [],
   "source": [
    "#문제2)\n",
    "def g(v, w, z):\n",
    "    sum_=0\n",
    "    for r in z:\n",
    "        sum_ += r\n",
    "    return w(sum_,v)"
   ]
  },
  {
   "cell_type": "code",
   "execution_count": 181,
   "id": "17df5e9a",
   "metadata": {
    "scrolled": true
   },
   "outputs": [
    {
     "data": {
      "text/plain": [
       "12"
      ]
     },
     "execution_count": 181,
     "metadata": {},
     "output_type": "execute_result"
    }
   ],
   "source": [
    "def g_test(r1,v1):\n",
    "    return r1*v1\n",
    "g(2,g_test,[2,4])"
   ]
  },
  {
   "cell_type": "code",
   "execution_count": 179,
   "id": "ae971cf7",
   "metadata": {},
   "outputs": [
    {
     "data": {
      "text/plain": [
       "'55사랑'"
      ]
     },
     "execution_count": 179,
     "metadata": {},
     "output_type": "execute_result"
    }
   ],
   "source": [
    "#강사님 문제2 람다식)\n",
    "def g(v, w, z):\n",
    "    sum_=0\n",
    "    for r in z:\n",
    "        sum_ += r\n",
    "    return w(sum_,v)\n",
    "g('사랑', lambda x,y: str(x) + y, [11,2,3,13,26])"
   ]
  },
  {
   "cell_type": "code",
   "execution_count": 133,
   "id": "24ec698b",
   "metadata": {},
   "outputs": [],
   "source": [
    "#문제3)\n",
    "def k(rr,p,w,z): # rr=4 \n",
    "    return p(w(z),rr['a']*2)"
   ]
  },
  {
   "cell_type": "code",
   "execution_count": 176,
   "id": "993bddbd",
   "metadata": {
    "scrolled": true
   },
   "outputs": [
    {
     "data": {
      "text/plain": [
       "'4사랑사랑'"
      ]
     },
     "execution_count": 176,
     "metadata": {},
     "output_type": "execute_result"
    }
   ],
   "source": [
    "def k_p(w_z2,rr2):\n",
    "    return str(w_z2)+rr2\n",
    "\n",
    "def k_w(w_z1):\n",
    "    return w_z1*2\n",
    "k({'a':\"사랑\"},k_p,k_w,2)"
   ]
  },
  {
   "cell_type": "code",
   "execution_count": 183,
   "id": "f5151903",
   "metadata": {
    "scrolled": true
   },
   "outputs": [
    {
     "data": {
      "text/plain": [
       "12"
      ]
     },
     "execution_count": 183,
     "metadata": {},
     "output_type": "execute_result"
    }
   ],
   "source": [
    "# 강사님 문제3 람다식\n",
    "def k(rr,p,w,z):\n",
    "    return p(w(z),rr['a']*2)\n",
    "k({\"a\":2}, lambda x,y : x+y, lambda x: x+5, 3)"
   ]
  },
  {
   "cell_type": "markdown",
   "id": "5d664620",
   "metadata": {},
   "source": [
    "## Currying\n",
    "### 일부 인자만 취하기\n",
    "커링은 수학자인 하스겔의 이름에서 따온 컴퓨터 과학용어로\n",
    "함수에서 <b>일부 인자만 취하는</b> 새로운 함수를 만드는 기법\n",
    "예를 들어 두개의 숫자를 더하는 함수가 있다고 가정"
   ]
  },
  {
   "cell_type": "code",
   "execution_count": 184,
   "id": "e7a57387",
   "metadata": {},
   "outputs": [],
   "source": [
    "def add_number(x,y):\n",
    "    return x+y"
   ]
  },
  {
   "cell_type": "code",
   "execution_count": 202,
   "id": "4aafaef2",
   "metadata": {},
   "outputs": [],
   "source": [
    "def mul_number(x,y):\n",
    "    return x*y"
   ]
  },
  {
   "cell_type": "code",
   "execution_count": 185,
   "id": "b2f80082",
   "metadata": {},
   "outputs": [],
   "source": [
    "add_five = lambda y:add_number(5,y)"
   ]
  },
  {
   "cell_type": "code",
   "execution_count": 187,
   "id": "f49ea5b7",
   "metadata": {},
   "outputs": [
    {
     "data": {
      "text/plain": [
       "[5, 6, 7, 8, 9, 10, 11, 12, 13, 14]"
      ]
     },
     "execution_count": 187,
     "metadata": {},
     "output_type": "execute_result"
    }
   ],
   "source": [
    "[add_five(i) for i in range(10)]"
   ]
  },
  {
   "cell_type": "code",
   "execution_count": 188,
   "id": "e01b5a84",
   "metadata": {},
   "outputs": [],
   "source": [
    "add_eleven = lambda y:add_number(11,y)"
   ]
  },
  {
   "cell_type": "code",
   "execution_count": 189,
   "id": "9977eca8",
   "metadata": {
    "scrolled": false
   },
   "outputs": [
    {
     "data": {
      "text/plain": [
       "[11, 12, 13, 14, 15, 16, 17, 18, 19, 20]"
      ]
     },
     "execution_count": 189,
     "metadata": {},
     "output_type": "execute_result"
    }
   ],
   "source": [
    "[add_eleven(i) for i in range(10)]"
   ]
  },
  {
   "cell_type": "code",
   "execution_count": 203,
   "id": "62839031",
   "metadata": {},
   "outputs": [],
   "source": [
    "mul_eleven = lambda y:mul_number(11,y)"
   ]
  },
  {
   "cell_type": "code",
   "execution_count": 204,
   "id": "e385ab53",
   "metadata": {
    "scrolled": true
   },
   "outputs": [
    {
     "data": {
      "text/plain": [
       "[0, 11, 22, 33, 44, 55, 66, 77, 88, 99]"
      ]
     },
     "execution_count": 204,
     "metadata": {},
     "output_type": "execute_result"
    }
   ],
   "source": [
    "[mul_eleven(i) for i in range(10)]"
   ]
  },
  {
   "cell_type": "code",
   "execution_count": 205,
   "id": "1d9987ed",
   "metadata": {},
   "outputs": [],
   "source": [
    "from functools import partial\n",
    "add_five = partial(add_number,5)"
   ]
  },
  {
   "cell_type": "code",
   "execution_count": 206,
   "id": "84fb21f8",
   "metadata": {},
   "outputs": [
    {
     "data": {
      "text/plain": [
       "16"
      ]
     },
     "execution_count": 206,
     "metadata": {},
     "output_type": "execute_result"
    }
   ],
   "source": [
    "add_five(11)"
   ]
  },
  {
   "cell_type": "code",
   "execution_count": 221,
   "id": "b223d64b",
   "metadata": {},
   "outputs": [],
   "source": [
    "partialed_list=[]\n",
    "partialed_list.append(add_number)\n",
    "partialed_list.append(mul_number)"
   ]
  },
  {
   "cell_type": "code",
   "execution_count": 224,
   "id": "44727e0f",
   "metadata": {},
   "outputs": [
    {
     "name": "stdout",
     "output_type": "stream",
     "text": [
      "add_number\n",
      "mul_number\n"
     ]
    }
   ],
   "source": [
    "for i in partialed_list:\n",
    "    print(i.__name__) # 함수이름.__name__ 는  함수나 클래스의 이름을 출력 , \"__\" 는 던더"
   ]
  },
  {
   "cell_type": "code",
   "execution_count": 225,
   "id": "a67395ef",
   "metadata": {},
   "outputs": [],
   "source": [
    "x_nogada = [partial(i,5) for i in partialed_list]"
   ]
  },
  {
   "cell_type": "code",
   "execution_count": 220,
   "id": "fc19cf56",
   "metadata": {
    "scrolled": false
   },
   "outputs": [
    {
     "data": {
      "text/plain": [
       "[[5, 0],\n",
       " [6, 5],\n",
       " [7, 10],\n",
       " [8, 15],\n",
       " [9, 20],\n",
       " [10, 25],\n",
       " [11, 30],\n",
       " [12, 35],\n",
       " [13, 40],\n",
       " [14, 45]]"
      ]
     },
     "execution_count": 220,
     "metadata": {},
     "output_type": "execute_result"
    }
   ],
   "source": [
    "[[i(j) for i in x_nogada] for j in range(10)]"
   ]
  },
  {
   "cell_type": "code",
   "execution_count": 226,
   "id": "11123d16",
   "metadata": {},
   "outputs": [],
   "source": [
    "x = [partial(i,5) for i in [add_number, mul_number]]"
   ]
  },
  {
   "cell_type": "code",
   "execution_count": 227,
   "id": "b77af204",
   "metadata": {
    "scrolled": false
   },
   "outputs": [
    {
     "data": {
      "text/plain": [
       "[[5, 0],\n",
       " [6, 5],\n",
       " [7, 10],\n",
       " [8, 15],\n",
       " [9, 20],\n",
       " [10, 25],\n",
       " [11, 30],\n",
       " [12, 35],\n",
       " [13, 40],\n",
       " [14, 45]]"
      ]
     },
     "execution_count": 227,
     "metadata": {},
     "output_type": "execute_result"
    }
   ],
   "source": [
    "[[i(j) for i in x] for j in range(10)]"
   ]
  },
  {
   "cell_type": "code",
   "execution_count": 214,
   "id": "517769dc",
   "metadata": {
    "scrolled": false
   },
   "outputs": [
    {
     "data": {
      "text/plain": [
       "[10, 25]"
      ]
     },
     "execution_count": 214,
     "metadata": {},
     "output_type": "execute_result"
    }
   ],
   "source": [
    "[i(5) for i in x]"
   ]
  },
  {
   "cell_type": "markdown",
   "id": "92e86ab3",
   "metadata": {},
   "source": [
    "문제1) partial이용 (함수,값) , 각 함수의 값에 1~100까지 전달한 결과 출력\n",
    "- 함수는 5개정의 (두개의 인자를 받음)\n",
    "- f1( , ) -> 첫번째 인자는 두번째 인자만큼 더하여 반환 a*b\n",
    "- f2( , ) -> 첫번째 인자를 두번째 인자배한 결과 반환 a**b\n",
    "- f3( , ) -> 첫번째 인자 나누기 두번째 인자 a/b\n",
    "- f4( , ) -> 첫번째 인자 나머지 두번째 인자 a%b\n",
    "- f5( , ) -> 첫번째 인자의 제곱 + 두번째인자 a^2 + b"
   ]
  },
  {
   "cell_type": "code",
   "execution_count": 262,
   "id": "13f848b3",
   "metadata": {},
   "outputs": [],
   "source": [
    "def f1(x,y):\n",
    "    return x*y\n",
    "def f2(x,y):\n",
    "    return x**y\n",
    "def f3(x,y):\n",
    "    return x/y\n",
    "def f4(x,y):\n",
    "    return x%y\n",
    "def f5(x,y):\n",
    "    return (x**2)+y"
   ]
  },
  {
   "cell_type": "code",
   "execution_count": 263,
   "id": "b1cf8d3a",
   "metadata": {},
   "outputs": [],
   "source": [
    "partialed_list1=[]\n",
    "partialed_list1.append(f1)\n",
    "partialed_list1.append(f2)\n",
    "partialed_list1.append(f3)\n",
    "partialed_list1.append(f4)\n",
    "partialed_list1.append(f5)"
   ]
  },
  {
   "cell_type": "code",
   "execution_count": 264,
   "id": "64b2cc2c",
   "metadata": {},
   "outputs": [],
   "source": [
    "x_test = [partial(i,2) for i in partialed_list1]"
   ]
  },
  {
   "cell_type": "code",
   "execution_count": 266,
   "id": "655d829b",
   "metadata": {
    "scrolled": true
   },
   "outputs": [
    {
     "data": {
      "text/plain": [
       "[[2, 2, 2.0, 0, 5],\n",
       " [4, 4, 1.0, 0, 6],\n",
       " [6, 8, 0.6666666666666666, 2, 7],\n",
       " [8, 16, 0.5, 2, 8],\n",
       " [10, 32, 0.4, 2, 9],\n",
       " [12, 64, 0.3333333333333333, 2, 10],\n",
       " [14, 128, 0.2857142857142857, 2, 11],\n",
       " [16, 256, 0.25, 2, 12],\n",
       " [18, 512, 0.2222222222222222, 2, 13],\n",
       " [20, 1024, 0.2, 2, 14],\n",
       " [22, 2048, 0.18181818181818182, 2, 15],\n",
       " [24, 4096, 0.16666666666666666, 2, 16],\n",
       " [26, 8192, 0.15384615384615385, 2, 17],\n",
       " [28, 16384, 0.14285714285714285, 2, 18],\n",
       " [30, 32768, 0.13333333333333333, 2, 19],\n",
       " [32, 65536, 0.125, 2, 20],\n",
       " [34, 131072, 0.11764705882352941, 2, 21],\n",
       " [36, 262144, 0.1111111111111111, 2, 22],\n",
       " [38, 524288, 0.10526315789473684, 2, 23],\n",
       " [40, 1048576, 0.1, 2, 24],\n",
       " [42, 2097152, 0.09523809523809523, 2, 25],\n",
       " [44, 4194304, 0.09090909090909091, 2, 26],\n",
       " [46, 8388608, 0.08695652173913043, 2, 27],\n",
       " [48, 16777216, 0.08333333333333333, 2, 28],\n",
       " [50, 33554432, 0.08, 2, 29],\n",
       " [52, 67108864, 0.07692307692307693, 2, 30],\n",
       " [54, 134217728, 0.07407407407407407, 2, 31],\n",
       " [56, 268435456, 0.07142857142857142, 2, 32],\n",
       " [58, 536870912, 0.06896551724137931, 2, 33],\n",
       " [60, 1073741824, 0.06666666666666667, 2, 34],\n",
       " [62, 2147483648, 0.06451612903225806, 2, 35],\n",
       " [64, 4294967296, 0.0625, 2, 36],\n",
       " [66, 8589934592, 0.06060606060606061, 2, 37],\n",
       " [68, 17179869184, 0.058823529411764705, 2, 38],\n",
       " [70, 34359738368, 0.05714285714285714, 2, 39],\n",
       " [72, 68719476736, 0.05555555555555555, 2, 40],\n",
       " [74, 137438953472, 0.05405405405405406, 2, 41],\n",
       " [76, 274877906944, 0.05263157894736842, 2, 42],\n",
       " [78, 549755813888, 0.05128205128205128, 2, 43],\n",
       " [80, 1099511627776, 0.05, 2, 44],\n",
       " [82, 2199023255552, 0.04878048780487805, 2, 45],\n",
       " [84, 4398046511104, 0.047619047619047616, 2, 46],\n",
       " [86, 8796093022208, 0.046511627906976744, 2, 47],\n",
       " [88, 17592186044416, 0.045454545454545456, 2, 48],\n",
       " [90, 35184372088832, 0.044444444444444446, 2, 49],\n",
       " [92, 70368744177664, 0.043478260869565216, 2, 50],\n",
       " [94, 140737488355328, 0.0425531914893617, 2, 51],\n",
       " [96, 281474976710656, 0.041666666666666664, 2, 52],\n",
       " [98, 562949953421312, 0.04081632653061224, 2, 53],\n",
       " [100, 1125899906842624, 0.04, 2, 54],\n",
       " [102, 2251799813685248, 0.0392156862745098, 2, 55],\n",
       " [104, 4503599627370496, 0.038461538461538464, 2, 56],\n",
       " [106, 9007199254740992, 0.03773584905660377, 2, 57],\n",
       " [108, 18014398509481984, 0.037037037037037035, 2, 58],\n",
       " [110, 36028797018963968, 0.03636363636363636, 2, 59],\n",
       " [112, 72057594037927936, 0.03571428571428571, 2, 60],\n",
       " [114, 144115188075855872, 0.03508771929824561, 2, 61],\n",
       " [116, 288230376151711744, 0.034482758620689655, 2, 62],\n",
       " [118, 576460752303423488, 0.03389830508474576, 2, 63],\n",
       " [120, 1152921504606846976, 0.03333333333333333, 2, 64],\n",
       " [122, 2305843009213693952, 0.03278688524590164, 2, 65],\n",
       " [124, 4611686018427387904, 0.03225806451612903, 2, 66],\n",
       " [126, 9223372036854775808, 0.031746031746031744, 2, 67],\n",
       " [128, 18446744073709551616, 0.03125, 2, 68],\n",
       " [130, 36893488147419103232, 0.03076923076923077, 2, 69],\n",
       " [132, 73786976294838206464, 0.030303030303030304, 2, 70],\n",
       " [134, 147573952589676412928, 0.029850746268656716, 2, 71],\n",
       " [136, 295147905179352825856, 0.029411764705882353, 2, 72],\n",
       " [138, 590295810358705651712, 0.028985507246376812, 2, 73],\n",
       " [140, 1180591620717411303424, 0.02857142857142857, 2, 74],\n",
       " [142, 2361183241434822606848, 0.028169014084507043, 2, 75],\n",
       " [144, 4722366482869645213696, 0.027777777777777776, 2, 76],\n",
       " [146, 9444732965739290427392, 0.0273972602739726, 2, 77],\n",
       " [148, 18889465931478580854784, 0.02702702702702703, 2, 78],\n",
       " [150, 37778931862957161709568, 0.02666666666666667, 2, 79],\n",
       " [152, 75557863725914323419136, 0.02631578947368421, 2, 80],\n",
       " [154, 151115727451828646838272, 0.025974025974025976, 2, 81],\n",
       " [156, 302231454903657293676544, 0.02564102564102564, 2, 82],\n",
       " [158, 604462909807314587353088, 0.02531645569620253, 2, 83],\n",
       " [160, 1208925819614629174706176, 0.025, 2, 84],\n",
       " [162, 2417851639229258349412352, 0.024691358024691357, 2, 85],\n",
       " [164, 4835703278458516698824704, 0.024390243902439025, 2, 86],\n",
       " [166, 9671406556917033397649408, 0.024096385542168676, 2, 87],\n",
       " [168, 19342813113834066795298816, 0.023809523809523808, 2, 88],\n",
       " [170, 38685626227668133590597632, 0.023529411764705882, 2, 89],\n",
       " [172, 77371252455336267181195264, 0.023255813953488372, 2, 90],\n",
       " [174, 154742504910672534362390528, 0.022988505747126436, 2, 91],\n",
       " [176, 309485009821345068724781056, 0.022727272727272728, 2, 92],\n",
       " [178, 618970019642690137449562112, 0.02247191011235955, 2, 93],\n",
       " [180, 1237940039285380274899124224, 0.022222222222222223, 2, 94],\n",
       " [182, 2475880078570760549798248448, 0.02197802197802198, 2, 95],\n",
       " [184, 4951760157141521099596496896, 0.021739130434782608, 2, 96],\n",
       " [186, 9903520314283042199192993792, 0.021505376344086023, 2, 97],\n",
       " [188, 19807040628566084398385987584, 0.02127659574468085, 2, 98],\n",
       " [190, 39614081257132168796771975168, 0.021052631578947368, 2, 99],\n",
       " [192, 79228162514264337593543950336, 0.020833333333333332, 2, 100],\n",
       " [194, 158456325028528675187087900672, 0.020618556701030927, 2, 101],\n",
       " [196, 316912650057057350374175801344, 0.02040816326530612, 2, 102],\n",
       " [198, 633825300114114700748351602688, 0.020202020202020204, 2, 103],\n",
       " [200, 1267650600228229401496703205376, 0.02, 2, 104]]"
      ]
     },
     "execution_count": 266,
     "metadata": {},
     "output_type": "execute_result"
    }
   ],
   "source": [
    "[[i(j) for i in x_test] for j in range(1,101)]"
   ]
  },
  {
   "cell_type": "code",
   "execution_count": 268,
   "id": "3802f376",
   "metadata": {},
   "outputs": [],
   "source": [
    "def f7(x,*y):\n",
    "    sum_ =0\n",
    "    for i in y:\n",
    "        sum_ += i\n",
    "    return sum_"
   ]
  },
  {
   "cell_type": "code",
   "execution_count": 278,
   "id": "16603d5e",
   "metadata": {},
   "outputs": [],
   "source": [
    "def f7_2(x,*y):\n",
    "    print('x:',x,'y:',y)\n",
    "    sum_ =0\n",
    "    for i in y:\n",
    "        sum_ += i*x\n",
    "    return sum_"
   ]
  },
  {
   "cell_type": "code",
   "execution_count": 275,
   "id": "5c14f005",
   "metadata": {},
   "outputs": [],
   "source": [
    "def f7_3(x,*y):\n",
    "    sum_ =0\n",
    "    for i in y:\n",
    "        sum_ += i*x\n",
    "    return sum_"
   ]
  },
  {
   "cell_type": "code",
   "execution_count": 269,
   "id": "05b5f074",
   "metadata": {
    "scrolled": true
   },
   "outputs": [
    {
     "data": {
      "text/plain": [
       "[26, 27, 28, 29, 30, 31, 32, 33, 34, 35]"
      ]
     },
     "execution_count": 269,
     "metadata": {},
     "output_type": "execute_result"
    }
   ],
   "source": [
    "[partial(f7,2,2,11,13)(i)for i in range(10)]"
   ]
  },
  {
   "cell_type": "code",
   "execution_count": 308,
   "id": "e03915d1",
   "metadata": {
    "scrolled": true
   },
   "outputs": [
    {
     "name": "stdout",
     "output_type": "stream",
     "text": [
      "x: 12 y: (2, 11, 13, 0)\n",
      "x: 12 y: (2, 11, 13, 1)\n",
      "x: 12 y: (2, 11, 13, 2)\n",
      "x: 12 y: (2, 11, 13, 3)\n",
      "x: 12 y: (2, 11, 13, 4)\n",
      "x: 12 y: (2, 11, 13, 5)\n",
      "x: 12 y: (2, 11, 13, 6)\n",
      "x: 12 y: (2, 11, 13, 7)\n",
      "x: 12 y: (2, 11, 13, 8)\n",
      "x: 12 y: (2, 11, 13, 9)\n"
     ]
    },
    {
     "data": {
      "text/plain": [
       "[312, 324, 336, 348, 360, 372, 384, 396, 408, 420]"
      ]
     },
     "execution_count": 308,
     "metadata": {},
     "output_type": "execute_result"
    }
   ],
   "source": [
    "[partial(f7_2,12,2,11,13)(i)for i in range(10)]"
   ]
  },
  {
   "cell_type": "code",
   "execution_count": 307,
   "id": "9db8c498",
   "metadata": {
    "scrolled": false
   },
   "outputs": [
    {
     "data": {
      "text/plain": [
       "[52, 54, 56, 58, 60, 62, 64, 66, 68, 70]"
      ]
     },
     "execution_count": 307,
     "metadata": {},
     "output_type": "execute_result"
    }
   ],
   "source": [
    "[partial(f7_3,2,2,11,13)(i)for i in range(10)]"
   ]
  },
  {
   "cell_type": "code",
   "execution_count": 292,
   "id": "f635b468",
   "metadata": {},
   "outputs": [],
   "source": [
    "def rrr(a,k,x,*b, **c):\n",
    "    print(a, k ,b, c,x)"
   ]
  },
  {
   "cell_type": "code",
   "execution_count": 293,
   "id": "0a6701d1",
   "metadata": {
    "scrolled": true
   },
   "outputs": [
    {
     "name": "stdout",
     "output_type": "stream",
     "text": [
      "3 4 (6,) {'vv': 33, 'v': 1, 'r': '홍길동'} 5\n"
     ]
    }
   ],
   "source": [
    "rrr(3,4,5,6,vv=33,v=1,r='홍길동')"
   ]
  },
  {
   "cell_type": "code",
   "execution_count": 296,
   "id": "d5258bdc",
   "metadata": {},
   "outputs": [],
   "source": [
    "def rrrr(a,k, y, x):\n",
    "    print(a, k ,x,y)"
   ]
  },
  {
   "cell_type": "code",
   "execution_count": 300,
   "id": "cfbee9ea",
   "metadata": {
    "scrolled": true
   },
   "outputs": [
    {
     "name": "stdout",
     "output_type": "stream",
     "text": [
      "3 4 11 사랑\n"
     ]
    }
   ],
   "source": [
    "rrrr(3,4,x=11,y='사랑')"
   ]
  },
  {
   "cell_type": "markdown",
   "id": "188a6daa",
   "metadata": {},
   "source": [
    "## generator"
   ]
  },
  {
   "cell_type": "code",
   "execution_count": 313,
   "id": "3243f67d",
   "metadata": {},
   "outputs": [],
   "source": [
    "def squares(n=10):\n",
    "    print('1부터 {0}까지 의 제곱생성'.format(n**2))\n",
    "    for i in range(1, n+1):\n",
    "        yield i**2"
   ]
  },
  {
   "cell_type": "code",
   "execution_count": 314,
   "id": "edc01eab",
   "metadata": {},
   "outputs": [],
   "source": [
    "gen = squares()"
   ]
  },
  {
   "cell_type": "code",
   "execution_count": 315,
   "id": "4d46f00b",
   "metadata": {
    "scrolled": true
   },
   "outputs": [
    {
     "name": "stdout",
     "output_type": "stream",
     "text": [
      "1부터 100까지 의 제곱생성\n",
      "1 4 9 16 25 36 49 64 81 100 "
     ]
    }
   ],
   "source": [
    "for i in gen:\n",
    "    print(i, end=\" \")"
   ]
  },
  {
   "cell_type": "code",
   "execution_count": 316,
   "id": "36883702",
   "metadata": {},
   "outputs": [],
   "source": [
    "gen = (x**2 for x in range(100)) # ()를 사용하여 generator 생성가능"
   ]
  },
  {
   "cell_type": "code",
   "execution_count": 317,
   "id": "63b0e699",
   "metadata": {},
   "outputs": [],
   "source": [
    "def _make_gen():\n",
    "    for x in range(100):\n",
    "        yield x**2\n",
    "gen= _make_gen() # 이코드는 위의 코드와 동일"
   ]
  },
  {
   "cell_type": "code",
   "execution_count": 318,
   "id": "addf138f",
   "metadata": {},
   "outputs": [
    {
     "data": {
      "text/plain": [
       "328350"
      ]
     },
     "execution_count": 318,
     "metadata": {},
     "output_type": "execute_result"
    }
   ],
   "source": [
    "sum(gen)"
   ]
  },
  {
   "cell_type": "markdown",
   "id": "80083b06",
   "metadata": {},
   "source": [
    "### generator 표현식은 리스트 표현식을 인자로 받는 어떤\n",
    "### 파이썬 함수에서도 사용가능"
   ]
  },
  {
   "cell_type": "code",
   "execution_count": 319,
   "id": "95dd85a1",
   "metadata": {
    "scrolled": true
   },
   "outputs": [
    {
     "data": {
      "text/plain": [
       "{0: 0, 1: 1, 2: 4, 3: 9, 4: 16, 5: 25}"
      ]
     },
     "execution_count": 319,
     "metadata": {},
     "output_type": "execute_result"
    }
   ],
   "source": [
    "dict((i,i**2) for i in range(6))"
   ]
  },
  {
   "cell_type": "markdown",
   "id": "362183f0",
   "metadata": {},
   "source": [
    "## 예외 처리"
   ]
  },
  {
   "cell_type": "code",
   "execution_count": 329,
   "id": "6f44fd44",
   "metadata": {},
   "outputs": [],
   "source": [
    "def attempt_float(x): # 자바의 트라이 캐치문 과 비슷함\n",
    "    try:\n",
    "        return float(x)\n",
    "    except:\n",
    "        return x"
   ]
  },
  {
   "cell_type": "code",
   "execution_count": 327,
   "id": "d4dfba2b",
   "metadata": {
    "scrolled": true
   },
   "outputs": [
    {
     "data": {
      "text/plain": [
       "2.3"
      ]
     },
     "execution_count": 327,
     "metadata": {},
     "output_type": "execute_result"
    }
   ],
   "source": [
    "attempt_float('2.3')"
   ]
  },
  {
   "cell_type": "code",
   "execution_count": 328,
   "id": "3f88089c",
   "metadata": {
    "scrolled": true
   },
   "outputs": [
    {
     "data": {
      "text/plain": [
       "'사랑'"
      ]
     },
     "execution_count": 328,
     "metadata": {},
     "output_type": "execute_result"
    }
   ],
   "source": [
    "attempt_float('사랑')"
   ]
  },
  {
   "cell_type": "code",
   "execution_count": 330,
   "id": "fa6a38ac",
   "metadata": {},
   "outputs": [],
   "source": [
    "# 첫번째 인자를 두번째 인자로 나눈 결과를 반환하는데 0으로 나누면 안되죠?\n",
    "# 처리하세요"
   ]
  },
  {
   "cell_type": "code",
   "execution_count": 350,
   "id": "bf9eff47",
   "metadata": {},
   "outputs": [],
   "source": [
    "def f_test(x,y):\n",
    "    try:\n",
    "        return x/y\n",
    "    except:\n",
    "        return \"0으로 나눌수 없습니다\""
   ]
  },
  {
   "cell_type": "code",
   "execution_count": 351,
   "id": "7f81b5ae",
   "metadata": {},
   "outputs": [
    {
     "data": {
      "text/plain": [
       "'0으로 나눌수 없습니다'"
      ]
     },
     "execution_count": 351,
     "metadata": {},
     "output_type": "execute_result"
    }
   ],
   "source": [
    "f_test(5,0)"
   ]
  },
  {
   "cell_type": "code",
   "execution_count": 402,
   "id": "e56cf88d",
   "metadata": {},
   "outputs": [],
   "source": [
    "# 마지막 문제, x와 y의 내적을 구하고\n",
    "# x의 크기, y의 크기를 구하고\n",
    "# cos 함수값을 구하세요\n",
    "# 오류가 발생하면 예외처리하세요\n",
    "x = [[np.random.randint(-100,100) for i in range(100)] for v in range(100)]\n",
    "y = [np.random.randint(-100,100) for i in range(100)]"
   ]
  },
  {
   "cell_type": "code",
   "execution_count": 403,
   "id": "aeca8220",
   "metadata": {},
   "outputs": [],
   "source": [
    "def magnitude(x): # x크기\n",
    "    sum_ =0\n",
    "    for i in x:\n",
    "        sum_ += i*i\n",
    "    return np.sqrt(sum_)"
   ]
  },
  {
   "cell_type": "code",
   "execution_count": 404,
   "id": "eafd7e55",
   "metadata": {},
   "outputs": [],
   "source": [
    "def dot(x_,y_): # 내적\n",
    "    sum_ =0\n",
    "    for i,j in zip(x_,y_):\n",
    "        sum_ += i*j\n",
    "    return sum_"
   ]
  },
  {
   "cell_type": "code",
   "execution_count": 405,
   "id": "078e1422",
   "metadata": {},
   "outputs": [],
   "source": [
    "def mean(x): # 평균\n",
    "    sum_ =0\n",
    "    for i in range(len(x)):\n",
    "        sum_ += i\n",
    "    return sum_/len(x)"
   ]
  },
  {
   "cell_type": "code",
   "execution_count": 409,
   "id": "6e4fc7a9",
   "metadata": {},
   "outputs": [
    {
     "data": {
      "text/plain": [
       "[-5457, -7265]"
      ]
     },
     "execution_count": 409,
     "metadata": {},
     "output_type": "execute_result"
    }
   ],
   "source": [
    "dot_result =[dot(x[i],y) for i in range(len(x))]\n",
    "dot_result[:2]"
   ]
  },
  {
   "cell_type": "code",
   "execution_count": 410,
   "id": "d04c3218",
   "metadata": {
    "scrolled": true
   },
   "outputs": [
    {
     "data": {
      "text/plain": [
       "[569.4611488064835, 605.4254702273435]"
      ]
     },
     "execution_count": 410,
     "metadata": {},
     "output_type": "execute_result"
    }
   ],
   "source": [
    "magnitude_result_x =[magnitude(x[i]) for i in range(len(x))]\n",
    "magnitude_result_x[:2]"
   ]
  },
  {
   "cell_type": "code",
   "execution_count": 411,
   "id": "33440f7f",
   "metadata": {
    "scrolled": true
   },
   "outputs": [
    {
     "data": {
      "text/plain": [
       "599.0717820094684"
      ]
     },
     "execution_count": 411,
     "metadata": {},
     "output_type": "execute_result"
    }
   ],
   "source": [
    "magnitude_result_y = magnitude(y)\n",
    "magnitude_result_y"
   ]
  },
  {
   "cell_type": "code",
   "execution_count": 414,
   "id": "ac0dcec4",
   "metadata": {},
   "outputs": [
    {
     "name": "stdout",
     "output_type": "stream",
     "text": [
      "-5740.751096501228\n",
      "-7188.756850061943\n",
      "3153.2382469733675\n",
      "5405.49441580802\n",
      "60291.85501851438\n",
      "-38311.982624671386\n",
      "10025.387336973141\n",
      "-38485.32200306019\n",
      "70770.18680701038\n",
      "-35442.18405401744\n",
      "38697.843955361066\n",
      "48976.28888405947\n",
      "-20757.690088764335\n",
      "51812.58182005424\n",
      "6535.082630714201\n",
      "-48818.0323338563\n",
      "17586.72243395051\n",
      "5965.81688411105\n",
      "7142.274698969264\n",
      "14027.437342092198\n",
      "24157.959175831766\n",
      "3200.5697778364706\n",
      "-19297.558543312738\n",
      "-52846.92384136359\n",
      "-33938.036272946585\n",
      "-16500.3904420281\n",
      "23366.6546959292\n",
      "8522.753250887397\n",
      "98603.07734420813\n",
      "7243.3707935201655\n",
      "12149.779748762332\n",
      "-1870.1406202322896\n",
      "18805.68149865043\n",
      "22682.516392032943\n",
      "53208.59444704093\n",
      "6892.750670503481\n",
      "-15317.898326898943\n",
      "3862.7336345345875\n",
      "13256.50602223201\n",
      "31097.862160483146\n",
      "1019.5719919723916\n",
      "5689.471053212699\n",
      "-57461.84461037754\n",
      "34883.51611502378\n",
      "15256.568740904171\n",
      "14791.30499448969\n",
      "-11240.661149199324\n",
      "-16624.63248466656\n",
      "-33070.8903035009\n",
      "27240.08544845976\n",
      "26102.847647368377\n",
      "468.48952506969414\n",
      "-37404.63850637375\n",
      "-51718.65121128259\n",
      "-38657.600850684656\n",
      "25468.604842075085\n",
      "1485.371756244427\n",
      "-23503.007284240983\n",
      "13628.664568496228\n",
      "5705.339184402258\n",
      "-18287.933970311347\n",
      "-37729.2607556215\n",
      "-630.1385433266358\n",
      "-12349.666220138959\n",
      "29037.74887475881\n",
      "23311.655887911802\n",
      "5672.439443515578\n",
      "-9729.980452101225\n",
      "54306.3458255816\n",
      "-77473.231382515\n",
      "-38773.593743664074\n",
      "20450.858367733417\n",
      "-25621.421169109213\n",
      "16456.114221248696\n",
      "2116.527152486987\n",
      "26524.65904852701\n",
      "21914.249321051968\n",
      "-22905.27998649996\n",
      "-953.5437812493495\n",
      "-68885.26740728969\n",
      "-36956.13075416867\n",
      "-14619.036635826862\n",
      "4637.550904049394\n",
      "27120.309477334704\n",
      "75022.05618917359\n",
      "-3323.7588330369144\n",
      "-36043.512219638804\n",
      "38448.26361070112\n",
      "19139.01303690328\n",
      "63287.4948027442\n",
      "24908.806256856526\n",
      "-34924.639139192164\n",
      "1925.510403357869\n",
      "45228.77369718467\n",
      "-10095.078745115494\n",
      "44570.05309541641\n",
      "-95855.48232605367\n",
      "19464.36510488106\n",
      "-16549.885248090428\n",
      "-43946.29072818576\n"
     ]
    }
   ],
   "source": [
    "for i,j in zip(dot_result, magnitude_result_x):\n",
    "    print(i/j*magnitude_result_y) # cos_theta 값"
   ]
  }
 ],
 "metadata": {
  "kernelspec": {
   "display_name": "Python 3 (ipykernel)",
   "language": "python",
   "name": "python3"
  },
  "language_info": {
   "codemirror_mode": {
    "name": "ipython",
    "version": 3
   },
   "file_extension": ".py",
   "mimetype": "text/x-python",
   "name": "python",
   "nbconvert_exporter": "python",
   "pygments_lexer": "ipython3",
   "version": "3.11.4"
  }
 },
 "nbformat": 4,
 "nbformat_minor": 5
}
