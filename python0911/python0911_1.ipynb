{
 "cells": [
  {
   "cell_type": "code",
   "execution_count": 11,
   "id": "f27eaee4",
   "metadata": {},
   "outputs": [],
   "source": [
    "import numpy as np"
   ]
  },
  {
   "cell_type": "code",
   "execution_count": 64,
   "id": "873003da",
   "metadata": {},
   "outputs": [],
   "source": [
    "A=[[2,3],[1,2]]\n",
    "B=[[1,2],[1,3]]"
   ]
  },
  {
   "cell_type": "code",
   "execution_count": 204,
   "id": "ea29744c",
   "metadata": {
    "scrolled": true
   },
   "outputs": [
    {
     "data": {
      "text/plain": [
       "[[5, 13], [3, 8]]"
      ]
     },
     "execution_count": 204,
     "metadata": {},
     "output_type": "execute_result"
    }
   ],
   "source": [
    "c00 = A[0][0]*B[0][0] + A[0][1]*B[1][0] # A의 0행과  B의 0열의 내적\n",
    "c01 = A[0][0]*B[0][1] + A[0][1]*B[1][1] # A의 0행과  B의 1열의 내적\n",
    "c10 = A[1][0]*B[0][0] + A[1][1]*B[1][0] # A의 1행과  B의 0열의 내적\n",
    "c11 = A[1][0]*B[0][1] + A[1][1]*B[1][1] # A의 1행과  B의 1열의 내적\n",
    "[[c00,c01],[c10,c11]]"
   ]
  },
  {
   "cell_type": "code",
   "execution_count": 165,
   "id": "1086d705",
   "metadata": {},
   "outputs": [],
   "source": [
    "transposed_B = list(zip(*B)) # B를 transpose해서 역행렬로 만듬"
   ]
  },
  {
   "cell_type": "code",
   "execution_count": 169,
   "id": "14052fe1",
   "metadata": {},
   "outputs": [],
   "source": [
    "def dot(x,y):\n",
    "    return sum([i*j for i,j in zip(x,y)])"
   ]
  },
  {
   "cell_type": "code",
   "execution_count": 210,
   "id": "75906202",
   "metadata": {
    "scrolled": true
   },
   "outputs": [
    {
     "data": {
      "text/plain": [
       "[[5, 13], [3, 8]]"
      ]
     },
     "execution_count": 210,
     "metadata": {},
     "output_type": "execute_result"
    }
   ],
   "source": [
    "C_a = []\n",
    "for i in A:\n",
    "    C_b = []\n",
    "    for j in transposed_B:\n",
    "#         print(i,j)\n",
    "        C_b.append(dot(i,j))\n",
    "    C_a.append(C_b)\n",
    "C_a"
   ]
  },
  {
   "cell_type": "code",
   "execution_count": 211,
   "id": "fb3cda6b",
   "metadata": {},
   "outputs": [],
   "source": [
    "import pandas as pd"
   ]
  },
  {
   "cell_type": "code",
   "execution_count": 212,
   "id": "79a94cda",
   "metadata": {
    "scrolled": true
   },
   "outputs": [
    {
     "data": {
      "text/plain": [
       "a    0\n",
       "b    1\n",
       "c    2\n",
       "dtype: int64"
      ]
     },
     "execution_count": 212,
     "metadata": {},
     "output_type": "execute_result"
    }
   ],
   "source": [
    "obj = pd.Series(range(3), index=['a','b','c'])\n",
    "obj"
   ]
  },
  {
   "cell_type": "code",
   "execution_count": 213,
   "id": "34259123",
   "metadata": {
    "scrolled": true
   },
   "outputs": [
    {
     "data": {
      "text/plain": [
       "Index(['a', 'b', 'c'], dtype='object')"
      ]
     },
     "execution_count": 213,
     "metadata": {},
     "output_type": "execute_result"
    }
   ],
   "source": [
    "index = obj.index\n",
    "index"
   ]
  },
  {
   "cell_type": "code",
   "execution_count": 214,
   "id": "72138b16",
   "metadata": {
    "scrolled": true
   },
   "outputs": [
    {
     "data": {
      "text/plain": [
       "Index(['b', 'c'], dtype='object')"
      ]
     },
     "execution_count": 214,
     "metadata": {},
     "output_type": "execute_result"
    }
   ],
   "source": [
    "index[1:]"
   ]
  },
  {
   "cell_type": "code",
   "execution_count": 216,
   "id": "11def80e",
   "metadata": {
    "scrolled": true
   },
   "outputs": [
    {
     "ename": "TypeError",
     "evalue": "Index does not support mutable operations",
     "output_type": "error",
     "traceback": [
      "\u001b[1;31m---------------------------------------------------------------------------\u001b[0m",
      "\u001b[1;31mTypeError\u001b[0m                                 Traceback (most recent call last)",
      "Cell \u001b[1;32mIn[216], line 1\u001b[0m\n\u001b[1;32m----> 1\u001b[0m index[\u001b[38;5;241m1\u001b[39m]\u001b[38;5;241m=\u001b[39m\u001b[38;5;124m'\u001b[39m\u001b[38;5;124md\u001b[39m\u001b[38;5;124m'\u001b[39m\n",
      "File \u001b[1;32m~\\anaconda3\\Lib\\site-packages\\pandas\\core\\indexes\\base.py:5302\u001b[0m, in \u001b[0;36mIndex.__setitem__\u001b[1;34m(self, key, value)\u001b[0m\n\u001b[0;32m   5300\u001b[0m \u001b[38;5;129m@final\u001b[39m\n\u001b[0;32m   5301\u001b[0m \u001b[38;5;28;01mdef\u001b[39;00m \u001b[38;5;21m__setitem__\u001b[39m(\u001b[38;5;28mself\u001b[39m, key, value):\n\u001b[1;32m-> 5302\u001b[0m     \u001b[38;5;28;01mraise\u001b[39;00m \u001b[38;5;167;01mTypeError\u001b[39;00m(\u001b[38;5;124m\"\u001b[39m\u001b[38;5;124mIndex does not support mutable operations\u001b[39m\u001b[38;5;124m\"\u001b[39m)\n",
      "\u001b[1;31mTypeError\u001b[0m: Index does not support mutable operations"
     ]
    }
   ],
   "source": [
    "index[1]='d' # index객체는 변경불가, mutable(수정가능)\n",
    "# immutable(수정불가능) => 순수(pure function) "
   ]
  },
  {
   "cell_type": "code",
   "execution_count": 219,
   "id": "2854bb2c",
   "metadata": {
    "scrolled": true
   },
   "outputs": [
    {
     "data": {
      "text/plain": [
       "d    4.5\n",
       "b    7.2\n",
       "a   -5.3\n",
       "c    3.6\n",
       "dtype: float64"
      ]
     },
     "execution_count": 219,
     "metadata": {},
     "output_type": "execute_result"
    }
   ],
   "source": [
    "#재 색인(reindex)\n",
    "\n",
    "obj = pd.Series([4.5, 7.2, -5.3, 3.6], index=['d','b','a','c'])\n",
    "obj"
   ]
  },
  {
   "cell_type": "code",
   "execution_count": 222,
   "id": "4fc476d8",
   "metadata": {
    "scrolled": true
   },
   "outputs": [
    {
     "data": {
      "text/plain": [
       "a   -5.3\n",
       "b    7.2\n",
       "c    3.6\n",
       "d    4.5\n",
       "e    NaN\n",
       "dtype: float64"
      ]
     },
     "execution_count": 222,
     "metadata": {},
     "output_type": "execute_result"
    }
   ],
   "source": [
    "obj2 = obj.reindex(['a','b','c','d','e'])\n",
    "obj2"
   ]
  },
  {
   "cell_type": "code",
   "execution_count": 231,
   "id": "dc76343b",
   "metadata": {},
   "outputs": [
    {
     "data": {
      "text/plain": [
       "0      blue\n",
       "2    purple\n",
       "4    yellow\n",
       "dtype: object"
      ]
     },
     "execution_count": 231,
     "metadata": {},
     "output_type": "execute_result"
    }
   ],
   "source": [
    "obj3 = pd.Series(['blue','purple','yellow'], index=[0,2,4])\n",
    "obj3"
   ]
  },
  {
   "cell_type": "code",
   "execution_count": 230,
   "id": "eaffe735",
   "metadata": {
    "scrolled": true
   },
   "outputs": [
    {
     "data": {
      "text/plain": [
       "0      blue\n",
       "1      blue\n",
       "2    purple\n",
       "3    purple\n",
       "4    yellow\n",
       "5    yellow\n",
       "dtype: object"
      ]
     },
     "execution_count": 230,
     "metadata": {},
     "output_type": "execute_result"
    }
   ],
   "source": [
    "obj3.reindex(range(6), method='ffill') \n",
    "# forward fill 누락된값을 앞선값으로 채운다"
   ]
  },
  {
   "cell_type": "code",
   "execution_count": 234,
   "id": "b256f2c2",
   "metadata": {
    "scrolled": true
   },
   "outputs": [
    {
     "data": {
      "text/plain": [
       "0      blue\n",
       "1    purple\n",
       "2    purple\n",
       "3    yellow\n",
       "4    yellow\n",
       "5       NaN\n",
       "dtype: object"
      ]
     },
     "execution_count": 234,
     "metadata": {},
     "output_type": "execute_result"
    }
   ],
   "source": [
    "obj4 =obj3.reindex(range(6), method='bfill') \n",
    "# forward fill 누락된 값을 뒤쪽값으로 채운다\n",
    "obj4"
   ]
  },
  {
   "cell_type": "code",
   "execution_count": 256,
   "id": "82d6fd3c",
   "metadata": {
    "scrolled": false
   },
   "outputs": [
    {
     "name": "stdout",
     "output_type": "stream",
     "text": [
      "False\n",
      "True\n",
      "False\n",
      "False\n"
     ]
    }
   ],
   "source": [
    "frame = pd.DataFrame(np.arange(9).reshape((3,3)), index=['a','c','d'],\n",
    "                    columns=['Ohio','Texas','California'])\n",
    "# frame\n",
    "frame2 = frame.reindex(index=['a','b','c','d']) \n",
    "# b index의 값이 없는것은 NaN(Not A Number)\n",
    "for i in frame2['Ohio']:\n",
    "    print(np.isnan(i)) # frame2의 Ohio값 check, nan인지 check"
   ]
  },
  {
   "cell_type": "code",
   "execution_count": 266,
   "id": "a88f2986",
   "metadata": {
    "scrolled": true
   },
   "outputs": [
    {
     "data": {
      "text/plain": [
       "a    False\n",
       "b     True\n",
       "c    False\n",
       "d    False\n",
       "Name: Ohio, dtype: bool"
      ]
     },
     "execution_count": 266,
     "metadata": {},
     "output_type": "execute_result"
    }
   ],
   "source": [
    "pd.isna(frame2['Ohio']) # frame2의 Ohio값 check"
   ]
  },
  {
   "cell_type": "code",
   "execution_count": 267,
   "id": "da172de7",
   "metadata": {},
   "outputs": [
    {
     "data": {
      "text/plain": [
       "a    False\n",
       "b     True\n",
       "c    False\n",
       "d    False\n",
       "Name: Ohio, dtype: bool"
      ]
     },
     "execution_count": 267,
     "metadata": {},
     "output_type": "execute_result"
    }
   ],
   "source": [
    "np.isnan(frame2['Ohio']) # frame2의 Ohio값 check"
   ]
  },
  {
   "cell_type": "code",
   "execution_count": 268,
   "id": "c89ba388",
   "metadata": {
    "scrolled": true
   },
   "outputs": [
    {
     "data": {
      "text/html": [
       "<div>\n",
       "<style scoped>\n",
       "    .dataframe tbody tr th:only-of-type {\n",
       "        vertical-align: middle;\n",
       "    }\n",
       "\n",
       "    .dataframe tbody tr th {\n",
       "        vertical-align: top;\n",
       "    }\n",
       "\n",
       "    .dataframe thead th {\n",
       "        text-align: right;\n",
       "    }\n",
       "</style>\n",
       "<table border=\"1\" class=\"dataframe\">\n",
       "  <thead>\n",
       "    <tr style=\"text-align: right;\">\n",
       "      <th></th>\n",
       "      <th>Ohio</th>\n",
       "      <th>Texas</th>\n",
       "      <th>California</th>\n",
       "    </tr>\n",
       "  </thead>\n",
       "  <tbody>\n",
       "    <tr>\n",
       "      <th>a</th>\n",
       "      <td>0.0</td>\n",
       "      <td>1.0</td>\n",
       "      <td>2.0</td>\n",
       "    </tr>\n",
       "    <tr>\n",
       "      <th>b</th>\n",
       "      <td>999.0</td>\n",
       "      <td>999.0</td>\n",
       "      <td>999.0</td>\n",
       "    </tr>\n",
       "    <tr>\n",
       "      <th>c</th>\n",
       "      <td>3.0</td>\n",
       "      <td>4.0</td>\n",
       "      <td>5.0</td>\n",
       "    </tr>\n",
       "    <tr>\n",
       "      <th>d</th>\n",
       "      <td>6.0</td>\n",
       "      <td>7.0</td>\n",
       "      <td>8.0</td>\n",
       "    </tr>\n",
       "  </tbody>\n",
       "</table>\n",
       "</div>"
      ],
      "text/plain": [
       "    Ohio  Texas  California\n",
       "a    0.0    1.0         2.0\n",
       "b  999.0  999.0       999.0\n",
       "c    3.0    4.0         5.0\n",
       "d    6.0    7.0         8.0"
      ]
     },
     "execution_count": 268,
     "metadata": {},
     "output_type": "execute_result"
    }
   ],
   "source": [
    "frame2.replace(np.nan, 999) # replace로 nan 데이터를 999로 대체,"
   ]
  },
  {
   "cell_type": "code",
   "execution_count": 269,
   "id": "c29631b8",
   "metadata": {
    "scrolled": true
   },
   "outputs": [
    {
     "data": {
      "text/plain": [
       "a    0.0\n",
       "b    1.0\n",
       "c    2.0\n",
       "d    3.0\n",
       "dtype: float64"
      ]
     },
     "execution_count": 269,
     "metadata": {},
     "output_type": "execute_result"
    }
   ],
   "source": [
    "obj=pd.Series(np.arange(4.), index=['a','b','c','d'])\n",
    "obj"
   ]
  },
  {
   "cell_type": "code",
   "execution_count": 273,
   "id": "f5704b3d",
   "metadata": {},
   "outputs": [
    {
     "data": {
      "text/plain": [
       "1.0"
      ]
     },
     "execution_count": 273,
     "metadata": {},
     "output_type": "execute_result"
    }
   ],
   "source": [
    "obj['b'] # index값으로 줌"
   ]
  },
  {
   "cell_type": "code",
   "execution_count": 272,
   "id": "f08c3980",
   "metadata": {
    "scrolled": true
   },
   "outputs": [
    {
     "data": {
      "text/plain": [
       "c    2.0\n",
       "d    3.0\n",
       "dtype: float64"
      ]
     },
     "execution_count": 272,
     "metadata": {},
     "output_type": "execute_result"
    }
   ],
   "source": [
    "obj[2:4] # Series에서 index를 숫자로 줄수 있음"
   ]
  },
  {
   "cell_type": "code",
   "execution_count": 271,
   "id": "0cbc0646",
   "metadata": {
    "scrolled": true
   },
   "outputs": [
    {
     "data": {
      "text/plain": [
       "a    0.0\n",
       "b    1.0\n",
       "dtype: float64"
      ]
     },
     "execution_count": 271,
     "metadata": {},
     "output_type": "execute_result"
    }
   ],
   "source": [
    "obj[obj<2] # 2보다 작은 값"
   ]
  },
  {
   "cell_type": "code",
   "execution_count": 279,
   "id": "c98d76ff",
   "metadata": {
    "scrolled": true
   },
   "outputs": [],
   "source": [
    "data = pd.DataFrame(np.arange(16).reshape((4,4)) # 4행4열 16개\n",
    "                    , index=['Ohio','Colorado','Utah','New York'] # 행\n",
    "                    ,columns=['one','two','three','four']) # 열\n",
    "data.to_csv('f.csv') #파일저장되는곳에 f라는 이름으로 저장\n",
    "# 한국어 설정 encoding='utf-8'"
   ]
  },
  {
   "cell_type": "code",
   "execution_count": 280,
   "id": "3cbec265",
   "metadata": {
    "scrolled": true
   },
   "outputs": [
    {
     "data": {
      "text/html": [
       "<div>\n",
       "<style scoped>\n",
       "    .dataframe tbody tr th:only-of-type {\n",
       "        vertical-align: middle;\n",
       "    }\n",
       "\n",
       "    .dataframe tbody tr th {\n",
       "        vertical-align: top;\n",
       "    }\n",
       "\n",
       "    .dataframe thead th {\n",
       "        text-align: right;\n",
       "    }\n",
       "</style>\n",
       "<table border=\"1\" class=\"dataframe\">\n",
       "  <thead>\n",
       "    <tr style=\"text-align: right;\">\n",
       "      <th></th>\n",
       "      <th>one</th>\n",
       "      <th>two</th>\n",
       "      <th>three</th>\n",
       "      <th>four</th>\n",
       "    </tr>\n",
       "  </thead>\n",
       "  <tbody>\n",
       "    <tr>\n",
       "      <th>Ohio</th>\n",
       "      <td>0</td>\n",
       "      <td>1</td>\n",
       "      <td>2</td>\n",
       "      <td>3</td>\n",
       "    </tr>\n",
       "    <tr>\n",
       "      <th>Colorado</th>\n",
       "      <td>4</td>\n",
       "      <td>5</td>\n",
       "      <td>6</td>\n",
       "      <td>7</td>\n",
       "    </tr>\n",
       "    <tr>\n",
       "      <th>Utah</th>\n",
       "      <td>8</td>\n",
       "      <td>9</td>\n",
       "      <td>10</td>\n",
       "      <td>11</td>\n",
       "    </tr>\n",
       "    <tr>\n",
       "      <th>New York</th>\n",
       "      <td>12</td>\n",
       "      <td>13</td>\n",
       "      <td>14</td>\n",
       "      <td>15</td>\n",
       "    </tr>\n",
       "  </tbody>\n",
       "</table>\n",
       "</div>"
      ],
      "text/plain": [
       "          one  two  three  four\n",
       "Ohio        0    1      2     3\n",
       "Colorado    4    5      6     7\n",
       "Utah        8    9     10    11\n",
       "New York   12   13     14    15"
      ]
     },
     "execution_count": 280,
     "metadata": {},
     "output_type": "execute_result"
    }
   ],
   "source": [
    "data"
   ]
  },
  {
   "cell_type": "code",
   "execution_count": 542,
   "id": "b7a28e9b",
   "metadata": {},
   "outputs": [
    {
     "data": {
      "text/plain": [
       "{'국어': [70,\n",
       "  74,\n",
       "  60,\n",
       "  69,\n",
       "  70,\n",
       "  74,\n",
       "  53,\n",
       "  99,\n",
       "  68,\n",
       "  70,\n",
       "  57,\n",
       "  85,\n",
       "  70,\n",
       "  79,\n",
       "  79,\n",
       "  89,\n",
       "  84,\n",
       "  61,\n",
       "  86,\n",
       "  83,\n",
       "  70,\n",
       "  95,\n",
       "  61,\n",
       "  89,\n",
       "  84,\n",
       "  84,\n",
       "  95,\n",
       "  70,\n",
       "  71,\n",
       "  84,\n",
       "  58,\n",
       "  70,\n",
       "  87,\n",
       "  74,\n",
       "  52,\n",
       "  62,\n",
       "  62,\n",
       "  84,\n",
       "  59,\n",
       "  54,\n",
       "  78,\n",
       "  66,\n",
       "  63,\n",
       "  60,\n",
       "  90,\n",
       "  75,\n",
       "  81,\n",
       "  87,\n",
       "  77,\n",
       "  68,\n",
       "  65,\n",
       "  60,\n",
       "  99,\n",
       "  86,\n",
       "  95,\n",
       "  74,\n",
       "  67,\n",
       "  68,\n",
       "  63,\n",
       "  70,\n",
       "  51,\n",
       "  51,\n",
       "  92,\n",
       "  53,\n",
       "  81,\n",
       "  58,\n",
       "  65,\n",
       "  70,\n",
       "  65,\n",
       "  71,\n",
       "  95,\n",
       "  61,\n",
       "  95,\n",
       "  57,\n",
       "  74,\n",
       "  59,\n",
       "  83,\n",
       "  94,\n",
       "  51,\n",
       "  73,\n",
       "  64,\n",
       "  78,\n",
       "  54,\n",
       "  70,\n",
       "  71,\n",
       "  99,\n",
       "  65,\n",
       "  77,\n",
       "  58,\n",
       "  95,\n",
       "  83,\n",
       "  61,\n",
       "  66,\n",
       "  62,\n",
       "  59,\n",
       "  94,\n",
       "  83,\n",
       "  54,\n",
       "  93,\n",
       "  92],\n",
       " '수학': [74,\n",
       "  62,\n",
       "  99,\n",
       "  71,\n",
       "  66,\n",
       "  66,\n",
       "  52,\n",
       "  92,\n",
       "  60,\n",
       "  86,\n",
       "  85,\n",
       "  88,\n",
       "  95,\n",
       "  70,\n",
       "  53,\n",
       "  91,\n",
       "  65,\n",
       "  74,\n",
       "  93,\n",
       "  75,\n",
       "  75,\n",
       "  69,\n",
       "  51,\n",
       "  86,\n",
       "  54,\n",
       "  57,\n",
       "  97,\n",
       "  84,\n",
       "  89,\n",
       "  67,\n",
       "  53,\n",
       "  88,\n",
       "  65,\n",
       "  52,\n",
       "  84,\n",
       "  56,\n",
       "  66,\n",
       "  54,\n",
       "  88,\n",
       "  78,\n",
       "  72,\n",
       "  80,\n",
       "  90,\n",
       "  62,\n",
       "  89,\n",
       "  90,\n",
       "  58,\n",
       "  65,\n",
       "  75,\n",
       "  52,\n",
       "  91,\n",
       "  93,\n",
       "  72,\n",
       "  97,\n",
       "  68,\n",
       "  75,\n",
       "  88,\n",
       "  73,\n",
       "  80,\n",
       "  85,\n",
       "  61,\n",
       "  76,\n",
       "  51,\n",
       "  88,\n",
       "  68,\n",
       "  52,\n",
       "  95,\n",
       "  67,\n",
       "  65,\n",
       "  54,\n",
       "  70,\n",
       "  56,\n",
       "  57,\n",
       "  93,\n",
       "  68,\n",
       "  67,\n",
       "  78,\n",
       "  52,\n",
       "  99,\n",
       "  76,\n",
       "  65,\n",
       "  99,\n",
       "  83,\n",
       "  94,\n",
       "  60,\n",
       "  86,\n",
       "  97,\n",
       "  96,\n",
       "  60,\n",
       "  87,\n",
       "  80,\n",
       "  94,\n",
       "  78,\n",
       "  68,\n",
       "  79,\n",
       "  69,\n",
       "  97,\n",
       "  98,\n",
       "  82,\n",
       "  59],\n",
       " '영어': [58,\n",
       "  60,\n",
       "  86,\n",
       "  68,\n",
       "  78,\n",
       "  81,\n",
       "  85,\n",
       "  96,\n",
       "  74,\n",
       "  60,\n",
       "  57,\n",
       "  79,\n",
       "  67,\n",
       "  56,\n",
       "  75,\n",
       "  62,\n",
       "  95,\n",
       "  88,\n",
       "  62,\n",
       "  78,\n",
       "  88,\n",
       "  80,\n",
       "  54,\n",
       "  71,\n",
       "  81,\n",
       "  65,\n",
       "  97,\n",
       "  86,\n",
       "  97,\n",
       "  97,\n",
       "  92,\n",
       "  88,\n",
       "  80,\n",
       "  66,\n",
       "  91,\n",
       "  85,\n",
       "  71,\n",
       "  91,\n",
       "  54,\n",
       "  73,\n",
       "  83,\n",
       "  89,\n",
       "  86,\n",
       "  72,\n",
       "  60,\n",
       "  75,\n",
       "  83,\n",
       "  50,\n",
       "  95,\n",
       "  59,\n",
       "  53,\n",
       "  83,\n",
       "  89,\n",
       "  85,\n",
       "  53,\n",
       "  89,\n",
       "  74,\n",
       "  60,\n",
       "  64,\n",
       "  66,\n",
       "  91,\n",
       "  67,\n",
       "  75,\n",
       "  95,\n",
       "  61,\n",
       "  66,\n",
       "  56,\n",
       "  72,\n",
       "  90,\n",
       "  51,\n",
       "  72,\n",
       "  64,\n",
       "  78,\n",
       "  88,\n",
       "  92,\n",
       "  77,\n",
       "  79,\n",
       "  89,\n",
       "  57,\n",
       "  92,\n",
       "  85,\n",
       "  95,\n",
       "  84,\n",
       "  72,\n",
       "  69,\n",
       "  85,\n",
       "  75,\n",
       "  85,\n",
       "  77,\n",
       "  70,\n",
       "  84,\n",
       "  86,\n",
       "  52,\n",
       "  92,\n",
       "  68,\n",
       "  87,\n",
       "  62,\n",
       "  91,\n",
       "  92,\n",
       "  60]}"
      ]
     },
     "execution_count": 542,
     "metadata": {},
     "output_type": "execute_result"
    }
   ],
   "source": [
    "obj={}\n",
    "obj['국어']=[np.random.randint(50,100) for i in range(100)]\n",
    "obj['수학']=[np.random.randint(50,100) for i in range(100)]\n",
    "obj['영어']=[np.random.randint(50,100) for i in range(100)]\n",
    "#obj의 총점, 평균 ,등급을 구하고 DataFrame으로 변환후 csv 파일로 저장\n",
    "obj"
   ]
  },
  {
   "cell_type": "code",
   "execution_count": 456,
   "id": "6d0e2cae",
   "metadata": {
    "scrolled": false
   },
   "outputs": [
    {
     "data": {
      "text/plain": [
       "{'총점': [207,\n",
       "  199,\n",
       "  193,\n",
       "  249,\n",
       "  252,\n",
       "  219,\n",
       "  250,\n",
       "  265,\n",
       "  193,\n",
       "  215,\n",
       "  233,\n",
       "  240,\n",
       "  268,\n",
       "  206,\n",
       "  206,\n",
       "  248,\n",
       "  217,\n",
       "  247,\n",
       "  220,\n",
       "  221,\n",
       "  212,\n",
       "  210,\n",
       "  205,\n",
       "  242,\n",
       "  214,\n",
       "  192,\n",
       "  193,\n",
       "  196,\n",
       "  260,\n",
       "  218,\n",
       "  216,\n",
       "  238,\n",
       "  188,\n",
       "  245,\n",
       "  243,\n",
       "  264,\n",
       "  246,\n",
       "  217,\n",
       "  210,\n",
       "  263,\n",
       "  223,\n",
       "  249,\n",
       "  265,\n",
       "  190,\n",
       "  204,\n",
       "  233,\n",
       "  223,\n",
       "  208,\n",
       "  260,\n",
       "  208,\n",
       "  235,\n",
       "  218,\n",
       "  221,\n",
       "  269,\n",
       "  240,\n",
       "  244,\n",
       "  210,\n",
       "  261,\n",
       "  185,\n",
       "  224,\n",
       "  211,\n",
       "  186,\n",
       "  249,\n",
       "  226,\n",
       "  239,\n",
       "  230,\n",
       "  218,\n",
       "  244,\n",
       "  233,\n",
       "  231,\n",
       "  182,\n",
       "  182,\n",
       "  226,\n",
       "  266,\n",
       "  230,\n",
       "  233,\n",
       "  246,\n",
       "  237,\n",
       "  233,\n",
       "  213,\n",
       "  199,\n",
       "  210,\n",
       "  212,\n",
       "  254,\n",
       "  239,\n",
       "  256,\n",
       "  220,\n",
       "  224,\n",
       "  235,\n",
       "  261,\n",
       "  253,\n",
       "  227,\n",
       "  245,\n",
       "  203,\n",
       "  184,\n",
       "  227,\n",
       "  239,\n",
       "  226,\n",
       "  216,\n",
       "  179],\n",
       " '평균': [69.0,\n",
       "  66.33333333333333,\n",
       "  64.33333333333333,\n",
       "  83.0,\n",
       "  84.0,\n",
       "  73.0,\n",
       "  83.33333333333333,\n",
       "  88.33333333333333,\n",
       "  64.33333333333333,\n",
       "  71.66666666666667,\n",
       "  77.66666666666667,\n",
       "  80.0,\n",
       "  89.33333333333333,\n",
       "  68.66666666666667,\n",
       "  68.66666666666667,\n",
       "  82.66666666666667,\n",
       "  72.33333333333333,\n",
       "  82.33333333333333,\n",
       "  73.33333333333333,\n",
       "  73.66666666666667,\n",
       "  70.66666666666667,\n",
       "  70.0,\n",
       "  68.33333333333333,\n",
       "  80.66666666666667,\n",
       "  71.33333333333333,\n",
       "  64.0,\n",
       "  64.33333333333333,\n",
       "  65.33333333333333,\n",
       "  86.66666666666667,\n",
       "  72.66666666666667,\n",
       "  72.0,\n",
       "  79.33333333333333,\n",
       "  62.666666666666664,\n",
       "  81.66666666666667,\n",
       "  81.0,\n",
       "  88.0,\n",
       "  82.0,\n",
       "  72.33333333333333,\n",
       "  70.0,\n",
       "  87.66666666666667,\n",
       "  74.33333333333333,\n",
       "  83.0,\n",
       "  88.33333333333333,\n",
       "  63.333333333333336,\n",
       "  68.0,\n",
       "  77.66666666666667,\n",
       "  74.33333333333333,\n",
       "  69.33333333333333,\n",
       "  86.66666666666667,\n",
       "  69.33333333333333,\n",
       "  78.33333333333333,\n",
       "  72.66666666666667,\n",
       "  73.66666666666667,\n",
       "  89.66666666666667,\n",
       "  80.0,\n",
       "  81.33333333333333,\n",
       "  70.0,\n",
       "  87.0,\n",
       "  61.666666666666664,\n",
       "  74.66666666666667,\n",
       "  70.33333333333333,\n",
       "  62.0,\n",
       "  83.0,\n",
       "  75.33333333333333,\n",
       "  79.66666666666667,\n",
       "  76.66666666666667,\n",
       "  72.66666666666667,\n",
       "  81.33333333333333,\n",
       "  77.66666666666667,\n",
       "  77.0,\n",
       "  60.666666666666664,\n",
       "  60.666666666666664,\n",
       "  75.33333333333333,\n",
       "  88.66666666666667,\n",
       "  76.66666666666667,\n",
       "  77.66666666666667,\n",
       "  82.0,\n",
       "  79.0,\n",
       "  77.66666666666667,\n",
       "  71.0,\n",
       "  66.33333333333333,\n",
       "  70.0,\n",
       "  70.66666666666667,\n",
       "  84.66666666666667,\n",
       "  79.66666666666667,\n",
       "  85.33333333333333,\n",
       "  73.33333333333333,\n",
       "  74.66666666666667,\n",
       "  78.33333333333333,\n",
       "  87.0,\n",
       "  84.33333333333333,\n",
       "  75.66666666666667,\n",
       "  81.66666666666667,\n",
       "  67.66666666666667,\n",
       "  61.333333333333336,\n",
       "  75.66666666666667,\n",
       "  79.66666666666667,\n",
       "  75.33333333333333,\n",
       "  72.0,\n",
       "  59.666666666666664],\n",
       " '등급': ['양',\n",
       "  '양',\n",
       "  '양',\n",
       "  '우',\n",
       "  '우',\n",
       "  '미',\n",
       "  '우',\n",
       "  '우',\n",
       "  '양',\n",
       "  '미',\n",
       "  '미',\n",
       "  '우',\n",
       "  '우',\n",
       "  '양',\n",
       "  '양',\n",
       "  '우',\n",
       "  '미',\n",
       "  '우',\n",
       "  '미',\n",
       "  '미',\n",
       "  '미',\n",
       "  '미',\n",
       "  '양',\n",
       "  '우',\n",
       "  '미',\n",
       "  '양',\n",
       "  '양',\n",
       "  '양',\n",
       "  '우',\n",
       "  '미',\n",
       "  '미',\n",
       "  '미',\n",
       "  '양',\n",
       "  '우',\n",
       "  '우',\n",
       "  '우',\n",
       "  '우',\n",
       "  '미',\n",
       "  '미',\n",
       "  '우',\n",
       "  '미',\n",
       "  '우',\n",
       "  '우',\n",
       "  '양',\n",
       "  '양',\n",
       "  '미',\n",
       "  '미',\n",
       "  '양',\n",
       "  '우',\n",
       "  '양',\n",
       "  '미',\n",
       "  '미',\n",
       "  '미',\n",
       "  '우',\n",
       "  '우',\n",
       "  '우',\n",
       "  '미',\n",
       "  '우',\n",
       "  '양',\n",
       "  '미',\n",
       "  '미',\n",
       "  '양',\n",
       "  '우',\n",
       "  '미',\n",
       "  '미',\n",
       "  '미',\n",
       "  '미',\n",
       "  '우',\n",
       "  '미',\n",
       "  '미',\n",
       "  '양',\n",
       "  '양',\n",
       "  '미',\n",
       "  '우',\n",
       "  '미',\n",
       "  '미',\n",
       "  '우',\n",
       "  '미',\n",
       "  '미',\n",
       "  '미',\n",
       "  '양',\n",
       "  '미',\n",
       "  '미',\n",
       "  '우',\n",
       "  '미',\n",
       "  '우',\n",
       "  '미',\n",
       "  '미',\n",
       "  '미',\n",
       "  '우',\n",
       "  '우',\n",
       "  '미',\n",
       "  '우',\n",
       "  '양',\n",
       "  '양',\n",
       "  '미',\n",
       "  '미',\n",
       "  '미',\n",
       "  '미',\n",
       "  '가']}"
      ]
     },
     "execution_count": 456,
     "metadata": {},
     "output_type": "execute_result"
    }
   ],
   "source": [
    "obj_dict={'총점':[],'평균':[],'등급':[]}\n",
    "sum_ =0\n",
    "for i,j,k in zip(obj['국어'],obj['수학'],obj['영어']):\n",
    "    sum_ = (i+j+k)\n",
    "    obj_dict['총점'].append(sum_)\n",
    "avg_ =0\n",
    "for i in obj_dict['총점']:\n",
    "    avg_ = i/3\n",
    "    obj_dict['평균'].append(avg_)\n",
    "for i in obj_dict['평균']:\n",
    "    obj_dict['등급'].append(calc_grade(i))\n",
    "obj_dict"
   ]
  },
  {
   "cell_type": "code",
   "execution_count": 539,
   "id": "8308bbf6",
   "metadata": {
    "scrolled": true
   },
   "outputs": [],
   "source": [
    "df = pd.DataFrame(obj_dict)\n",
    "df.to_csv('score_test.csv', encoding='euc-kr')"
   ]
  },
  {
   "cell_type": "code",
   "execution_count": 431,
   "id": "c7eb4759",
   "metadata": {},
   "outputs": [],
   "source": [
    "def calc_grade(x):\n",
    "    grade_ =\"\"\n",
    "    if x>=90:\n",
    "        grade_ =\"수\"\n",
    "    elif x>=80:\n",
    "        grade_ =\"우\"\n",
    "    elif x>=70:\n",
    "        grade_ =\"미\"\n",
    "    elif x>=60:\n",
    "        grade_ =\"양\"\n",
    "    else: grade_ =\"가\"\n",
    "    return grade_"
   ]
  },
  {
   "cell_type": "code",
   "execution_count": 543,
   "id": "0eaf1908",
   "metadata": {},
   "outputs": [],
   "source": [
    "obj['총점'] = [k+m+e for k,m,e in zip(obj['국어'],obj['수학'],obj['영어'])]\n",
    "obj['평균'] = list(map(lambda x: x/3.0, obj['총점']))\n",
    "obj['등급'] = list(map(calc_grade, obj['평균']))\n",
    "df = pd.DataFrame(obj)\n",
    "df.to_csv('score.csv', encoding='euc-kr')"
   ]
  },
  {
   "cell_type": "code",
   "execution_count": 529,
   "id": "37487432",
   "metadata": {
    "scrolled": true
   },
   "outputs": [
    {
     "data": {
      "text/html": [
       "<div>\n",
       "<style scoped>\n",
       "    .dataframe tbody tr th:only-of-type {\n",
       "        vertical-align: middle;\n",
       "    }\n",
       "\n",
       "    .dataframe tbody tr th {\n",
       "        vertical-align: top;\n",
       "    }\n",
       "\n",
       "    .dataframe thead th {\n",
       "        text-align: right;\n",
       "    }\n",
       "</style>\n",
       "<table border=\"1\" class=\"dataframe\">\n",
       "  <thead>\n",
       "    <tr style=\"text-align: right;\">\n",
       "      <th></th>\n",
       "      <th>a</th>\n",
       "      <th>b</th>\n",
       "      <th>c</th>\n",
       "      <th>k</th>\n",
       "    </tr>\n",
       "  </thead>\n",
       "  <tbody>\n",
       "    <tr>\n",
       "      <th>0</th>\n",
       "      <td>1</td>\n",
       "      <td>4</td>\n",
       "      <td>5</td>\n",
       "      <td>False</td>\n",
       "    </tr>\n",
       "    <tr>\n",
       "      <th>1</th>\n",
       "      <td>2</td>\n",
       "      <td>5</td>\n",
       "      <td>7</td>\n",
       "      <td>False</td>\n",
       "    </tr>\n",
       "    <tr>\n",
       "      <th>2</th>\n",
       "      <td>3</td>\n",
       "      <td>6</td>\n",
       "      <td>9</td>\n",
       "      <td>True</td>\n",
       "    </tr>\n",
       "    <tr>\n",
       "      <th>3</th>\n",
       "      <td>11</td>\n",
       "      <td>1</td>\n",
       "      <td>12</td>\n",
       "      <td>True</td>\n",
       "    </tr>\n",
       "    <tr>\n",
       "      <th>4</th>\n",
       "      <td>28</td>\n",
       "      <td>2</td>\n",
       "      <td>30</td>\n",
       "      <td>True</td>\n",
       "    </tr>\n",
       "  </tbody>\n",
       "</table>\n",
       "</div>"
      ],
      "text/plain": [
       "    a  b   c      k\n",
       "0   1  4   5  False\n",
       "1   2  5   7  False\n",
       "2   3  6   9   True\n",
       "3  11  1  12   True\n",
       "4  28  2  30   True"
      ]
     },
     "execution_count": 529,
     "metadata": {},
     "output_type": "execute_result"
    }
   ],
   "source": [
    "obj={}\n",
    "obj['a']=[1,2,3,11,28]\n",
    "obj['b']=[4,5,6,1,2]\n",
    "# 문제1) obj의 a와 b의 각각의 요소의 합을 구해서 obj 'c'에 저장\n",
    "sum_c_list=[]\n",
    "for i,j in zip(obj['a'],obj['b']):\n",
    "    sum_c_list.append(i+j)\n",
    "obj['c']= sum_c_list\n",
    "obj \n",
    "\n",
    "# 문제 2) obj={'k':[False,False,True]}\n",
    "k_list=[]\n",
    "for i in obj['c']:\n",
    "    if i>7 :\n",
    "        k_list.append(True)\n",
    "    else:\n",
    "        k_list.append(False)\n",
    "    obj['k']= k_list\n",
    "# obj\n",
    "pd.DataFrame(obj)"
   ]
  },
  {
   "cell_type": "code",
   "execution_count": 520,
   "id": "abe9ff30",
   "metadata": {},
   "outputs": [],
   "source": [
    "def is_true(x):\n",
    "    if x>7: return True\n",
    "    else : return False"
   ]
  },
  {
   "cell_type": "code",
   "execution_count": 528,
   "id": "957d1c3c",
   "metadata": {
    "scrolled": true
   },
   "outputs": [
    {
     "data": {
      "text/html": [
       "<div>\n",
       "<style scoped>\n",
       "    .dataframe tbody tr th:only-of-type {\n",
       "        vertical-align: middle;\n",
       "    }\n",
       "\n",
       "    .dataframe tbody tr th {\n",
       "        vertical-align: top;\n",
       "    }\n",
       "\n",
       "    .dataframe thead th {\n",
       "        text-align: right;\n",
       "    }\n",
       "</style>\n",
       "<table border=\"1\" class=\"dataframe\">\n",
       "  <thead>\n",
       "    <tr style=\"text-align: right;\">\n",
       "      <th></th>\n",
       "      <th>a</th>\n",
       "      <th>b</th>\n",
       "      <th>c</th>\n",
       "      <th>k</th>\n",
       "    </tr>\n",
       "  </thead>\n",
       "  <tbody>\n",
       "    <tr>\n",
       "      <th>0</th>\n",
       "      <td>1</td>\n",
       "      <td>4</td>\n",
       "      <td>5</td>\n",
       "      <td>False</td>\n",
       "    </tr>\n",
       "    <tr>\n",
       "      <th>1</th>\n",
       "      <td>2</td>\n",
       "      <td>5</td>\n",
       "      <td>7</td>\n",
       "      <td>False</td>\n",
       "    </tr>\n",
       "    <tr>\n",
       "      <th>2</th>\n",
       "      <td>3</td>\n",
       "      <td>6</td>\n",
       "      <td>9</td>\n",
       "      <td>True</td>\n",
       "    </tr>\n",
       "    <tr>\n",
       "      <th>3</th>\n",
       "      <td>11</td>\n",
       "      <td>1</td>\n",
       "      <td>12</td>\n",
       "      <td>True</td>\n",
       "    </tr>\n",
       "    <tr>\n",
       "      <th>4</th>\n",
       "      <td>28</td>\n",
       "      <td>2</td>\n",
       "      <td>30</td>\n",
       "      <td>True</td>\n",
       "    </tr>\n",
       "  </tbody>\n",
       "</table>\n",
       "</div>"
      ],
      "text/plain": [
       "    a  b   c      k\n",
       "0   1  4   5  False\n",
       "1   2  5   7  False\n",
       "2   3  6   9   True\n",
       "3  11  1  12   True\n",
       "4  28  2  30   True"
      ]
     },
     "execution_count": 528,
     "metadata": {},
     "output_type": "execute_result"
    }
   ],
   "source": [
    "obj['k'] = list(map(lambda x_ : is_true(x_), sum_c_list)) \n",
    "# list_에서 하나씩 꺼내서 is_true에 전달함\n",
    "pd.DataFrame(obj)\n",
    "#반복되는 코드를 여러곳에서 사용하고 있으면 각각의 사용되는곳을 다 찾아서 수정해줘야하므로\n",
    "#동일한 코드를 재활용하기 위해 함수를 만들어서 재활용하면 그 함수에서만 수정하면 됨"
   ]
  },
  {
   "cell_type": "code",
   "execution_count": 544,
   "id": "dcd92ebf",
   "metadata": {
    "scrolled": true
   },
   "outputs": [
    {
     "name": "stdout",
     "output_type": "stream",
     "text": [
      "(1, 11, 23, 13) 189\n",
      "(2, 5, 6, 34) 2\n",
      "(11, 23, 3, 5) 19\n",
      "(11, 143, 12) 2\n",
      "(28, 19, 23, 45, 67) 400\n"
     ]
    },
    {
     "data": {
      "text/plain": [
       "{'a': [(1, 11, 23, 13, 189),\n",
       "  (2, 5, 6, 34, 2),\n",
       "  (11, 23, 3, 5, 19),\n",
       "  (11, 143, 12, 2),\n",
       "  (28, 19, 23, 45, 67, 400)],\n",
       " 'k': [False, True, True, True, False]}"
      ]
     },
     "execution_count": 544,
     "metadata": {},
     "output_type": "execute_result"
    }
   ],
   "source": [
    "obj={}\n",
    "obj['a']=[(1,11,23,13,189),(2,5,6,34,2),(11,23,3,5,19),(11,143,12,2),(28,19,23,45,67,400)]\n",
    "\n",
    "def is_true1(x,v):\n",
    "    print(x,v)\n",
    "    sum_=0\n",
    "    for i in x:\n",
    "        sum_ +=i\n",
    "    if sum_>v: return True\n",
    "    else : return False\n",
    "\n",
    "obj['k'] = list(map(lambda x_ : is_true1(x_[:-1],v=x_[-1]), obj['a']))\n",
    "obj"
   ]
  },
  {
   "cell_type": "code",
   "execution_count": 545,
   "id": "305cb998",
   "metadata": {
    "scrolled": false
   },
   "outputs": [
    {
     "name": "stdout",
     "output_type": "stream",
     "text": [
      "[1, 2, 3, 4] 5\n"
     ]
    }
   ],
   "source": [
    "arr=[1,2,3,4,5]\n",
    "print(arr[:-1],arr[-1])"
   ]
  },
  {
   "cell_type": "code",
   "execution_count": 547,
   "id": "9fa1c814",
   "metadata": {
    "scrolled": true
   },
   "outputs": [
    {
     "name": "stdout",
     "output_type": "stream",
     "text": [
      "3 2\n"
     ]
    }
   ],
   "source": [
    "left, right = 5//2+1, 5//2\n",
    "print(left, right)"
   ]
  },
  {
   "cell_type": "code",
   "execution_count": 616,
   "id": "ae86cb3b",
   "metadata": {
    "scrolled": true
   },
   "outputs": [
    {
     "name": "stdout",
     "output_type": "stream",
     "text": [
      "2\n",
      "3\n"
     ]
    },
    {
     "data": {
      "text/plain": [
       "[[(2, 34), (2, 4)], [(1, 2, 3), (4, 5)]]"
      ]
     },
     "execution_count": 616,
     "metadata": {},
     "output_type": "execute_result"
    }
   ],
   "source": [
    "arr=[(2,34,2,4),(1,2,3,4,5)]\n",
    "list(map(f_split, arr))"
   ]
  },
  {
   "cell_type": "code",
   "execution_count": 618,
   "id": "dc44c179",
   "metadata": {},
   "outputs": [],
   "source": [
    "def f_split(x):\n",
    "    sum_=0\n",
    "    len_x = len(x)\n",
    "    if len_x%2==0:\n",
    "        len_x_half = int(len_x/2)\n",
    "    else:\n",
    "        len_x_half = int(len_x//2+1)\n",
    "    return [x[:len_x_half],x[len_x_half:]]"
   ]
  },
  {
   "cell_type": "code",
   "execution_count": 619,
   "id": "2908683b",
   "metadata": {},
   "outputs": [],
   "source": [
    "def is_ture_split(x):\n",
    "    sum_l=0\n",
    "    sum_r=0\n",
    "    for i in x[0]:\n",
    "        sum_l += i\n",
    "    for i in x[1]:\n",
    "        sum_r += i\n",
    "    if sum_l > sum_r : return True\n",
    "    else: return False"
   ]
  },
  {
   "cell_type": "code",
   "execution_count": 621,
   "id": "b47770a4",
   "metadata": {
    "scrolled": true
   },
   "outputs": [
    {
     "data": {
      "text/plain": [
       "[[(1, 11, 23), (13, 189)],\n",
       " [(2, 5, 6), (34, 2)],\n",
       " [(11, 23, 3), (5, 19)],\n",
       " [(11, 143), (12, 2)],\n",
       " [(28, 19, 23), (45, 67, 400)],\n",
       " [(11, 11, 23, 13, 189), (22, 5, 16, 34, 2)]]"
      ]
     },
     "execution_count": 621,
     "metadata": {},
     "output_type": "execute_result"
    }
   ],
   "source": [
    "obj={}\n",
    "obj['a']=[(1,11,23,13,189),(2,5,6,34,2),(11,23,3,5,19),(11,143,12,2),(28,19,23,45,67,400),\n",
    "         (11,11,23,13,189,22,5,16,34,2)]\n",
    "split_data = list(map(f_split, obj['a']))\n",
    "split_data"
   ]
  },
  {
   "cell_type": "code",
   "execution_count": 622,
   "id": "830cdde2",
   "metadata": {
    "scrolled": true
   },
   "outputs": [
    {
     "data": {
      "text/plain": [
       "[False, False, True, True, False, True]"
      ]
     },
     "execution_count": 622,
     "metadata": {},
     "output_type": "execute_result"
    }
   ],
   "source": [
    "list(map(is_ture_split, split_data))"
   ]
  },
  {
   "cell_type": "code",
   "execution_count": 733,
   "id": "959f0825",
   "metadata": {},
   "outputs": [],
   "source": [
    "arr_list=[{\"v\":[1,2,3],\"w\":[4,5,6]},\n",
    " {\"v\":[2,3,4,5],\"w\":[2,4,8]},\n",
    " {\"v\":[2,8,10,6,9],\"w\":[5,1,8]},\n",
    " {\"v\":[1,3,2],\"w\":[1,2,3]}]"
   ]
  },
  {
   "cell_type": "code",
   "execution_count": 744,
   "id": "48f72e75",
   "metadata": {},
   "outputs": [],
   "source": [
    "def sum_arr_one(x):\n",
    "    sum_v=0\n",
    "    for i in x:\n",
    "        sum_v += i\n",
    "    return sum_v"
   ]
  },
  {
   "cell_type": "code",
   "execution_count": 745,
   "id": "90982bf3",
   "metadata": {
    "scrolled": true
   },
   "outputs": [
    {
     "data": {
      "text/plain": [
       "{'v': [6, 14, 35, 6], 'w': [15, 14, 14, 6]}"
      ]
     },
     "execution_count": 745,
     "metadata": {},
     "output_type": "execute_result"
    }
   ],
   "source": [
    "obj={}\n",
    "list_v=map(lambda x_ : x_['v'], arr_list)\n",
    "list_w=map(lambda x_ : x_['w'], arr_list)\n",
    "obj['v'] =[sum_arr_one(i) for i in list_v]\n",
    "obj['w'] =[sum_arr_one(i) for i in list_w]\n",
    "obj"
   ]
  },
  {
   "cell_type": "code",
   "execution_count": 746,
   "id": "7eca8211",
   "metadata": {},
   "outputs": [],
   "source": [
    "data=[{\"v\":2},\n",
    "     {\"v\":7},\n",
    "     {\"v\":11},\n",
    "     {\"v\":19},\n",
    "     {\"v\":3}]"
   ]
  },
  {
   "cell_type": "code",
   "execution_count": 750,
   "id": "673224a1",
   "metadata": {
    "scrolled": false
   },
   "outputs": [
    {
     "data": {
      "text/plain": [
       "[2, 7, 11, 19, 3]"
      ]
     },
     "execution_count": 750,
     "metadata": {},
     "output_type": "execute_result"
    }
   ],
   "source": [
    "list(map(lambda i : i[\"v\"] , data))"
   ]
  },
  {
   "cell_type": "code",
   "execution_count": 752,
   "id": "6890c184",
   "metadata": {},
   "outputs": [],
   "source": [
    "data=[[[1,2],[2,3]],\n",
    "     [[2,4],[5,6]],\n",
    "     [[1,7],[1,8]]]"
   ]
  },
  {
   "cell_type": "code",
   "execution_count": 754,
   "id": "0d0d46b9",
   "metadata": {
    "scrolled": true
   },
   "outputs": [
    {
     "data": {
      "text/plain": [
       "[[1, 2], [2, 4], [1, 7]]"
      ]
     },
     "execution_count": 754,
     "metadata": {},
     "output_type": "execute_result"
    }
   ],
   "source": [
    "list(map(lambda i : i[0], data))"
   ]
  },
  {
   "cell_type": "code",
   "execution_count": 755,
   "id": "8d49d239",
   "metadata": {
    "scrolled": true
   },
   "outputs": [
    {
     "data": {
      "text/plain": [
       "[{'name': ['홍길동1', '김말자5', '김개똥9'], 'age': [23, 45, 56]},\n",
       " {'name': ['홍길동2', '김말자6', '김개똥10'], 'age': [27, 48, 561]},\n",
       " {'name': ['홍길동3', '김말자7', '김개똥11'], 'age': [231, 451, 561]},\n",
       " {'name': ['홍길동4', '김말자8', '김개똥12'], 'age': [123, 415, 516]}]"
      ]
     },
     "execution_count": 755,
     "metadata": {},
     "output_type": "execute_result"
    }
   ],
   "source": [
    "data1=[\n",
    "    [\n",
    "        {\"name\":['홍길동1','김말자5','김개똥9'],'age':[23,45,56]}, \n",
    "        {\"name\":['홍길동2','김말자6','김개똥10'],'age':[27,48,561]}, \n",
    "        {\"name\":['홍길동3','김말자7','김개똥11'],'age':[231,451,561]}, \n",
    "        {\"name\":['홍길동4','김말자8','김개똥12'],'age':[123,415,516]} \n",
    "    ],\n",
    "    [\n",
    "        {\"name\":['홍길동11','김말자25','김개똥91'],'age':[23,45,56]}, \n",
    "        {\"name\":['홍길동12','김말자26','김개똥101'],'age':[227,428,5261]}, \n",
    "        {\"name\":['홍길동13','김말자27','김개똥111'],'age':[2231,4251,561]}, \n",
    "        {\"name\":['홍길동14','김말자28','김개똥121'],'age':[1223,4215,5216]} \n",
    "    ],\n",
    "    [\n",
    "        {\"name\":['홍길동21','김말자55','김개똥91'],'age':[232,452,569]}, \n",
    "        {\"name\":['홍길동22','김말자56','김개똥1110'],'age':[227,498,591]}, \n",
    "        {\"name\":['홍길동23','김말자57','김개똥1111'],'age':[231,4951,561]}, \n",
    "        {\"name\":['홍길동24','김말자58','김개똥1112'],'age':[9,4915,5916]} \n",
    "    ],\n",
    "    \n",
    "]\n",
    "data1[0]\n",
    "# {'홍길동':[1,2,3,4,11,12,13,14,21,22,23,24],\n",
    "# '김말자':[ 다음숫자 추출],\n",
    "# '김개똥':[다음숫자 추출],}"
   ]
  },
  {
   "cell_type": "code",
   "execution_count": 936,
   "id": "d5d3665e",
   "metadata": {
    "scrolled": true
   },
   "outputs": [
    {
     "data": {
      "text/plain": [
       "{'홍길동': ['1', '2', '3', '4', '11', '12', '13', '14', '21', '22', '23', '24'],\n",
       " '김말자': ['5', '6', '7', '8', '25', '26', '27', '28', '55', '56', '57', '58'],\n",
       " '김개똥': ['9',\n",
       "  '10',\n",
       "  '11',\n",
       "  '12',\n",
       "  '91',\n",
       "  '101',\n",
       "  '111',\n",
       "  '121',\n",
       "  '91',\n",
       "  '1110',\n",
       "  '1111',\n",
       "  '1112'],\n",
       " 'age1': 124,\n",
       " 'age2': 636,\n",
       " 'age3': 1243,\n",
       " 'age4': 1054,\n",
       " 'age5': 124,\n",
       " 'age6': 5916,\n",
       " 'age7': 7043,\n",
       " 'age8': 10654,\n",
       " 'age9': 1253,\n",
       " 'age10': 1316,\n",
       " 'age11': 5743,\n",
       " 'age12': 10840}"
      ]
     },
     "execution_count": 936,
     "metadata": {},
     "output_type": "execute_result"
    }
   ],
   "source": [
    "sum_=\"\"\n",
    "age_=0\n",
    "data_dict={'홍길동':[],'김말자':[],'김개똥':[]}\n",
    "for i in data1:\n",
    "    for j in i:\n",
    "        sum_ = j['name'][0][3:]\n",
    "        data_dict['홍길동'].append(sum_)\n",
    "        sum_ = j['name'][1][3:]\n",
    "        data_dict['김말자'].append(sum_)\n",
    "        sum_ = j['name'][2][3:]\n",
    "        data_dict['김개똥'].append(sum_)\n",
    "        data_dict['age'+str(age_+1)] = sum(j['age'])\n",
    "        age_ +=1\n",
    "data_dict"
   ]
  },
  {
   "cell_type": "code",
   "execution_count": 938,
   "id": "2fc8eac7",
   "metadata": {
    "scrolled": false
   },
   "outputs": [
    {
     "data": {
      "text/plain": [
       "{'홍길동': [1, 2, 3, 4, 11, 12, 13, 14, 21, 22, 23, 24],\n",
       " '김말자': [5, 6, 7, 8, 25, 26, 27, 28, 55, 56, 57, 58],\n",
       " '김개똥': [9, 10, 11, 12, 91, 101, 111, 121, 91, 1110, 1111, 1112],\n",
       " 'age_1': 124,\n",
       " 'age_2': 636,\n",
       " 'age_3': 1243,\n",
       " 'age_4': 1054,\n",
       " 'age_5': 124,\n",
       " 'age_6': 5916,\n",
       " 'age_7': 7043,\n",
       " 'age_8': 10654,\n",
       " 'age_9': 1253,\n",
       " 'age_10': 1316,\n",
       " 'age_11': 5743,\n",
       " 'age_12': 10840}"
      ]
     },
     "execution_count": 938,
     "metadata": {},
     "output_type": "execute_result"
    }
   ],
   "source": [
    "obj={}\n",
    "cnt=0\n",
    "for i in data1: #2차원 리스트에서 하나씩 꺼내면 1차원 리스트\n",
    "    for j in i: #1차원 리스트에서 하나씩 꺼내면 dictoinary\n",
    "        for k, v in j.items(): #dictionary에서 items 호출하면 k에는 각 dictionary의 key, v에는 calue\n",
    "            if k=='age': #key가 age 일 경우 각 리스트의 총합을 구하는데 key를 분류하기 위해\n",
    "                obj['age_'+str(cnt+1)] =sum(v)\n",
    "                cnt+=1\n",
    "            else: #key가 age가 아닐경우 name\n",
    "                for name_v in v: # value에서 하나씩 꺼내어\n",
    "                    key_name = name_v[:3] # 앞의 이름 3개를 잘라서\n",
    "                    if key_name not in obj.keys(): #obj 객체에 key가 없으면\n",
    "                        obj[key_name]=[] # value를 빈 list로 하고\n",
    "                    obj[key_name].append(int(name_v[3:])) #그렇지 않으면 빈 리스트에 숫자를 잘라서 정수로\n",
    "                    # 변환한후 추가\n",
    "obj"
   ]
  },
  {
   "cell_type": "code",
   "execution_count": 951,
   "id": "6f5338c7",
   "metadata": {},
   "outputs": [
    {
     "data": {
      "text/plain": [
       "[1, 2, 3, 4]"
      ]
     },
     "execution_count": 951,
     "metadata": {},
     "output_type": "execute_result"
    }
   ],
   "source": [
    "str_int=[\"1\",\"2\",\"3\",\"4\"]\n",
    "list(map(int, str_int))"
   ]
  }
 ],
 "metadata": {
  "kernelspec": {
   "display_name": "Python 3 (ipykernel)",
   "language": "python",
   "name": "python3"
  },
  "language_info": {
   "codemirror_mode": {
    "name": "ipython",
    "version": 3
   },
   "file_extension": ".py",
   "mimetype": "text/x-python",
   "name": "python",
   "nbconvert_exporter": "python",
   "pygments_lexer": "ipython3",
   "version": "3.11.4"
  }
 },
 "nbformat": 4,
 "nbformat_minor": 5
}
