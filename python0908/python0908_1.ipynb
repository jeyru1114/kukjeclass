{
 "cells": [
  {
   "cell_type": "markdown",
   "id": "ce176cc5",
   "metadata": {},
   "source": [
    "## Softmax\n",
    "\n",
    "$$  \\begin{eqnarray}\n",
    "\\sigma(y_{i}) = \\left(\\frac{e^{y_{i}}}{ \\sum\\limits_{j} e^{y_{j}}}\\right)\n",
    "j = 1,...,n\n",
    "\\end{eqnarray} $$\n",
    "\n",
    "\n",
    "Normalization and Probabilities with $\\sigma(y_{i})$\n",
    "\n",
    "$$ \\begin{eqnarray}\n",
    "y \\rightarrow \n",
    "\\begin{bmatrix}{2.}\\\\{1.}\\\\{0.1}\\end{bmatrix} \n",
    "\\longrightarrow\n",
    "\\left[\\frac{e^{y_{i}}}{ \\sum\\limits_{j} e^{y_{j}}}\\right]\n",
    "\\longrightarrow\n",
    "\\begin{bmatrix}{0.7}\\\\{0.2}\\\\{0.1}\\end{bmatrix} \n",
    "= 1\n",
    "\\end{eqnarray}\n",
    " $$"
   ]
  },
  {
   "cell_type": "markdown",
   "id": "c4af671f",
   "metadata": {},
   "source": [
    "<a href=\"https://syj9700.tistory.com/38\"/>Softmax</a>"
   ]
  },
  {
   "cell_type": "code",
   "execution_count": 4,
   "id": "be83ec7f",
   "metadata": {},
   "outputs": [],
   "source": [
    "import numpy as np"
   ]
  },
  {
   "cell_type": "code",
   "execution_count": 40,
   "id": "2c008ba7",
   "metadata": {},
   "outputs": [
    {
     "data": {
      "text/plain": [
       "[0.6590011388859679, 0.2424329707047139, 0.09856589040931818]"
      ]
     },
     "execution_count": 40,
     "metadata": {},
     "output_type": "execute_result"
    }
   ],
   "source": [
    "data = np.array([2.0,1.0,0.1])\n",
    "denominator = sum(np.exp(data))\n",
    "[np.exp(i)/denominator for i in data]"
   ]
  },
  {
   "cell_type": "code",
   "execution_count": 13,
   "id": "170ac2d3",
   "metadata": {},
   "outputs": [
    {
     "data": {
      "text/plain": [
       "1.0"
      ]
     },
     "execution_count": 13,
     "metadata": {},
     "output_type": "execute_result"
    }
   ],
   "source": [
    "sum([np.exp(i)/denominator for i in data])"
   ]
  },
  {
   "cell_type": "code",
   "execution_count": 42,
   "id": "f957954c",
   "metadata": {
    "scrolled": false
   },
   "outputs": [
    {
     "data": {
      "text/plain": [
       "([0.6590011388859679, 0.2424329707047139, 0.09856589040931818], 1.0)"
      ]
     },
     "execution_count": 42,
     "metadata": {},
     "output_type": "execute_result"
    }
   ],
   "source": [
    "\n",
    "exp_data1 = []\n",
    "data1=0\n",
    "denominator2 =0\n",
    "for i in data:\n",
    "    data1 = np.exp(i)\n",
    "    denominator2 = data1/denominator\n",
    "    exp_data1.append(denominator2)\n",
    "\n",
    "sum_ =0\n",
    "for i in exp_data1:\n",
    "    sum_ += i\n",
    "    \n",
    "exp_data1,sum_"
   ]
  },
  {
   "cell_type": "code",
   "execution_count": 18,
   "id": "6c063545",
   "metadata": {
    "scrolled": true
   },
   "outputs": [
    {
     "data": {
      "text/plain": [
       "[0.0, 0.6931471805599453, 1.0986122886681098]"
      ]
     },
     "execution_count": 18,
     "metadata": {},
     "output_type": "execute_result"
    }
   ],
   "source": [
    "a = [1,2,3]\n",
    "[np.log(i) for i in a]"
   ]
  },
  {
   "cell_type": "code",
   "execution_count": 25,
   "id": "b06f43ce",
   "metadata": {
    "scrolled": false
   },
   "outputs": [
    {
     "data": {
      "text/plain": [
       "[2.718281828459045, 7.38905609893065, 20.085536923187668]"
      ]
     },
     "execution_count": 25,
     "metadata": {},
     "output_type": "execute_result"
    }
   ],
   "source": [
    "e = [np.exp(i) for i in a]\n",
    "e"
   ]
  },
  {
   "cell_type": "code",
   "execution_count": 31,
   "id": "5490a9f5",
   "metadata": {},
   "outputs": [
    {
     "data": {
      "text/plain": [
       "[0.09003057317038046, 0.24472847105479767, 0.6652409557748219]"
      ]
     },
     "execution_count": 31,
     "metadata": {},
     "output_type": "execute_result"
    }
   ],
   "source": [
    "a=np.array([1,2,3])\n",
    "d=sum(np.exp(a))\n",
    "[np.exp(i)/d for i in a]"
   ]
  },
  {
   "cell_type": "code",
   "execution_count": 32,
   "id": "0ad91cd6",
   "metadata": {
    "scrolled": false
   },
   "outputs": [
    {
     "data": {
      "text/plain": [
       "1.0"
      ]
     },
     "execution_count": 32,
     "metadata": {},
     "output_type": "execute_result"
    }
   ],
   "source": [
    "sum([np.exp(i)/d for i in a])"
   ]
  },
  {
   "cell_type": "code",
   "execution_count": 53,
   "id": "b44bd052",
   "metadata": {},
   "outputs": [
    {
     "data": {
      "text/plain": [
       "66"
      ]
     },
     "execution_count": 53,
     "metadata": {},
     "output_type": "execute_result"
    }
   ],
   "source": [
    "a1 = [2,3,4,5,8]\n",
    "a2 = sum([i*3 for i in a1])\n",
    "a2"
   ]
  },
  {
   "cell_type": "code",
   "execution_count": 54,
   "id": "0eca3d86",
   "metadata": {
    "scrolled": true
   },
   "outputs": [
    {
     "data": {
      "text/plain": [
       "17.05032272213083"
      ]
     },
     "execution_count": 54,
     "metadata": {},
     "output_type": "execute_result"
    }
   ],
   "source": [
    "a=[1,2,3,4,5,6,7]\n",
    "a_t = sum([np.log(i)*2 for i in a])\n",
    "a_t"
   ]
  },
  {
   "cell_type": "code",
   "execution_count": 65,
   "id": "0ee1d048",
   "metadata": {
    "scrolled": true
   },
   "outputs": [
    {
     "data": {
      "text/plain": [
       "1738.2661359074918"
      ]
     },
     "execution_count": 65,
     "metadata": {},
     "output_type": "execute_result"
    }
   ],
   "source": [
    "a=[1,2,3,4,5,6,7]\n",
    "a_t = (sum([np.exp(i) for i in a]))+5\n",
    "a_t"
   ]
  },
  {
   "cell_type": "code",
   "execution_count": 87,
   "id": "c16c3215",
   "metadata": {},
   "outputs": [],
   "source": [
    "a=[3,4,5]\n",
    "a1= [np.exp(i) for i in a] #분자\n",
    "a2= sum([i for i in a1]) #분모\n",
    "a3 = a1/a2 #분수"
   ]
  },
  {
   "cell_type": "code",
   "execution_count": 88,
   "id": "a06f3c6b",
   "metadata": {
    "scrolled": false
   },
   "outputs": [
    {
     "data": {
      "text/plain": [
       "array([0.09003057, 0.24472847])"
      ]
     },
     "execution_count": 88,
     "metadata": {},
     "output_type": "execute_result"
    }
   ],
   "source": [
    "a3[:2]"
   ]
  },
  {
   "cell_type": "markdown",
   "id": "081cda02",
   "metadata": {},
   "source": [
    "$$ \\sum_{j=0}^{k}cos(\\theta_{j}) $$"
   ]
  },
  {
   "cell_type": "markdown",
   "id": "a0cbed19",
   "metadata": {},
   "source": [
    "$$ 360: \\theta = 2\\pi : x \\rightarrow x = \\frac{2\\pi \\theta}{360} $$"
   ]
  },
  {
   "cell_type": "code",
   "execution_count": 89,
   "id": "83448abc",
   "metadata": {},
   "outputs": [],
   "source": [
    "# 각도를 radian으로 변환"
   ]
  },
  {
   "cell_type": "code",
   "execution_count": 29,
   "id": "16df7b5c",
   "metadata": {},
   "outputs": [],
   "source": [
    "def deg_to_radian(x):\n",
    "    return np.pi*x/180"
   ]
  },
  {
   "cell_type": "code",
   "execution_count": 163,
   "id": "7390e69d",
   "metadata": {},
   "outputs": [
    {
     "data": {
      "text/plain": [
       "3.141592653589793"
      ]
     },
     "execution_count": 163,
     "metadata": {},
     "output_type": "execute_result"
    }
   ],
   "source": [
    "deg_to_radian(180)"
   ]
  },
  {
   "cell_type": "code",
   "execution_count": 124,
   "id": "62803f12",
   "metadata": {
    "scrolled": true
   },
   "outputs": [
    {
     "data": {
      "text/plain": [
       "[-3.141592653589793,\n",
       " -2.9670597283903604,\n",
       " -2.792526803190927,\n",
       " -2.6179938779914944,\n",
       " -2.443460952792061,\n",
       " -2.2689280275926285,\n",
       " -2.0943951023931953,\n",
       " -1.9198621771937625,\n",
       " -1.7453292519943295,\n",
       " -1.5707963267948966,\n",
       " -1.3962634015954636,\n",
       " -1.2217304763960306,\n",
       " -1.0471975511965976,\n",
       " -0.8726646259971648,\n",
       " -0.6981317007977318,\n",
       " -0.5235987755982988,\n",
       " -0.3490658503988659,\n",
       " -0.17453292519943295,\n",
       " 0.0,\n",
       " 0.17453292519943295,\n",
       " 0.3490658503988659,\n",
       " 0.5235987755982988,\n",
       " 0.6981317007977318,\n",
       " 0.8726646259971648,\n",
       " 1.0471975511965976,\n",
       " 1.2217304763960306,\n",
       " 1.3962634015954636,\n",
       " 1.5707963267948966,\n",
       " 1.7453292519943295,\n",
       " 1.9198621771937625,\n",
       " 2.0943951023931953,\n",
       " 2.2689280275926285,\n",
       " 2.443460952792061,\n",
       " 2.6179938779914944,\n",
       " 2.792526803190927,\n",
       " 2.9670597283903604]"
      ]
     },
     "execution_count": 124,
     "metadata": {},
     "output_type": "execute_result"
    }
   ],
   "source": [
    "radian=[deg_to_radian(i) for i in np.arange(-180,180,10)]\n",
    "radian"
   ]
  },
  {
   "cell_type": "code",
   "execution_count": 122,
   "id": "d8c84313",
   "metadata": {
    "scrolled": true
   },
   "outputs": [
    {
     "data": {
      "text/plain": [
       "6.661338147750939e-16"
      ]
     },
     "execution_count": 122,
     "metadata": {},
     "output_type": "execute_result"
    }
   ],
   "source": [
    "sum([np.cos(i) for i in radian])"
   ]
  },
  {
   "cell_type": "code",
   "execution_count": 120,
   "id": "8d565a5d",
   "metadata": {
    "scrolled": true
   },
   "outputs": [
    {
     "data": {
      "text/plain": [
       "6.661338147750939e-16"
      ]
     },
     "execution_count": 120,
     "metadata": {},
     "output_type": "execute_result"
    }
   ],
   "source": [
    "sum(np.cos(radian))"
   ]
  },
  {
   "cell_type": "code",
   "execution_count": 141,
   "id": "febb0f15",
   "metadata": {
    "scrolled": true
   },
   "outputs": [
    {
     "name": "stdout",
     "output_type": "stream",
     "text": [
      "0.8660254037844387 0.8660254037844386\n",
      "0.5000000000000001\n"
     ]
    }
   ],
   "source": [
    "x = np.arange(-180,180,10)\n",
    "y = np.array(np.cos([deg_to_radian(i) for i in x]))\n",
    "for deg,cos_value in zip(x,y):\n",
    "    if deg == 60 :\n",
    "        print(cos_value)\n",
    "    elif deg == 30:\n",
    "        print(cos_value, np.sqrt(3)/2)"
   ]
  },
  {
   "cell_type": "code",
   "execution_count": 143,
   "id": "2d59c4cf",
   "metadata": {
    "scrolled": true
   },
   "outputs": [
    {
     "data": {
      "text/plain": [
       "0"
      ]
     },
     "execution_count": 143,
     "metadata": {},
     "output_type": "execute_result"
    }
   ],
   "source": [
    "x = np.arange(-180,180,10)\n",
    "y_cos = np.array(np.cos([deg_to_radian(i) for i in x]))\n",
    "y_sin = np.array(np.sin([deg_to_radian(i) for i in x]))\n",
    "sum_ =0\n",
    "for deg,cos_value, sin_value in zip(x, y_cos,y_sin):\n",
    "    if not abs((cos_value**2+sin_value**2) -1) < 0.0000001:\n",
    "        sum_ += 1\n",
    "sum_"
   ]
  },
  {
   "cell_type": "code",
   "execution_count": 145,
   "id": "52a726c6",
   "metadata": {
    "scrolled": true
   },
   "outputs": [
    {
     "data": {
      "text/plain": [
       "1.0000000000000002"
      ]
     },
     "execution_count": 145,
     "metadata": {},
     "output_type": "execute_result"
    }
   ],
   "source": [
    "x1=0.8660254037844387\n",
    "x2=0.5000000000000001\n",
    "(x1*x1) + (x2*x2)"
   ]
  },
  {
   "cell_type": "code",
   "execution_count": 147,
   "id": "a7d09c27",
   "metadata": {},
   "outputs": [
    {
     "data": {
      "text/plain": [
       "0.8253356149096783"
      ]
     },
     "execution_count": 147,
     "metadata": {},
     "output_type": "execute_result"
    }
   ],
   "source": [
    "theta = np.cos(3/5)\n",
    "theta"
   ]
  },
  {
   "cell_type": "code",
   "execution_count": 8,
   "id": "b98c4473",
   "metadata": {},
   "outputs": [],
   "source": [
    "def radian_to_deg(x):\n",
    "    return (x/np.pi)*180"
   ]
  },
  {
   "cell_type": "code",
   "execution_count": 2,
   "id": "8369259d",
   "metadata": {},
   "outputs": [],
   "source": [
    "vec_=[[10,20],[5,4],[2,-1],[5,3],[-1,2],[2,4],[8,8],[-1,5]]"
   ]
  },
  {
   "cell_type": "code",
   "execution_count": 225,
   "id": "a1946cae",
   "metadata": {
    "scrolled": true
   },
   "outputs": [],
   "source": [
    "def vec_t(i,j):\n",
    "    vec_b=0\n",
    "    vec_b = np.sqrt((i*i)+(j*j))\n",
    "    return vec_b"
   ]
  },
  {
   "cell_type": "code",
   "execution_count": 231,
   "id": "53ef0692",
   "metadata": {},
   "outputs": [
    {
     "name": "stdout",
     "output_type": "stream",
     "text": [
      "22.360679774997898\n",
      "6.4031242374328485\n",
      "2.23606797749979\n",
      "5.830951894845301\n",
      "2.23606797749979\n",
      "4.47213595499958\n",
      "11.313708498984761\n",
      "5.0990195135927845\n"
     ]
    }
   ],
   "source": [
    "for i,j in vec_:\n",
    "    print(vec_t(i,j))"
   ]
  },
  {
   "cell_type": "code",
   "execution_count": 229,
   "id": "283aa9bb",
   "metadata": {
    "scrolled": false
   },
   "outputs": [
    {
     "data": {
      "text/plain": [
       "[1.1071487177940904,\n",
       " 0.6747409422235525,\n",
       " 0.46364760900080615,\n",
       " 0.5404195002705844,\n",
       " 2.0344439357957027,\n",
       " 1.1071487177940904,\n",
       " 0.7853981633974484,\n",
       " 1.7681918866447774]"
      ]
     },
     "execution_count": 229,
     "metadata": {},
     "output_type": "execute_result"
    }
   ],
   "source": [
    "theta = [np.arccos(i/vec_t(i,j)) for i,j in vec_]\n",
    "theta"
   ]
  },
  {
   "cell_type": "code",
   "execution_count": 237,
   "id": "ea576c8c",
   "metadata": {},
   "outputs": [
    {
     "data": {
      "text/plain": [
       "[63.43494882292201,\n",
       " 38.65980825409008,\n",
       " 26.565051177077994,\n",
       " 30.963756532073536,\n",
       " 116.56505117707799,\n",
       " 63.43494882292201,\n",
       " 45.00000000000001,\n",
       " 101.30993247402023]"
      ]
     },
     "execution_count": 237,
     "metadata": {},
     "output_type": "execute_result"
    }
   ],
   "source": [
    "theta1=[]\n",
    "for i in theta:\n",
    "    theta1.append(radian_to_deg(i))\n",
    "theta1"
   ]
  },
  {
   "cell_type": "code",
   "execution_count": 240,
   "id": "80c851c6",
   "metadata": {},
   "outputs": [
    {
     "data": {
      "text/plain": [
       "{'x': [10, 5, 2, 5, -1, 2, 8, -1],\n",
       " 'y': [10, 5, 2, 5, -1, 2, 8, -1],\n",
       " 'r': [22.360679774997898,\n",
       "  6.4031242374328485,\n",
       "  2.23606797749979,\n",
       "  5.830951894845301,\n",
       "  2.23606797749979,\n",
       "  4.47213595499958,\n",
       "  11.313708498984761,\n",
       "  5.0990195135927845,\n",
       "  22.360679774997898,\n",
       "  6.4031242374328485,\n",
       "  2.23606797749979,\n",
       "  5.830951894845301,\n",
       "  2.23606797749979,\n",
       "  4.47213595499958,\n",
       "  11.313708498984761,\n",
       "  5.0990195135927845,\n",
       "  22.360679774997898,\n",
       "  6.4031242374328485,\n",
       "  2.23606797749979,\n",
       "  5.830951894845301,\n",
       "  2.23606797749979,\n",
       "  4.47213595499958,\n",
       "  11.313708498984761,\n",
       "  5.0990195135927845,\n",
       "  22.360679774997898,\n",
       "  6.4031242374328485,\n",
       "  2.23606797749979,\n",
       "  5.830951894845301,\n",
       "  2.23606797749979,\n",
       "  4.47213595499958,\n",
       "  11.313708498984761,\n",
       "  5.0990195135927845,\n",
       "  22.360679774997898,\n",
       "  6.4031242374328485,\n",
       "  2.23606797749979,\n",
       "  5.830951894845301,\n",
       "  2.23606797749979,\n",
       "  4.47213595499958,\n",
       "  11.313708498984761,\n",
       "  5.0990195135927845,\n",
       "  22.360679774997898,\n",
       "  6.4031242374328485,\n",
       "  2.23606797749979,\n",
       "  5.830951894845301,\n",
       "  2.23606797749979,\n",
       "  4.47213595499958,\n",
       "  11.313708498984761,\n",
       "  5.0990195135927845,\n",
       "  22.360679774997898,\n",
       "  6.4031242374328485,\n",
       "  2.23606797749979,\n",
       "  5.830951894845301,\n",
       "  2.23606797749979,\n",
       "  4.47213595499958,\n",
       "  11.313708498984761,\n",
       "  5.0990195135927845,\n",
       "  22.360679774997898,\n",
       "  6.4031242374328485,\n",
       "  2.23606797749979,\n",
       "  5.830951894845301,\n",
       "  2.23606797749979,\n",
       "  4.47213595499958,\n",
       "  11.313708498984761,\n",
       "  5.0990195135927845],\n",
       " 'theta': [1.1071487177940904,\n",
       "  0.6747409422235525,\n",
       "  0.46364760900080615,\n",
       "  0.5404195002705844,\n",
       "  2.0344439357957027,\n",
       "  1.1071487177940904,\n",
       "  0.7853981633974484,\n",
       "  1.7681918866447774,\n",
       "  1.1071487177940904,\n",
       "  0.6747409422235525,\n",
       "  0.46364760900080615,\n",
       "  0.5404195002705844,\n",
       "  2.0344439357957027,\n",
       "  1.1071487177940904,\n",
       "  0.7853981633974484,\n",
       "  1.7681918866447774,\n",
       "  1.1071487177940904,\n",
       "  0.6747409422235525,\n",
       "  0.46364760900080615,\n",
       "  0.5404195002705844,\n",
       "  2.0344439357957027,\n",
       "  1.1071487177940904,\n",
       "  0.7853981633974484,\n",
       "  1.7681918866447774,\n",
       "  1.1071487177940904,\n",
       "  0.6747409422235525,\n",
       "  0.46364760900080615,\n",
       "  0.5404195002705844,\n",
       "  2.0344439357957027,\n",
       "  1.1071487177940904,\n",
       "  0.7853981633974484,\n",
       "  1.7681918866447774,\n",
       "  1.1071487177940904,\n",
       "  0.6747409422235525,\n",
       "  0.46364760900080615,\n",
       "  0.5404195002705844,\n",
       "  2.0344439357957027,\n",
       "  1.1071487177940904,\n",
       "  0.7853981633974484,\n",
       "  1.7681918866447774,\n",
       "  1.1071487177940904,\n",
       "  0.6747409422235525,\n",
       "  0.46364760900080615,\n",
       "  0.5404195002705844,\n",
       "  2.0344439357957027,\n",
       "  1.1071487177940904,\n",
       "  0.7853981633974484,\n",
       "  1.7681918866447774,\n",
       "  1.1071487177940904,\n",
       "  0.6747409422235525,\n",
       "  0.46364760900080615,\n",
       "  0.5404195002705844,\n",
       "  2.0344439357957027,\n",
       "  1.1071487177940904,\n",
       "  0.7853981633974484,\n",
       "  1.7681918866447774,\n",
       "  1.1071487177940904,\n",
       "  0.6747409422235525,\n",
       "  0.46364760900080615,\n",
       "  0.5404195002705844,\n",
       "  2.0344439357957027,\n",
       "  1.1071487177940904,\n",
       "  0.7853981633974484,\n",
       "  1.7681918866447774]}"
      ]
     },
     "execution_count": 240,
     "metadata": {},
     "output_type": "execute_result"
    }
   ],
   "source": [
    "dict1={\"x\":[],\"y\":[],\"r\":[],\"theta\":[]}\n",
    "for i,j in vec_:\n",
    "    dict1[\"x\"].append(i)\n",
    "    dict1[\"y\"].append(i)\n",
    "    for k,v in zip(vec_b_list,theta):\n",
    "        dict1[\"r\"].append(k)\n",
    "        dict1[\"theta\"].append(v)\n",
    "dict1"
   ]
  },
  {
   "cell_type": "code",
   "execution_count": 245,
   "id": "ade1c746",
   "metadata": {
    "scrolled": true
   },
   "outputs": [
    {
     "name": "stdout",
     "output_type": "stream",
     "text": [
      "True\n",
      "True\n",
      "True\n",
      "True\n",
      "True\n",
      "True\n",
      "True\n",
      "True\n",
      "True\n",
      "True\n",
      "True\n",
      "True\n",
      "True\n",
      "True\n",
      "True\n",
      "True\n",
      "True\n",
      "True\n",
      "True\n",
      "True\n",
      "True\n",
      "True\n",
      "True\n",
      "True\n",
      "True\n",
      "True\n",
      "True\n",
      "True\n",
      "True\n",
      "True\n",
      "True\n",
      "True\n",
      "True\n",
      "True\n",
      "True\n",
      "True\n",
      "True\n",
      "True\n",
      "True\n",
      "True\n",
      "True\n",
      "True\n",
      "True\n",
      "True\n",
      "True\n",
      "True\n",
      "True\n",
      "True\n",
      "True\n",
      "True\n",
      "True\n",
      "True\n",
      "True\n",
      "True\n",
      "True\n",
      "True\n",
      "True\n",
      "True\n",
      "True\n",
      "True\n",
      "True\n",
      "True\n",
      "True\n",
      "True\n"
     ]
    }
   ],
   "source": [
    "for i in dict1['theta']:\n",
    "    print((abs(np.sin(i)**2+np.cos(i)**2)-1)<0.0000001)"
   ]
  },
  {
   "cell_type": "code",
   "execution_count": 257,
   "id": "61d93aaf",
   "metadata": {},
   "outputs": [],
   "source": [
    "v= np.array(vec_)[0]\n",
    "v_list=[]\n",
    "for i in np.array(vec_)[1:]:\n",
    "    v_list.append(np.dot(v,i))"
   ]
  },
  {
   "cell_type": "code",
   "execution_count": 5,
   "id": "cca47a67",
   "metadata": {},
   "outputs": [
    {
     "data": {
      "text/plain": [
       "[130, 0, 110, 30, 100, 240, 90]"
      ]
     },
     "execution_count": 5,
     "metadata": {},
     "output_type": "execute_result"
    }
   ],
   "source": [
    "v1 = np.array(vec_)[0] #벡터 0번째와 다른 7개의 내적\n",
    "v_list1=[]\n",
    "for i,j in vec_[1:]:\n",
    "#     print(\"i\",i,\"j\",j)\n",
    "    v_list1.append(v1[0]*i+v1[1]*j)\n",
    "v_list1"
   ]
  },
  {
   "cell_type": "code",
   "execution_count": 15,
   "id": "2cae37fb",
   "metadata": {},
   "outputs": [
    {
     "data": {
      "text/plain": [
       "array([2.47751406e+01, 9.00000000e+01, 3.24711923e+01, 5.31301024e+01,\n",
       "       8.53773646e-07, 1.84349488e+01, 3.78749837e+01])"
      ]
     },
     "execution_count": 15,
     "metadata": {},
     "output_type": "execute_result"
    }
   ],
   "source": [
    "v_ =[np.sqrt(i*i+j*j) for i,j in vec_] # 벡터의 크기\n",
    "cos_theta = v_list1/np.array([v_[0]*i for i in v_[1:]]) \n",
    "# 벡터의 크기0번째 * 나머지 6개 벡터를 곱한값 / 벡터의 내적값 = cos_theta\n",
    "theta = np.arccos(cos_theta) # cos_theta를 arccos하면 theta(각도)인데 radian\n",
    "radian_to_deg(theta) # radian각도를 radian_to_deg함수에 넣어서 각도를 구함"
   ]
  },
  {
   "cell_type": "code",
   "execution_count": 17,
   "id": "84c29e3c",
   "metadata": {},
   "outputs": [
    {
     "data": {
      "text/plain": [
       "array([0.90795938, 0.        , 0.84366149, 0.6       , 1.        ,\n",
       "       0.9486833 , 0.78935222])"
      ]
     },
     "execution_count": 17,
     "metadata": {},
     "output_type": "execute_result"
    }
   ],
   "source": [
    "cos_theta"
   ]
  },
  {
   "cell_type": "code",
   "execution_count": 13,
   "id": "e7c02e1b",
   "metadata": {
    "scrolled": false
   },
   "outputs": [
    {
     "data": {
      "text/plain": [
       "0"
      ]
     },
     "execution_count": 13,
     "metadata": {},
     "output_type": "execute_result"
    }
   ],
   "source": [
    "np.dot(vec_[0],vec_[2])"
   ]
  },
  {
   "cell_type": "code",
   "execution_count": 23,
   "id": "f4a59d59",
   "metadata": {
    "scrolled": true
   },
   "outputs": [],
   "source": [
    "x_ = vec_"
   ]
  },
  {
   "cell_type": "code",
   "execution_count": 21,
   "id": "6b10617c",
   "metadata": {},
   "outputs": [],
   "source": [
    "def magnitude(x):\n",
    "    return np.sqrt(sum([i*i for i in x]))"
   ]
  },
  {
   "cell_type": "code",
   "execution_count": 22,
   "id": "a0737f66",
   "metadata": {},
   "outputs": [],
   "source": [
    "def dot(x,y):\n",
    "    return sum([i*j for i,j in zip(x,y)])"
   ]
  },
  {
   "cell_type": "code",
   "execution_count": 24,
   "id": "1b39f7af",
   "metadata": {},
   "outputs": [],
   "source": [
    "x_0, x_the_other = x_[0], x_[1:]\n",
    "x_0_mag = magnitude(x_0)\n",
    "x_other_mag = [magnitude(i) for i in x_the_other]"
   ]
  },
  {
   "cell_type": "code",
   "execution_count": 25,
   "id": "14e72389",
   "metadata": {},
   "outputs": [],
   "source": [
    "other_dot = [dot(x_0,i) for i in x_the_other]"
   ]
  },
  {
   "cell_type": "code",
   "execution_count": 31,
   "id": "dbde8eaf",
   "metadata": {},
   "outputs": [
    {
     "data": {
      "text/plain": [
       "['수직아님', '수직아님', '수직', '수직아님', '수직아님', '수직아님', '수직아님', '수직아님']"
      ]
     },
     "execution_count": 31,
     "metadata": {},
     "output_type": "execute_result"
    }
   ],
   "source": [
    "the_other_cos = [dot_i/(x_0_mag*x_m) for dot_i , x_m in zip(other_dot,x_other_mag)]\n",
    "cos_deg = [radian_to_deg(np.arccos(i)) for i in the_other_cos]\n",
    "# np.cos(deg_to_radian(cos_deg[2])) - dot(x_[0] ,x_[2])\n",
    "['수직' if dot(x_[0], i)==0 else '수직아님' for i in x_]"
   ]
  }
 ],
 "metadata": {
  "kernelspec": {
   "display_name": "Python 3 (ipykernel)",
   "language": "python",
   "name": "python3"
  },
  "language_info": {
   "codemirror_mode": {
    "name": "ipython",
    "version": 3
   },
   "file_extension": ".py",
   "mimetype": "text/x-python",
   "name": "python",
   "nbconvert_exporter": "python",
   "pygments_lexer": "ipython3",
   "version": "3.11.4"
  }
 },
 "nbformat": 4,
 "nbformat_minor": 5
}
