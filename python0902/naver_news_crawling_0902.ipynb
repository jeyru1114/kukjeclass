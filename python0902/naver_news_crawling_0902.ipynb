{
 "cells": [
  {
   "cell_type": "code",
   "execution_count": 7,
   "id": "752f0893",
   "metadata": {},
   "outputs": [],
   "source": [
    "from selenium import webdriver\n",
    "import pandas as pd\n",
    "import time\n",
    "# from selenium.webdriver.common.by import By\n",
    "import requests\n",
    "from bs4 import BeautifulSoup\n",
    "import urllib"
   ]
  },
  {
   "cell_type": "code",
   "execution_count": 8,
   "id": "5a565da8",
   "metadata": {},
   "outputs": [],
   "source": [
    "load_url=\"https://news.naver.com/\""
   ]
  },
  {
   "cell_type": "markdown",
   "id": "f041df42",
   "metadata": {},
   "source": [
    "## 크롬 드라이버 실행\n",
    "크롬 드라이버는 컴퓨터가 크롬 웹 브라우져를 다룰 수 있도록 해주는 프로그램\n"
   ]
  },
  {
   "cell_type": "code",
   "execution_count": 9,
   "id": "0573cb06",
   "metadata": {},
   "outputs": [
    {
     "data": {
      "text/plain": [
       "['https://news.naver.com/?viewType=pc',\n",
       " 'https://news.naver.com/main/main.naver?mode=LSD&mid=shm&sid1=100',\n",
       " 'https://news.naver.com/main/main.naver?mode=LSD&mid=shm&sid1=101',\n",
       " 'https://news.naver.com/main/main.naver?mode=LSD&mid=shm&sid1=102',\n",
       " 'https://news.naver.com/main/main.naver?mode=LSD&mid=shm&sid1=103',\n",
       " 'https://news.naver.com/main/main.naver?mode=LSD&mid=shm&sid1=105',\n",
       " 'https://news.naver.com/main/main.naver?mode=LSD&mid=shm&sid1=104',\n",
       " 'https://news.naver.com/main/ranking/popularDay.naver',\n",
       " 'https://news.naver.com/newspaper/home?viewType=pc',\n",
       " 'https://news.naver.com/opinion/home',\n",
       " 'https://news.naver.com/main/tv/index.naver?mid=tvh',\n",
       " 'https://news.naver.com/main/factcheck/main.naver',\n",
       " 'https://media.naver.com/algorithm']"
      ]
     },
     "execution_count": 9,
     "metadata": {},
     "output_type": "execute_result"
    }
   ],
   "source": [
    "driver = webdriver.Chrome()\n",
    "driver.get(url=\"https://news.naver.com/\")\n",
    "html=requests.get(load_url,headers={'User-Agent':'Mozilla/5.0'})\n",
    "soup=BeautifulSoup(html.content,\"html.parser\")\n",
    "f_url=soup.find_all(\"a\")\n",
    "news_url=[i.get('href') for i in f_url if i.get(\"class\")==[\"Nitem_link\"]]\n",
    "news_url"
   ]
  },
  {
   "cell_type": "code",
   "execution_count": 11,
   "id": "9a9be03e",
   "metadata": {},
   "outputs": [
    {
     "data": {
      "text/plain": [
       "<ul class=\"Nlnb_menu_list\" role=\"menu\">\n",
       "<li class=\"Nlist_item is_active\"><a aria-selected=\"true\" class=\"Nitem_link\" href=\"https://news.naver.com/?viewType=pc\" onclick=\"nclk(event,'lnb.pcmedia','','');\" role=\"menuitem\"><span class=\"Nitem_link_menu\">언론사별</span></a></li>\n",
       "<li class=\"Nlist_item\"><a aria-selected=\"false\" class=\"Nitem_link\" href=\"https://news.naver.com/main/main.naver?mode=LSD&amp;mid=shm&amp;sid1=100\" onclick=\"nclk(event,'lnb.pol','','');\" role=\"menuitem\"><span class=\"Nitem_link_menu\">정치</span></a></li>\n",
       "<li class=\"Nlist_item\"><a aria-selected=\"false\" class=\"Nitem_link\" href=\"https://news.naver.com/main/main.naver?mode=LSD&amp;mid=shm&amp;sid1=101\" onclick=\"nclk(event,'lnb.eco','','');\" role=\"menuitem\"><span class=\"Nitem_link_menu\">경제</span></a></li>\n",
       "<li class=\"Nlist_item\"><a aria-selected=\"false\" class=\"Nitem_link\" href=\"https://news.naver.com/main/main.naver?mode=LSD&amp;mid=shm&amp;sid1=102\" onclick=\"nclk(event,'lnb.soc','','');\" role=\"menuitem\"><span class=\"Nitem_link_menu\">사회</span></a></li>\n",
       "<li class=\"Nlist_item\"><a aria-selected=\"false\" class=\"Nitem_link\" href=\"https://news.naver.com/main/main.naver?mode=LSD&amp;mid=shm&amp;sid1=103\" onclick=\"nclk(event,'lnb.lif','','');\" role=\"menuitem\"><span class=\"Nitem_link_menu\">생활/문화</span></a></li>\n",
       "<li class=\"Nlist_item\"><a aria-selected=\"false\" class=\"Nitem_link\" href=\"https://news.naver.com/main/main.naver?mode=LSD&amp;mid=shm&amp;sid1=105\" onclick=\"nclk(event,'lnb.sci','','');\" role=\"menuitem\"><span class=\"Nitem_link_menu\">IT/과학</span></a></li>\n",
       "<li class=\"Nlist_item\"><a aria-selected=\"false\" class=\"Nitem_link\" href=\"https://news.naver.com/main/main.naver?mode=LSD&amp;mid=shm&amp;sid1=104\" onclick=\"nclk(event,'lnb.wor','','');\" role=\"menuitem\"><span class=\"Nitem_link_menu\">세계</span></a></li>\n",
       "<li class=\"Nlist_item _isNew\"><a aria-selected=\"false\" class=\"Nitem_link\" href=\"https://news.naver.com/main/ranking/popularDay.naver\" onclick=\"nclk(event,'lnb.rank','','');\" role=\"menuitem\"><span class=\"Nitem_link_menu\">랭킹</span></a></li>\n",
       "<li class=\"Nlist_item _isNew\"><a aria-selected=\"false\" class=\"Nitem_link\" href=\"https://news.naver.com/newspaper/home?viewType=pc\" onclick=\"nclk(event,'lnb.paper','','');\" role=\"menuitem\"><span class=\"Nitem_link_menu\">신문보기</span></a></li>\n",
       "<li class=\"Nlist_item\"><a aria-selected=\"false\" class=\"Nitem_link\" href=\"https://news.naver.com/opinion/home\" onclick=\"nclk(event,'lnb.opi','','');\" role=\"menuitem\"><span class=\"Nitem_link_menu\">오피니언</span></a></li>\n",
       "<li class=\"Nlist_item\"><a aria-selected=\"false\" class=\"Nitem_link\" href=\"https://news.naver.com/main/tv/index.naver?mid=tvh\" onclick=\"nclk(event,'lnb.tv','','');\" role=\"menuitem\"><span class=\"Nitem_link_menu\">TV</span></a></li>\n",
       "<li class=\"Nlist_item\"><a aria-selected=\"false\" class=\"Nitem_link\" href=\"https://news.naver.com/main/factcheck/main.naver\" onclick=\"nclk(event,'lnb.fact','','');\" role=\"menuitem\"><span class=\"Nitem_link_menu\">팩트체크</span></a></li>\n",
       "<li class=\"Nlist_item\"><a aria-selected=\"false\" class=\"Nitem_link\" href=\"https://media.naver.com/algorithm\" onclick=\"nclk(event,'lnb.algo','','');\" role=\"menuitem\"><span class=\"Nitem_link_menu\">알고리즘 안내</span></a></li>\n",
       "</ul>"
      ]
     },
     "execution_count": 11,
     "metadata": {},
     "output_type": "execute_result"
    }
   ],
   "source": [
    "soup.select('body > section > header > div.Nlnb._float_lnb > div > div > div.Nlnb_left._lnb_scroll > div > div > ul')[0]"
   ]
  },
  {
   "cell_type": "code",
   "execution_count": 13,
   "id": "6975def4",
   "metadata": {},
   "outputs": [
    {
     "name": "stdout",
     "output_type": "stream",
     "text": [
      "<class 'dict'>\n",
      "<class 'dict'>\n",
      "<class 'dict'>\n",
      "<class 'dict'>\n",
      "<class 'dict'>\n",
      "<class 'dict'>\n",
      "<class 'dict'>\n",
      "<class 'dict'>\n",
      "<class 'dict'>\n",
      "<class 'dict'>\n",
      "<class 'dict'>\n",
      "<class 'dict'>\n",
      "<class 'dict'>\n"
     ]
    }
   ],
   "source": [
    "for i in matched_list:\n",
    "    print(type(i))"
   ]
  },
  {
   "cell_type": "code",
   "execution_count": 3,
   "id": "a7de2f10",
   "metadata": {},
   "outputs": [
    {
     "name": "stdout",
     "output_type": "stream",
     "text": [
      "반복횟수: 0\n",
      "반복횟수: 1\n",
      "반복횟수: 2\n",
      "반복횟수: 3\n",
      "반복횟수: 4\n",
      "반복횟수: 5\n",
      "반복횟수: 6\n",
      "반복횟수: 7\n",
      "반복횟수: 8\n",
      "반복횟수: 9\n",
      "반복횟수: 10\n",
      "반복횟수: 11\n",
      "반복횟수: 12\n"
     ]
    }
   ],
   "source": [
    "keys= soup.select('body > section > header > div.Nlnb._float_lnb > div > div > div.Nlnb_left._lnb_scroll > div > div > ul')[0]\n",
    "matched_list = [{i:j} for i,j in zip([i.text for  i in keys.find_all('span')],news_url)]\n",
    "result={}\n",
    "# f= soup.select('body > section > header > div.Nlnb._float_lnb > div > div > div.Nlnb_left._lnb_scroll > div > div > ul')\n",
    "for idx, data in enumerate(matched_list):\n",
    "    for key, url in data.items():\n",
    "        driver.get(url) #이렇게 하면 바로 해당 url로 이동  \n",
    "        #여러번 크롤링하면 오류발생하여 headers 추가 \n",
    "        html=requests.get(url,headers={'User-Agent':'Mozilla/5.0'})\n",
    "        soup=BeautifulSoup(html.content,\"html.parser\")\n",
    "        n_url=soup.find_all(\"img\")\n",
    "        result[key]=result.get(key,[])+[i.get(\"src\") for i in n_url]\n",
    "        print('반복횟수:' ,idx)\n",
    "        time.sleep(3)\n"
   ]
  },
  {
   "cell_type": "code",
   "execution_count": 14,
   "id": "19b0a681",
   "metadata": {},
   "outputs": [
    {
     "data": {
      "text/plain": [
       "[603, 603, 603, 603, 603, 603, 603, 603, 603, 603, 603, 603, 603]"
      ]
     },
     "execution_count": 14,
     "metadata": {},
     "output_type": "execute_result"
    }
   ],
   "source": [
    "max_list = [len(v) for  v in result.values()]\n",
    "max_list"
   ]
  },
  {
   "cell_type": "code",
   "execution_count": 5,
   "id": "5daf025d",
   "metadata": {},
   "outputs": [],
   "source": [
    "for dict1 in [{k:max(max_list)-len(v)} for  k,v in result.items()]:\n",
    "    for k,v in dict1.items() :\n",
    "        for _ in range(v):\n",
    "            result[k].append(0)\n"
   ]
  },
  {
   "cell_type": "code",
   "execution_count": 15,
   "id": "e1b4138b",
   "metadata": {},
   "outputs": [],
   "source": [
    "df = pd.DataFrame(result)\n",
    "df.to_csv('naver_img2.csv',encoding='euc-kr')"
   ]
  }
 ],
 "metadata": {
  "kernelspec": {
   "display_name": "Python 3 (ipykernel)",
   "language": "python",
   "name": "python3"
  },
  "language_info": {
   "codemirror_mode": {
    "name": "ipython",
    "version": 3
   },
   "file_extension": ".py",
   "mimetype": "text/x-python",
   "name": "python",
   "nbconvert_exporter": "python",
   "pygments_lexer": "ipython3",
   "version": "3.11.3"
  }
 },
 "nbformat": 4,
 "nbformat_minor": 5
}
