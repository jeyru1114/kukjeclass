{
 "cells": [
  {
   "cell_type": "markdown",
   "id": "534c40f0",
   "metadata": {},
   "source": [
    "## Numpy 기본\n",
    "### 배열과 벡터 연산\n",
    "<ul>\n",
    "    <li>효율적인 다차원 배열인 ndarray는 빠른 계산과 유연한 브로드 캐스팅 기능을 제공</li>\n",
    "    <li>반복문을 작성할 필요없이 데이터 배열을 빠르게 계산할 수 있는 표준 수학 함수</li>\n",
    "    <li>배열 데이터를 디스크에 쓰거나 읽을 수 있는 도구와 메모리에 적재된 파일 다루는 도구</li>\n",
    "    <li>선형대수, 난수 생성기, 푸리에 변환 기능</li>\n",
    "    <li>C, C++ , 포트란으로 작성한 코드를 변경할수 있는 C API</li>\n",
    "</ul>\n",
    "Numpy 자체는 모델링이나 과학 계산을 위한 기능을 제공하지 않으므로 먼저 numpy 배열과 배열 기반 연산에 대한 이해를 한 다음 pandas 같은 배열 기반 도구를 활용하면 훨씬 더 효율적이다"
   ]
  },
  {
   "cell_type": "code",
   "execution_count": 1,
   "id": "866dc469",
   "metadata": {},
   "outputs": [],
   "source": [
    "import numpy as np"
   ]
  },
  {
   "cell_type": "code",
   "execution_count": 2,
   "id": "6b2a7933",
   "metadata": {},
   "outputs": [],
   "source": [
    "my_arr = np.arange(1000000)"
   ]
  },
  {
   "cell_type": "code",
   "execution_count": 3,
   "id": "375d366e",
   "metadata": {},
   "outputs": [],
   "source": [
    "my_list = list(range(1000000))"
   ]
  },
  {
   "cell_type": "code",
   "execution_count": 4,
   "id": "04980807",
   "metadata": {
    "scrolled": true
   },
   "outputs": [
    {
     "name": "stdout",
     "output_type": "stream",
     "text": [
      "CPU times: total: 0 ns\n",
      "Wall time: 12.5 ms\n"
     ]
    }
   ],
   "source": [
    "%time for _ in range(10):    my_arry2 = my_arr*2 # 브로드 캐스팅"
   ]
  },
  {
   "cell_type": "code",
   "execution_count": 5,
   "id": "59eec544",
   "metadata": {
    "scrolled": false
   },
   "outputs": [
    {
     "name": "stdout",
     "output_type": "stream",
     "text": [
      "CPU times: total: 203 ms\n",
      "Wall time: 396 ms\n"
     ]
    }
   ],
   "source": [
    "%time for _ in range(10): my_list2 = [x*2 for x in my_list]"
   ]
  },
  {
   "cell_type": "markdown",
   "id": "bdb7cf9b",
   "metadata": {},
   "source": [
    "### Numpy로 작성한 코드가 순수 파이썬으로 작성한 코드보다 열배에서 백배이상 \n",
    "### 빠르고 메모리도 더 적게 사용하는 것을 확인할수 있다"
   ]
  },
  {
   "cell_type": "code",
   "execution_count": 6,
   "id": "b1a7f62d",
   "metadata": {},
   "outputs": [],
   "source": [
    "data = np.random.randn(2,3) # 랜덤으로 2행 3열의 행렬을 생성"
   ]
  },
  {
   "cell_type": "code",
   "execution_count": 7,
   "id": "8c3abf74",
   "metadata": {},
   "outputs": [
    {
     "data": {
      "text/plain": [
       "array([[ 0.17183983, -2.41688878, -0.60694711],\n",
       "       [-0.28019883,  0.55520367, -0.675195  ]])"
      ]
     },
     "execution_count": 7,
     "metadata": {},
     "output_type": "execute_result"
    }
   ],
   "source": [
    "data"
   ]
  },
  {
   "cell_type": "code",
   "execution_count": 8,
   "id": "1713fbdb",
   "metadata": {
    "scrolled": true
   },
   "outputs": [
    {
     "data": {
      "text/plain": [
       "array([[  1.71839827, -24.16888785,  -6.06947105],\n",
       "       [ -2.80198831,   5.5520367 ,  -6.75194996]])"
      ]
     },
     "execution_count": 8,
     "metadata": {},
     "output_type": "execute_result"
    }
   ],
   "source": [
    "data*10"
   ]
  },
  {
   "cell_type": "code",
   "execution_count": 9,
   "id": "9697e676",
   "metadata": {},
   "outputs": [],
   "source": [
    "arr=[[-1,2,3,4],[2,-3,4,5],[-2,1,-3,4]]"
   ]
  },
  {
   "cell_type": "code",
   "execution_count": 10,
   "id": "13dead51",
   "metadata": {},
   "outputs": [
    {
     "data": {
      "text/plain": [
       "[[-10, 20, 30, 40], [20, -30, 40, 50], [-20, 10, -30, 40]]"
      ]
     },
     "execution_count": 10,
     "metadata": {},
     "output_type": "execute_result"
    }
   ],
   "source": [
    "list1=[]\n",
    "for i in arr:\n",
    "    list2=[]\n",
    "    for j in i:\n",
    "        list2.append(j*10)\n",
    "    list1.append(list2)\n",
    "list1"
   ]
  },
  {
   "cell_type": "code",
   "execution_count": 11,
   "id": "40827c5c",
   "metadata": {},
   "outputs": [
    {
     "data": {
      "text/plain": [
       "[[-10, 20, 30, 40], [20, -30, 40, 50], [-20, 10, -30, 40]]"
      ]
     },
     "execution_count": 11,
     "metadata": {},
     "output_type": "execute_result"
    }
   ],
   "source": [
    "# 강사님)\n",
    "outer_list = []\n",
    "for i in arr:\n",
    "    inner_list = []\n",
    "    for j in i:\n",
    "        inner_list.append(j*10)\n",
    "    outer_list.append(inner_list)\n",
    "outer_list"
   ]
  },
  {
   "cell_type": "code",
   "execution_count": 12,
   "id": "e6390744",
   "metadata": {},
   "outputs": [
    {
     "data": {
      "text/plain": [
       "[[-10, 20, 30, 40], [20, -30, 40, 50], [-20, 10, -30, 40]]"
      ]
     },
     "execution_count": 12,
     "metadata": {},
     "output_type": "execute_result"
    }
   ],
   "source": [
    "[[j*10 for j in i] for i in arr]"
   ]
  },
  {
   "cell_type": "code",
   "execution_count": 13,
   "id": "6d977541",
   "metadata": {
    "scrolled": true
   },
   "outputs": [
    {
     "data": {
      "text/plain": [
       "(3, 4)"
      ]
     },
     "execution_count": 13,
     "metadata": {},
     "output_type": "execute_result"
    }
   ],
   "source": [
    "np.shape(np.array(arr))"
   ]
  },
  {
   "cell_type": "code",
   "execution_count": 14,
   "id": "ae2f0285",
   "metadata": {
    "scrolled": true
   },
   "outputs": [
    {
     "data": {
      "text/plain": [
       "[[10, 20, 30, 40], [20, 30, 40, 50], [20, 10, 30, 40]]"
      ]
     },
     "execution_count": 14,
     "metadata": {},
     "output_type": "execute_result"
    }
   ],
   "source": [
    "# 강사님 절대값)\n",
    "outer_list = []\n",
    "for i in arr:\n",
    "    inner_list = []\n",
    "    for j in i:\n",
    "        if j<0: inner_list.append(-j*10)\n",
    "        else : inner_list.append(j*10)\n",
    "    outer_list.append(inner_list)\n",
    "outer_list"
   ]
  },
  {
   "cell_type": "code",
   "execution_count": 15,
   "id": "db84e2d1",
   "metadata": {},
   "outputs": [
    {
     "data": {
      "text/plain": [
       "[[10, 20, 30, 40], [20, 30, 40, 50], [20, 10, 30, 40]]"
      ]
     },
     "execution_count": 15,
     "metadata": {},
     "output_type": "execute_result"
    }
   ],
   "source": [
    "[[-j*10 if j<0 else j*10 for j in i]for i in arr]"
   ]
  },
  {
   "cell_type": "code",
   "execution_count": 16,
   "id": "8db8f99b",
   "metadata": {},
   "outputs": [
    {
     "data": {
      "text/plain": [
       "array([[1, 2, 3, 4],\n",
       "       [5, 6, 7, 8]])"
      ]
     },
     "execution_count": 16,
     "metadata": {},
     "output_type": "execute_result"
    }
   ],
   "source": [
    "data2=[[1,2,3,4],[5,6,7,8]]\n",
    "arr2= np.array(data2)\n",
    "arr2"
   ]
  },
  {
   "cell_type": "code",
   "execution_count": 17,
   "id": "34f7e273",
   "metadata": {
    "scrolled": true
   },
   "outputs": [
    {
     "data": {
      "text/plain": [
       "array([[[  1,   2,   3,   4],\n",
       "        [  5,   6,   7,   8]],\n",
       "\n",
       "       [[111,   2,   3,   4],\n",
       "        [  5, 116,   7,   8]],\n",
       "\n",
       "       [[  1,   2,   3,   4],\n",
       "        [  5,   6,   7,   8]]])"
      ]
     },
     "execution_count": 17,
     "metadata": {},
     "output_type": "execute_result"
    }
   ],
   "source": [
    "data2=[[1,2,3,4],[5,6,7,8]],[[111,2,3,4],[5,116,7,8]],[[1,2,3,4],[5,6,7,8]]\n",
    "arr2= np.array(data2)\n",
    "arr2"
   ]
  },
  {
   "cell_type": "code",
   "execution_count": 18,
   "id": "ad96b2a6",
   "metadata": {},
   "outputs": [
    {
     "data": {
      "text/plain": [
       "3"
      ]
     },
     "execution_count": 18,
     "metadata": {},
     "output_type": "execute_result"
    }
   ],
   "source": [
    "arr2.ndim # ndim 배열의 차원"
   ]
  },
  {
   "cell_type": "code",
   "execution_count": 19,
   "id": "62f1474a",
   "metadata": {
    "scrolled": true
   },
   "outputs": [
    {
     "data": {
      "text/plain": [
       "(3, 2, 4)"
      ]
     },
     "execution_count": 19,
     "metadata": {},
     "output_type": "execute_result"
    }
   ],
   "source": [
    "np.shape(arr2) # axis 행과 열의 개수"
   ]
  },
  {
   "cell_type": "code",
   "execution_count": 20,
   "id": "f57b273f",
   "metadata": {
    "scrolled": true
   },
   "outputs": [
    {
     "data": {
      "text/plain": [
       "array([[ 10,  26],\n",
       "       [120, 136],\n",
       "       [ 10,  26]])"
      ]
     },
     "execution_count": 20,
     "metadata": {},
     "output_type": "execute_result"
    }
   ],
   "source": [
    "np.sum(data2, axis=2) # sum 총합"
   ]
  },
  {
   "cell_type": "code",
   "execution_count": 21,
   "id": "0f4114f4",
   "metadata": {},
   "outputs": [
    {
     "data": {
      "text/plain": [
       "30.18645759644914"
      ]
     },
     "execution_count": 21,
     "metadata": {},
     "output_type": "execute_result"
    }
   ],
   "source": [
    "np.std(arr2) # std 표준편차"
   ]
  },
  {
   "cell_type": "code",
   "execution_count": 22,
   "id": "a1158e4e",
   "metadata": {
    "scrolled": true
   },
   "outputs": [
    {
     "data": {
      "text/plain": [
       "[array([[ 10,  26],\n",
       "        [120, 136],\n",
       "        [ 10,  26]]),\n",
       " array([[ 2.5,  6.5],\n",
       "        [30. , 34. ],\n",
       "        [ 2.5,  6.5]]),\n",
       " array([[ 1.11803399,  1.11803399],\n",
       "        [46.77071733, 47.35504197],\n",
       "        [ 1.11803399,  1.11803399]])]"
      ]
     },
     "execution_count": 22,
     "metadata": {},
     "output_type": "execute_result"
    }
   ],
   "source": [
    "[ i(data2, axis=2)for i in [np.sum, np.mean, np.std] ]"
   ]
  },
  {
   "cell_type": "markdown",
   "id": "c4f4fe1c",
   "metadata": {},
   "source": [
    "<!-- <img src=\"1/axis.jpg\"/>\n",
    "![](1/axis.jpg) -->\n",
    "<img src=\"1/axis.jpg\" width=800 /> ![](1/axis.jpg)"
   ]
  },
  {
   "cell_type": "markdown",
   "id": "9a05845e",
   "metadata": {},
   "source": [
    "<!-- <img src=\"1/broad.png\"/> -->\n",
    "![](1/broad.png)"
   ]
  },
  {
   "cell_type": "code",
   "execution_count": 23,
   "id": "5456e9e7",
   "metadata": {},
   "outputs": [
    {
     "data": {
      "text/plain": [
       "(2, 3)"
      ]
     },
     "execution_count": 23,
     "metadata": {},
     "output_type": "execute_result"
    }
   ],
   "source": [
    "x2 = np.array([[1,2,3],[3,2,4]])\n",
    "np.shape(x2) # 열,행"
   ]
  },
  {
   "cell_type": "code",
   "execution_count": 24,
   "id": "4731bacc",
   "metadata": {},
   "outputs": [
    {
     "data": {
      "text/plain": [
       "(3, 2)"
      ]
     },
     "execution_count": 24,
     "metadata": {},
     "output_type": "execute_result"
    }
   ],
   "source": [
    "np.shape(x2.T) #역으로하면 행,열"
   ]
  },
  {
   "cell_type": "code",
   "execution_count": 25,
   "id": "7ef1540d",
   "metadata": {
    "scrolled": true
   },
   "outputs": [
    {
     "data": {
      "text/plain": [
       "(3,)"
      ]
     },
     "execution_count": 25,
     "metadata": {},
     "output_type": "execute_result"
    }
   ],
   "source": [
    "x3 = np.array([1,2,3])\n",
    "np.shape(x3) # 열,없음"
   ]
  },
  {
   "cell_type": "code",
   "execution_count": 26,
   "id": "b09de776",
   "metadata": {
    "scrolled": false
   },
   "outputs": [
    {
     "ename": "ValueError",
     "evalue": "shapes (3,2) and (3,) not aligned: 2 (dim 1) != 3 (dim 0)",
     "output_type": "error",
     "traceback": [
      "\u001b[1;31m---------------------------------------------------------------------------\u001b[0m",
      "\u001b[1;31mValueError\u001b[0m                                Traceback (most recent call last)",
      "Cell \u001b[1;32mIn[26], line 1\u001b[0m\n\u001b[1;32m----> 1\u001b[0m np\u001b[38;5;241m.\u001b[39mdot(x2\u001b[38;5;241m.\u001b[39mT,x3)\n",
      "File \u001b[1;32m<__array_function__ internals>:200\u001b[0m, in \u001b[0;36mdot\u001b[1;34m(*args, **kwargs)\u001b[0m\n",
      "\u001b[1;31mValueError\u001b[0m: shapes (3,2) and (3,) not aligned: 2 (dim 1) != 3 (dim 0)"
     ]
    }
   ],
   "source": [
    "np.dot(x2.T,x3) # x2의 행열과 x3의 행열이 맞지않아서 에러"
   ]
  },
  {
   "cell_type": "code",
   "execution_count": null,
   "id": "c052b0fe",
   "metadata": {
    "scrolled": true
   },
   "outputs": [],
   "source": [
    "np.dot(x2.T,x3[:2])"
   ]
  },
  {
   "cell_type": "code",
   "execution_count": null,
   "id": "66d51048",
   "metadata": {
    "scrolled": true
   },
   "outputs": [],
   "source": [
    "x3=np.array([[1,2,3],[4,5,6]]) # x3의 행열을 보여줌\n",
    "x3"
   ]
  },
  {
   "cell_type": "code",
   "execution_count": null,
   "id": "6bdd0306",
   "metadata": {
    "scrolled": false
   },
   "outputs": [],
   "source": [
    "x3.T # x3을 역으로했을때의 행열"
   ]
  },
  {
   "cell_type": "code",
   "execution_count": null,
   "id": "e0856cf3",
   "metadata": {},
   "outputs": [],
   "source": [
    "arr3=np.array([1.2,1.3,2.4])"
   ]
  },
  {
   "cell_type": "code",
   "execution_count": null,
   "id": "c5bf7ab8",
   "metadata": {
    "scrolled": true
   },
   "outputs": [],
   "source": [
    "arr2.dtype # dtype은 데이터타입 줄임말, # 32비트"
   ]
  },
  {
   "cell_type": "code",
   "execution_count": null,
   "id": "4173ebab",
   "metadata": {
    "scrolled": true
   },
   "outputs": [],
   "source": [
    "arr3.dtype # 64비트"
   ]
  },
  {
   "cell_type": "code",
   "execution_count": null,
   "id": "98ea8b4f",
   "metadata": {},
   "outputs": [],
   "source": [
    "arr4=np.array([1,2,3], dtype=np.float64)"
   ]
  },
  {
   "cell_type": "code",
   "execution_count": null,
   "id": "306df4ea",
   "metadata": {
    "scrolled": false
   },
   "outputs": [],
   "source": [
    "arr4.dtype"
   ]
  },
  {
   "cell_type": "code",
   "execution_count": null,
   "id": "cedb63f8",
   "metadata": {},
   "outputs": [],
   "source": [
    "numeric_strings = np.array(['1.25','9.6','42'], dtype=np.string_)"
   ]
  },
  {
   "cell_type": "code",
   "execution_count": null,
   "id": "0ca24710",
   "metadata": {
    "scrolled": true
   },
   "outputs": [],
   "source": [
    "numeric_strings.astype(float) # 문자열을 숫자로 형변환(type casting)"
   ]
  },
  {
   "cell_type": "code",
   "execution_count": null,
   "id": "2f293a01",
   "metadata": {
    "scrolled": true
   },
   "outputs": [],
   "source": [
    "try:\n",
    "    numeric_strings = np.array(['1.25','9.6','42','사랑'], dtype=np.string_)\n",
    "except:\n",
    "    print(\"문자는 실수로 형변환 불가\")"
   ]
  },
  {
   "cell_type": "code",
   "execution_count": null,
   "id": "c941593b",
   "metadata": {
    "scrolled": false
   },
   "outputs": [],
   "source": [
    "try:\n",
    "    numeric_strings = np.array(['1.25','9.6','42'], dtype=np.string_)\n",
    "    v = numeric_strings.astype(float)\n",
    "    print(v)\n",
    "except:\n",
    "    print(\"문자는 실수로 형변환 불가\")"
   ]
  },
  {
   "cell_type": "code",
   "execution_count": null,
   "id": "57280f5e",
   "metadata": {},
   "outputs": [],
   "source": [
    "def f(x):\n",
    "    x_=np.array(x)\n",
    "    list_=[]\n",
    "    try:\n",
    "        list_.append(x_.astype(float).astype(int))\n",
    "        return list_\n",
    "    except:\n",
    "        return 0"
   ]
  },
  {
   "cell_type": "code",
   "execution_count": null,
   "id": "a8f9e94a",
   "metadata": {
    "scrolled": true
   },
   "outputs": [],
   "source": [
    "[f(i) for i in [['사랑','1.2','3.6'],['증오'],[2.3,11,5]]]"
   ]
  },
  {
   "cell_type": "code",
   "execution_count": null,
   "id": "4b7fe1e2",
   "metadata": {
    "scrolled": true
   },
   "outputs": [],
   "source": [
    "arr=np.array([[1,2,3],[4,5,6]])\n",
    "arr"
   ]
  },
  {
   "cell_type": "code",
   "execution_count": null,
   "id": "11aff588",
   "metadata": {
    "scrolled": false
   },
   "outputs": [],
   "source": [
    "# arr*arr 을 파이썬으로 프로그래밍하자\n",
    "list1=[]\n",
    "for i in arr:\n",
    "    list2=[]\n",
    "    for j in i:\n",
    "        list2.append(j*j)\n",
    "    list1.append(list2)\n",
    "list1 "
   ]
  },
  {
   "cell_type": "code",
   "execution_count": null,
   "id": "a4b24858",
   "metadata": {},
   "outputs": [],
   "source": [
    "#강사님)\n",
    "[[i*i for i in j ] for j in arr]"
   ]
  },
  {
   "cell_type": "code",
   "execution_count": null,
   "id": "1a3c1a05",
   "metadata": {},
   "outputs": [],
   "source": [
    "# 문제2) 함수를만들어서 두번째 인자만큼 제곱을 한다\n",
    "# 3을 전달하면 3승 5를 전달하면 5승\n",
    "\n",
    "def f(x,y):\n",
    "    list1=[]\n",
    "    for i in x:\n",
    "        list2=[]\n",
    "        for j in i:\n",
    "            list2.append(j**y)\n",
    "        list1.append(list2)\n",
    "    return list1"
   ]
  },
  {
   "cell_type": "code",
   "execution_count": null,
   "id": "9e925412",
   "metadata": {},
   "outputs": [],
   "source": [
    "f(arr,5)"
   ]
  },
  {
   "cell_type": "code",
   "execution_count": null,
   "id": "2f4f91dc",
   "metadata": {},
   "outputs": [],
   "source": [
    "def pow_(a, b):\n",
    "    mul_=1\n",
    "    for _ in range(b):\n",
    "        mul_*=a\n",
    "    return mul_"
   ]
  },
  {
   "cell_type": "code",
   "execution_count": null,
   "id": "e73684ec",
   "metadata": {
    "scrolled": true
   },
   "outputs": [],
   "source": [
    "# 강사님)\n",
    "[[pow_(i,5) for i in j] for j in arr]\n",
    "# [[[pow_(i,k) for i in j] for j in arr] for k in range(7)]"
   ]
  },
  {
   "cell_type": "markdown",
   "id": "79f9c2fa",
   "metadata": {},
   "source": [
    "## 색인과 슬라이싱 기초"
   ]
  },
  {
   "cell_type": "code",
   "execution_count": null,
   "id": "b2c13c3b",
   "metadata": {},
   "outputs": [],
   "source": [
    "arr = np.arange(10)\n",
    "arr"
   ]
  },
  {
   "cell_type": "code",
   "execution_count": null,
   "id": "5ed7aa1e",
   "metadata": {},
   "outputs": [],
   "source": [
    "arr[5] # 0부터 시작하므로 6번째 위치"
   ]
  },
  {
   "cell_type": "code",
   "execution_count": null,
   "id": "54a0c259",
   "metadata": {},
   "outputs": [],
   "source": [
    "print(arr[5:8],arr[:2],arr[4:])"
   ]
  },
  {
   "cell_type": "code",
   "execution_count": null,
   "id": "c3e341b0",
   "metadata": {
    "scrolled": false
   },
   "outputs": [],
   "source": [
    "print(arr[-3:],arr[-3:-1])"
   ]
  },
  {
   "cell_type": "code",
   "execution_count": null,
   "id": "024a7615",
   "metadata": {},
   "outputs": [],
   "source": [
    "arr = np.arange(10)"
   ]
  },
  {
   "cell_type": "code",
   "execution_count": null,
   "id": "9935e35a",
   "metadata": {
    "scrolled": true
   },
   "outputs": [],
   "source": [
    "arr[:]=32\n",
    "arr"
   ]
  },
  {
   "cell_type": "code",
   "execution_count": null,
   "id": "c78a6f5d",
   "metadata": {},
   "outputs": [],
   "source": [
    "arr2d = np.array([[1,2,3],[4,5,6],[7,8,9]])\n",
    "arr2d[2]"
   ]
  },
  {
   "cell_type": "code",
   "execution_count": null,
   "id": "2761357c",
   "metadata": {
    "scrolled": true
   },
   "outputs": [],
   "source": [
    "arr2d[:][:1]"
   ]
  },
  {
   "cell_type": "code",
   "execution_count": null,
   "id": "603ba1bf",
   "metadata": {
    "scrolled": false
   },
   "outputs": [],
   "source": [
    "arr2d[1:][:2]"
   ]
  },
  {
   "cell_type": "code",
   "execution_count": null,
   "id": "185d6728",
   "metadata": {
    "scrolled": true
   },
   "outputs": [],
   "source": [
    "arr2d[1:,:2] # 1열부터 끝까지, 처음부터 2행까지"
   ]
  },
  {
   "cell_type": "code",
   "execution_count": null,
   "id": "0c1e9f97",
   "metadata": {
    "scrolled": true
   },
   "outputs": [],
   "source": [
    "arr2d[:2,:2]"
   ]
  },
  {
   "cell_type": "code",
   "execution_count": null,
   "id": "786542de",
   "metadata": {
    "scrolled": true
   },
   "outputs": [],
   "source": [
    "arr2d_list=[[1,2,3],[4,5,6],[7,8,9]]\n",
    "arr2d_list[:2][0][:2],arr2d_list[:2][1][:2]"
   ]
  },
  {
   "cell_type": "code",
   "execution_count": null,
   "id": "42a4085c",
   "metadata": {
    "scrolled": true
   },
   "outputs": [],
   "source": [
    "arr2d[:,:1]"
   ]
  },
  {
   "cell_type": "code",
   "execution_count": null,
   "id": "28a03934",
   "metadata": {},
   "outputs": [],
   "source": [
    "np.shape(arr2d)"
   ]
  },
  {
   "cell_type": "code",
   "execution_count": null,
   "id": "f517f8b1",
   "metadata": {
    "scrolled": true
   },
   "outputs": [],
   "source": [
    "arr2d[:,0]"
   ]
  },
  {
   "cell_type": "code",
   "execution_count": null,
   "id": "198514f6",
   "metadata": {
    "scrolled": true
   },
   "outputs": [],
   "source": [
    "np.shape(arr2d[:,0])"
   ]
  },
  {
   "cell_type": "code",
   "execution_count": null,
   "id": "fefcc601",
   "metadata": {
    "scrolled": false
   },
   "outputs": [],
   "source": [
    "arr2d[:,[0]]"
   ]
  },
  {
   "cell_type": "code",
   "execution_count": null,
   "id": "d87f646c",
   "metadata": {
    "scrolled": false
   },
   "outputs": [],
   "source": [
    "np.shape(arr2d[:,[0]])"
   ]
  },
  {
   "cell_type": "code",
   "execution_count": null,
   "id": "3a0d60d2",
   "metadata": {
    "scrolled": true
   },
   "outputs": [],
   "source": [
    "arr3d=np.array([[[1,2,3],[4,5,6]],[[7,8,9],[10,11,12]]])\n",
    "arr3d"
   ]
  },
  {
   "cell_type": "code",
   "execution_count": null,
   "id": "c0653d52",
   "metadata": {
    "scrolled": false
   },
   "outputs": [],
   "source": [
    "arr3d[0]"
   ]
  },
  {
   "cell_type": "code",
   "execution_count": null,
   "id": "27fa4ed7",
   "metadata": {
    "scrolled": true
   },
   "outputs": [],
   "source": [
    "old_values = arr3d[0].copy()\n",
    "arr3d[0]=42 # 전체에 적용함\n",
    "arr3d"
   ]
  },
  {
   "cell_type": "code",
   "execution_count": null,
   "id": "9d51112b",
   "metadata": {
    "scrolled": true
   },
   "outputs": [],
   "source": [
    "arr3d[0] = old_values\n",
    "arr3d"
   ]
  },
  {
   "cell_type": "code",
   "execution_count": null,
   "id": "356de626",
   "metadata": {},
   "outputs": [],
   "source": [
    "arr3d[1,0,2]"
   ]
  },
  {
   "cell_type": "markdown",
   "id": "ff9f5c1b",
   "metadata": {},
   "source": [
    "<!-- <img src=\"1/3d.png\"/> -->\n",
    "![](1/3d.png)"
   ]
  },
  {
   "cell_type": "code",
   "execution_count": null,
   "id": "b51ce87c",
   "metadata": {
    "scrolled": true
   },
   "outputs": [],
   "source": [
    "arr3d=np.array([\n",
    "    [[1,2,3,11],[4,5,6,17]] ,\n",
    "    [[7,8,9,23],[ 10,11,12,36]],\n",
    "     [[72,82,92,232],[ 102,121,122,326]],\n",
    "     [[71,18,19,123],[ 101,111,121,136]]\n",
    "])\n",
    "arr3d"
   ]
  },
  {
   "cell_type": "code",
   "execution_count": null,
   "id": "72dfba7f",
   "metadata": {
    "scrolled": true
   },
   "outputs": [],
   "source": [
    "# 3,9,92,19출력\n",
    "np.shape(arr3d[:,:1,2:3])"
   ]
  },
  {
   "cell_type": "code",
   "execution_count": null,
   "id": "3848cb52",
   "metadata": {
    "scrolled": true
   },
   "outputs": [],
   "source": [
    "# 3,9,92,19출력\n",
    "np.shape(arr3d[:,0,2:3])"
   ]
  },
  {
   "cell_type": "code",
   "execution_count": null,
   "id": "cf3640b5",
   "metadata": {
    "scrolled": true
   },
   "outputs": [],
   "source": [
    "np.shape(arr3d)"
   ]
  },
  {
   "cell_type": "code",
   "execution_count": 32,
   "id": "50dfa0bc",
   "metadata": {},
   "outputs": [],
   "source": [
    "names=np.array(['Bob','Joe','Will','Bob','Will','Joe','Joe'])\n",
    "data = np.random.randn(7,4)"
   ]
  },
  {
   "cell_type": "code",
   "execution_count": 34,
   "id": "758938e2",
   "metadata": {},
   "outputs": [
    {
     "data": {
      "text/plain": [
       "array([ True, False, False,  True, False, False, False])"
      ]
     },
     "execution_count": 34,
     "metadata": {},
     "output_type": "execute_result"
    }
   ],
   "source": [
    "names=='Bob'"
   ]
  },
  {
   "cell_type": "code",
   "execution_count": 35,
   "id": "299e3596",
   "metadata": {
    "scrolled": true
   },
   "outputs": [
    {
     "data": {
      "text/plain": [
       "array(['Bob', 'Bob'], dtype='<U4')"
      ]
     },
     "execution_count": 35,
     "metadata": {},
     "output_type": "execute_result"
    }
   ],
   "source": [
    "names[names=='Bob']"
   ]
  },
  {
   "cell_type": "code",
   "execution_count": 36,
   "id": "ff193c37",
   "metadata": {
    "scrolled": true
   },
   "outputs": [
    {
     "data": {
      "text/plain": [
       "array(['Joe', 'Will', 'Will', 'Joe', 'Joe'], dtype='<U4')"
      ]
     },
     "execution_count": 36,
     "metadata": {},
     "output_type": "execute_result"
    }
   ],
   "source": [
    "#문제 ) Will과 Joe 선택\n",
    "names[names != 'Bob']"
   ]
  },
  {
   "cell_type": "code",
   "execution_count": 37,
   "id": "de5074ff",
   "metadata": {
    "scrolled": true
   },
   "outputs": [
    {
     "data": {
      "text/plain": [
       "array(['Joe', 'Will', 'Will', 'Joe', 'Joe'], dtype='<U4')"
      ]
     },
     "execution_count": 37,
     "metadata": {},
     "output_type": "execute_result"
    }
   ],
   "source": [
    "#문제 ) Will과 Joe 선택\n",
    "names[(names == 'Will') | (names=='Joe')]"
   ]
  },
  {
   "cell_type": "code",
   "execution_count": 38,
   "id": "3d373380",
   "metadata": {},
   "outputs": [
    {
     "name": "stdout",
     "output_type": "stream",
     "text": [
      "[ 0.97053147  0.02527918  1.37968336 -1.7075283 ] [ 0.51774373 -0.39884878 -0.56002567  0.07448313]\n"
     ]
    }
   ],
   "source": [
    "print(data[0],data[3])"
   ]
  },
  {
   "cell_type": "code",
   "execution_count": 33,
   "id": "5a116e34",
   "metadata": {
    "scrolled": false
   },
   "outputs": [
    {
     "data": {
      "text/plain": [
       "array([[ 0.97053147,  0.02527918,  1.37968336, -1.7075283 ],\n",
       "       [ 0.51774373, -0.39884878, -0.56002567,  0.07448313]])"
      ]
     },
     "execution_count": 33,
     "metadata": {},
     "output_type": "execute_result"
    }
   ],
   "source": [
    "data[names=='Bob'] #'불리언 배열을 배열의 index로 사용 가능"
   ]
  },
  {
   "cell_type": "code",
   "execution_count": 148,
   "id": "b05d9b0e",
   "metadata": {},
   "outputs": [],
   "source": [
    "names1=np.array([[['홍','길동','국제']]])\n",
    "data=np.array([[[11,12],[13,17]],[[4,3],[1,7]],[[5,4],[8,-1]]])"
   ]
  },
  {
   "cell_type": "code",
   "execution_count": 162,
   "id": "31e37370",
   "metadata": {
    "scrolled": true
   },
   "outputs": [
    {
     "data": {
      "text/plain": [
       "array([False,  True, False])"
      ]
     },
     "execution_count": 162,
     "metadata": {},
     "output_type": "execute_result"
    }
   ],
   "source": [
    "names1[0][0]=='길동'"
   ]
  },
  {
   "cell_type": "code",
   "execution_count": 167,
   "id": "51e3029a",
   "metadata": {
    "scrolled": false
   },
   "outputs": [
    {
     "data": {
      "text/plain": [
       "array(['홍', '길동', '국제'], dtype='<U2')"
      ]
     },
     "execution_count": 167,
     "metadata": {},
     "output_type": "execute_result"
    }
   ],
   "source": [
    "names1[0,0]"
   ]
  },
  {
   "cell_type": "code",
   "execution_count": 165,
   "id": "3cd4f140",
   "metadata": {
    "scrolled": false
   },
   "outputs": [
    {
     "data": {
      "text/plain": [
       "array([[[4, 3],\n",
       "        [1, 7]]])"
      ]
     },
     "execution_count": 165,
     "metadata": {},
     "output_type": "execute_result"
    }
   ],
   "source": [
    "data[names1[0,0]=='길동']"
   ]
  },
  {
   "cell_type": "code",
   "execution_count": 170,
   "id": "9cadaf06",
   "metadata": {},
   "outputs": [],
   "source": [
    "names=np.array(['Bob','Joe','Will','Bob','Will','Joe','Joe'])\n",
    "data = np.random.randn(7,4) #7행, 4열"
   ]
  },
  {
   "cell_type": "code",
   "execution_count": 171,
   "id": "ecac54fb",
   "metadata": {
    "scrolled": true
   },
   "outputs": [
    {
     "data": {
      "text/plain": [
       "array([[1.07590711, 0.        , 2.68653157, 0.        ],\n",
       "       [0.23335295, 0.        , 0.7070343 , 1.30976848],\n",
       "       [0.73086346, 0.        , 0.10553185, 0.        ],\n",
       "       [0.47743715, 0.        , 0.64782806, 1.32197121],\n",
       "       [0.29824502, 0.32468843, 0.        , 0.93537435],\n",
       "       [0.        , 0.70309547, 0.67953453, 0.85638415],\n",
       "       [0.        , 1.45390432, 0.03125554, 0.        ]])"
      ]
     },
     "execution_count": 171,
     "metadata": {},
     "output_type": "execute_result"
    }
   ],
   "source": [
    "data[data<0]=0\n",
    "data"
   ]
  },
  {
   "cell_type": "code",
   "execution_count": 173,
   "id": "06fb903e",
   "metadata": {
    "scrolled": true
   },
   "outputs": [
    {
     "data": {
      "text/plain": [
       "array([[ 0,  1,  2,  3,  4],\n",
       "       [ 5,  6,  7,  8,  9],\n",
       "       [10, 11, 12, 13, 14]])"
      ]
     },
     "execution_count": 173,
     "metadata": {},
     "output_type": "execute_result"
    }
   ],
   "source": [
    "arr = np.arange(15).reshape((3,5)) # 5행 3열을 -> 3행,5열\n",
    "arr"
   ]
  },
  {
   "cell_type": "code",
   "execution_count": 174,
   "id": "90b6a9b1",
   "metadata": {
    "scrolled": false
   },
   "outputs": [
    {
     "data": {
      "text/plain": [
       "array([[ 0,  5, 10],\n",
       "       [ 1,  6, 11],\n",
       "       [ 2,  7, 12],\n",
       "       [ 3,  8, 13],\n",
       "       [ 4,  9, 14]])"
      ]
     },
     "execution_count": 174,
     "metadata": {},
     "output_type": "execute_result"
    }
   ],
   "source": [
    "arr.T # 3행, 5열"
   ]
  },
  {
   "cell_type": "code",
   "execution_count": 195,
   "id": "aff21cbc",
   "metadata": {
    "scrolled": true
   },
   "outputs": [
    {
     "data": {
      "text/plain": [
       "array([[ 0,  1,  2,  3],\n",
       "       [ 4,  5,  6,  7],\n",
       "       [ 8,  9, 10, 11],\n",
       "       [12, 13, 14, 15],\n",
       "       [16, 17, 18, 19],\n",
       "       [20, 21, 22, 23]])"
      ]
     },
     "execution_count": 195,
     "metadata": {},
     "output_type": "execute_result"
    }
   ],
   "source": [
    "arr1 = np.arange(24).reshape((6,4)) # 6행 4열\n",
    "arr1"
   ]
  },
  {
   "cell_type": "code",
   "execution_count": 196,
   "id": "7859c115",
   "metadata": {
    "scrolled": true
   },
   "outputs": [
    {
     "data": {
      "text/plain": [
       "array([[ 0,  4,  8, 12, 16, 20],\n",
       "       [ 1,  5,  9, 13, 17, 21],\n",
       "       [ 2,  6, 10, 14, 18, 22],\n",
       "       [ 3,  7, 11, 15, 19, 23]])"
      ]
     },
     "execution_count": 196,
     "metadata": {},
     "output_type": "execute_result"
    }
   ],
   "source": [
    "arr1.T"
   ]
  },
  {
   "cell_type": "code",
   "execution_count": 206,
   "id": "08d31d8a",
   "metadata": {},
   "outputs": [],
   "source": [
    "arr_a =np.arange(3*6*4).reshape((3,6,4))[:,:,2]\n",
    "arr_symetry_matrix = np.dot(arr_a,arr_a.T)"
   ]
  },
  {
   "cell_type": "code",
   "execution_count": 216,
   "id": "e42c34ee",
   "metadata": {
    "scrolled": false
   },
   "outputs": [
    {
     "data": {
      "text/plain": [
       "array([[ 4.09534695e+12, -8.19069391e+12,  4.09534695e+12],\n",
       "       [-8.19069391e+12,  1.63813878e+13, -8.19069391e+12],\n",
       "       [ 4.09534695e+12, -8.19069391e+12,  4.09534695e+12]])"
      ]
     },
     "execution_count": 216,
     "metadata": {},
     "output_type": "execute_result"
    }
   ],
   "source": [
    "np.linalg.inv(arr_symetry_matrix)"
   ]
  },
  {
   "cell_type": "code",
   "execution_count": 225,
   "id": "4ded209f",
   "metadata": {
    "scrolled": true
   },
   "outputs": [
    {
     "data": {
      "text/plain": [
       "array([[ 4.09534695e+12, -8.19069391e+12,  4.09534695e+12],\n",
       "       [-8.19069391e+12,  1.63813878e+13, -8.19069391e+12],\n",
       "       [ 4.09534695e+12, -8.19069391e+12,  4.09534695e+12]])"
      ]
     },
     "execution_count": 225,
     "metadata": {},
     "output_type": "execute_result"
    }
   ],
   "source": [
    "arr_symetry_matrix_inv = np.linalg.inv(arr_symetry_matrix)  #역행렬\n",
    "arr_symetry_matrix_inv"
   ]
  },
  {
   "cell_type": "code",
   "execution_count": 226,
   "id": "eff1bd3e",
   "metadata": {
    "scrolled": true
   },
   "outputs": [
    {
     "data": {
      "text/plain": [
       "array([[-4.72656250e-01, -2.43750000e+00,  2.20312500e+00],\n",
       "       [-3.90625000e-03, -1.93750000e+00,  2.82812500e+00],\n",
       "       [-3.53515625e+00,  6.56250000e+00,  7.45312500e+00]])"
      ]
     },
     "execution_count": 226,
     "metadata": {},
     "output_type": "execute_result"
    }
   ],
   "source": [
    "mul_ = np.dot(arr_symetry_matrix, arr_symetry_matrix_inv) \n",
    "mul_"
   ]
  },
  {
   "cell_type": "code",
   "execution_count": 208,
   "id": "7aac2794",
   "metadata": {
    "scrolled": true
   },
   "outputs": [
    {
     "data": {
      "text/plain": [
       "array([[ 1144,  2872,  4600],\n",
       "       [ 2872,  8056, 13240],\n",
       "       [ 4600, 13240, 21880]])"
      ]
     },
     "execution_count": 208,
     "metadata": {},
     "output_type": "execute_result"
    }
   ],
   "source": [
    "arr_symetry_matrix.T"
   ]
  },
  {
   "cell_type": "code",
   "execution_count": 209,
   "id": "a9fd6b2b",
   "metadata": {},
   "outputs": [],
   "source": [
    "from sympy import *"
   ]
  },
  {
   "cell_type": "code",
   "execution_count": 211,
   "id": "92938f57",
   "metadata": {
    "scrolled": true
   },
   "outputs": [
    {
     "data": {
      "text/plain": [
       "array([ 1144,  8056, 21880])"
      ]
     },
     "execution_count": 211,
     "metadata": {},
     "output_type": "execute_result"
    }
   ],
   "source": [
    "arr_symetry_matrix.diagonal()"
   ]
  },
  {
   "cell_type": "code",
   "execution_count": 227,
   "id": "d881dca4",
   "metadata": {},
   "outputs": [
    {
     "data": {
      "text/plain": [
       "array([[-5.54230277e+03, -1.57563388e+04, -2.59703748e+04],\n",
       "       [ 0.00000000e+00, -4.27678229e+02, -8.55356458e+02],\n",
       "       [ 0.00000000e+00,  0.00000000e+00, -1.90233853e-13]])"
      ]
     },
     "execution_count": 227,
     "metadata": {},
     "output_type": "execute_result"
    }
   ],
   "source": [
    "Q,R = np.linalg.qr(arr_symetry_matrix) # QR 분해(Q는 직교행렬, R은 상 삼각행렬)\n",
    "R # 우상단에만 값이 있다"
   ]
  },
  {
   "cell_type": "code",
   "execution_count": 230,
   "id": "0b2ec007",
   "metadata": {},
   "outputs": [
    {
     "data": {
      "text/plain": [
       "array([[-0.2064124 ,  0.88922846,  0.40824829],\n",
       "       [-0.51819616,  0.25457037, -0.81649658],\n",
       "       [-0.82997992, -0.38008771,  0.40824829]])"
      ]
     },
     "execution_count": 230,
     "metadata": {},
     "output_type": "execute_result"
    }
   ],
   "source": [
    "Q"
   ]
  },
  {
   "cell_type": "code",
   "execution_count": 234,
   "id": "34fa11cb",
   "metadata": {
    "scrolled": false
   },
   "outputs": [
    {
     "data": {
      "text/plain": [
       "-1.6653345369377348e-16"
      ]
     },
     "execution_count": 234,
     "metadata": {},
     "output_type": "execute_result"
    }
   ],
   "source": [
    "np.dot(Q[0], Q[1]) # 값이 0처럼 안보여도 0, 벡터가 0이면 수직"
   ]
  },
  {
   "cell_type": "code",
   "execution_count": 239,
   "id": "19cc8768",
   "metadata": {
    "scrolled": false
   },
   "outputs": [
    {
     "data": {
      "text/plain": [
       "-1.6653345369377348e-16"
      ]
     },
     "execution_count": 239,
     "metadata": {},
     "output_type": "execute_result"
    }
   ],
   "source": [
    "np.dot(Q[0].T, Q[1].T) # 0"
   ]
  },
  {
   "cell_type": "code",
   "execution_count": 235,
   "id": "8d8e89cb",
   "metadata": {
    "scrolled": true
   },
   "outputs": [
    {
     "data": {
      "text/plain": [
       "0.0"
      ]
     },
     "execution_count": 235,
     "metadata": {},
     "output_type": "execute_result"
    }
   ],
   "source": [
    "np.dot(Q[2], Q[1]) # 0"
   ]
  },
  {
   "cell_type": "code",
   "execution_count": 240,
   "id": "e8ff5aef",
   "metadata": {
    "scrolled": true
   },
   "outputs": [
    {
     "data": {
      "text/plain": [
       "0.0"
      ]
     },
     "execution_count": 240,
     "metadata": {},
     "output_type": "execute_result"
    }
   ],
   "source": [
    "np.dot(Q[2].T, Q[1].T) # 0"
   ]
  },
  {
   "cell_type": "code",
   "execution_count": 238,
   "id": "67605861",
   "metadata": {
    "scrolled": true
   },
   "outputs": [
    {
     "data": {
      "text/plain": [
       "-1.1102230246251565e-16"
      ]
     },
     "execution_count": 238,
     "metadata": {},
     "output_type": "execute_result"
    }
   ],
   "source": [
    "np.dot(Q[2], Q[0]) # 0"
   ]
  },
  {
   "cell_type": "code",
   "execution_count": 241,
   "id": "cad31714",
   "metadata": {
    "scrolled": true
   },
   "outputs": [
    {
     "data": {
      "text/plain": [
       "-1.1102230246251565e-16"
      ]
     },
     "execution_count": 241,
     "metadata": {},
     "output_type": "execute_result"
    }
   ],
   "source": [
    "np.dot(Q[2].T, Q[0].T) # 0"
   ]
  },
  {
   "cell_type": "code",
   "execution_count": 233,
   "id": "ab7a4f2f",
   "metadata": {
    "scrolled": false
   },
   "outputs": [
    {
     "name": "stdout",
     "output_type": "stream",
     "text": [
      "참\n"
     ]
    }
   ],
   "source": [
    "if np.dot(Q[0], Q[1]) < 0.000001:\n",
    "    print('참')"
   ]
  },
  {
   "cell_type": "code",
   "execution_count": 214,
   "id": "9236fecd",
   "metadata": {
    "scrolled": true
   },
   "outputs": [
    {
     "data": {
      "text/plain": [
       "[array([3.08920526e+04, 1.87947369e+02, 2.37882327e-13]),\n",
       " array([[-0.17932603, -0.89508408,  0.40824829],\n",
       "        [-0.51023026, -0.27018218, -0.81649658],\n",
       "        [-0.8411345 ,  0.35471972,  0.40824829]])]"
      ]
     },
     "execution_count": 214,
     "metadata": {},
     "output_type": "execute_result"
    }
   ],
   "source": [
    "W,V = np.linalg.eig(arr_symetry_matrix)\n",
    "[W,V]"
   ]
  },
  {
   "cell_type": "code",
   "execution_count": 243,
   "id": "495c520e",
   "metadata": {},
   "outputs": [],
   "source": [
    "kwon = np.random.randn(4,4)"
   ]
  },
  {
   "cell_type": "code",
   "execution_count": 244,
   "id": "ba9554f3",
   "metadata": {},
   "outputs": [
    {
     "data": {
      "text/plain": [
       "array([[-0.89410938,  0.16333289,  0.33957203, -0.2420364 ],\n",
       "       [-0.16102747, -0.77114433,  0.32143927,  0.52543636],\n",
       "       [-0.36148205, -0.35289957, -0.85664552, -0.10464736],\n",
       "       [-0.20968857,  0.50410384, -0.21800477,  0.80894001]])"
      ]
     },
     "execution_count": 244,
     "metadata": {},
     "output_type": "execute_result"
    }
   ],
   "source": [
    "Q,R = np.linalg.qr(kwon)\n",
    "Q"
   ]
  },
  {
   "cell_type": "code",
   "execution_count": 247,
   "id": "8bdb176f",
   "metadata": {},
   "outputs": [
    {
     "data": {
      "text/plain": [
       "-9.71445146547012e-17"
      ]
     },
     "execution_count": 247,
     "metadata": {},
     "output_type": "execute_result"
    }
   ],
   "source": [
    "np.dot(Q[0],Q[1])"
   ]
  },
  {
   "cell_type": "code",
   "execution_count": 250,
   "id": "9fda8f79",
   "metadata": {
    "scrolled": true
   },
   "outputs": [
    {
     "data": {
      "text/plain": [
       "-9.71445146547012e-17"
      ]
     },
     "execution_count": 250,
     "metadata": {},
     "output_type": "execute_result"
    }
   ],
   "source": [
    "np.dot(Q[0].T,Q[1].T)"
   ]
  },
  {
   "cell_type": "code",
   "execution_count": 280,
   "id": "a144a992",
   "metadata": {},
   "outputs": [
    {
     "data": {
      "text/plain": [
       "array([-5.  , -4.99])"
      ]
     },
     "execution_count": 280,
     "metadata": {},
     "output_type": "execute_result"
    }
   ],
   "source": [
    "points = np.arange(-5,5,0.01)\n",
    "points[:2]"
   ]
  },
  {
   "cell_type": "code",
   "execution_count": 281,
   "id": "bbddbcbf",
   "metadata": {},
   "outputs": [
    {
     "data": {
      "text/plain": [
       "array([[-5.  , -4.99, -4.98, ...,  4.97,  4.98,  4.99],\n",
       "       [-5.  , -4.99, -4.98, ...,  4.97,  4.98,  4.99],\n",
       "       [-5.  , -4.99, -4.98, ...,  4.97,  4.98,  4.99]])"
      ]
     },
     "execution_count": 281,
     "metadata": {},
     "output_type": "execute_result"
    }
   ],
   "source": [
    "xs,ys = np.meshgrid(points, points)\n",
    "xs[:3]"
   ]
  },
  {
   "cell_type": "code",
   "execution_count": 282,
   "id": "7c1dc9b5",
   "metadata": {},
   "outputs": [
    {
     "data": {
      "text/plain": [
       "array([[7.07106781, 7.06400028, 7.05693985, ..., 7.04988652, 7.05693985,\n",
       "        7.06400028],\n",
       "       [7.06400028, 7.05692568, 7.04985815, ..., 7.04279774, 7.04985815,\n",
       "        7.05692568],\n",
       "       [7.05693985, 7.04985815, 7.04278354, ..., 7.03571603, 7.04278354,\n",
       "        7.04985815]])"
      ]
     },
     "execution_count": 282,
     "metadata": {},
     "output_type": "execute_result"
    }
   ],
   "source": [
    "z=np.sqrt(xs**2+ys**2)\n",
    "z[:3]"
   ]
  },
  {
   "cell_type": "code",
   "execution_count": 283,
   "id": "d6a4ef4f",
   "metadata": {},
   "outputs": [],
   "source": [
    "import matplotlib.pyplot as plt"
   ]
  },
  {
   "cell_type": "code",
   "execution_count": 327,
   "id": "9507fc61",
   "metadata": {
    "scrolled": true
   },
   "outputs": [
    {
     "data": {
      "image/png": "[encoded data removed]",
      "text/plain": [
       "<Figure size 640x480 with 2 Axes>"
      ]
     },
     "metadata": {},
     "output_type": "display_data"
    }
   ],
   "source": [
    "plt.imshow(z,cmap=plt.cm.viridis)\n",
    "plt.colorbar()\n",
    "plt.title(\"image $\\\\sqrt{x^2+y^2}$ for a grid of values\")\n",
    "plt.show()"
   ]
  },
  {
   "cell_type": "code",
   "execution_count": null,
   "id": "e2042fc4",
   "metadata": {},
   "outputs": [],
   "source": []
  }
 ],
 "metadata": {
  "kernelspec": {
   "display_name": "Python 3 (ipykernel)",
   "language": "python",
   "name": "python3"
  },
  "language_info": {
   "codemirror_mode": {
    "name": "ipython",
    "version": 3
   },
   "file_extension": ".py",
   "mimetype": "text/x-python",
   "name": "python",
   "nbconvert_exporter": "python",
   "pygments_lexer": "ipython3",
   "version": "3.11.4"
  }
 },
 "nbformat": 4,
 "nbformat_minor": 5
}
