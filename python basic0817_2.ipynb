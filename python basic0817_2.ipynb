{
 "cells": [
  {
   "cell_type": "code",
   "execution_count": 1,
   "id": "c85d86b9",
   "metadata": {},
   "outputs": [],
   "source": [
    "import numpy as np"
   ]
  },
  {
   "cell_type": "code",
   "execution_count": 2,
   "id": "875561e7",
   "metadata": {},
   "outputs": [
    {
     "data": {
      "text/plain": [
       "{'a_1': 3, 'a_2': 5, 'a_3': 7, 'total': 15}"
      ]
     },
     "execution_count": 2,
     "metadata": {},
     "output_type": "execute_result"
    }
   ],
   "source": [
    "arr = [[0,1,2],[3,4,5]]\n",
    "#총 합 구하기\n",
    "#[0,3]의 합\n",
    "#[1,4]의 합\n",
    "#[2,5]의 합\n",
    "#dictionary로 결과 저장\n",
    "dict1={}\n",
    "dict1['a_1'] = 3\n",
    "dict1['a_2'] = 5\n",
    "dict1['a_3'] = 7\n",
    "dict1['total'] = 0+1+2+3+4+5\n",
    "dict1"
   ]
  },
  {
   "cell_type": "code",
   "execution_count": 4,
   "id": "2aaf5f9a",
   "metadata": {
    "scrolled": true
   },
   "outputs": [
    {
     "name": "stdout",
     "output_type": "stream",
     "text": [
      "15\n"
     ]
    }
   ],
   "source": [
    "#1번\n",
    "sum1=0\n",
    "for i in arr:\n",
    "    for j in i:\n",
    "        sum1 += j\n",
    "print(sum1)"
   ]
  },
  {
   "cell_type": "code",
   "execution_count": 5,
   "id": "0a6eebea",
   "metadata": {},
   "outputs": [
    {
     "name": "stdout",
     "output_type": "stream",
     "text": [
      "3\n"
     ]
    }
   ],
   "source": [
    "#2번\n",
    "sum2=0\n",
    "for i in arr:\n",
    "    sum2 += i[0]\n",
    "print(sum2)"
   ]
  },
  {
   "cell_type": "code",
   "execution_count": 6,
   "id": "dce4cc44",
   "metadata": {},
   "outputs": [
    {
     "name": "stdout",
     "output_type": "stream",
     "text": [
      "5\n"
     ]
    }
   ],
   "source": [
    "#3번\n",
    "sum3=0\n",
    "for i in arr:\n",
    "    sum3 += i[1]\n",
    "print(sum3)"
   ]
  },
  {
   "cell_type": "code",
   "execution_count": 7,
   "id": "bae60825",
   "metadata": {},
   "outputs": [
    {
     "name": "stdout",
     "output_type": "stream",
     "text": [
      "7\n"
     ]
    }
   ],
   "source": [
    "#4번\n",
    "sum4=0\n",
    "for i in arr:\n",
    "    sum4 += i[2]\n",
    "print(sum4)"
   ]
  },
  {
   "cell_type": "code",
   "execution_count": 8,
   "id": "0c8f24e2",
   "metadata": {
    "scrolled": false
   },
   "outputs": [
    {
     "data": {
      "text/plain": [
       "{'a_1': 3, 'a_2': 5, 'a_3': 7, 'total': 15}"
      ]
     },
     "execution_count": 8,
     "metadata": {},
     "output_type": "execute_result"
    }
   ],
   "source": [
    "dict1={}\n",
    "dict1['a_1'] = sum2\n",
    "dict1['a_2'] = sum3\n",
    "dict1['a_3'] = sum4\n",
    "dict1['total'] = sum2+sum3+sum4\n",
    "dict1"
   ]
  },
  {
   "cell_type": "code",
   "execution_count": 12,
   "id": "f0514b2e",
   "metadata": {},
   "outputs": [
    {
     "data": {
      "text/plain": [
       "{'a_1': 3, 'a_2': 5, 'a_3': 7, 'total': 15}"
      ]
     },
     "execution_count": 12,
     "metadata": {},
     "output_type": "execute_result"
    }
   ],
   "source": [
    "dict1={\"a_1\":0,\"a_2\":0,\"a_3\":0,\"total\":0}\n",
    "for i in arr:\n",
    "    for j in range(len(i)):\n",
    "        dict1['total'] += i[j]\n",
    "        dict1['a_'+str(j+1)] += i[j]\n",
    "        \n",
    "dict1       "
   ]
  },
  {
   "cell_type": "code",
   "execution_count": 20,
   "id": "ec906cc1",
   "metadata": {
    "scrolled": false
   },
   "outputs": [
    {
     "data": {
      "text/plain": [
       "{'a_1': 3, 'a_2': 5, 'a_3': 7, 'total': 15}"
      ]
     },
     "execution_count": 20,
     "metadata": {},
     "output_type": "execute_result"
    }
   ],
   "source": [
    "dict1={}\n",
    "sum=0\n",
    "for data in arr:\n",
    "    for idx, data_j in enumerate(data):\n",
    "        f ='a_'+str(idx+1)\n",
    "        if f not in dict1.keys(): #f 문자열(key)가 dict1.keys()에 포함되지 않으면\n",
    "            dict1[f]=0\n",
    "            dict1[f] += data_j\n",
    "        else :\n",
    "            dict1[f] += data_j\n",
    "        sum += data_j\n",
    "dict1['total'] = sum   \n",
    "dict1"
   ]
  },
  {
   "cell_type": "code",
   "execution_count": 22,
   "id": "e7d1c408",
   "metadata": {
    "scrolled": true
   },
   "outputs": [
    {
     "name": "stdout",
     "output_type": "stream",
     "text": [
      "0 사랑\n",
      "1 사랑\n",
      "2 사랑\n",
      "0 믿음\n",
      "1 믿음\n",
      "2 믿음\n",
      "0 믿음\n",
      "1 믿음\n",
      "2 믿음\n"
     ]
    },
    {
     "data": {
      "text/plain": [
       "{'a_1': 14, 'a_2': 22, 'a_3': 25}"
      ]
     },
     "execution_count": 22,
     "metadata": {},
     "output_type": "execute_result"
    }
   ],
   "source": [
    "arr = [[0,1,2],[3,4,5],[11,17,18]]\n",
    "dict1={}\n",
    "\n",
    "for data in arr:\n",
    "    for idx, data_j in enumerate(data):\n",
    "        f ='a_'+str(idx+1)\n",
    "        if f not in dict1.keys(): #f 문자열(key)가 dict1.keys()에 포함되지 않으면\n",
    "            print(idx, \"사랑\")\n",
    "            dict1[f]=0\n",
    "            dict1[f] += data_j\n",
    "        else :\n",
    "            print(idx, \"믿음\")\n",
    "            dict1[f] += data_j\n",
    "dict1"
   ]
  },
  {
   "cell_type": "code",
   "execution_count": 46,
   "id": "0ec82a25",
   "metadata": {},
   "outputs": [
    {
     "data": {
      "text/plain": [
       "{'a_1': 70, 'a_2': 220, 'a_3': 375}"
      ]
     },
     "execution_count": 46,
     "metadata": {},
     "output_type": "execute_result"
    }
   ],
   "source": [
    "#마지막 문제) arr=> dictionary \n",
    "#dict2={\"a_1\":0*5 + 3*5 + 11*5, \"a_2\":1*10 + 2*10 + 17*10, \"a_3\":2*15 + 5*15 + 18*15}\n",
    "\n",
    "dict2={}\n",
    "for i in arr:\n",
    "    for idx, j in enumerate(i):\n",
    "        f = \"a_\"+str(idx+1)\n",
    "        if f not in dict2.keys():\n",
    "            dict2[f]=0\n",
    "            dict2[f] += j*(idx+1)*5\n",
    "        else:\n",
    "            dict2[f] += j*(idx+1)*5\n",
    "dict2"
   ]
  },
  {
   "cell_type": "code",
   "execution_count": null,
   "id": "bf124dd3",
   "metadata": {},
   "outputs": [],
   "source": []
  }
 ],
 "metadata": {
  "kernelspec": {
   "display_name": "Python 3 (ipykernel)",
   "language": "python",
   "name": "python3"
  },
  "language_info": {
   "codemirror_mode": {
    "name": "ipython",
    "version": 3
   },
   "file_extension": ".py",
   "mimetype": "text/x-python",
   "name": "python",
   "nbconvert_exporter": "python",
   "pygments_lexer": "ipython3",
   "version": "3.11.4"
  }
 },
 "nbformat": 4,
 "nbformat_minor": 5
}
