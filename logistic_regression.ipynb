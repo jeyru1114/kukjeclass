{
 "cells": [
  {
   "cell_type": "markdown",
   "id": "d415cb09",
   "metadata": {},
   "source": [
    "<a\n",
    "href=\"https://angeloyeo.github.io/2021/04/23/binomial_distribution.html\"> 이항분포</a>"
   ]
  },
  {
   "cell_type": "markdown",
   "id": "aa3788c4",
   "metadata": {},
   "source": [
    "$$ Pr(K=k) = \\binom{n}{k} p^{k}(1-p)^{n-k} $$\n",
    "$$ 동전을 n번 던져서 k번 앞면이 나올 확률이 p이고 뒷면이 나올 확률은 전체 확률이 1이므로 $$\n",
    "$$ 전체 확률 1에서 앞면이 나올확률(p)를 뺀 것이 1-p이고 그것의 갯수도 전체 횟수(n)에서 앞면이 나올 횟수(k)를 빼면됨 $$\n",
    "$$ log는 단조 증가 함수이므로 log를 취해도 문제가 되지 않는다 $$\n",
    "$$ log (p^{k}(1-p)^{n-k}) = klogp +(n-k)log(1-p) $$\n",
    "## logistic regression의 cost 함수 =\n",
    "$$ J(W,b) = \\frac{1}{m}\\sum_{i=1}^{m}L(\\widehat{y}^{(i)},y^{(i)}) =\n",
    "    -\\frac{1}{m}\\sum_{i=1}^{m}[y^{(i)}log(\\widehat{y}^{(i)}+ (1-y^{(i)})log(1-\\widehat{y}^{(i)})] $$\n",
    "    \n",
    "### Cross Entropy"
   ]
  },
  {
   "cell_type": "markdown",
   "id": "c6415390",
   "metadata": {},
   "source": [
    "$$ 선형 회귀의 결과(z)를 sigmoid의 입력으로 들어간다 $$\n",
    "$$ z = w_{1}x_{1}+ w_{2}x_{2} + w_{3}x_{3} + b $$\n",
    "$$ z = \\sum_{i=1}^{3}w_{i}x_{i} + b $$\n",
    "$$ z = w^{T}x+b \\rightarrow 벡터 표기법 $$\n",
    "\n",
    "$$ \\sigma(z) = g(z) = \\frac{1}{1+e^{-z}} $$\n"
   ]
  },
  {
   "cell_type": "markdown",
   "id": "e80a0101",
   "metadata": {},
   "source": [
    "<img src=\"neuron.png\"/>"
   ]
  },
  {
   "cell_type": "markdown",
   "id": "919d4a1f",
   "metadata": {},
   "source": [
    "<img src=\"a.gif\"/>"
   ]
  },
  {
   "cell_type": "markdown",
   "id": "23edf6ce",
   "metadata": {},
   "source": [
    "<img src=\"n2.jpg\"/>"
   ]
  },
  {
   "cell_type": "code",
   "execution_count": 5,
   "id": "8f6cd58f",
   "metadata": {},
   "outputs": [],
   "source": [
    "import numpy as np"
   ]
  },
  {
   "cell_type": "code",
   "execution_count": 7,
   "id": "b65b2f06",
   "metadata": {},
   "outputs": [],
   "source": [
    "def sigmoid(z):\n",
    "    return 1.0/(1+np.exp(-z))"
   ]
  },
  {
   "cell_type": "markdown",
   "id": "75ef81b4",
   "metadata": {},
   "source": [
    "## Hypothesis (가설)\n",
    "$$ \\frac{1}{1+e^{-(w \\cdot x+b)}} $$"
   ]
  },
  {
   "cell_type": "markdown",
   "id": "45075957",
   "metadata": {},
   "source": [
    "## 손실(Loss)/Cost(비용) 함수\n",
    "## logistic regression의 cost 함수 =\n",
    "$$ J(W,b) = \\frac{1}{m}\\sum_{i=1}^{m}L(\\widehat{y}^{(i)},y^{(i)}) =\n",
    "    -\\frac{1}{m}\\sum_{i=1}^{m}[y^{(i)}log(\\widehat{y}^{(i)})+ (1-y^{(i)})log(1-\\widehat{y}^{(i)})] $$"
   ]
  },
  {
   "cell_type": "code",
   "execution_count": 8,
   "id": "f5a4d615",
   "metadata": {},
   "outputs": [],
   "source": [
    "def loss(y,y_hat):\n",
    "    loss = -np.mean(y*(np.log(y_hat)) - (1-y)*np.log(1-y_hat))\n",
    "    return loss"
   ]
  },
  {
   "cell_type": "markdown",
   "id": "52a86675",
   "metadata": {},
   "source": [
    "## 경사 하강법(Gradient Descent)\n",
    "$$ w := w-lr \\cdot dw \\rightarrow lr = learig rate(학습율) $$\n",
    "$$ b := b-lr \\cdot dw \\rightarrow b = basis $$"
   ]
  },
  {
   "cell_type": "markdown",
   "id": "c3f50685",
   "metadata": {},
   "source": [
    "## 미분 결과\n",
    "$$ dw = \\frac{1}{m} \\cdot (\\widehat{y}-y) \\cdot X $$\n",
    "$$ db = \\frac{1}{m} \\cdot (\\widehat{y}-y) $$ => Linear Regression의 MSE 미분과 동일"
   ]
  },
  {
   "cell_type": "code",
   "execution_count": 11,
   "id": "73e5ed4c",
   "metadata": {},
   "outputs": [],
   "source": [
    "def gradients(X, y, y_hat):\n",
    "    # x ---> 입력\n",
    "    # y ---> 정답(target / label)\n",
    "    # y_hat ---> 가설(모델의 출력, hypothesis/예측치(prediction/추정))\n",
    "    # w ---> weight (파라미터, theta / 우리가 구하고자 하는 값)\n",
    "    # b ---> bias (파라미터, theta 0)\n",
    "    \n",
    "    # m ---> 학습(trainging) 데이터의 갯수\n",
    "    m = X.shape[0]\n",
    "    \n",
    "    # Cost(Loss)를 weight로 미분함\n",
    "    dw = (1/m)*np.dot(X.T , (y_hat-y))\n",
    "    \n",
    "    # Cost(Loss)를 bias로 미분함\n",
    "    db = (1/m)*np.sum((y_hat-y))\n",
    "    \n",
    "    return dw, db"
   ]
  },
  {
   "cell_type": "markdown",
   "id": "2b45b607",
   "metadata": {},
   "source": [
    "## decision boundary\n",
    "$$ y= 1 \\leftarrow \\widehat{y} \\ge 0.5 $$\n",
    "$$ y=0 \\leftarrow \\widehat{y} \\lt 0.5 $$"
   ]
  },
  {
   "cell_type": "code",
   "execution_count": 5,
   "id": "d43515ac",
   "metadata": {},
   "outputs": [],
   "source": [
    "def plot_decision_boundary(X, w, b):\n",
    "    # X = 입력\n",
    "    # w = 가중치\n",
    "    # b = bais\n",
    "    \n",
    "    # 직선은 y =mx +c\n",
    "    # 그래서 직선의 방정식 mx+c = w.X +b\n",
    "    # m과 c를 풀어라\n",
    "    x1 = [min(x[:,0]), max(X[:0])] # X[:,0] X의 모든행을 가져오고 0열 선택\n",
    "    m = -b/w[1]\n",
    "    x2 = m*x1 +c\n",
    "    \n",
    "    #그림 그리기\n",
    "    fig = plt.figure(figsize=(10,0))\n",
    "    plt.plot(X[:,0][y==0],X[:,1][y==0],\"g^\")\n",
    "    plt.plot(X[:,0][y==1],X[:,1][y==1],\"bs\")\n",
    "    plt.xlim([-2,2]) # x구간 지정\n",
    "    plt.ylim([0,2.2]) #ylimit (y 구간지정)\n",
    "    plt.xlabel(\"feature 1\")\n",
    "    plt.ylabel(\"feature 2\")\n",
    "    plt.title(\"Decision Boundary\")\n",
    "    plt.plot(x1, x2, 'y-')"
   ]
  },
  {
   "cell_type": "markdown",
   "id": "6296ca77",
   "metadata": {},
   "source": [
    "## Normalize(정규화) 함수\n",
    "함수 분포가 찌그러져있을 경우 원형의 형태로 변형해야 함"
   ]
  },
  {
   "cell_type": "code",
   "execution_count": 13,
   "id": "713cb6f9",
   "metadata": {},
   "outputs": [],
   "source": [
    "import numpy as np"
   ]
  },
  {
   "cell_type": "code",
   "execution_count": 7,
   "id": "28b51459",
   "metadata": {},
   "outputs": [],
   "source": [
    "def normalize(X):\n",
    "    # X <= 입력\n",
    "    # m <= training 개수\n",
    "    # n <= feature 의 갯수 (weight 와 내적하는 것)\n",
    "    m, n= X.shape #(m ,n) m행 n열\n",
    "    # X 행렬의 모든 n개의 feature들을 정규화함\n",
    "    for i in range(n):\n",
    "        X = (X - X.mean(axis=0))/X.std(axis=0) \n",
    "        #어제 했던 수식(데이터와 평균의 차이를) 표준편차(standard deviation)으로 나눔\n",
    "    return X"
   ]
  },
  {
   "cell_type": "code",
   "execution_count": 8,
   "id": "6884fd7b",
   "metadata": {},
   "outputs": [],
   "source": [
    "#Train 함수\n",
    "## 이 함수에서 gradient descent를 반복하여 학습을 하고 weight 와 bais를 구함\n",
    "def train(X, y, bs, epochs, lr): #epoch는 반복횟수\n",
    "    # X <- 입력\n",
    "    # y <- true / target\n",
    "    # epoch는 반복횟수\n",
    "    # lr = learning rate(학습율)\n",
    "    \n",
    "    #m <- 학습데이터의 수\n",
    "    #n <- feature의 수\n",
    "    \n",
    "    m,n = X.shape\n",
    "    #weight 와 bias 초기화\n",
    "    w = np.zeros((m,1))\n",
    "    b=0\n",
    "    # y를 reshape함(형태를 맞춤)\n",
    "    y=y.reshape(m,1)\n",
    "    #입력 데이터 normalize\n",
    "    x = normalize(X)\n",
    "    #LOSS를 저장하기 위한 빈 LIST 생성\n",
    "    losses = []\n",
    "    # 학습\n",
    "    for epoch in range(epochs):\n",
    "        for i in range((m-1)//bs+1):\n",
    "            #batch 정의, SGD(Stocastric(통계적0), Gradient Descent)\n",
    "            start_i = i*bs # bs(배치 사이즈)\n",
    "            end_i = start_i +bs\n",
    "            xb = X[start_i:end_i]\n",
    "            yb = y[start_i:end_i]\n",
    "            \n",
    "            #hypothesis / 예측 계산\n",
    "            y_hat = sigmoid(np.dot(xb,w)+b)\n",
    "            #loss를 파라미터로 미분\n",
    "            dw, db = gradient(xb, yb, y_hat)\n",
    "            #파라미터 갱신\n",
    "            w -= lr*dw\n",
    "            b -= lr*db\n",
    "        l= loss(y, sigmoid(np.dot(X,w)+b))\n",
    "        losses.append(l)\n",
    "    # weight 와 bias, loss 반환\n",
    "    return w,b, losses"
   ]
  },
  {
   "cell_type": "code",
   "execution_count": 9,
   "id": "6d25d8ab",
   "metadata": {},
   "outputs": [],
   "source": [
    "# 예측 함수\n",
    "def predict(X):\n",
    "    # X <- 입력\n",
    "    # 입력 데이터 normalize\n",
    "    x = normalize(X)\n",
    "    \n",
    "    # 예측/ 추정치/ y_hat 계산\n",
    "    preds = sigmoid(np.dot(X,w)+b)\n",
    "    # 예측 데이터 저장 리스트 생성\n",
    "    pred_class=[]\n",
    "    #y_hat >= 0.5 -> 1로 결과를 출력\n",
    "    #y_hat < 0.5 -> 0 결과를 출력\n",
    "    pred_class = [1 if i > 0.5 else 0 for i in preds]\n",
    "    return np.array(pred_class)"
   ]
  },
  {
   "cell_type": "code",
   "execution_count": 11,
   "id": "11d4f2f9",
   "metadata": {},
   "outputs": [],
   "source": [
    "from sklearn.datasets import make_moons"
   ]
  },
  {
   "cell_type": "code",
   "execution_count": 12,
   "id": "323b6359",
   "metadata": {
    "scrolled": true
   },
   "outputs": [
    {
     "ename": "NameError",
     "evalue": "name 'np' is not defined",
     "output_type": "error",
     "traceback": [
      "\u001b[1;31m---------------------------------------------------------------------------\u001b[0m",
      "\u001b[1;31mNameError\u001b[0m                                 Traceback (most recent call last)",
      "Cell \u001b[1;32mIn[12], line 3\u001b[0m\n\u001b[0;32m      1\u001b[0m \u001b[38;5;66;03m# 학습\u001b[39;00m\n\u001b[0;32m      2\u001b[0m X, y \u001b[38;5;241m=\u001b[39m make_moons(n_samples\u001b[38;5;241m=\u001b[39m\u001b[38;5;241m100\u001b[39m, noise\u001b[38;5;241m=\u001b[39m\u001b[38;5;241m0.24\u001b[39m)\n\u001b[1;32m----> 3\u001b[0m w, b, l \u001b[38;5;241m=\u001b[39m train(X,y,bs\u001b[38;5;241m=\u001b[39m\u001b[38;5;241m100\u001b[39m,epochs\u001b[38;5;241m=\u001b[39m\u001b[38;5;241m1000\u001b[39m,lr\u001b[38;5;241m=\u001b[39m\u001b[38;5;241m0.01\u001b[39m)\n\u001b[0;32m      4\u001b[0m \u001b[38;5;66;03m#그림 그리기\u001b[39;00m\n\u001b[0;32m      5\u001b[0m plot_decision_boundary(X,w,b)\n",
      "Cell \u001b[1;32mIn[8], line 14\u001b[0m, in \u001b[0;36mtrain\u001b[1;34m(X, y, bs, epochs, lr)\u001b[0m\n\u001b[0;32m     12\u001b[0m m,n \u001b[38;5;241m=\u001b[39m X\u001b[38;5;241m.\u001b[39mshape\n\u001b[0;32m     13\u001b[0m \u001b[38;5;66;03m#weight 와 bias 초기화\u001b[39;00m\n\u001b[1;32m---> 14\u001b[0m w \u001b[38;5;241m=\u001b[39m np\u001b[38;5;241m.\u001b[39mzeros((m,\u001b[38;5;241m1\u001b[39m))\n\u001b[0;32m     15\u001b[0m b\u001b[38;5;241m=\u001b[39m\u001b[38;5;241m0\u001b[39m\n\u001b[0;32m     16\u001b[0m \u001b[38;5;66;03m# y를 reshape함(형태를 맞춤)\u001b[39;00m\n",
      "\u001b[1;31mNameError\u001b[0m: name 'np' is not defined"
     ]
    }
   ],
   "source": [
    "# 학습\n",
    "X, y = make_moons(n_samples=100, noise=0.24)\n",
    "w, b, l = train(X,y,bs=100,epochs=1000,lr=0.01)\n",
    "#그림 그리기\n",
    "plot_decision_boundary(X,w,b)"
   ]
  },
  {
   "cell_type": "code",
   "execution_count": 12,
   "id": "e6b4fa25",
   "metadata": {},
   "outputs": [],
   "source": [
    "X = np.arange(-3,3,0.01)\n",
    "y=sigmoid(X)"
   ]
  },
  {
   "cell_type": "markdown",
   "id": "1eff10e1",
   "metadata": {},
   "source": [
    "$$ \\lim_{h\\rightarrow 0} \\frac{f(x+h)-f(x)}{h} $$"
   ]
  },
  {
   "cell_type": "code",
   "execution_count": 17,
   "id": "7a3920bc",
   "metadata": {},
   "outputs": [],
   "source": [
    "def derivative(f,x):\n",
    "    h=0.00001\n",
    "    return (f(x+h)-f(x))/h"
   ]
  },
  {
   "cell_type": "code",
   "execution_count": 20,
   "id": "3812bbc4",
   "metadata": {},
   "outputs": [],
   "source": [
    "derivated = derivative(sigmoid,X)"
   ]
  },
  {
   "cell_type": "code",
   "execution_count": 13,
   "id": "3220d3ee",
   "metadata": {},
   "outputs": [],
   "source": [
    "import matplotlib.pyplot as plt"
   ]
  },
  {
   "cell_type": "code",
   "execution_count": 14,
   "id": "4068d7be",
   "metadata": {
    "scrolled": true
   },
   "outputs": [
    {
     "data": {
      "text/plain": [
       "[<matplotlib.lines.Line2D at 0x1b393fe8090>]"
      ]
     },
     "execution_count": 14,
     "metadata": {},
     "output_type": "execute_result"
    },
    {
     "data": {
      "image/png": "[encoded data removed]",
      "text/plain": [
       "<Figure size 640x480 with 1 Axes>"
      ]
     },
     "metadata": {},
     "output_type": "display_data"
    }
   ],
   "source": [
    "plt.plot(X, y)"
   ]
  },
  {
   "cell_type": "code",
   "execution_count": 21,
   "id": "7f2f527c",
   "metadata": {
    "scrolled": true
   },
   "outputs": [
    {
     "data": {
      "text/plain": [
       "[<matplotlib.lines.Line2D at 0x1b3964987d0>]"
      ]
     },
     "execution_count": 21,
     "metadata": {},
     "output_type": "execute_result"
    },
    {
     "data": {
      "image/png": "[encoded data removed]",
      "text/plain": [
       "<Figure size 640x480 with 1 Axes>"
      ]
     },
     "metadata": {},
     "output_type": "display_data"
    }
   ],
   "source": [
    "plt.plot(X, derivated)"
   ]
  },
  {
   "cell_type": "markdown",
   "id": "b514d83e",
   "metadata": {},
   "source": [
    "##  Hessian 행렬\n",
    "$$   \\begin{bmatrix}\n",
    " \\frac{\\partial^{2}f}{\\partial x_{1}^2} &  \\frac{\\partial^{2}f}{\\partial x_{1} \\partial x_{2} }  & \\cdot  \\cdot \\cdot  &  \\frac{\\partial^{2}f}{\\partial x_{1} \\partial x_{n} }    \\\\\n",
    "\\frac{\\partial^{2}f}{\\partial x_{2} \\partial x_{1}} &\n",
    "\\frac{\\partial^{2}f}{\\partial x_{1}^2}  & \\cdot  \\cdot \\cdot  &  \n",
    "  \\frac{\\partial^{2}f}{\\partial x_{2}\\partial x_{n}}   \\\\\n",
    "\\vdots & \\vdots & \\ddots & \\vdots \\\\\n",
    "\\frac{\\partial^{2}f}{\\partial x_{n} \\partial x_{1} } &  \\frac{\\partial^{2}f}{\\partial x_{n} \\partial x_{2} }  & \\cdot  \\cdot \\cdot  &  \\frac{\\partial^{2}f}{\\partial x_{n}^{2}}   \n",
    "\\end{bmatrix} $$"
   ]
  },
  {
   "cell_type": "markdown",
   "id": "0526c2c3",
   "metadata": {},
   "source": [
    "<a href=\"https://angeloyeo.github.io/2020/06/17/Hessian.html\"> 헤시안 행렬의 기하학 의미 </a>"
   ]
  },
  {
   "cell_type": "code",
   "execution_count": 1,
   "id": "eb14467a",
   "metadata": {},
   "outputs": [],
   "source": [
    "from sympy import symbols , Matrix , Function, simplify, exp, hessian, solve, init_printing\n",
    "x1, x2 = symbols('x1 x2')\n",
    "f, g, h =symbols('f g h' , cls=Function)\n",
    "\n",
    "X = Matrix([x1, x2])\n",
    "f = Matrix([-x1*x2*exp(-(x1**2+x2**2)/2)])\n",
    "h = 2*x1+3*x2\n",
    "g = x1**2+x2**2-10"
   ]
  },
  {
   "cell_type": "code",
   "execution_count": 2,
   "id": "ce0ce869",
   "metadata": {
    "scrolled": true
   },
   "outputs": [
    {
     "data": {
      "text/latex": [
       "$\\displaystyle \\left[\\begin{matrix}x_{2} \\left(x_{1}^{2} - 1\\right) e^{- \\frac{x_{1}^{2}}{2} - \\frac{x_{2}^{2}}{2}} & x_{1} \\left(x_{2}^{2} - 1\\right) e^{- \\frac{x_{1}^{2}}{2} - \\frac{x_{2}^{2}}{2}}\\end{matrix}\\right]$"
      ],
      "text/plain": [
       "Matrix([[x2*(x1**2 - 1)*exp(-x1**2/2 - x2**2/2), x1*(x2**2 - 1)*exp(-x1**2/2 - x2**2/2)]])"
      ]
     },
     "execution_count": 2,
     "metadata": {},
     "output_type": "execute_result"
    }
   ],
   "source": [
    "gradf = simplify(f.jacobian(X))\n",
    "gradf"
   ]
  },
  {
   "cell_type": "code",
   "execution_count": 3,
   "id": "4f1de504",
   "metadata": {
    "scrolled": false
   },
   "outputs": [
    {
     "data": {
      "text/latex": [
       "$\\displaystyle \\left[\\begin{matrix}x_{1} x_{2} \\cdot \\left(3 - x_{1}^{2}\\right) e^{- \\frac{x_{1}^{2}}{2} - \\frac{x_{2}^{2}}{2}} & \\left(- x_{1}^{2} x_{2}^{2} + x_{1}^{2} + x_{2}^{2} - 1\\right) e^{- \\frac{x_{1}^{2}}{2} - \\frac{x_{2}^{2}}{2}}\\\\\\left(- x_{1}^{2} x_{2}^{2} + x_{1}^{2} + x_{2}^{2} - 1\\right) e^{- \\frac{x_{1}^{2}}{2} - \\frac{x_{2}^{2}}{2}} & x_{1} x_{2} \\cdot \\left(3 - x_{2}^{2}\\right) e^{- \\frac{x_{1}^{2}}{2} - \\frac{x_{2}^{2}}{2}}\\end{matrix}\\right]$"
      ],
      "text/plain": [
       "Matrix([\n",
       "[                 x1*x2*(3 - x1**2)*exp(-x1**2/2 - x2**2/2), (-x1**2*x2**2 + x1**2 + x2**2 - 1)*exp(-x1**2/2 - x2**2/2)],\n",
       "[(-x1**2*x2**2 + x1**2 + x2**2 - 1)*exp(-x1**2/2 - x2**2/2),                  x1*x2*(3 - x2**2)*exp(-x1**2/2 - x2**2/2)]])"
      ]
     },
     "execution_count": 3,
     "metadata": {},
     "output_type": "execute_result"
    }
   ],
   "source": [
    "hessian = simplify(hessian(f,X))\n",
    "hessian"
   ]
  },
  {
   "cell_type": "code",
   "execution_count": null,
   "id": "7ab4622d",
   "metadata": {},
   "outputs": [],
   "source": []
  }
 ],
 "metadata": {
  "kernelspec": {
   "display_name": "Python 3 (ipykernel)",
   "language": "python",
   "name": "python3"
  },
  "language_info": {
   "codemirror_mode": {
    "name": "ipython",
    "version": 3
   },
   "file_extension": ".py",
   "mimetype": "text/x-python",
   "name": "python",
   "nbconvert_exporter": "python",
   "pygments_lexer": "ipython3",
   "version": "3.11.4"
  }
 },
 "nbformat": 4,
 "nbformat_minor": 5
}
