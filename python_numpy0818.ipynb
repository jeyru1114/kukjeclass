{
 "cells": [
  {
   "cell_type": "code",
   "execution_count": 5,
   "id": "1404a4f8",
   "metadata": {},
   "outputs": [],
   "source": [
    "import numpy as np # numpy는 모듈, numpy를 np로 쓰겠다고 정의"
   ]
  },
  {
   "cell_type": "code",
   "execution_count": null,
   "id": "df84826f",
   "metadata": {},
   "outputs": [],
   "source": [
    "X = np.array([3,4,2])\n",
    "X"
   ]
  },
  {
   "cell_type": "code",
   "execution_count": null,
   "id": "807099e7",
   "metadata": {},
   "outputs": [],
   "source": [
    "np.shape((X*2))"
   ]
  },
  {
   "cell_type": "code",
   "execution_count": null,
   "id": "c93ee0d8",
   "metadata": {},
   "outputs": [],
   "source": [
    "np.shape((X*2).T)"
   ]
  },
  {
   "cell_type": "code",
   "execution_count": null,
   "id": "d5310798",
   "metadata": {},
   "outputs": [],
   "source": [
    "X2 = np.array([[1,2,3,4],[4,5,6,7]])\n",
    "np.shape(X2)"
   ]
  },
  {
   "cell_type": "code",
   "execution_count": null,
   "id": "8456d290",
   "metadata": {},
   "outputs": [],
   "source": [
    "Y2 = np.array([[1,2,3,4],[4,5,6,7]]).T\n",
    "np.shape(Y2)"
   ]
  },
  {
   "cell_type": "code",
   "execution_count": null,
   "id": "4600f446",
   "metadata": {},
   "outputs": [],
   "source": [
    "np.shape(np.dot(X2,Y2))"
   ]
  },
  {
   "cell_type": "markdown",
   "id": "2130036d",
   "metadata": {},
   "source": [
    "$$ X_2 = \\begin{bmatrix}\n",
    "1 & 2 & 3 & 4 \\\\\n",
    "4 & 5 & 6 & 7\n",
    "\\end{bmatrix} $$"
   ]
  },
  {
   "cell_type": "markdown",
   "id": "3c080311",
   "metadata": {},
   "source": [
    "2행 4열 과 2행 4열의 행렬 곱은 불가능 합니다 <br>\n",
    "(2x 4) 행렬과 (2x4) 행렬의 곱은 불가능하고 <br>\n",
    "곱하려는 앞의 행렬의 열(4) 과 곱하려는 행렬의 행이 같아야 계산할 수 있다 <br>\n",
    "만약 (2x4), (4x3)을 곱하면 결과의 형태는 (2, 3) 열의 형태가 된다"
   ]
  },
  {
   "cell_type": "code",
   "execution_count": null,
   "id": "ca125dab",
   "metadata": {},
   "outputs": [],
   "source": [
    "A1=np.array([2,3])\n",
    "B1=np.array([3,4])"
   ]
  },
  {
   "cell_type": "code",
   "execution_count": null,
   "id": "84c83983",
   "metadata": {},
   "outputs": [],
   "source": [
    "print(type(A1))"
   ]
  },
  {
   "cell_type": "code",
   "execution_count": null,
   "id": "e489801a",
   "metadata": {},
   "outputs": [],
   "source": [
    "np.dot(A1,B1)"
   ]
  },
  {
   "cell_type": "code",
   "execution_count": null,
   "id": "bb58eba4",
   "metadata": {
    "scrolled": true
   },
   "outputs": [],
   "source": [
    "A1[0]*B1[0]+A1[1]*B1[1]"
   ]
  },
  {
   "cell_type": "markdown",
   "id": "9f093c2d",
   "metadata": {},
   "source": [
    "## 벡터의 크기\n",
    "$$ \\overrightarrow{a} =(a_1, a_2, a_3,..., a_{n-1}, a_n)$$\n",
    "$$ \\sqrt{a_1^2+a_2^2+\\cdot \\cdot\\cdot\\cdot +a_{n-1}^2+a{n}^2} $$\n",
    "$$ \\sqrt{\\sum_{i=0}^na_i^2} $$"
   ]
  },
  {
   "cell_type": "markdown",
   "id": "caa1d5ff",
   "metadata": {},
   "source": [
    "## 내적의 정의 \n",
    "$$ \\overrightarrow{a}\\cdot \\overrightarrow{b}  = \n",
    "    (a_1\\cdot{b_1}+ a_2\\cdot{b_2}+ a_3\\cdot{b_3} +,...,+a_{n-1}\\cdot{b_{n-1}}+ a_n\\cdot{b_{n}} ) \n",
    "$$\n",
    "$$ |a|\\cdot|b|cos\\theta $$ \n",
    "$$  cos\\theta  = \\frac{\\overrightarrow{a}\\cdot \\overrightarrow{b}}{|a|\\cdot|b|} $$\n",
    "$$ x = cos\\theta \\rightarrow \\theta = cos^{-1}{x} $$"
   ]
  },
  {
   "cell_type": "code",
   "execution_count": null,
   "id": "1c5f3904",
   "metadata": {
    "scrolled": true
   },
   "outputs": [],
   "source": [
    "# |A1|\n",
    "np.sqrt(A1[0]*A1[0]+A1[1]*A1[1])"
   ]
  },
  {
   "cell_type": "code",
   "execution_count": null,
   "id": "8014b789",
   "metadata": {
    "scrolled": true
   },
   "outputs": [],
   "source": [
    "np.dot(A1,B1) #라이브러리\n",
    "result_dot=0 \n",
    "# 문제2) 반복문으로 내적하는 코드 구현( 각각의 요소의 곱을 다 더한 결과)\n",
    "for i in zip(A1,B1):\n",
    "    result_dot += i[0]*i[1] # 노가다 버전\n",
    "result_dot == np.dot(A1,B1)"
   ]
  },
  {
   "cell_type": "code",
   "execution_count": 8,
   "id": "784b28d6",
   "metadata": {},
   "outputs": [],
   "source": [
    "def dot(x1,y1): # 사용자가 정의한 내적함수\n",
    "    result_dot = 0\n",
    "    for i in zip(x1,y1):\n",
    "        result_dot += i[0]*i[1]\n",
    "    return result_dot"
   ]
  },
  {
   "cell_type": "code",
   "execution_count": null,
   "id": "5f114582",
   "metadata": {
    "scrolled": true
   },
   "outputs": [],
   "source": [
    "for i in zip([1,2,3],[4,5,6]):\n",
    "    print (i)"
   ]
  },
  {
   "cell_type": "code",
   "execution_count": 2,
   "id": "380f31f5",
   "metadata": {},
   "outputs": [],
   "source": [
    "def abs_vector(x):\n",
    "    a1_abs=0\n",
    "    for i in x:\n",
    "        a1_abs += i*i\n",
    "    return np.sqrt(a1_abs)  #sqrt는 루트"
   ]
  },
  {
   "cell_type": "code",
   "execution_count": null,
   "id": "a57dac86",
   "metadata": {},
   "outputs": [],
   "source": [
    "abs_vector(A1)"
   ]
  },
  {
   "cell_type": "code",
   "execution_count": null,
   "id": "97142026",
   "metadata": {
    "scrolled": true
   },
   "outputs": [],
   "source": [
    "# |B1|\n",
    "np.sqrt(B1[0]*B1[0]+B1[1]*B1[1])"
   ]
  },
  {
   "cell_type": "code",
   "execution_count": null,
   "id": "cf3bb74b",
   "metadata": {
    "scrolled": true
   },
   "outputs": [],
   "source": [
    "abs_vector(B1)"
   ]
  },
  {
   "cell_type": "code",
   "execution_count": null,
   "id": "7114cc28",
   "metadata": {
    "scrolled": true
   },
   "outputs": [],
   "source": [
    "np.sqrt(16)"
   ]
  },
  {
   "cell_type": "code",
   "execution_count": 9,
   "id": "a154fc9a",
   "metadata": {},
   "outputs": [],
   "source": [
    "A1=np.array([33,22])\n",
    "B1=np.array([-2, 3])"
   ]
  },
  {
   "cell_type": "code",
   "execution_count": 11,
   "id": "60c3d3db",
   "metadata": {
    "scrolled": true
   },
   "outputs": [
    {
     "data": {
      "text/plain": [
       "0.0"
      ]
     },
     "execution_count": 11,
     "metadata": {},
     "output_type": "execute_result"
    }
   ],
   "source": [
    "cos_theta = dot(A1,B1)/ (abs_vector(A1) * abs_vector(B1))\n",
    "cos_theta"
   ]
  },
  {
   "cell_type": "markdown",
   "id": "b2832d4b",
   "metadata": {},
   "source": [
    "$$ 3x+ 2y+4z = 11 $$ \n",
    "$$ 2x+ 3y-z = 21 $$ \n",
    "$$ -x+ 4y+3z = 7 $$ \n",
    "$$  A =  \\begin{bmatrix}\n",
    "3 & 2 & 4 \\\\\n",
    " 2& 3 &-1  \\\\\n",
    " -1& 4 & 3  \n",
    "\\end{bmatrix}  $$ \n",
    "$$   x =  \\begin{bmatrix}\n",
    " x\\\\\n",
    " y\\\\\n",
    "z\n",
    "\\end{bmatrix} $$\n",
    "\n",
    "$$   b =  \\begin{bmatrix}\n",
    " 11\\\\\n",
    " 21\\\\\n",
    "7\n",
    "\\end{bmatrix} $$\n",
    "$$ Ax = b $$"
   ]
  },
  {
   "cell_type": "markdown",
   "id": "f2b60362",
   "metadata": {},
   "source": [
    "$$ I = \\begin{bmatrix} \n",
    "1& 0 & 0 \\\\\n",
    " 0& 1 &0  \\\\\n",
    " 0& 0 & 1\n",
    "\\end{bmatrix} $$\n",
    "대각 성분이 1이고 나머지는 0인 행렬을 단위행렬(Identity) 이라 함 <br>\n",
    "어떤 행렬에 I를 곱하면 자기 자신 <br>\n",
    "곱셈에 대한 항등원은 1이다\n",
    "그리고 역원은 어떤숫자에 뭐를 곱했더니 곱셈에 대한 항등원 1이 나오는가? <br>\n",
    "행렬에서 곱셈의 항등원이 I 이고 <br>\n",
    "그리고 곱셈의 항등원이 되기 위한 행렬에 어떤 행렬을 곱했더니 행렬의 항등원인 단위 행렬이 나오는가? <br>\n",
    "$$ AB = BA = I $$\n",
    "결국 $ B = A^{-1} $ 가 된다\n",
    "$$ 4x = 1 \\rightarrow x = \\frac{1}{4} = 4^{-1} $$ \n",
    "$ A^{-1} $ 를 A의 역행렬이라 한다"
   ]
  },
  {
   "cell_type": "markdown",
   "id": "7723fce3",
   "metadata": {},
   "source": [
    "- A의 첫번째 열을 i번 곱해서 각 줄대로 더한값 "
   ]
  },
  {
   "cell_type": "code",
   "execution_count": 12,
   "id": "ed7f9148",
   "metadata": {},
   "outputs": [],
   "source": [
    "A = np.array([[3 , 2 , 4],\n",
    "[2, 3 ,-1 ],\n",
    "[-1, 4 , 3]])"
   ]
  },
  {
   "cell_type": "code",
   "execution_count": 14,
   "id": "4ad3bed3",
   "metadata": {},
   "outputs": [],
   "source": [
    "I = np.array([[1 , 0 , 0],\n",
    "[0, 1 ,0 ],\n",
    "[0, 0 , 1]])"
   ]
  },
  {
   "cell_type": "code",
   "execution_count": 15,
   "id": "2b0992fc",
   "metadata": {
    "scrolled": false
   },
   "outputs": [
    {
     "data": {
      "text/plain": [
       "array([[ 3,  2,  4],\n",
       "       [ 2,  3, -1],\n",
       "       [-1,  4,  3]])"
      ]
     },
     "execution_count": 15,
     "metadata": {},
     "output_type": "execute_result"
    }
   ],
   "source": [
    "np.dot(A,I)"
   ]
  },
  {
   "cell_type": "code",
   "execution_count": 16,
   "id": "308d43c3",
   "metadata": {},
   "outputs": [],
   "source": [
    "b = np.array([11,21,7])"
   ]
  },
  {
   "cell_type": "code",
   "execution_count": 29,
   "id": "80bace6b",
   "metadata": {
    "scrolled": true
   },
   "outputs": [],
   "source": [
    "c1 = A.T[0] # A 행렬의 0번 column , T 는 transpose 행(가로)과 열(세로)을 바꾼다\n",
    "c2 = A.T[1] # A 행렬의 1번 column\n",
    "c3 = A.T[2] # A 행렬의 2번 column\n"
   ]
  },
  {
   "cell_type": "code",
   "execution_count": 26,
   "id": "2e0f5094",
   "metadata": {
    "scrolled": false
   },
   "outputs": [
    {
     "data": {
      "text/plain": [
       "array([ 3.49315068,  4.04109589, -1.89041096])"
      ]
     },
     "execution_count": 26,
     "metadata": {},
     "output_type": "execute_result"
    }
   ],
   "source": [
    "x= np.dot(np.linalg.inv(A),b) # linalg = linaer algebra모듈 ,inv역함수\n",
    "x"
   ]
  },
  {
   "cell_type": "code",
   "execution_count": 30,
   "id": "c4a2ea81",
   "metadata": {
    "scrolled": false
   },
   "outputs": [
    {
     "data": {
      "text/plain": [
       "array([11., 21.,  7.])"
      ]
     },
     "execution_count": 30,
     "metadata": {},
     "output_type": "execute_result"
    }
   ],
   "source": [
    "x= np.dot(np.linalg.inv(A),b) # linalg = linaer algebra모듈 ,inv역함수 / x = A_1 x b\n",
    "x[0]*c1 + c2*x[1] + c3*x[2] # A 행렬의 column vector 들 과의 선형 결합으로\n",
    "# b 벡터 만듬, 그 선형결합하기 위한 값(scaling factor)가 우리가 찾고자 하는 해"
   ]
  }
 ],
 "metadata": {
  "kernelspec": {
   "display_name": "Python 3 (ipykernel)",
   "language": "python",
   "name": "python3"
  },
  "language_info": {
   "codemirror_mode": {
    "name": "ipython",
    "version": 3
   },
   "file_extension": ".py",
   "mimetype": "text/x-python",
   "name": "python",
   "nbconvert_exporter": "python",
   "pygments_lexer": "ipython3",
   "version": "3.11.4"
  }
 },
 "nbformat": 4,
 "nbformat_minor": 5
}
