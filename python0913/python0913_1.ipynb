{
 "cells": [
  {
   "cell_type": "code",
   "execution_count": null,
   "id": "c644d379",
   "metadata": {},
   "outputs": [],
   "source": [
    "import numpy as np\n",
    "import matplotlib.pyplot as plt"
   ]
  },
  {
   "cell_type": "code",
   "execution_count": null,
   "id": "331d449d",
   "metadata": {},
   "outputs": [],
   "source": [
    "from IPython.display import Image"
   ]
  },
  {
   "cell_type": "code",
   "execution_count": null,
   "id": "c907845a",
   "metadata": {},
   "outputs": [],
   "source": [
    "x=np.arange(-10,10,0.01)\n",
    "y= [-i for i in x] #y= x를 y축(x=0) 대칭한 직선의 방정식\n",
    "y_2x_1= [2*i+1 for i in x] # y=2x=1 직선의방정식"
   ]
  },
  {
   "cell_type": "code",
   "execution_count": null,
   "id": "5c53a713",
   "metadata": {},
   "outputs": [],
   "source": [
    "plt.plot(x,y)"
   ]
  },
  {
   "cell_type": "code",
   "execution_count": null,
   "id": "65c29bf8",
   "metadata": {
    "scrolled": true
   },
   "outputs": [],
   "source": [
    "plt.plot(x,y_2x_1)"
   ]
  },
  {
   "cell_type": "code",
   "execution_count": null,
   "id": "99e09e5f",
   "metadata": {
    "scrolled": true
   },
   "outputs": [],
   "source": [
    "#y=x^2+5 (포물선 방정식 그리기)\n",
    "y_x2_5= [i**2+5 for i in x]\n",
    "plt.plot(x,y_x2_5)"
   ]
  },
  {
   "cell_type": "code",
   "execution_count": null,
   "id": "ca583504",
   "metadata": {},
   "outputs": [],
   "source": [
    "#문제 y=x^2과 , x^2+5의 관계\n",
    "# x축으로 +5만큼 20 늘어남\n",
    "y_x2 = [i**2 for i in x]\n",
    "plt.plot(x,y_x2)"
   ]
  },
  {
   "cell_type": "code",
   "execution_count": null,
   "id": "5cc394ad",
   "metadata": {
    "scrolled": false
   },
   "outputs": [],
   "source": [
    "#문제 y = (x+5)^2+11 => 그래프그리기\n",
    "y_x5_11= [((i+5)**2)+11 for i in x]\n",
    "plt.plot(x,y_x5_11)"
   ]
  },
  {
   "cell_type": "code",
   "execution_count": null,
   "id": "0e1aadd5",
   "metadata": {},
   "outputs": [],
   "source": [
    "!pip install opencv-python"
   ]
  },
  {
   "cell_type": "code",
   "execution_count": null,
   "id": "a9249eec",
   "metadata": {},
   "outputs": [],
   "source": [
    "import cv2\n",
    "src = cv2.imread('images/m.png',cv2.IMREAD_COLOR)\n",
    "gray = cv2.cvtColor(src, cv2.COLOR_BGR2GRAY)\n",
    "sobel = cv2.Sobel(gray, cv2.CV_8U,1,0,3)\n",
    "laplacian = cv2.Laplacian(gray, cv2.CV_8U, ksize=3)\n",
    "canny = cv2.Canny(src,100,255)\n",
    "cv2.imshow(\"sobel\",sobel)\n",
    "cv2.imshow(\"laplacian\",laplacian)\n",
    "cv2.imshow(\"canny\",canny)\n",
    "cv2.waitKey()\n",
    "cv2.destroyAllWindows()"
   ]
  },
  {
   "cell_type": "markdown",
   "id": "926b83f9",
   "metadata": {},
   "source": [
    "## 라플라시안에 대하여 한번 알아보자"
   ]
  },
  {
   "cell_type": "markdown",
   "id": "4087187c",
   "metadata": {},
   "source": [
    "- 영상 f의 일차 미분\n",
    "  - 이산 함수 f(x,y)에서 x 방향으로의 일차 미분\n",
    "  $ \\frac{\\partial f}{\\partial x} = f(x+1, y) - f(x,y) $<br> \n",
    "  x좌표와 그 다음 인접 다음 좌표(x+1) 의 픽셀의 휘도값의 차이가 크면 미분값 기울기가 크다\n",
    "  - 이산 함수 f(x,y)에서 y 방향으로의 일차 미분\n",
    "  $ \\frac{\\partial f}{\\partial y} = f(x, y+1) - f(x,y) $<br>"
   ]
  },
  {
   "cell_type": "markdown",
   "id": "b051499a",
   "metadata": {},
   "source": [
    "$$ \\nabla f = \\begin{bmatrix} \\frac{\\partial f}{\\partial x} & \\frac{\\partial f}{\\partial y} \\end{bmatrix} $$\n",
    "공간 좌표는 독립변수(x,y) 2개가 있으므로 x 좌표의 변화량에 대한 함수값(밝기)의 변화량(x에 대한 편미분)과<br>\n",
    "y 좌표의 변화량에 대한 함수값(밝기)의 변화량 2개를 벡터로 가지고 그것을 $ \\nabla f $ 로 표현함 \n",
    "$$ \\nabla = \\begin{bmatrix} \\frac{\\partial}{\\partial x} & \\frac{\\partial}{\\partial y} \\end{bmatrix} $$\n",
    "$$ \\nabla  를 gradient(기울기 / 경사) 라고 함 $$"
   ]
  },
  {
   "cell_type": "markdown",
   "id": "49d6bb53",
   "metadata": {},
   "source": [
    "영상 f의 이차 편미분\n",
    "- 이산 함수 f(x,y)에서 x 방향으로의 이차 편미분\n",
    "  - 편미분: 함수의 변수가 2개 이상인 함수에서 변수 1개의 변화에 따른 기울기를 알고 싶을때 사용\n",
    "    $$ \\frac{\\partial^2 f}{\\partial x^2} = [f(x+1,y) - f(x,y)] \n",
    "     - [f(x+1,y) - f(x,y)] $$\n",
    "     $$ = f(x+1,y)+f (x-1,y)-2f(x,y) $$\n",
    "영상 f의 이차 미분\n",
    "- x축과 y축에 대한 각각의 이차미분을 수행하고 각 방향에 대한 이차미분 결과를 합친다\n",
    "    $$ \\nabla^2 f = \\frac{\\partial^{f}}{\\partial x^2} + \\frac{\\partial^{f}}{\\partial y^2}\n",
    "     = [f(x+1, y) + f(x-1, y) + f(x, y+1) + f(x, y-1)] -4f(x,y) $$\n",
    "- 이차 미분을 나타내는 연산자를 $ \\nabla^2 이며 라플라시안 또는 델타 스퀘어라 읽는다 $\n",
    "- 위의 수식은 마스크(커널/filter) 형태로 나타낼수 있으며 이를 라플라시안 필터 마스크라고 한다\n",
    "<!-- ![](images/f.JPG) -->"
   ]
  },
  {
   "cell_type": "code",
   "execution_count": null,
   "id": "876fffb2",
   "metadata": {
    "scrolled": false
   },
   "outputs": [],
   "source": [
    "Image(\"./images/f.jpg\") #이미지"
   ]
  },
  {
   "cell_type": "markdown",
   "id": "21a952c5",
   "metadata": {},
   "source": [
    "<!-- ![](images/vector_field.gif) --> "
   ]
  },
  {
   "cell_type": "code",
   "execution_count": null,
   "id": "b3594d08",
   "metadata": {},
   "outputs": [],
   "source": [
    "Image(\"./images/vector_field.gif\") #마크다운으로는 깃허브에서 이미지가 안보여서 코드로 업로드"
   ]
  },
  {
   "cell_type": "markdown",
   "id": "52cdb2c9",
   "metadata": {},
   "source": [
    "[벡터 연산의 기하학 의미](https://blog.naver.com/PostView.naver?blogId=deu03216&logNo=222271930273)"
   ]
  },
  {
   "cell_type": "markdown",
   "id": "df51d2b3",
   "metadata": {},
   "source": [
    "$$ \\nabla = \\frac{\\partial}{\\partial x} i + \\frac{\\partial}{\\partial y} j + \\frac{\\partial}{\\partial z} k $$\n",
    "$$ = (\\frac{\\partial}{\\partial x} ,\\frac{\\partial}{\\partial y}, \\frac{\\partial}{\\partial z}) \\cdot (i,j,k)   $$"
   ]
  },
  {
   "cell_type": "markdown",
   "id": "2dcfe828",
   "metadata": {},
   "source": [
    "$$ f(x,y,z) = x^2 + sin(y) + 5xz^3 $$\n",
    "$$ \\nabla f = (\\frac{\\partial f}{\\partial x},\n",
    "    \\frac{\\partial f}{\\partial y},\n",
    "    \\frac{\\partial f}{\\partial z}) $$\n",
    "$$ = (\\frac{\\partial (x^2 + sin(y) + 5xz^3)}{\\partial x},\n",
    "    \\frac{\\partial (x^2 + sin(y) + 5xz^3)}{\\partial y},\n",
    "    \\frac{\\partial (x^2 + sin(y) + 5xz^3)}{\\partial z}) $$\n",
    "$$ \\nabla f = (2x+5z^3, cos(y), 15xz^2) $$\n",
    "$$ \\nabla^2 = (\\frac{\\partial^2 f}{\\partial x^2},\n",
    "    \\frac{\\partial^2 f)}{\\partial y^2},\n",
    "    \\frac{\\partial^2 f}{\\partial z^2}) = (2, -sin(y), 30xz) $$"
   ]
  },
  {
   "cell_type": "code",
   "execution_count": null,
   "id": "4d1aa331",
   "metadata": {},
   "outputs": [],
   "source": [
    "funcs = [{'x':lambda x_l: x_l*x_l}, {'y':np.sin}, {'z':lambda z: 5*x_* z**3}]"
   ]
  },
  {
   "cell_type": "markdown",
   "id": "b39fa8f9",
   "metadata": {},
   "source": [
    "<!-- ![](./images/second.jpg) -->"
   ]
  },
  {
   "cell_type": "code",
   "execution_count": null,
   "id": "aa4fc3a1",
   "metadata": {
    "scrolled": false
   },
   "outputs": [],
   "source": [
    "Image(\"./images/second.jpg\")"
   ]
  },
  {
   "cell_type": "code",
   "execution_count": null,
   "id": "54a60f6a",
   "metadata": {},
   "outputs": [],
   "source": [
    "!pip install sympy"
   ]
  },
  {
   "cell_type": "code",
   "execution_count": null,
   "id": "33496ece",
   "metadata": {
    "scrolled": true
   },
   "outputs": [],
   "source": [
    "import sympy as sym\n",
    "from sympy import *\n",
    "x, y, z= sym.symbols('x y z')\n",
    "f= x**2 + sin(y) + 5*x*z**3 #diff=>  differentiate 미분하다\n",
    "f_partial= [diff(f, x), diff(f, y), diff(f, z)] #1차 편미분\n",
    "s_partial= [diff(f_, i_) for f_, i_ in zip(f_partial, (x,y,z))] #2차 편미분\n",
    "print('1차:', f_partial, '2차:', s_partial)"
   ]
  },
  {
   "cell_type": "code",
   "execution_count": null,
   "id": "79b3b143",
   "metadata": {
    "scrolled": true
   },
   "outputs": [],
   "source": [
    "x = np.arange(-10,10,0.01)\n",
    "y = np.arange(-10,10,0.01)\n",
    "z = np.arange(-10,10,0.01)"
   ]
  },
  {
   "cell_type": "code",
   "execution_count": null,
   "id": "a01ae1fa",
   "metadata": {},
   "outputs": [],
   "source": [
    "def f(x,y,z):\n",
    "    return x*x+ np.sin(y) + 5*x*z**3"
   ]
  },
  {
   "cell_type": "code",
   "execution_count": null,
   "id": "ea2d850f",
   "metadata": {
    "scrolled": true
   },
   "outputs": [],
   "source": [
    "def derivative(f, x,y,z,h=0.00001): #상준 라이브러리\n",
    "    return [(f(x+h,y,z)-f(x,y,z))/h,\n",
    "            (f(x,y + h,z)-f(x,y,z))/h,\n",
    "            (f(x,y,z + h)-f(x,y,z))/h]\n",
    "    \n",
    "jung = [derivative(f,x,y,z,h=1e-7), derivative(f,x,y,z), derivative(f,x,y,z)]\n",
    "jung[2][:3]"
   ]
  },
  {
   "cell_type": "code",
   "execution_count": null,
   "id": "4f317192",
   "metadata": {},
   "outputs": [],
   "source": [
    "# f= x**2 + sin(y) + 5*x*z**3 + 3*x*t**4 , t를 추가하라"
   ]
  },
  {
   "cell_type": "code",
   "execution_count": null,
   "id": "71d98bf7",
   "metadata": {},
   "outputs": [],
   "source": [
    "x = np.arange(-10,10,0.01)\n",
    "y = np.arange(-10,10,0.01)\n",
    "z = np.arange(-10,10,0.01)\n",
    "t = np.arange(-10,10,0.01)"
   ]
  },
  {
   "cell_type": "code",
   "execution_count": null,
   "id": "b8a62fda",
   "metadata": {},
   "outputs": [],
   "source": [
    "def f_t(x,y,z,t):\n",
    "    return x*x+ y + 5*x*z**3 + 3*x*t**4"
   ]
  },
  {
   "cell_type": "code",
   "execution_count": null,
   "id": "c73f992b",
   "metadata": {},
   "outputs": [],
   "source": [
    "def derivative_t(f_t,x,y,z,t,h=0.00001): \n",
    "    return [(f_t(x+h,y,z,t)-f_t(x,y,z,t))/h,\n",
    "            (f_t(x,y + h,z,t)-f_t(x,y,z,t))/h,\n",
    "            (f_t(x,y,z,t+ h)-f_t(x,y,z,t))/h,\n",
    "            (f_t(x,y,t,z + h)-f_t(x,y,z,t))/h\n",
    "            ]\n",
    "    \n",
    "jung = [derivative_t(f_t,x,y,z,t,h=1e-7), derivative_t(f_t,x,y,z,t), derivative_t(f_t,x,y,z,t)]\n",
    "jung[2][:3]"
   ]
  },
  {
   "cell_type": "code",
   "execution_count": null,
   "id": "a395fdd6",
   "metadata": {
    "scrolled": true
   },
   "outputs": [],
   "source": [
    "x, y, z, t= sym.symbols('x y z t')\n",
    "f= x**2 + sin(y) + 5*x*z**3 + 3*x*t**4 #diff=>  differentiate 미분하다\n",
    "f_partial= [diff(f, x), diff(f, y), diff(f, z), diff(f, t)] #1차 편미분\n",
    "s_partial= [diff(f_, i_) for f_, i_ in zip(f_partial, (x,y,z,t))] #2차 편미분\n",
    "print('1차:', f_partial, '2차:', s_partial)"
   ]
  },
  {
   "cell_type": "code",
   "execution_count": null,
   "id": "64eac58f",
   "metadata": {},
   "outputs": [],
   "source": [
    "x_ = np.arange(-10,10,0.01)\n",
    "y_ = np.arange(-10,10,0.01)\n",
    "z_ = np.arange(-10,10,0.01)\n",
    "t_ = np.arange(-10,10,0.01)"
   ]
  },
  {
   "cell_type": "code",
   "execution_count": null,
   "id": "e96db461",
   "metadata": {},
   "outputs": [],
   "source": [
    "def laplacian(f, x, y, z, t, h=0.00001): #수치 해석적 2차 미분\n",
    "    df2_dx2= (f(x+h, y, z, t) -2* f(x-h, y, z, t))/h**2\n",
    "    df2_dy2= (f(x, y+h, z, t) -2* f(x, y-h, z, t))/h**2\n",
    "    df2_dz2= (f(x, y, z+h, t) -2* f(x, y, z-h, t))/h**2\n",
    "    df2_dt2= (f(x, y, z, t+h) -2* f(x, y, z, t-h))/h**2\n",
    "    return [df2_dx2, df2_dy2, df2_dz2, df2_dt2]\n",
    "\n",
    "dx2, dy2, dz2, dt2= laplacian(f_t, x_, y_, z_, t_)\n",
    "print(dx2, dy2, dz2, dt2)"
   ]
  },
  {
   "cell_type": "code",
   "execution_count": null,
   "id": "56fa790d",
   "metadata": {},
   "outputs": [],
   "source": [
    "def sol_x(x,y,z,t):\n",
    "    return 3*t**4 + 2*x + 5*z**3\n",
    "def sol_y(x,y,z,t):\n",
    "    return cos(y)\n",
    "def sol_z(x,y,z,t):\n",
    "    return 15*x*z**2\n",
    "def sol_t(x,y,z,t):\n",
    "    return 12*t**3*x"
   ]
  },
  {
   "cell_type": "code",
   "execution_count": null,
   "id": "49e2c8da",
   "metadata": {},
   "outputs": [],
   "source": [
    "sympy_sol = [sol_x(x,y,z,t), sol_y(x,y,z,t), sol_z(x,y,z,t), sol_t(x,y,z,t)]\n",
    "sympy_sol"
   ]
  },
  {
   "cell_type": "code",
   "execution_count": null,
   "id": "b69bfef2",
   "metadata": {
    "scrolled": true
   },
   "outputs": [],
   "source": [
    "for i,j in zip(sympy_sol,jung):\n",
    "    for s_i, s_j in zip(i,j):\n",
    "        print(abs(s_i-s_j)<0.0001)"
   ]
  },
  {
   "cell_type": "markdown",
   "id": "e0661930",
   "metadata": {},
   "source": [
    "[표본 공간과 확률변수](https://mustlearning.tistory.com/40)"
   ]
  },
  {
   "cell_type": "markdown",
   "id": "99ec7e90",
   "metadata": {},
   "source": [
    "## 확률은 이산 확률 변수와 연속 확률 변수로 나뉜다\n",
    "### 이산 확률 변수(X) 의 기대값은 $ E(X) = \\sum_{i=1}^{n}x_{i}{p_{i}} $\n",
    "### 연속 확률 변수(X) 의 기대값은 $ E(X) = \\int_{-\\infty}^{\\infty} xf(x)dx $"
   ]
  },
  {
   "cell_type": "code",
   "execution_count": 3,
   "id": "abf70a05",
   "metadata": {},
   "outputs": [],
   "source": [
    "import sys\n",
    "import cv2"
   ]
  },
  {
   "cell_type": "code",
   "execution_count": null,
   "id": "9df980e5",
   "metadata": {},
   "outputs": [],
   "source": [
    "img = cv2.imread('./images/m.png')\n",
    "if img is None:\n",
    "    print('이미지 로딩 실패')\n",
    "    sys.exit()\n",
    "cv2.namedWindow('img')\n",
    "cv2.imshow('img',img)\n",
    "while True:\n",
    "    keycode = cv2.waitKey()\n",
    "    if keycode == ord('i') or keycode==ord('l'):\n",
    "        img=~img # ~은 반전\n",
    "        cv2.imshow('img',img)\n",
    "    elif keycode == 27 or keycode == ord('q') or keycode == ord('Q'):\n",
    "        break\n",
    "cv2.destroyAllWindows()"
   ]
  },
  {
   "cell_type": "code",
   "execution_count": null,
   "id": "52928e82",
   "metadata": {
    "scrolled": true
   },
   "outputs": [],
   "source": [
    "v = np.array([[1,2,3,255]])\n",
    "v=~v\n",
    "v"
   ]
  },
  {
   "cell_type": "code",
   "execution_count": null,
   "id": "dfc5f115",
   "metadata": {
    "scrolled": true
   },
   "outputs": [],
   "source": [
    "def on_mouse(event,x,y,flags,params):\n",
    "    global oldx, oldy # 전역변수\n",
    "    if event == cv2.EVENT_LBUTTONDOWN:\n",
    "        oldx, oldy = x, y\n",
    "        print('마우스의 왼쪽 버튼이 눌렸어요: %d, %d' %(x,y))\n",
    "    elif event == cv2.EVENT_LBUTTONUP:\n",
    "        print('마우스의 왼쪽 버튼이 떼어졌어요: %d, %d' %(x,y))\n",
    "    elif event == cv2.EVENT_MOUSEMOVE:\n",
    "        if flags & cv2.EVENT_FLAG_LBUTTON:\n",
    "            cv2.line(img,(oldx, oldy),(x,y),(0,0,255),5)\n",
    "            cv2.imshow('img',img)\n",
    "            oldx, oldy =x,y\n",
    "img = cv2.imread('./images/m.png')\n",
    "if img is None:\n",
    "    print(\"이미지 로딩 실패\")\n",
    "cv2.namedWindow('img')\n",
    "cv2.setMouseCallback('img',on_mouse)\n",
    "cv2.imshow('img',img)\n",
    "cv2.waitKey()\n",
    "cv2.destroyAllWindows()"
   ]
  },
  {
   "cell_type": "code",
   "execution_count": 1,
   "id": "0fbfd02d",
   "metadata": {},
   "outputs": [],
   "source": [
    "import random"
   ]
  },
  {
   "cell_type": "code",
   "execution_count": 4,
   "id": "4f8d992e",
   "metadata": {},
   "outputs": [
    {
     "name": "stdout",
     "output_type": "stream",
     "text": [
      "마우스의 왼쪽 버튼이 눌렸어요: 66, 34, 255, 4\n",
      "마우스의 왼쪽 버튼이 떼어졌어요: 167, 22, 255, 4\n",
      "마우스의 왼쪽 버튼이 눌렸어요: 91, 47, 255, 4\n",
      "마우스의 왼쪽 버튼이 떼어졌어요: 189, 37, 255, 4\n",
      "마우스의 왼쪽 버튼이 눌렸어요: 125, 56, 255, 4\n",
      "마우스의 왼쪽 버튼이 떼어졌어요: 204, 51, 255, 4\n",
      "마우스의 왼쪽 버튼이 눌렸어요: 134, 68, 255, 4\n",
      "마우스의 왼쪽 버튼이 떼어졌어요: 211, 62, 255, 4\n",
      "마우스의 왼쪽 버튼이 눌렸어요: 122, 90, 255, 4\n",
      "마우스의 왼쪽 버튼이 떼어졌어요: 215, 83, 255, 4\n",
      "마우스의 왼쪽 버튼이 눌렸어요: 112, 101, 255, 4\n",
      "마우스의 왼쪽 버튼이 떼어졌어요: 196, 96, 255, 4\n",
      "마우스의 왼쪽 버튼이 눌렸어요: 143, 115, 255, 4\n",
      "마우스의 왼쪽 버튼이 떼어졌어요: 212, 114, 255, 4\n",
      "마우스의 왼쪽 버튼이 눌렸어요: 139, 134, 255, 4\n",
      "마우스의 왼쪽 버튼이 떼어졌어요: 235, 127, 255, 4\n",
      "마우스의 왼쪽 버튼이 눌렸어요: 140, 148, 255, 4\n",
      "마우스의 왼쪽 버튼이 떼어졌어요: 195, 148, 255, 4\n",
      "마우스의 왼쪽 버튼이 눌렸어요: 120, 164, 117, 4\n",
      "마우스의 왼쪽 버튼이 떼어졌어요: 232, 164, 117, 4\n",
      "마우스의 왼쪽 버튼이 눌렸어요: 133, 185, 117, 4\n",
      "마우스의 왼쪽 버튼이 떼어졌어요: 230, 182, 117, 4\n",
      "마우스의 왼쪽 버튼이 눌렸어요: 143, 200, 117, 4\n",
      "마우스의 왼쪽 버튼이 떼어졌어요: 227, 199, 117, 4\n",
      "마우스의 왼쪽 버튼이 눌렸어요: 140, 216, 117, 4\n",
      "마우스의 왼쪽 버튼이 떼어졌어요: 237, 208, 117, 4\n",
      "마우스의 왼쪽 버튼이 눌렸어요: 134, 228, 117, 4\n",
      "마우스의 왼쪽 버튼이 떼어졌어요: 232, 224, 117, 4\n",
      "마우스의 왼쪽 버튼이 눌렸어요: 144, 246, 117, 4\n",
      "마우스의 왼쪽 버튼이 떼어졌어요: 265, 242, 117, 4\n",
      "마우스의 왼쪽 버튼이 눌렸어요: 130, 264, 117, 4\n",
      "마우스의 왼쪽 버튼이 떼어졌어요: 257, 261, 117, 4\n",
      "마우스의 왼쪽 버튼이 눌렸어요: 159, 269, 117, 4\n",
      "마우스의 왼쪽 버튼이 떼어졌어요: 270, 269, 117, 4\n",
      "마우스의 왼쪽 버튼이 눌렸어요: 144, 290, 117, 4\n",
      "마우스의 왼쪽 버튼이 떼어졌어요: 250, 282, 117, 4\n",
      "마우스의 왼쪽 버튼이 눌렸어요: 136, 306, 117, 4\n",
      "마우스의 왼쪽 버튼이 떼어졌어요: 253, 300, 117, 4\n",
      "마우스의 왼쪽 버튼이 눌렸어요: 122, 323, 238, 4\n",
      "마우스의 왼쪽 버튼이 떼어졌어요: 272, 313, 238, 4\n",
      "마우스의 왼쪽 버튼이 눌렸어요: 132, 342, 238, 4\n",
      "마우스의 왼쪽 버튼이 떼어졌어요: 284, 354, 238, 4\n",
      "마우스의 왼쪽 버튼이 눌렸어요: 112, 371, 238, 4\n",
      "마우스의 왼쪽 버튼이 떼어졌어요: 381, 393, 238, 4\n",
      "마우스의 왼쪽 버튼이 눌렸어요: 199, 399, 238, 4\n",
      "마우스의 왼쪽 버튼이 떼어졌어요: 340, 390, 238, 4\n",
      "마우스의 왼쪽 버튼이 눌렸어요: 229, 55, 238, 4\n",
      "마우스의 왼쪽 버튼이 떼어졌어요: 187, 256, 238, 4\n",
      "마우스의 왼쪽 버튼이 눌렸어요: 309, 93, 238, 4\n",
      "마우스의 왼쪽 버튼이 떼어졌어요: 279, 208, 238, 4\n"
     ]
    }
   ],
   "source": [
    "cnt=0\n",
    "color = (255,255,255)\n",
    "thick = 4\n",
    "def on_mouse(event,x,y,flags,params):\n",
    "    global oldx, oldy, cnt, color, thick# 전역변수\n",
    "\n",
    "    if event == cv2.EVENT_LBUTTONDOWN: # 왼쪽 버튼이 눌리면 이벤트 발생하고 \n",
    "        cnt += 1 # 그때의 cnt를 1씩 증가시키고 \n",
    "        if cnt%10==0: # 10의 배수마다 랜덤의 색상과 두께 적용\n",
    "            color = (random.randint(0,255),random.randint(0,255),random.randint(0,255))\n",
    "            thick = 4\n",
    "        oldx, oldy = x, y\n",
    "        print('마우스의 왼쪽 버튼이 눌렸어요: %d, %d, %d, %d' %(x,y, color[0], thick))\n",
    "    elif event == cv2.EVENT_LBUTTONUP:\n",
    "        print('마우스의 왼쪽 버튼이 떼어졌어요: %d, %d, %d, %d' %(x,y, color[0], thick))\n",
    "    elif event == cv2.EVENT_MOUSEMOVE:\n",
    "        if flags & cv2.EVENT_FLAG_LBUTTON:\n",
    "            cv2.line(img,(oldx, oldy),(x,y),color,thick)\n",
    "            cv2.imshow('img',img)\n",
    "            oldx, oldy =x,y\n",
    "img = cv2.imread('./images/m.png')\n",
    "if img is None:\n",
    "    print(\"이미지 로딩 실패\")\n",
    "cv2.namedWindow('img')\n",
    "cv2.setMouseCallback('img',on_mouse)\n",
    "cv2.imshow('img',img)\n",
    "cv2.waitKey()\n",
    "cv2.destroyAllWindows()"
   ]
  },
  {
   "cell_type": "code",
   "execution_count": 5,
   "id": "7f8ce5e9",
   "metadata": {},
   "outputs": [
    {
     "name": "stdout",
     "output_type": "stream",
     "text": [
      "Frame width: 640\n",
      "Frame height: 480\n",
      "Frame width: 640\n",
      "Frame height: 480\n",
      "Frame count: 378\n",
      "FPS: 30.0\n"
     ]
    }
   ],
   "source": [
    "import numpy as np\n",
    "import cv2\n",
    "\n",
    "\n",
    "def camera_in():\n",
    "    cap = cv2.VideoCapture(0)\n",
    "\n",
    "    if not cap.isOpened():\n",
    "        print(\"Camera open failed!\")\n",
    "        return\n",
    "\n",
    "    print('Frame width:', int(cap.get(cv2.CAP_PROP_FRAME_WIDTH)))\n",
    "    print('Frame height:', int(cap.get(cv2.CAP_PROP_FRAME_HEIGHT)))\n",
    "\n",
    "    while True:\n",
    "        ret, frame = cap.read()\n",
    "\n",
    "        if not ret:\n",
    "            break\n",
    "\n",
    "        inversed = ~frame\n",
    "\n",
    "        cv2.imshow('frame', frame)\n",
    "        cv2.imshow('inversed', inversed)\n",
    "\n",
    "        if cv2.waitKey(10) == 27:\n",
    "            break\n",
    "\n",
    "    cv2.destroyAllWindows()\n",
    "\n",
    "\n",
    "def video_in():\n",
    "    cap = cv2.VideoCapture('./images/stopwatch.avi')\n",
    "\n",
    "    if not cap.isOpened():\n",
    "        print(\"Video open failed!\")\n",
    "        return\n",
    "\n",
    "    print('Frame width:', int(cap.get(cv2.CAP_PROP_FRAME_WIDTH)))\n",
    "    print('Frame height:', int(cap.get(cv2.CAP_PROP_FRAME_HEIGHT)))\n",
    "    print('Frame count:', int(cap.get(cv2.CAP_PROP_FRAME_COUNT)))\n",
    "\n",
    "    fps = cap.get(cv2.CAP_PROP_FPS)\n",
    "    print('FPS:', fps)\n",
    "\n",
    "    delay = round(1000 / fps)\n",
    "\n",
    "    while True:\n",
    "        ret, frame = cap.read()\n",
    "\n",
    "        if not ret:\n",
    "            break\n",
    "\n",
    "        inversed = ~frame\n",
    "\n",
    "        cv2.imshow('frame', frame)\n",
    "        cv2.imshow('inversed', inversed)\n",
    "\n",
    "        if cv2.waitKey(delay) == 27:\n",
    "            break\n",
    "\n",
    "    cv2.destroyAllWindows()\n",
    "\n",
    "\n",
    "def camera_in_video_out():\n",
    "    cap = cv2.VideoCapture(0)\n",
    "\n",
    "    if not cap.isOpened():\n",
    "        print(\"Camera open failed!\")\n",
    "        return\n",
    "\n",
    "    w = round(cap.get(cv2.CAP_PROP_FRAME_WIDTH))\n",
    "    h = round(cap.get(cv2.CAP_PROP_FRAME_HEIGHT))\n",
    "    fps = cap.get(cv2.CAP_PROP_FPS)\n",
    "\n",
    "    fourcc = cv2.VideoWriter_fourcc(*'DIVX') # *'DIVX' == 'D', 'I', 'V', 'X'\n",
    "    delay = round(1000 / fps)\n",
    "\n",
    "    outputVideo = cv2.VideoWriter('output.avi', fourcc, fps, (w, h))\n",
    "\n",
    "    if not outputVideo.isOpened():\n",
    "        print('File open failed!')\n",
    "        return\n",
    "\n",
    "    while True:\n",
    "        ret, frame = cap.read()\n",
    "\n",
    "        if not ret:\n",
    "            break\n",
    "\n",
    "        inversed = ~frame\n",
    "\n",
    "        outputVideo.write(inversed)\n",
    "\n",
    "        cv2.imshow('frame', frame)\n",
    "        cv2.imshow('inversed', inversed)\n",
    "\n",
    "        if cv2.waitKey(delay) == 27:\n",
    "            break\n",
    "\n",
    "    cv2.destroyAllWindows()\n",
    "\n",
    "\n",
    "if __name__ == '__main__':\n",
    "    camera_in()\n",
    "    video_in()\n",
    "    camera_in_video_out()\n"
   ]
  }
 ],
 "metadata": {
  "kernelspec": {
   "display_name": "Python 3 (ipykernel)",
   "language": "python",
   "name": "python3"
  },
  "language_info": {
   "codemirror_mode": {
    "name": "ipython",
    "version": 3
   },
   "file_extension": ".py",
   "mimetype": "text/x-python",
   "name": "python",
   "nbconvert_exporter": "python",
   "pygments_lexer": "ipython3",
   "version": "3.11.4"
  }
 },
 "nbformat": 4,
 "nbformat_minor": 5
}
