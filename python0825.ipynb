{
 "cells": [
  {
   "cell_type": "code",
   "execution_count": 10,
   "id": "f984c40d",
   "metadata": {},
   "outputs": [],
   "source": [
    "import cv2"
   ]
  },
  {
   "cell_type": "code",
   "execution_count": 2,
   "id": "dd91e5a9",
   "metadata": {},
   "outputs": [],
   "source": [
    "import numpy as np\n",
    "import matplotlib.pyplot as plt"
   ]
  },
  {
   "cell_type": "code",
   "execution_count": 35,
   "id": "fbfe1f6c",
   "metadata": {},
   "outputs": [],
   "source": [
    "def img_show(title='image', img=None, figsize=(8,5)):\n",
    "    plt.figure(figsize=figsize)\n",
    "    \n",
    "    if type(img) == list: # shape = (500,500,3)\n",
    "        if type(title)==list:\n",
    "            titles=title\n",
    "        else:\n",
    "            titles=[]\n",
    "            for i in range(len(img)):\n",
    "                tutles.append(title)\n",
    "        for i in range(len(img)):\n",
    "            if len(img[i].shape) <= 2:\n",
    "                rgblmg = cv2.cvtColor(img[i], cv2.COLOR_GRAY2BGR) #회색으로 칼라로\n",
    "            else:\n",
    "                rgblmg = cv2.cvtColor(img[i], cv2.COLOR_BGR2RGB) # BGR => RGB로\n",
    "            plt.subplot(1,len(img), i+1)\n",
    "            plt.imshow(rgblmg)\n",
    "            plt.title(titles[i])\n",
    "            plt.xticks([])\n",
    "            plt.yticks([])\n",
    "        plt.show()\n",
    "    else:\n",
    "        if len(img.shape) <3:\n",
    "            rgblmg= cv2.cvtColor(img, cv2.COLOR_GRAY2RGB)\n",
    "        else:\n",
    "            rgblmg= cv2.cvtColor(img, cv2.COLOR_BGR2RGB)\n",
    "        plt.imshow(rgblmg)\n",
    "        plt.title(title)\n",
    "        plt.xticks([])\n",
    "        plt.yticks([])\n",
    "        plt.show()\n",
    "            "
   ]
  },
  {
   "cell_type": "markdown",
   "id": "edf1975c",
   "metadata": {},
   "source": [
    "3개(Red, Green, Blue)의 채널이 있는 500x500 픽셀 이미지로 검정색 배경의 캔버스를 그린다"
   ]
  },
  {
   "cell_type": "code",
   "execution_count": 30,
   "id": "41db1c24",
   "metadata": {},
   "outputs": [],
   "source": [
    "black_canvas = np.zeros((500,500,3) , dtype='uint8')"
   ]
  },
  {
   "cell_type": "markdown",
   "id": "b1da8c2a",
   "metadata": {},
   "source": [
    "zeros() 에 255를 더하면 배경색을 흰색으로 변경가능"
   ]
  },
  {
   "cell_type": "code",
   "execution_count": 31,
   "id": "63e274da",
   "metadata": {},
   "outputs": [],
   "source": [
    "white_canvas = np.zeros((500,500,3) , dtype='uint8') +255"
   ]
  },
  {
   "cell_type": "code",
   "execution_count": 36,
   "id": "124bff35",
   "metadata": {},
   "outputs": [
    {
     "data": {
      "image/png": "[encoded data removed]",
      "text/plain": [
       "<Figure size 800x500 with 2 Axes>"
      ]
     },
     "metadata": {},
     "output_type": "display_data"
    }
   ],
   "source": [
    "img_show([\"Black\",\"White\"],[black_canvas, white_canvas])"
   ]
  },
  {
   "cell_type": "markdown",
   "id": "5abc94c4",
   "metadata": {},
   "source": [
    "<img src=\"line.JPG\"/>"
   ]
  },
  {
   "cell_type": "code",
   "execution_count": 55,
   "id": "9e0f8913",
   "metadata": {
    "scrolled": true
   },
   "outputs": [
    {
     "ename": "KeyboardInterrupt",
     "evalue": "",
     "output_type": "error",
     "traceback": [
      "\u001b[1;31m---------------------------------------------------------------------------\u001b[0m",
      "\u001b[1;31mKeyboardInterrupt\u001b[0m                         Traceback (most recent call last)",
      "Cell \u001b[1;32mIn[55], line 6\u001b[0m\n\u001b[0;32m      4\u001b[0m \u001b[38;5;28;01mfor\u001b[39;00m i \u001b[38;5;129;01min\u001b[39;00m \u001b[38;5;28mrange\u001b[39m(\u001b[38;5;241m100\u001b[39m):   \n\u001b[0;32m      5\u001b[0m     cv2\u001b[38;5;241m.\u001b[39mline(black_canvas, (\u001b[38;5;241m10\u001b[39m,\u001b[38;5;241m100\u001b[39m),(np\u001b[38;5;241m.\u001b[39mrandom\u001b[38;5;241m.\u001b[39mrandint(\u001b[38;5;241m100\u001b[39m),\u001b[38;5;241m100\u001b[39m), green)\n\u001b[1;32m----> 6\u001b[0m     cv2\u001b[38;5;241m.\u001b[39mwaitKey(\u001b[38;5;241m1000\u001b[39m)\n",
      "\u001b[1;31mKeyboardInterrupt\u001b[0m: "
     ]
    }
   ],
   "source": [
    "green=(0,255,0)\n",
    "\n",
    "#(x1, y1) (x2, y2)\n",
    "for i in range(100):   \n",
    "    cv2.line(black_canvas, (10,100),(np.random.randint(100),100), green)\n",
    "    cv2.waitKey(1000)\n"
   ]
  },
  {
   "cell_type": "markdown",
   "id": "c61d0898",
   "metadata": {},
   "source": [
    "<img src=\"1/3.gif\"/>"
   ]
  },
  {
   "cell_type": "markdown",
   "id": "6caf7872",
   "metadata": {},
   "source": [
    "<img src=\"1/4.gif\"/>"
   ]
  },
  {
   "cell_type": "markdown",
   "id": "cdbee6f1",
   "metadata": {},
   "source": [
    "<img src=\"1/5.gif\"/>"
   ]
  },
  {
   "cell_type": "markdown",
   "id": "d11f9872",
   "metadata": {},
   "source": [
    "<img src=\"1/6.gif\"/>"
   ]
  },
  {
   "cell_type": "markdown",
   "id": "04bbc760",
   "metadata": {},
   "source": [
    "## Convolotion\n",
    "이미지와 커널(필터)와 연산\n",
    "이동하면서 한다"
   ]
  },
  {
   "cell_type": "markdown",
   "id": "c515fec9",
   "metadata": {},
   "source": [
    "<img src=\"1/2.png\"/>"
   ]
  },
  {
   "cell_type": "markdown",
   "id": "8db7541c",
   "metadata": {},
   "source": [
    "<img src=\"1/convolution.png\"/>"
   ]
  },
  {
   "cell_type": "markdown",
   "id": "4b9989b8",
   "metadata": {},
   "source": [
    "<a href=\"http://www.songho.ca/dsp/convolution/convolution2d_example.html\">\n",
    "    2차원 공간의 convolution </a>"
   ]
  },
  {
   "cell_type": "markdown",
   "id": "1be63e3c",
   "metadata": {},
   "source": [
    "<a href=\"https://blog.naver.com/samsjang/220507996391\">캐니 엣지</a>"
   ]
  },
  {
   "cell_type": "markdown",
   "id": "f92939cd",
   "metadata": {},
   "source": [
    "<a href=\"https://blog.naver.com/PostView.naver?blogId=sees111&logNo=222366804864\">가우시안 필터</a>"
   ]
  }
 ],
 "metadata": {
  "kernelspec": {
   "display_name": "Python 3 (ipykernel)",
   "language": "python",
   "name": "python3"
  },
  "language_info": {
   "codemirror_mode": {
    "name": "ipython",
    "version": 3
   },
   "file_extension": ".py",
   "mimetype": "text/x-python",
   "name": "python",
   "nbconvert_exporter": "python",
   "pygments_lexer": "ipython3",
   "version": "3.11.4"
  }
 },
 "nbformat": 4,
 "nbformat_minor": 5
}
