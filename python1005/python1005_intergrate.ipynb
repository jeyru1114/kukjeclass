{
 "cells": [
  {
   "cell_type": "code",
   "execution_count": 1,
   "id": "a185e774",
   "metadata": {},
   "outputs": [],
   "source": [
    "import sympy as sp"
   ]
  },
  {
   "cell_type": "markdown",
   "id": "9cb9cab0",
   "metadata": {},
   "source": [
    "$$ \\int_{1}^{2} \\int_{-2}^{1}  \\int_{1}^{3} f(x,y,z) dx dy dz $$\n",
    "\n",
    "$$ \\int_{1}^{2} \\int_{-2}^{1}  \\int_{1}^{3} \\int_{1}^{3} f(x,y,z) dx dy dz dr $$"
   ]
  },
  {
   "cell_type": "code",
   "execution_count": 5,
   "id": "7f620454",
   "metadata": {
    "scrolled": false
   },
   "outputs": [
    {
     "data": {
      "text/latex": [
       "$\\displaystyle 95.04$"
      ],
      "text/plain": [
       "95.0400000000000"
      ]
     },
     "execution_count": 5,
     "metadata": {},
     "output_type": "execute_result"
    }
   ],
   "source": [
    "x, y, z ,r= sp.symbols('x y z r')\n",
    "f = 2*x**2*y*z*r**3+6*r+7*x*y**2\n",
    "sp.integrate(f, (x, 1.2),(y,-2,1),(z,1,3),(r,1,3))"
   ]
  },
  {
   "cell_type": "code",
   "execution_count": null,
   "id": "b59cf349",
   "metadata": {},
   "outputs": [],
   "source": []
  }
 ],
 "metadata": {
  "kernelspec": {
   "display_name": "Python 3 (ipykernel)",
   "language": "python",
   "name": "python3"
  },
  "language_info": {
   "codemirror_mode": {
    "name": "ipython",
    "version": 3
   },
   "file_extension": ".py",
   "mimetype": "text/x-python",
   "name": "python",
   "nbconvert_exporter": "python",
   "pygments_lexer": "ipython3",
   "version": "3.11.4"
  }
 },
 "nbformat": 4,
 "nbformat_minor": 5
}
