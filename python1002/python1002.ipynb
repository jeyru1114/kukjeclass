{
 "cells": [
  {
   "cell_type": "code",
   "execution_count": 1,
   "id": "e8945d1c",
   "metadata": {},
   "outputs": [],
   "source": [
    "fn = 'x**2+3*x+5'"
   ]
  },
  {
   "cell_type": "code",
   "execution_count": 16,
   "id": "a9f2d946",
   "metadata": {
    "scrolled": true
   },
   "outputs": [
    {
     "data": {
      "text/plain": [
       "45"
      ]
     },
     "execution_count": 16,
     "metadata": {},
     "output_type": "execute_result"
    }
   ],
   "source": [
    "fn_lambda = lambda x: x**2+3*x+5\n",
    "fn_lambda(5)"
   ]
  },
  {
   "cell_type": "code",
   "execution_count": 18,
   "id": "88136929",
   "metadata": {
    "scrolled": false
   },
   "outputs": [
    {
     "data": {
      "text/plain": [
       "23"
      ]
     },
     "execution_count": 18,
     "metadata": {},
     "output_type": "execute_result"
    }
   ],
   "source": [
    "fn_str = 'lambda x : ' + fn\n",
    "eval(fn_str)(3) # evaluation(평가)"
   ]
  },
  {
   "cell_type": "code",
   "execution_count": 31,
   "id": "6031d173",
   "metadata": {},
   "outputs": [],
   "source": [
    "f_str = '''\n",
    "def g(x):\n",
    "    return x+50\n",
    "'''"
   ]
  },
  {
   "cell_type": "code",
   "execution_count": 33,
   "id": "67eb473b",
   "metadata": {},
   "outputs": [],
   "source": [
    "exec(f_str) # execution(실행)"
   ]
  },
  {
   "cell_type": "code",
   "execution_count": 28,
   "id": "37093c16",
   "metadata": {},
   "outputs": [
    {
     "name": "stdout",
     "output_type": "stream",
     "text": [
      "<class 'str'>\n"
     ]
    }
   ],
   "source": [
    "print(type(f_str))"
   ]
  },
  {
   "cell_type": "code",
   "execution_count": 34,
   "id": "929316be",
   "metadata": {},
   "outputs": [
    {
     "data": {
      "text/plain": [
       "60"
      ]
     },
     "execution_count": 34,
     "metadata": {},
     "output_type": "execute_result"
    }
   ],
   "source": [
    "result = g(10)\n",
    "result"
   ]
  },
  {
   "cell_type": "code",
   "execution_count": 29,
   "id": "23f20435",
   "metadata": {
    "scrolled": true
   },
   "outputs": [
    {
     "name": "stdout",
     "output_type": "stream",
     "text": [
      "<class 'function'>\n"
     ]
    }
   ],
   "source": [
    "print(type(f))"
   ]
  },
  {
   "cell_type": "markdown",
   "id": "d4a52159",
   "metadata": {},
   "source": [
    "`exec`와 `eval`은 모두 파이썬에서 문자열로 표현된 코드를 실행하는 방법을 제공하지만, 목적과 사용법에서 차이가 있습니다. 간단한 설명은 다음과 같습니다:\n",
    "\n",
    "1. `exec`:\n",
    "   - `exec`는 문자열로 표현된 파이썬 코드 블록을 실행합니다.\n",
    "   - 실행된 코드는 어떤 결과를 반환하지 않고, 주로 프로그램의 흐름을 변경하거나 파일을 생성하는 등의 작업에 사용됩니다.\n",
    "   - 주로 여러 줄의 코드를 실행할 때 사용합니다.\n",
    "\n",
    "   예시:\n",
    "   ```python\n",
    "   code = \"\"\"\n",
    "   x = 5\n",
    "   y = 10\n",
    "   result = x + y\n",
    "   print(result)\n",
    "   \"\"\"\n",
    "   exec(code)\n",
    "   ```\n",
    "\n",
    "2. `eval`:\n",
    "   - `eval`은 문자열로 표현된 파이썬 표현식을 계산하고 결과를 반환합니다.\n",
    "   - 주로 단일 표현식을 계산하고 결과 값을 변수에 저장하거나 다른 연산에 사용할 때 사용됩니다.\n",
    "\n",
    "   예시:\n",
    "   ```python\n",
    "   expression = \"5 + 10\"\n",
    "   result = eval(expression)\n",
    "   print(result)  # 출력 결과는 15\n",
    "   ```\n",
    "\n",
    "간단히 말하면, `exec`는 코드 블록을 실행하고 결과를 반환하지 않으며 프로그램의 흐름을 제어하는 데 사용하고, `eval`은 표현식을 계산하고 결과 값을 반환하는 데 사용됩니다. 주의해야 할 점은 `exec`와 `eval`을 사용할 때 보안 상의 이슈에 주의해야 하며, 신뢰할 수 없는 입력을 사용하지 않도록 해야 합니다."
   ]
  },
  {
   "cell_type": "code",
   "execution_count": 60,
   "id": "4f108be1",
   "metadata": {},
   "outputs": [],
   "source": [
    "#문제 각각의 5,10,15,20배를 함"
   ]
  },
  {
   "cell_type": "code",
   "execution_count": 39,
   "id": "e3c21617",
   "metadata": {
    "scrolled": true
   },
   "outputs": [
    {
     "data": {
      "text/plain": [
       "['x*5', 'x*10', 'x*15', 'x*20']"
      ]
     },
     "execution_count": 39,
     "metadata": {},
     "output_type": "execute_result"
    }
   ],
   "source": [
    "fn_list = ['x*5','x*10','x*15','x*20']\n",
    "fn_list"
   ]
  },
  {
   "cell_type": "code",
   "execution_count": 43,
   "id": "2ae3f355",
   "metadata": {},
   "outputs": [],
   "source": [
    "fn_str1 = 'lambda x:'"
   ]
  },
  {
   "cell_type": "code",
   "execution_count": 54,
   "id": "0058054a",
   "metadata": {},
   "outputs": [
    {
     "data": {
      "text/plain": [
       "['lambda x:x*5', 'lambda x:x*10', 'lambda x:x*15', 'lambda x:x*20']"
      ]
     },
     "execution_count": 54,
     "metadata": {},
     "output_type": "execute_result"
    }
   ],
   "source": [
    "fn_str_list = [fn_str1 + i for i in fn_list]\n",
    "fn_str_list"
   ]
  },
  {
   "cell_type": "code",
   "execution_count": 59,
   "id": "d75383cb",
   "metadata": {
    "scrolled": false
   },
   "outputs": [
    {
     "data": {
      "text/plain": [
       "[10, 20, 30, 40]"
      ]
     },
     "execution_count": 59,
     "metadata": {},
     "output_type": "execute_result"
    }
   ],
   "source": [
    "[eval(i)(2) for i in fn_str_list]"
   ]
  },
  {
   "cell_type": "code",
   "execution_count": 61,
   "id": "1e49b71e",
   "metadata": {
    "scrolled": true
   },
   "outputs": [
    {
     "data": {
      "text/plain": [
       "20"
      ]
     },
     "execution_count": 61,
     "metadata": {},
     "output_type": "execute_result"
    }
   ],
   "source": [
    "# 강사님 코드\n",
    "list_fn = ['lambda x: 5*x','lambda x: 10*x','lambda x: 15*x','lambda x: 20*x']\n",
    "eval(list_fn[0])(4)"
   ]
  },
  {
   "cell_type": "code",
   "execution_count": 69,
   "id": "d8a3e602",
   "metadata": {
    "scrolled": true
   },
   "outputs": [
    {
     "data": {
      "text/plain": [
       "[25, 50, 75, 100]"
      ]
     },
     "execution_count": 69,
     "metadata": {},
     "output_type": "execute_result"
    }
   ],
   "source": [
    "# 강사님 코드\n",
    "list_fn = ['lambda x: ' + str((i+1)*5) + ' *x' for i in range(4)]\n",
    "[i(5) for i in [eval(list_fn[j]) for j in range(len(list_fn))]]"
   ]
  },
  {
   "cell_type": "code",
   "execution_count": 70,
   "id": "4e5dbf2a",
   "metadata": {
    "scrolled": false
   },
   "outputs": [
    {
     "name": "stdout",
     "output_type": "stream",
     "text": [
      "25\n",
      "50\n",
      "75\n",
      "100\n"
     ]
    }
   ],
   "source": [
    "# 강사님 코드\n",
    "list_fn = ['lambda x: 5*x','lambda x: 10*x','lambda x: 15*x','lambda x: 20*x']\n",
    "for i in list_fn:\n",
    "    print(eval(i)(5))"
   ]
  }
 ],
 "metadata": {
  "kernelspec": {
   "display_name": "Python 3 (ipykernel)",
   "language": "python",
   "name": "python3"
  },
  "language_info": {
   "codemirror_mode": {
    "name": "ipython",
    "version": 3
   },
   "file_extension": ".py",
   "mimetype": "text/x-python",
   "name": "python",
   "nbconvert_exporter": "python",
   "pygments_lexer": "ipython3",
   "version": "3.11.4"
  }
 },
 "nbformat": 4,
 "nbformat_minor": 5
}
