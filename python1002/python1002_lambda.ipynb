{
 "cells": [
  {
   "cell_type": "code",
   "execution_count": 13,
   "id": "a7a3696e",
   "metadata": {
    "scrolled": true
   },
   "outputs": [
    {
     "name": "stdout",
     "output_type": "stream",
     "text": [
      "a 가\n",
      "b 나\n",
      "c 다\n"
     ]
    },
    {
     "data": {
      "text/plain": [
       "{'abc': '가나다'}"
      ]
     },
     "execution_count": 13,
     "metadata": {},
     "output_type": "execute_result"
    }
   ],
   "source": [
    "data = {\"a\":\"가\",\"b\":\"나\",\"c\":\"다\"}\n",
    "\n",
    "dict1 = {}\n",
    "key =\"\"\n",
    "value =\"\"\n",
    "for i,j in data.items():\n",
    "    print(i,j)\n",
    "    key+= i\n",
    "    value+= j\n",
    "dict1[key]=value\n",
    "dict1"
   ]
  },
  {
   "cell_type": "code",
   "execution_count": 16,
   "id": "f61ef988",
   "metadata": {},
   "outputs": [],
   "source": [
    "def f(i):\n",
    "    return i*5"
   ]
  },
  {
   "cell_type": "code",
   "execution_count": 17,
   "id": "ff3ea82a",
   "metadata": {},
   "outputs": [
    {
     "data": {
      "text/plain": [
       "15"
      ]
     },
     "execution_count": 17,
     "metadata": {},
     "output_type": "execute_result"
    }
   ],
   "source": [
    "f(3)"
   ]
  },
  {
   "cell_type": "code",
   "execution_count": 18,
   "id": "ed9a2d58",
   "metadata": {},
   "outputs": [],
   "source": [
    "f = lambda i : i*5"
   ]
  },
  {
   "cell_type": "code",
   "execution_count": 19,
   "id": "ca7ae4e5",
   "metadata": {
    "scrolled": false
   },
   "outputs": [
    {
     "data": {
      "text/plain": [
       "15"
      ]
     },
     "execution_count": 19,
     "metadata": {},
     "output_type": "execute_result"
    }
   ],
   "source": [
    "f(3)"
   ]
  },
  {
   "cell_type": "code",
   "execution_count": null,
   "id": "95565885",
   "metadata": {},
   "outputs": [],
   "source": [
    "list1 = ['x*2','x+2']\n",
    "fn = lambda i : 'lambda x:' + [i for i in list1]"
   ]
  },
  {
   "cell_type": "code",
   "execution_count": 51,
   "id": "1e3e9e94",
   "metadata": {
    "scrolled": true
   },
   "outputs": [],
   "source": [
    "fn = lambda i : 'lambda x:' + [i for i in list1]"
   ]
  },
  {
   "cell_type": "code",
   "execution_count": 83,
   "id": "19c851e3",
   "metadata": {
    "scrolled": true
   },
   "outputs": [
    {
     "data": {
      "text/plain": [
       "[4, 4]"
      ]
     },
     "execution_count": 83,
     "metadata": {},
     "output_type": "execute_result"
    }
   ],
   "source": [
    "list1 = ['x*2', 'x+2']\n",
    "fn_list = [eval('lambda x: ' + i) for i in list1]\n",
    "result = [i(2) for i in fn_list]\n",
    "result"
   ]
  },
  {
   "cell_type": "code",
   "execution_count": 84,
   "id": "8706766b",
   "metadata": {},
   "outputs": [
    {
     "data": {
      "text/plain": [
       "[4, 4]"
      ]
     },
     "execution_count": 84,
     "metadata": {},
     "output_type": "execute_result"
    }
   ],
   "source": [
    "list1 = ['x*2', 'x+2']\n",
    "fn_list = ['lambda x: '+i for i in list1]\n",
    "result1 =[eval(i)(2) for i in fn_list]\n",
    "result1"
   ]
  },
  {
   "cell_type": "code",
   "execution_count": 86,
   "id": "887cdc82",
   "metadata": {
    "scrolled": true
   },
   "outputs": [
    {
     "data": {
      "text/plain": [
       "[4, 4]"
      ]
     },
     "execution_count": 86,
     "metadata": {},
     "output_type": "execute_result"
    }
   ],
   "source": [
    "list1 = ['x*2', 'x+2']\n",
    "fn_list = ['lambda x: '+i for i in list1]\n",
    "\n",
    "result2 = []\n",
    "for i in fn_list:\n",
    "    result2.append(eval(i)(2))\n",
    "result2"
   ]
  }
 ],
 "metadata": {
  "kernelspec": {
   "display_name": "Python 3 (ipykernel)",
   "language": "python",
   "name": "python3"
  },
  "language_info": {
   "codemirror_mode": {
    "name": "ipython",
    "version": 3
   },
   "file_extension": ".py",
   "mimetype": "text/x-python",
   "name": "python",
   "nbconvert_exporter": "python",
   "pygments_lexer": "ipython3",
   "version": "3.11.4"
  }
 },
 "nbformat": 4,
 "nbformat_minor": 5
}
