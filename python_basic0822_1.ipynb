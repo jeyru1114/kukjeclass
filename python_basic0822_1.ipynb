{
 "cells": [
  {
   "cell_type": "code",
   "execution_count": 1,
   "id": "37905847",
   "metadata": {},
   "outputs": [
    {
     "data": {
      "text/plain": [
       "[5, 10, 15, 20, 25, 30, 35, 40, 45, 50]"
      ]
     },
     "execution_count": 1,
     "metadata": {},
     "output_type": "execute_result"
    }
   ],
   "source": [
    "#문제1) 5의 배수 10개를 리스트에 저장\n",
    "list1=[]\n",
    "for i in range(10):\n",
    "    list1.append((i+1)*5)\n",
    "list1"
   ]
  },
  {
   "cell_type": "code",
   "execution_count": 2,
   "id": "51d4da10",
   "metadata": {},
   "outputs": [
    {
     "data": {
      "text/plain": [
       "[5, 10, 15, 20, 25, 30, 35, 40, 45, 50]"
      ]
     },
     "execution_count": 2,
     "metadata": {},
     "output_type": "execute_result"
    }
   ],
   "source": [
    "[(i+1)*5 for i in range(10)]"
   ]
  },
  {
   "cell_type": "code",
   "execution_count": 3,
   "id": "091c9ea1",
   "metadata": {
    "scrolled": false
   },
   "outputs": [],
   "source": [
    "#문제2) obj1 = {\"times2\":[2의 배수 10개],\"times3\":[3의 배수 10개],\"times4\":[4의 배수 10개], \n",
    "# \"times5\":[5의 배수 10개],\"times6\":[6의 배수 10개],\"times7\":[7의 배수 10개],\n",
    "# \"times8\":[8의 배수 10개],\"times9\":[9의 배수 10개],\"times10\":[10의 배수 10개] }\n",
    "# => 하나의 dictionary 생성\n"
   ]
  },
  {
   "cell_type": "code",
   "execution_count": 4,
   "id": "3b764197",
   "metadata": {},
   "outputs": [
    {
     "data": {
      "text/plain": [
       "{'time2': [2, 4, 6, 8, 10, 12, 14, 16, 18, 20],\n",
       " 'time3': [3, 6, 9, 12, 15, 18, 21, 24, 27, 30],\n",
       " 'time4': [4, 8, 12, 16, 20, 24, 28, 32, 36, 40],\n",
       " 'time5': [5, 10, 15, 20, 25, 30, 35, 40, 45, 50],\n",
       " 'time6': [6, 12, 18, 24, 30, 36, 42, 48, 54, 60],\n",
       " 'time7': [7, 14, 21, 28, 35, 42, 49, 56, 63, 70],\n",
       " 'time8': [8, 16, 24, 32, 40, 48, 56, 64, 72, 80],\n",
       " 'time9': [9, 18, 27, 36, 45, 54, 63, 72, 81, 90],\n",
       " 'time10': [10, 20, 30, 40, 50, 60, 70, 80, 90, 100],\n",
       " 'time11': [11, 22, 33, 44, 55, 66, 77, 88, 99, 110]}"
      ]
     },
     "execution_count": 4,
     "metadata": {},
     "output_type": "execute_result"
    }
   ],
   "source": [
    "obj1={}\n",
    "for j in range(10):\n",
    "    obj1[\"time\"+str(j+2)] = [(i+1)*(j+2) for i in range(10)]\n",
    "obj1"
   ]
  },
  {
   "cell_type": "code",
   "execution_count": 7,
   "id": "68cc407c",
   "metadata": {
    "scrolled": true
   },
   "outputs": [
    {
     "data": {
      "text/plain": [
       "{'time2': 110,\n",
       " 'time3': 165,\n",
       " 'time4': 220,\n",
       " 'time5': 275,\n",
       " 'time6': 330,\n",
       " 'time7': 385,\n",
       " 'time8': 440,\n",
       " 'time9': 495,\n",
       " 'time10': 550,\n",
       " 'time11': 605}"
      ]
     },
     "execution_count": 7,
     "metadata": {},
     "output_type": "execute_result"
    }
   ],
   "source": [
    "#문제3) obj1의 key에 해당하는 value들의 총합을 구하고\n",
    "# obj2 = {\"times2\":2의 배수의 총합(리스트에 저장된 데이터의 총합) , 나머지도 마찬가지로 처리함}\n",
    "\n",
    "obj2 = {}\n",
    "for key, value in obj1.items():\n",
    "    obj2[key] = sum(value)\n",
    "obj2"
   ]
  },
  {
   "cell_type": "code",
   "execution_count": 9,
   "id": "e17cdb68",
   "metadata": {},
   "outputs": [
    {
     "data": {
      "text/plain": [
       "{'time2': 110,\n",
       " 'time3': 165,\n",
       " 'time4': 220,\n",
       " 'time5': 275,\n",
       " 'time6': 330,\n",
       " 'time7': 385,\n",
       " 'time8': 440,\n",
       " 'time9': 495,\n",
       " 'time10': 550,\n",
       " 'time11': 605}"
      ]
     },
     "execution_count": 9,
     "metadata": {},
     "output_type": "execute_result"
    }
   ],
   "source": [
    "obj2 = {}\n",
    "for key, value in obj1.items():\n",
    "    sum1 =0\n",
    "    for i in value:\n",
    "        sum1 += i\n",
    "    obj2[key] = sum1\n",
    "obj2"
   ]
  },
  {
   "cell_type": "code",
   "execution_count": 13,
   "id": "b8f3d305",
   "metadata": {},
   "outputs": [],
   "source": [
    "def sum_list(x): #모듈화\n",
    "    sum1=0;\n",
    "    for i in x:\n",
    "        sum1+=i;\n",
    "    return sum1"
   ]
  },
  {
   "cell_type": "code",
   "execution_count": 12,
   "id": "60c2634e",
   "metadata": {
    "scrolled": true
   },
   "outputs": [
    {
     "data": {
      "text/plain": [
       "{'time2': 110,\n",
       " 'time3': 165,\n",
       " 'time4': 220,\n",
       " 'time5': 275,\n",
       " 'time6': 330,\n",
       " 'time7': 385,\n",
       " 'time8': 440,\n",
       " 'time9': 495,\n",
       " 'time10': 550,\n",
       " 'time11': 605}"
      ]
     },
     "execution_count": 12,
     "metadata": {},
     "output_type": "execute_result"
    }
   ],
   "source": [
    "obj3={}\n",
    "for key, value in obj1.items():\n",
    "    obj3[key]=sum_list(value)\n",
    "obj3"
   ]
  },
  {
   "cell_type": "code",
   "execution_count": 30,
   "id": "07fb5b1b",
   "metadata": {},
   "outputs": [],
   "source": [
    "def odd_even_split_sum(x):\n",
    "    sum_odd=0\n",
    "    sum_even=0\n",
    "    for i in x:\n",
    "        if i%2==0:\n",
    "            sum_even+=i\n",
    "        else:\n",
    "            sum_odd+=i\n",
    "    return {\"짝\":sum_even,\"홀\":sum_odd}\n"
   ]
  },
  {
   "cell_type": "code",
   "execution_count": 16,
   "id": "08f6333c",
   "metadata": {},
   "outputs": [],
   "source": [
    "#문제4) obj1의 value(리스트의 값이 홀수 인것의 합과 짝수 인것의 합을 분리함)\n",
    "#obj = {\"times2_홀\":110,\"times2_짝\":110,\"times3_홀\":330,\"times3_짝\":0,}"
   ]
  },
  {
   "cell_type": "code",
   "execution_count": 18,
   "id": "eb1cf9b1",
   "metadata": {
    "scrolled": true
   },
   "outputs": [
    {
     "data": {
      "text/plain": [
       "{'time2': {'짝': 110, '홀': 0},\n",
       " 'time3': {'짝': 90, '홀': 75},\n",
       " 'time4': {'짝': 220, '홀': 0},\n",
       " 'time5': {'짝': 150, '홀': 125},\n",
       " 'time6': {'짝': 330, '홀': 0},\n",
       " 'time7': {'짝': 210, '홀': 175},\n",
       " 'time8': {'짝': 440, '홀': 0},\n",
       " 'time9': {'짝': 270, '홀': 225},\n",
       " 'time10': {'짝': 550, '홀': 0},\n",
       " 'time11': {'짝': 330, '홀': 275}}"
      ]
     },
     "execution_count": 18,
     "metadata": {},
     "output_type": "execute_result"
    }
   ],
   "source": [
    "obj3={}\n",
    "for key, value in obj1.items():\n",
    "    obj3[key]=odd_even_split_sum(value)\n",
    "obj3"
   ]
  },
  {
   "cell_type": "code",
   "execution_count": 25,
   "id": "e3c0225f",
   "metadata": {
    "scrolled": false
   },
   "outputs": [
    {
     "data": {
      "text/plain": [
       "{'time2_짝': 110,\n",
       " 'time2_홀': 0,\n",
       " 'time3_짝': 90,\n",
       " 'time3_홀': 75,\n",
       " 'time4_짝': 220,\n",
       " 'time4_홀': 0,\n",
       " 'time5_짝': 150,\n",
       " 'time5_홀': 125,\n",
       " 'time6_짝': 330,\n",
       " 'time6_홀': 0,\n",
       " 'time7_짝': 210,\n",
       " 'time7_홀': 175,\n",
       " 'time8_짝': 440,\n",
       " 'time8_홀': 0,\n",
       " 'time9_짝': 270,\n",
       " 'time9_홀': 225,\n",
       " 'time10_짝': 550,\n",
       " 'time10_홀': 0,\n",
       " 'time11_짝': 330,\n",
       " 'time11_홀': 275}"
      ]
     },
     "execution_count": 25,
     "metadata": {},
     "output_type": "execute_result"
    }
   ],
   "source": [
    "final_obj={}\n",
    "for key, value in obj3.items():\n",
    "    for k_1, v_1 in value.items():\n",
    "        final_obj[key+\"_\"+k_1] = v_1\n",
    "final_obj"
   ]
  },
  {
   "cell_type": "code",
   "execution_count": 106,
   "id": "7a946455",
   "metadata": {},
   "outputs": [],
   "source": [
    "list_of_dict =[\n",
    "    {\"a\":{\"b\":[11,23,213,171]}},\n",
    "     {\"a\":{\"b\":[111,237,13,127]}},\n",
    "     {\"a\":{\"b\":[211,2,13,1777]}},\n",
    "     {\"a\":{\"b\":[311,253,13,117]}},\n",
    "     {\"a\":{\"b\":[411,223,13,187]}},\n",
    "     {\"a\":{\"b\":[171,213,13,107]}},\n",
    "]"
   ]
  },
  {
   "cell_type": "code",
   "execution_count": 43,
   "id": "ad96a413",
   "metadata": {},
   "outputs": [],
   "source": [
    "#문제1) {\"a_b_1\":[11,23,213,171의 총합], \"a_b_2\":[111,237,13,127의 총합], \"a_b_3\":[211,2,13,1777의 총합]}\n",
    "# 각각의 6개의 총합이 나오는 딕셔너리 생성"
   ]
  },
  {
   "cell_type": "code",
   "execution_count": 295,
   "id": "822d9ab3",
   "metadata": {},
   "outputs": [],
   "source": [
    "#문제1\n",
    "def sum_list(x):\n",
    "    sum1=0;\n",
    "    for i in x:\n",
    "        sum1+=i\n",
    "    return sum1"
   ]
  },
  {
   "cell_type": "code",
   "execution_count": 83,
   "id": "344fc143",
   "metadata": {
    "scrolled": false
   },
   "outputs": [
    {
     "data": {
      "text/plain": [
       "{'a_b_1': 418,\n",
       " 'a_b_2': 488,\n",
       " 'a_b_3': 2003,\n",
       " 'a_b_4': 694,\n",
       " 'a_b_5': 834,\n",
       " 'a_b_6': 504}"
      ]
     },
     "execution_count": 83,
     "metadata": {},
     "output_type": "execute_result"
    }
   ],
   "source": [
    "dict1={}\n",
    "for idx, i in enumerate(list_of_dict):\n",
    "    for k, v in i.items():\n",
    "        for k1,v1 in v.items():\n",
    "            dict1[k+\"_\"+k1+\"_\"+str(idx+1)] = sum_list(v1)\n",
    "dict1"
   ]
  },
  {
   "cell_type": "code",
   "execution_count": null,
   "id": "90faf967",
   "metadata": {},
   "outputs": [],
   "source": [
    "#문제2) {\"a_b_1\":[11,23,213,171의 각각의 요소의 3배의 총합], \n",
    "#\"a_b_2\":[111,237,13,127의 각각의 요소의 3배의 총합], \n",
    "#\"a_b_3\":[211,2,13,1777의 각각의 요쇼의 3배의 총합]}\n"
   ]
  },
  {
   "cell_type": "code",
   "execution_count": 139,
   "id": "721c0e4e",
   "metadata": {},
   "outputs": [],
   "source": [
    "#문제2\n",
    "def sum_list2(x):\n",
    "    sum2=0;\n",
    "    for i in x:\n",
    "        sum2 += i*3\n",
    "    return sum2"
   ]
  },
  {
   "cell_type": "code",
   "execution_count": 140,
   "id": "4bdde661",
   "metadata": {
    "scrolled": true
   },
   "outputs": [
    {
     "data": {
      "text/plain": [
       "{'a_b_1': 1254,\n",
       " 'a_b_2': 1464,\n",
       " 'a_b_3': 6009,\n",
       " 'a_b_4': 2082,\n",
       " 'a_b_5': 2502,\n",
       " 'a_b_6': 1512}"
      ]
     },
     "execution_count": 140,
     "metadata": {},
     "output_type": "execute_result"
    }
   ],
   "source": [
    "dict2={}\n",
    "for idx, i in enumerate(list_of_dict):\n",
    "    for k, v in i.items():\n",
    "        for k1,v1 in v.items():\n",
    "            dict2[k+\"_\"+k1+\"_\"+str(idx+1)] = sum_list2(v1)\n",
    "dict2"
   ]
  },
  {
   "cell_type": "code",
   "execution_count": null,
   "id": "5450160a",
   "metadata": {},
   "outputs": [],
   "source": [
    "#문제3) {\"a_b_1\": [11,23,213,171]의 각각의 요소의 3배한 결과가 짝수인 것들의 총합,\n",
    "#\"a_b_2\":[111,237,13,127]의 각각의 요소의 3배한 결과가 짝수인 것들의 총합,\n",
    "#\"a_b_3\": [211,2,13,1777]의 각각의 요소의 3배한 결과가 짝수인 것들의 총합}"
   ]
  },
  {
   "cell_type": "code",
   "execution_count": 141,
   "id": "a92760ce",
   "metadata": {},
   "outputs": [],
   "source": [
    "#문제3\n",
    "def sum_list3(x):\n",
    "    sum3=0\n",
    "    for i in x:\n",
    "        if (i*3)%2==0:\n",
    "            sum3 += (i*3)\n",
    "    return sum3"
   ]
  },
  {
   "cell_type": "code",
   "execution_count": 142,
   "id": "7d8c8a40",
   "metadata": {
    "scrolled": true
   },
   "outputs": [
    {
     "data": {
      "text/plain": [
       "{'a_b_1': 0, 'a_b_2': 0, 'a_b_3': 6, 'a_b_4': 0, 'a_b_5': 0, 'a_b_6': 0}"
      ]
     },
     "execution_count": 142,
     "metadata": {},
     "output_type": "execute_result"
    }
   ],
   "source": [
    "dict3={}\n",
    "for idx, i in enumerate(list_of_dict):\n",
    "    for k, v in i.items():\n",
    "        for k1,v1 in v.items():\n",
    "            dict3[k+\"_\"+k1+\"_\"+str(idx+1)] = sum_list3(v1)\n",
    "dict3"
   ]
  },
  {
   "cell_type": "code",
   "execution_count": null,
   "id": "8eb806cd",
   "metadata": {},
   "outputs": [],
   "source": [
    "#문제4) {\"a_b_1\": [11,23,213,171]의 각각의 요소의 2배한 결과가 짝수인 것들의 총합,\n",
    "#\"a_b_2\":[111,237,13,127]의 각각의 요소의 3배한 결과가 짝수인 것들의 총합,\n",
    "#\"a_b_3\": [211,2,13,1777]의 각각의 요소의 4배한 결과가 짝수인 것들의 총합,\n",
    "#\"a_b_4\": [311,253,13,117]의 각각의 요소의 5배한 결과가 짝수인 것들의 총합,\n",
    "#\"a_b_5\": [411,223,13,187]의 각각의 요소의 6배한 결과가 짝수인 것들의 총합,\n",
    "#\"a_b_6\": [171,213,13,107]의 각각의 요소의 6배한 결과가 짝수인 것들의 총합}"
   ]
  },
  {
   "cell_type": "code",
   "execution_count": 143,
   "id": "80377392",
   "metadata": {},
   "outputs": [],
   "source": [
    "#문제4\n",
    "def sum_list4(x,y):\n",
    "    sum4=0\n",
    "    for i in x:\n",
    "        if (i*(y+2))%2==0:\n",
    "            sum4 += (i*(y+2))\n",
    "    return sum4"
   ]
  },
  {
   "cell_type": "code",
   "execution_count": 144,
   "id": "368c867d",
   "metadata": {
    "scrolled": false
   },
   "outputs": [
    {
     "data": {
      "text/plain": [
       "{'a_b_1': 836,\n",
       " 'a_b_2': 0,\n",
       " 'a_b_3': 8012,\n",
       " 'a_b_4': 0,\n",
       " 'a_b_5': 5004,\n",
       " 'a_b_6': 0}"
      ]
     },
     "execution_count": 144,
     "metadata": {},
     "output_type": "execute_result"
    }
   ],
   "source": [
    "dict4={}\n",
    "for idx, i in enumerate(list_of_dict):\n",
    "    for k, v in i.items():\n",
    "        for k1,v1 in v.items():\n",
    "            dict4[k+\"_\"+k1+\"_\"+str(idx+1)] = sum_list4(v1,idx)\n",
    "dict4"
   ]
  },
  {
   "cell_type": "code",
   "execution_count": 145,
   "id": "068996f0",
   "metadata": {},
   "outputs": [
    {
     "data": {
      "text/plain": [
       "[{'a': {'b': {'c': [11, 21], 'd': [13, 21, 17]}}},\n",
       " {'a': {'b': {'c': [111, 211], 'd': [113, 231, 114]}}},\n",
       " {'a': {'b': {'c': [161, 21], 'd': [173, 21, 172]}}},\n",
       " {'a': {'b': {'c': [1141, 211], 'd': [113, 231, 111]}}},\n",
       " {'a': {'b': {'c': [131, 21], 'd': [13, 241, 172]}}},\n",
       " {'a': {'b': {'c': [110, 211], 'd': [23, 2231, 11]}}},\n",
       " {'a': {'b': {'c': [11, 21], 'd': [13, 21, 172]}}},\n",
       " {'a': {'b': {'c': [111, 2011], 'd': [113, 2031, 171]}}}]"
      ]
     },
     "execution_count": 145,
     "metadata": {},
     "output_type": "execute_result"
    }
   ],
   "source": [
    "arr_list_dict = [\n",
    "    {\"a\":{\"b\":{\"c\":[11,21],'d':[13,21,17]}}},\n",
    "    {\"a\":{\"b\":{\"c\":[111,211],'d':[113,231,114]}}},\n",
    "     {\"a\":{\"b\":{\"c\":[161,21],'d':[173,21,172]}}},\n",
    "    {\"a\":{\"b\":{\"c\":[1141,211],'d':[113,231,111]}}},\n",
    "    {\"a\":{\"b\":{\"c\":[131,21],'d':[13,241,172]}}},\n",
    "    {\"a\":{\"b\":{\"c\":[110,211],'d':[23,2231,11]}}},\n",
    "    {\"a\":{\"b\":{\"c\":[11,21],'d':[13,21,172]}}},\n",
    "    {\"a\":{\"b\":{\"c\":[111,2011],'d':[113,2031,171]}}},\n",
    "]\n",
    "arr_list_dict"
   ]
  },
  {
   "cell_type": "code",
   "execution_count": 146,
   "id": "4af89795",
   "metadata": {},
   "outputs": [],
   "source": [
    "#문제) c의 총합과 d의 총합을 구하세요\n",
    "#{\"a_b_c_d_1\":{\"c\":총합 , \"d\": 총합},\"a_b_c_d_2\":{\"c\":총합 , \"d\": 총합}\n",
    "# \"a_b_c_d_3\":{\"c\":총합 , \"d\": 총합},\"a_b_c_d_4\":{\"c\":총합 , \"d\": 총합}\n",
    "# \"a_b_c_d_5\":{\"c\":총합 , \"d\": 총합},\"a_b_c_d_6\":{\"c\":총합 , \"d\": 총합}\n",
    "# \"a_b_c_d_7\":{\"c\":총합 , \"d\": 총합},\"a_b_c_d_8\":{\"c\":총합 , \"d\": 총합}\n",
    "#}"
   ]
  },
  {
   "cell_type": "code",
   "execution_count": 248,
   "id": "938fa2d2",
   "metadata": {},
   "outputs": [],
   "source": [
    "def sum_c_d(x):\n",
    "    sum_c=0\n",
    "    sum_d=0\n",
    "    for i in x['c']:\n",
    "        sum_c += i\n",
    "    for i in x['d']:\n",
    "        sum_d += i\n",
    "    return {\"c\":sum_c, \"d\":sum_d}"
   ]
  },
  {
   "cell_type": "code",
   "execution_count": 269,
   "id": "4958da5e",
   "metadata": {
    "scrolled": false
   },
   "outputs": [
    {
     "data": {
      "text/plain": [
       "{'a_b_c_d_1': {'c': 32, 'd': 51},\n",
       " 'a_b_c_d_2': {'c': 322, 'd': 458},\n",
       " 'a_b_c_d_3': {'c': 182, 'd': 366},\n",
       " 'a_b_c_d_4': {'c': 1352, 'd': 455},\n",
       " 'a_b_c_d_5': {'c': 152, 'd': 426},\n",
       " 'a_b_c_d_6': {'c': 321, 'd': 2265},\n",
       " 'a_b_c_d_7': {'c': 32, 'd': 206},\n",
       " 'a_b_c_d_8': {'c': 2122, 'd': 2315}}"
      ]
     },
     "execution_count": 269,
     "metadata": {},
     "output_type": "execute_result"
    }
   ],
   "source": [
    "arr_dict1={}\n",
    "for idx,i in enumerate(arr_list_dict):\n",
    "    for k ,v in i.items():\n",
    "        for k1, v1 in v.items():\n",
    "            arr_dict1[k+\"_\"+k1+\"_\"+\"c_\"+\"d_\"+str(idx+1)] = sum_c_d(v1)\n",
    "arr_dict1"
   ]
  },
  {
   "cell_type": "code",
   "execution_count": 296,
   "id": "597ef7aa",
   "metadata": {},
   "outputs": [],
   "source": [
    "def sum_a_b_for(x):\n",
    "    obj_={}\n",
    "    for key, value in x.items():\n",
    "        obj_[key] = sum_list(value)\n",
    "    return obj_"
   ]
  },
  {
   "cell_type": "code",
   "execution_count": 298,
   "id": "f919b0c5",
   "metadata": {
    "scrolled": true
   },
   "outputs": [
    {
     "data": {
      "text/plain": [
       "{'a': 65, 'b': 139, 'f': 32, 'z': 677}"
      ]
     },
     "execution_count": 298,
     "metadata": {},
     "output_type": "execute_result"
    }
   ],
   "source": [
    "pp = {\"a\":[12,13,17,23],\"b\":[13,24,35,67],\"f\":[12,4,5,11],\"z\":[11,111,222,333]}\n",
    "sum_a_b_for(pp)"
   ]
  },
  {
   "cell_type": "code",
   "execution_count": 299,
   "id": "9e34a94c",
   "metadata": {
    "scrolled": false
   },
   "outputs": [
    {
     "data": {
      "text/plain": [
       "{'time2even': 110,\n",
       " 'time2odd': 0,\n",
       " 'time3even': 90,\n",
       " 'time3odd': 75,\n",
       " 'time4even': 220,\n",
       " 'time4odd': 0,\n",
       " 'time5even': 150,\n",
       " 'time5odd': 125,\n",
       " 'time6even': 330,\n",
       " 'time6odd': 0,\n",
       " 'time7even': 210,\n",
       " 'time7odd': 175,\n",
       " 'time8even': 440,\n",
       " 'time8odd': 0,\n",
       " 'time9even': 270,\n",
       " 'time9odd': 225,\n",
       " 'time10even': 550,\n",
       " 'time10odd': 0,\n",
       " 'time11even': 330,\n",
       " 'time11odd': 275}"
      ]
     },
     "execution_count": 299,
     "metadata": {},
     "output_type": "execute_result"
    }
   ],
   "source": [
    "dict3 ={}\n",
    "for key, value in obj1.items():\n",
    "    even=0\n",
    "    odd=0\n",
    "    for i in value:\n",
    "        if i%2==0:\n",
    "            even+=i\n",
    "        else:\n",
    "            odd+=i\n",
    "    dict3[key+'even']=even\n",
    "    dict3[key+'odd']=odd\n",
    "dict3"
   ]
  },
  {
   "cell_type": "code",
   "execution_count": 300,
   "id": "1df94277",
   "metadata": {
    "scrolled": false
   },
   "outputs": [],
   "source": [
    "def obj_make(obj1):\n",
    "    dict3 ={}\n",
    "    for key, value in obj1.items():\n",
    "        even=0\n",
    "        odd=0\n",
    "        for i in value:\n",
    "            if i%2==0:\n",
    "                even+=i\n",
    "            else:\n",
    "                odd+=i\n",
    "        dict3[key+'even']=even\n",
    "        dict3[key+'odd']=odd\n",
    "    return dict3"
   ]
  },
  {
   "cell_type": "code",
   "execution_count": 301,
   "id": "5f1ca189",
   "metadata": {
    "scrolled": false
   },
   "outputs": [
    {
     "data": {
      "text/plain": [
       "{'aeven': 12,\n",
       " 'aodd': 53,\n",
       " 'beven': 24,\n",
       " 'bodd': 115,\n",
       " 'feven': 16,\n",
       " 'fodd': 16,\n",
       " 'zeven': 222,\n",
       " 'zodd': 455}"
      ]
     },
     "execution_count": 301,
     "metadata": {},
     "output_type": "execute_result"
    }
   ],
   "source": [
    "obj_make(pp)"
   ]
  },
  {
   "cell_type": "code",
   "execution_count": 335,
   "id": "a73c8235",
   "metadata": {
    "scrolled": true
   },
   "outputs": [
    {
     "data": {
      "text/plain": [
       "[{'cnt': 7, 'name': ['홍길동', '홍말자']},\n",
       " {'cnt': 8, 'name': ['홍길동', '홍말자', '김개똥']},\n",
       " {'cnt': 3, 'name': ['홍길동', '홍말자', '국제아카데미']},\n",
       " {'cnt': 17, 'name': ['홍길동', '홍말자', '홍콩 바나나']},\n",
       " {'cnt': 5, 'name': ['홍길동', '홍말자', '미국 산 소고기']},\n",
       " {'cnt': 9, 'name': ['홍길동', '홍말자', '한우', '불고기']}]"
      ]
     },
     "execution_count": 335,
     "metadata": {},
     "output_type": "execute_result"
    }
   ],
   "source": [
    "list_of_counter = [\n",
    "    {\"cnt\":7,\"name\":['홍길동','홍말자']},\n",
    "    {\"cnt\":8,\"name\":['홍길동','홍말자',\"김개똥\"]},\n",
    "    {\"cnt\":3,\"name\":['홍길동','홍말자','국제아카데미']},\n",
    "    {\"cnt\":17,\"name\":['홍길동','홍말자','홍콩 바나나']},\n",
    "    {\"cnt\":5,\"name\":['홍길동','홍말자','미국 산 소고기']},\n",
    "    {\"cnt\":9,\"name\":['홍길동','홍말자','한우','불고기']}\n",
    "]\n",
    "list_of_counter"
   ]
  },
  {
   "cell_type": "code",
   "execution_count": 304,
   "id": "5ed832a8",
   "metadata": {
    "scrolled": false
   },
   "outputs": [
    {
     "data": {
      "text/plain": [
       "[2, 3, 7, 2, 3, 7, 2, 3, 7, 2, 3, 7, 2, 3, 7]"
      ]
     },
     "execution_count": 304,
     "metadata": {},
     "output_type": "execute_result"
    }
   ],
   "source": [
    "[2,3,7]*5 #이것 활용하는것과 반복문을 활용하여 리스트에서 하나씩 꺼내서 반복하는것 두가지 구현"
   ]
  },
  {
   "cell_type": "code",
   "execution_count": 376,
   "id": "5cb2ca3a",
   "metadata": {},
   "outputs": [
    {
     "data": {
      "text/plain": [
       "['홍길동',\n",
       " '홍말자',\n",
       " '김개똥',\n",
       " '홍길동',\n",
       " '홍말자',\n",
       " '김개똥',\n",
       " '홍길동',\n",
       " '홍말자',\n",
       " '김개똥',\n",
       " '홍길동',\n",
       " '홍말자',\n",
       " '김개똥',\n",
       " '홍길동',\n",
       " '홍말자',\n",
       " '김개똥',\n",
       " '홍길동',\n",
       " '홍말자',\n",
       " '김개똥',\n",
       " '홍길동',\n",
       " '홍말자',\n",
       " '김개똥',\n",
       " '홍길동',\n",
       " '홍말자',\n",
       " '김개똥']"
      ]
     },
     "execution_count": 376,
     "metadata": {},
     "output_type": "execute_result"
    }
   ],
   "source": [
    "['홍길동','홍말자']*7\n",
    "['홍길동','홍말자','김개똥']*8"
   ]
  },
  {
   "cell_type": "code",
   "execution_count": 328,
   "id": "61c422f0",
   "metadata": {},
   "outputs": [],
   "source": [
    "def f(*x, **y): #파라미터 여러개를 받아서 unpack함\n",
    "    print(y)\n",
    "    return list(map(lambda y: y*3, x))"
   ]
  },
  {
   "cell_type": "code",
   "execution_count": 329,
   "id": "2954653b",
   "metadata": {},
   "outputs": [
    {
     "name": "stdout",
     "output_type": "stream",
     "text": [
      "{'n': '홍길동', 'age': 15}\n"
     ]
    },
    {
     "data": {
      "text/plain": [
       "[9, 12, 15]"
      ]
     },
     "execution_count": 329,
     "metadata": {},
     "output_type": "execute_result"
    }
   ],
   "source": [
    "f(3,4,5,n='홍길동',age=15)"
   ]
  },
  {
   "cell_type": "code",
   "execution_count": 305,
   "id": "bb26075a",
   "metadata": {},
   "outputs": [],
   "source": [
    "# 문제3) 6개의 dictionary가 있는데 각각의 dictionary 마다 cnt의 값만큼 name에 들어있는 리스트를 반복하여\n",
    "# 저장함 new:['홍길동','홍말자','홍길동','홍말자','홍길동','홍말자','홍길동','홍말자']\n",
    "#'홍길동','홍말자','홍길동','홍말자','홍길동','홍말자'] => 7회 반복\n",
    "# new: ['홍길동','홍말자','김개똥',8회 반복]"
   ]
  },
  {
   "cell_type": "code",
   "execution_count": 377,
   "id": "18ff45c9",
   "metadata": {},
   "outputs": [],
   "source": [
    "def iter_list(x): #입력 => dictionary\n",
    "    list_result=[]\n",
    "    for i in range(x['cnt']): # cnt 횟수만큼 반복\n",
    "        for j in x['name']:\n",
    "            list_result.append(j)\n",
    "    return {'cnt': x['cnt'],'name':x['name'], 'new':list_result}"
   ]
  },
  {
   "cell_type": "code",
   "execution_count": 379,
   "id": "8529a8fc",
   "metadata": {},
   "outputs": [
    {
     "data": {
      "text/plain": [
       "[{'cnt': 7,\n",
       "  'name': ['홍길동', '홍말자'],\n",
       "  'new': ['홍길동',\n",
       "   '홍말자',\n",
       "   '홍길동',\n",
       "   '홍말자',\n",
       "   '홍길동',\n",
       "   '홍말자',\n",
       "   '홍길동',\n",
       "   '홍말자',\n",
       "   '홍길동',\n",
       "   '홍말자',\n",
       "   '홍길동',\n",
       "   '홍말자',\n",
       "   '홍길동',\n",
       "   '홍말자']},\n",
       " {'cnt': 8,\n",
       "  'name': ['홍길동', '홍말자', '김개똥'],\n",
       "  'new': ['홍길동',\n",
       "   '홍말자',\n",
       "   '김개똥',\n",
       "   '홍길동',\n",
       "   '홍말자',\n",
       "   '김개똥',\n",
       "   '홍길동',\n",
       "   '홍말자',\n",
       "   '김개똥',\n",
       "   '홍길동',\n",
       "   '홍말자',\n",
       "   '김개똥',\n",
       "   '홍길동',\n",
       "   '홍말자',\n",
       "   '김개똥',\n",
       "   '홍길동',\n",
       "   '홍말자',\n",
       "   '김개똥',\n",
       "   '홍길동',\n",
       "   '홍말자',\n",
       "   '김개똥',\n",
       "   '홍길동',\n",
       "   '홍말자',\n",
       "   '김개똥']},\n",
       " {'cnt': 3,\n",
       "  'name': ['홍길동', '홍말자', '국제아카데미'],\n",
       "  'new': ['홍길동',\n",
       "   '홍말자',\n",
       "   '국제아카데미',\n",
       "   '홍길동',\n",
       "   '홍말자',\n",
       "   '국제아카데미',\n",
       "   '홍길동',\n",
       "   '홍말자',\n",
       "   '국제아카데미']},\n",
       " {'cnt': 17,\n",
       "  'name': ['홍길동', '홍말자', '홍콩 바나나'],\n",
       "  'new': ['홍길동',\n",
       "   '홍말자',\n",
       "   '홍콩 바나나',\n",
       "   '홍길동',\n",
       "   '홍말자',\n",
       "   '홍콩 바나나',\n",
       "   '홍길동',\n",
       "   '홍말자',\n",
       "   '홍콩 바나나',\n",
       "   '홍길동',\n",
       "   '홍말자',\n",
       "   '홍콩 바나나',\n",
       "   '홍길동',\n",
       "   '홍말자',\n",
       "   '홍콩 바나나',\n",
       "   '홍길동',\n",
       "   '홍말자',\n",
       "   '홍콩 바나나',\n",
       "   '홍길동',\n",
       "   '홍말자',\n",
       "   '홍콩 바나나',\n",
       "   '홍길동',\n",
       "   '홍말자',\n",
       "   '홍콩 바나나',\n",
       "   '홍길동',\n",
       "   '홍말자',\n",
       "   '홍콩 바나나',\n",
       "   '홍길동',\n",
       "   '홍말자',\n",
       "   '홍콩 바나나',\n",
       "   '홍길동',\n",
       "   '홍말자',\n",
       "   '홍콩 바나나',\n",
       "   '홍길동',\n",
       "   '홍말자',\n",
       "   '홍콩 바나나',\n",
       "   '홍길동',\n",
       "   '홍말자',\n",
       "   '홍콩 바나나',\n",
       "   '홍길동',\n",
       "   '홍말자',\n",
       "   '홍콩 바나나',\n",
       "   '홍길동',\n",
       "   '홍말자',\n",
       "   '홍콩 바나나',\n",
       "   '홍길동',\n",
       "   '홍말자',\n",
       "   '홍콩 바나나',\n",
       "   '홍길동',\n",
       "   '홍말자',\n",
       "   '홍콩 바나나']},\n",
       " {'cnt': 5,\n",
       "  'name': ['홍길동', '홍말자', '미국 산 소고기'],\n",
       "  'new': ['홍길동',\n",
       "   '홍말자',\n",
       "   '미국 산 소고기',\n",
       "   '홍길동',\n",
       "   '홍말자',\n",
       "   '미국 산 소고기',\n",
       "   '홍길동',\n",
       "   '홍말자',\n",
       "   '미국 산 소고기',\n",
       "   '홍길동',\n",
       "   '홍말자',\n",
       "   '미국 산 소고기',\n",
       "   '홍길동',\n",
       "   '홍말자',\n",
       "   '미국 산 소고기']},\n",
       " {'cnt': 9,\n",
       "  'name': ['홍길동', '홍말자', '한우', '불고기'],\n",
       "  'new': ['홍길동',\n",
       "   '홍말자',\n",
       "   '한우',\n",
       "   '불고기',\n",
       "   '홍길동',\n",
       "   '홍말자',\n",
       "   '한우',\n",
       "   '불고기',\n",
       "   '홍길동',\n",
       "   '홍말자',\n",
       "   '한우',\n",
       "   '불고기',\n",
       "   '홍길동',\n",
       "   '홍말자',\n",
       "   '한우',\n",
       "   '불고기',\n",
       "   '홍길동',\n",
       "   '홍말자',\n",
       "   '한우',\n",
       "   '불고기',\n",
       "   '홍길동',\n",
       "   '홍말자',\n",
       "   '한우',\n",
       "   '불고기',\n",
       "   '홍길동',\n",
       "   '홍말자',\n",
       "   '한우',\n",
       "   '불고기',\n",
       "   '홍길동',\n",
       "   '홍말자',\n",
       "   '한우',\n",
       "   '불고기',\n",
       "   '홍길동',\n",
       "   '홍말자',\n",
       "   '한우',\n",
       "   '불고기']}]"
      ]
     },
     "execution_count": 379,
     "metadata": {},
     "output_type": "execute_result"
    }
   ],
   "source": [
    "list(map(iter_list, list_of_counter))"
   ]
  },
  {
   "cell_type": "code",
   "execution_count": 352,
   "id": "61ba8c8d",
   "metadata": {},
   "outputs": [
    {
     "name": "stdout",
     "output_type": "stream",
     "text": [
      "cnt 7\n",
      "name ['홍길동', '홍말자']\n",
      "cnt 8\n",
      "name ['홍길동', '홍말자', '김개똥']\n",
      "cnt 3\n",
      "name ['홍길동', '홍말자', '국제아카데미']\n",
      "cnt 17\n",
      "name ['홍길동', '홍말자', '홍콩 바나나']\n",
      "cnt 5\n",
      "name ['홍길동', '홍말자', '미국 산 소고기']\n",
      "cnt 9\n",
      "name ['홍길동', '홍말자', '한우', '불고기']\n"
     ]
    },
    {
     "data": {
      "text/plain": [
       "{'new': ['홍길동', '홍말자', '한우', '불고기']}"
      ]
     },
     "execution_count": 352,
     "metadata": {},
     "output_type": "execute_result"
    }
   ],
   "source": [
    "obj_result={}\n",
    "for i in list_of_counter:\n",
    "    for k,v in i.items():\n",
    "        print(k,v)\n",
    "        obj_result['new'] = v\n",
    "obj_result"
   ]
  },
  {
   "cell_type": "code",
   "execution_count": 313,
   "id": "df287be6",
   "metadata": {},
   "outputs": [],
   "source": [
    "list_of_counter[0]['cnt']=[11,22]\n",
    "obj_11 = list_of_counter[0]\n",
    "import pandas as pd"
   ]
  },
  {
   "cell_type": "code",
   "execution_count": 314,
   "id": "980f33a3",
   "metadata": {
    "scrolled": true
   },
   "outputs": [
    {
     "data": {
      "text/html": [
       "<div>\n",
       "<style scoped>\n",
       "    .dataframe tbody tr th:only-of-type {\n",
       "        vertical-align: middle;\n",
       "    }\n",
       "\n",
       "    .dataframe tbody tr th {\n",
       "        vertical-align: top;\n",
       "    }\n",
       "\n",
       "    .dataframe thead th {\n",
       "        text-align: right;\n",
       "    }\n",
       "</style>\n",
       "<table border=\"1\" class=\"dataframe\">\n",
       "  <thead>\n",
       "    <tr style=\"text-align: right;\">\n",
       "      <th></th>\n",
       "      <th>cnt</th>\n",
       "      <th>name</th>\n",
       "    </tr>\n",
       "  </thead>\n",
       "  <tbody>\n",
       "    <tr>\n",
       "      <th>0</th>\n",
       "      <td>11</td>\n",
       "      <td>홍길동</td>\n",
       "    </tr>\n",
       "    <tr>\n",
       "      <th>1</th>\n",
       "      <td>22</td>\n",
       "      <td>홍말자</td>\n",
       "    </tr>\n",
       "  </tbody>\n",
       "</table>\n",
       "</div>"
      ],
      "text/plain": [
       "   cnt name\n",
       "0   11  홍길동\n",
       "1   22  홍말자"
      ]
     },
     "execution_count": 314,
     "metadata": {},
     "output_type": "execute_result"
    }
   ],
   "source": [
    "pd.DataFrame(obj_11)"
   ]
  },
  {
   "cell_type": "code",
   "execution_count": 414,
   "id": "dc59a135",
   "metadata": {},
   "outputs": [],
   "source": [
    "arr=[[1,2,3],[4,5],[2,3,7]]"
   ]
  },
  {
   "cell_type": "code",
   "execution_count": 382,
   "id": "92eb7bea",
   "metadata": {},
   "outputs": [],
   "source": [
    "#문제 1 arr의 배열을 obj={\"a1\":6,\"a2\":9,\"a3\":12}로 나오게 함수작성"
   ]
  },
  {
   "cell_type": "code",
   "execution_count": 425,
   "id": "18c516a4",
   "metadata": {},
   "outputs": [],
   "source": [
    "#1번\n",
    "def sum_obj(x):\n",
    "    sum1=0\n",
    "    for i in x:\n",
    "        sum1 += i\n",
    "    return sum1"
   ]
  },
  {
   "cell_type": "code",
   "execution_count": 430,
   "id": "29167e92",
   "metadata": {
    "scrolled": false
   },
   "outputs": [
    {
     "data": {
      "text/plain": [
       "{'a1': 6, 'a2': 9, 'a3': 12}"
      ]
     },
     "execution_count": 430,
     "metadata": {},
     "output_type": "execute_result"
    }
   ],
   "source": [
    "obj={}\n",
    "for idx,i in enumerate(arr):\n",
    "    obj[\"a\"+str(idx+1)] = sum_obj(i)\n",
    "obj"
   ]
  },
  {
   "cell_type": "code",
   "execution_count": 450,
   "id": "0e03456e",
   "metadata": {},
   "outputs": [],
   "source": [
    "#2번, 문자열의 길이를 리스트로 [3,2]\n",
    "dict_1={'a':\"홍길동\",'b':\"구분\"}"
   ]
  },
  {
   "cell_type": "code",
   "execution_count": 454,
   "id": "15fc6d77",
   "metadata": {},
   "outputs": [],
   "source": [
    "def dict_len1(x):\n",
    "    list_result=[]\n",
    "    for key, value in x.items():\n",
    "        list_result.append(len(value))\n",
    "    return list_result"
   ]
  },
  {
   "cell_type": "code",
   "execution_count": 456,
   "id": "546af800",
   "metadata": {
    "scrolled": false
   },
   "outputs": [
    {
     "data": {
      "text/plain": [
       "[3, 2]"
      ]
     },
     "execution_count": 456,
     "metadata": {},
     "output_type": "execute_result"
    }
   ],
   "source": [
    "list1=[]\n",
    "for i in dict_1:\n",
    "    list1 = dict_len1(dict_1)\n",
    "list1"
   ]
  },
  {
   "cell_type": "code",
   "execution_count": 457,
   "id": "a8b72b0d",
   "metadata": {},
   "outputs": [],
   "source": [
    "#3번 \n",
    "list_2=[{\"a\":[1,2],\"b\":[5,7]},\n",
    "       {\"a\":[4,3],\"b\":[1,2,3]},\n",
    "       {\"a\":[11,12],\"b\":[13,14,15]}]\n",
    "#{\"a\":1+2+4+3+11+12,\n",
    "# \"b\":5+7+1+2+3+13+14+15}\n",
    "#가 나오게 만들어라"
   ]
  },
  {
   "cell_type": "code",
   "execution_count": 552,
   "id": "3282baf4",
   "metadata": {},
   "outputs": [],
   "source": [
    "def dict_sum1(x):\n",
    "    dict3={}\n",
    "    sum1=0\n",
    "    sum2=0\n",
    "    for i in x:\n",
    "        for v1 in i['a']:\n",
    "            sum1 += v1\n",
    "            dict3['a']=sum1\n",
    "        for v2 in i['b']:\n",
    "            sum2 += v2\n",
    "            dict3['b']=sum2\n",
    "    return dict3"
   ]
  },
  {
   "cell_type": "code",
   "execution_count": 553,
   "id": "4ec505c7",
   "metadata": {
    "scrolled": true
   },
   "outputs": [
    {
     "data": {
      "text/plain": [
       "{'a': 33, 'b': 60}"
      ]
     },
     "execution_count": 553,
     "metadata": {},
     "output_type": "execute_result"
    }
   ],
   "source": [
    "dict_sum1(list_2)"
   ]
  }
 ],
 "metadata": {
  "kernelspec": {
   "display_name": "Python 3 (ipykernel)",
   "language": "python",
   "name": "python3"
  },
  "language_info": {
   "codemirror_mode": {
    "name": "ipython",
    "version": 3
   },
   "file_extension": ".py",
   "mimetype": "text/x-python",
   "name": "python",
   "nbconvert_exporter": "python",
   "pygments_lexer": "ipython3",
   "version": "3.11.4"
  }
 },
 "nbformat": 4,
 "nbformat_minor": 5
}
