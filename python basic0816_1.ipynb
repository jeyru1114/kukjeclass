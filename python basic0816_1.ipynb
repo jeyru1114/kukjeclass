{
 "cells": [
  {
   "cell_type": "code",
   "execution_count": null,
   "id": "02186fcf",
   "metadata": {},
   "outputs": [],
   "source": [
    "a=3"
   ]
  },
  {
   "cell_type": "code",
   "execution_count": null,
   "id": "468e0c03",
   "metadata": {},
   "outputs": [],
   "source": [
    "a=3"
   ]
  },
  {
   "cell_type": "code",
   "execution_count": null,
   "id": "072e692c",
   "metadata": {},
   "outputs": [],
   "source": [
    "print(a)"
   ]
  },
  {
   "cell_type": "markdown",
   "id": "d7f663d7",
   "metadata": {},
   "source": [
    "<ul>\n",
    "    <li>홍길동1</li>\n",
    "    <li>홍길동2</li>\n",
    "    <li>홍길동3</li>\n",
    "</ul>"
   ]
  },
  {
   "cell_type": "markdown",
   "id": "db3d95c4",
   "metadata": {},
   "source": [
    "$$ \\theta $$\n",
    "$$ cos\\theta $$\n",
    "$$ sin^2 \\theta + cos^2 \\theta $$"
   ]
  },
  {
   "cell_type": "markdown",
   "id": "328074a4",
   "metadata": {},
   "source": [
    "<a href=\"https://www.youtube.com/watch?v=vvGydM8NdfA\">삼각함수 노래</a>"
   ]
  },
  {
   "cell_type": "markdown",
   "id": "13cc4431",
   "metadata": {},
   "source": [
    "<a href=\"https://kimdaeho.com/school/bbs_detail.php?bbs_num=896&tb=board_enterprs_story&id=&pg=1&links_number=\">삼각함수 자료</a>"
   ]
  },
  {
   "cell_type": "markdown",
   "id": "74910b5a",
   "metadata": {},
   "source": [
    "## 리스트\n",
    "배열이다"
   ]
  },
  {
   "cell_type": "code",
   "execution_count": null,
   "id": "d3543f96",
   "metadata": {},
   "outputs": [],
   "source": [
    "sum_1=arr[0]+arr[1]+arr[2]+arr[3]+arr[4]\n",
    "sum_1"
   ]
  },
  {
   "cell_type": "code",
   "execution_count": null,
   "id": "2c915dba",
   "metadata": {},
   "outputs": [],
   "source": [
    "sum_2=0\n",
    "for i in arr:\n",
    "    sum_2+=i\n",
    "sum_2"
   ]
  },
  {
   "cell_type": "code",
   "execution_count": null,
   "id": "11d0c3c3",
   "metadata": {},
   "outputs": [],
   "source": [
    "#짝수 만의 합\n",
    "sum_1=0\n",
    "for i in arr:\n",
    "    if i%2==0:\n",
    "        sum_1+=i\n",
    "sum_1"
   ]
  },
  {
   "cell_type": "code",
   "execution_count": null,
   "id": "fbf7606d",
   "metadata": {},
   "outputs": [],
   "source": [
    "f(3)"
   ]
  },
  {
   "cell_type": "code",
   "execution_count": null,
   "id": "e5f91d81",
   "metadata": {},
   "outputs": [],
   "source": [
    "arr2=[]"
   ]
  },
  {
   "cell_type": "code",
   "execution_count": null,
   "id": "8a198a52",
   "metadata": {},
   "outputs": [],
   "source": [
    "#arr2=[] #빈 리스트\n",
    "arr2.append(3) #append 추가한다\n",
    "arr2"
   ]
  },
  {
   "cell_type": "code",
   "execution_count": 6,
   "id": "fbeaed32",
   "metadata": {},
   "outputs": [
    {
     "data": {
      "text/plain": [
       "1"
      ]
     },
     "execution_count": 6,
     "metadata": {},
     "output_type": "execute_result"
    }
   ],
   "source": [
    "arr = [1,3,4,5,6]\n",
    "arr[0]"
   ]
  },
  {
   "cell_type": "code",
   "execution_count": 7,
   "id": "260ec976",
   "metadata": {},
   "outputs": [],
   "source": [
    "def f(x):\n",
    "    return x*2"
   ]
  },
  {
   "cell_type": "markdown",
   "id": "5eb27694",
   "metadata": {},
   "source": [
    "## 문제1) arr리스트의 값을 하나씩 꺼내어 f함수에 전달하여 list로 저장 [2,6,8,10,12]"
   ]
  },
  {
   "cell_type": "code",
   "execution_count": 8,
   "id": "d51436da",
   "metadata": {},
   "outputs": [
    {
     "data": {
      "text/plain": [
       "[2, 6, 8, 10, 12]"
      ]
     },
     "execution_count": 8,
     "metadata": {},
     "output_type": "execute_result"
    }
   ],
   "source": [
    "result=[]\n",
    "for i in arr:\n",
    "    result.append(f(i))\n",
    "result"
   ]
  },
  {
   "cell_type": "code",
   "execution_count": 9,
   "id": "a4f9c667",
   "metadata": {},
   "outputs": [
    {
     "data": {
      "text/plain": [
       "[2, 6, 8, 10, 12]"
      ]
     },
     "execution_count": 9,
     "metadata": {},
     "output_type": "execute_result"
    }
   ],
   "source": [
    "[f(i) for i in arr] #위에와 같은식"
   ]
  },
  {
   "cell_type": "code",
   "execution_count": 10,
   "id": "c25c6925",
   "metadata": {},
   "outputs": [
    {
     "data": {
      "text/plain": [
       "[4, 12, 16, 20, 24]"
      ]
     },
     "execution_count": 10,
     "metadata": {},
     "output_type": "execute_result"
    }
   ],
   "source": [
    "result=[]\n",
    "for i in arr:\n",
    "    result.append(i*4)\n",
    "result"
   ]
  },
  {
   "cell_type": "code",
   "execution_count": 11,
   "id": "d91fb651",
   "metadata": {
    "scrolled": true
   },
   "outputs": [
    {
     "data": {
      "text/plain": [
       "[4, 12, 16, 20, 24]"
      ]
     },
     "execution_count": 11,
     "metadata": {},
     "output_type": "execute_result"
    }
   ],
   "source": [
    "[i*4 for i in arr]"
   ]
  },
  {
   "cell_type": "code",
   "execution_count": 12,
   "id": "bacb2ecb",
   "metadata": {},
   "outputs": [
    {
     "data": {
      "text/plain": [
       "[4, 12, 16, 20, 24]"
      ]
     },
     "execution_count": 12,
     "metadata": {},
     "output_type": "execute_result"
    }
   ],
   "source": [
    "arr2=[i*4 for i in arr] #list comprehension\n",
    "arr2"
   ]
  },
  {
   "cell_type": "markdown",
   "id": "4bd73680",
   "metadata": {},
   "source": [
    "## arr2의 각각의 원소에 1을 더하세요"
   ]
  },
  {
   "cell_type": "code",
   "execution_count": 22,
   "id": "df33adcc",
   "metadata": {
    "scrolled": true
   },
   "outputs": [
    {
     "data": {
      "text/plain": [
       "[5, 13, 17, 21, 25]"
      ]
     },
     "execution_count": 22,
     "metadata": {},
     "output_type": "execute_result"
    }
   ],
   "source": [
    "result7=[]\n",
    "for i in arr2:\n",
    "    result7.append(i+1)\n",
    "result7"
   ]
  },
  {
   "cell_type": "code",
   "execution_count": 23,
   "id": "7dad94a3",
   "metadata": {},
   "outputs": [
    {
     "data": {
      "text/plain": [
       "[5, 13, 17, 21, 25]"
      ]
     },
     "execution_count": 23,
     "metadata": {},
     "output_type": "execute_result"
    }
   ],
   "source": [
    "reuslt7=[i+1 for i in arr2]\n",
    "result7"
   ]
  },
  {
   "cell_type": "code",
   "execution_count": 24,
   "id": "1948b8cb",
   "metadata": {},
   "outputs": [
    {
     "data": {
      "text/plain": [
       "[63]"
      ]
     },
     "execution_count": 24,
     "metadata": {},
     "output_type": "execute_result"
    }
   ],
   "source": [
    "result8=[i*3 for i in result7 if i%3==0]\n",
    "result8"
   ]
  },
  {
   "cell_type": "markdown",
   "id": "903a486b",
   "metadata": {},
   "source": [
    "## 딕셔너리 <br>\n",
    "키와 value의 쌍으로 이루어진 데이터 자료형"
   ]
  },
  {
   "cell_type": "code",
   "execution_count": 25,
   "id": "c58dcb6d",
   "metadata": {},
   "outputs": [],
   "source": [
    "dict1={\"a\":34,\"b\":[12,3,4,5]}"
   ]
  },
  {
   "cell_type": "code",
   "execution_count": 26,
   "id": "e088591f",
   "metadata": {},
   "outputs": [
    {
     "data": {
      "text/plain": [
       "34"
      ]
     },
     "execution_count": 26,
     "metadata": {},
     "output_type": "execute_result"
    }
   ],
   "source": [
    "dict1['a']"
   ]
  },
  {
   "cell_type": "code",
   "execution_count": 29,
   "id": "f2fe3884",
   "metadata": {},
   "outputs": [
    {
     "data": {
      "text/plain": [
       "58"
      ]
     },
     "execution_count": 29,
     "metadata": {},
     "output_type": "execute_result"
    }
   ],
   "source": [
    "dict1['a']+dict1['b'][0]+dict1['b'][1]+dict1['b'][2]+dict1['b'][3]"
   ]
  },
  {
   "cell_type": "code",
   "execution_count": 42,
   "id": "e94bdd0a",
   "metadata": {},
   "outputs": [
    {
     "data": {
      "text/plain": [
       "58"
      ]
     },
     "execution_count": 42,
     "metadata": {},
     "output_type": "execute_result"
    }
   ],
   "source": [
    "result9=0\n",
    "for i in dict1['b']:\n",
    "    result9+=i\n",
    "dict1['a']+result9"
   ]
  },
  {
   "cell_type": "code",
   "execution_count": 43,
   "id": "03685d98",
   "metadata": {
    "scrolled": true
   },
   "outputs": [
    {
     "data": {
      "text/plain": [
       "{'a': 34, 'b': [12, 3, 4, 5], 'c': {'t': [1, 3, 2, 8], 'r': [1, 7]}}"
      ]
     },
     "execution_count": 43,
     "metadata": {},
     "output_type": "execute_result"
    }
   ],
   "source": [
    "dict1={\"a\":34,\"b\":[12,3,4,5],\"c\":{\"t\":[1,3,2,8],\"r\":[1,7]}}\n",
    "dict1"
   ]
  },
  {
   "cell_type": "markdown",
   "id": "cb4ca924",
   "metadata": {},
   "source": [
    "## 1+3+2+8+1+7 을 구하세요"
   ]
  },
  {
   "cell_type": "code",
   "execution_count": 56,
   "id": "56466caa",
   "metadata": {
    "scrolled": true
   },
   "outputs": [
    {
     "data": {
      "text/plain": [
       "22"
      ]
     },
     "execution_count": 56,
     "metadata": {},
     "output_type": "execute_result"
    }
   ],
   "source": [
    "sum1=0\n",
    "for i in dict1['c']['t']:\n",
    "    sum1 +=i\n",
    "for i in dict1['c']['r']:\n",
    "    sum1 +=i\n",
    "sum1"
   ]
  }
 ],
 "metadata": {
  "kernelspec": {
   "display_name": "Python 3 (ipykernel)",
   "language": "python",
   "name": "python3"
  },
  "language_info": {
   "codemirror_mode": {
    "name": "ipython",
    "version": 3
   },
   "file_extension": ".py",
   "mimetype": "text/x-python",
   "name": "python",
   "nbconvert_exporter": "python",
   "pygments_lexer": "ipython3",
   "version": "3.11.4"
  }
 },
 "nbformat": 4,
 "nbformat_minor": 5
}
