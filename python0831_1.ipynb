{
 "cells": [
  {
   "cell_type": "code",
   "execution_count": 1,
   "id": "24724da6",
   "metadata": {},
   "outputs": [],
   "source": [
    "import requests"
   ]
  },
  {
   "cell_type": "code",
   "execution_count": 2,
   "id": "1bf40909",
   "metadata": {},
   "outputs": [
    {
     "data": {
      "text/plain": [
       "<Response [200]>"
      ]
     },
     "execution_count": 2,
     "metadata": {},
     "output_type": "execute_result"
    }
   ],
   "source": [
    "url=\"http://python.cyber.co.kr/pds/books/python2nd/test1.html\"\n",
    "response = requests.get(url)\n",
    "response"
   ]
  },
  {
   "cell_type": "code",
   "execution_count": 3,
   "id": "1a81ebc2",
   "metadata": {},
   "outputs": [],
   "source": [
    "response.encoding =response.apparent_encoding #글자가 깨지지 않도록 한다"
   ]
  },
  {
   "cell_type": "code",
   "execution_count": 4,
   "id": "558db0f4",
   "metadata": {},
   "outputs": [],
   "source": [
    "list_data = response.text+\"수학어려워\""
   ]
  },
  {
   "cell_type": "code",
   "execution_count": 5,
   "id": "c14d0c8b",
   "metadata": {
    "scrolled": true
   },
   "outputs": [
    {
     "data": {
      "text/plain": [
       "'스크래핑이 뭐지?</li>\\r\\n\\t\\t\\t'"
      ]
     },
     "execution_count": 5,
     "metadata": {},
     "output_type": "execute_result"
    }
   ],
   "source": [
    "list_data.split(\"<li>\")[1]"
   ]
  },
  {
   "cell_type": "code",
   "execution_count": 6,
   "id": "a4ff5000",
   "metadata": {},
   "outputs": [],
   "source": [
    "#파일을 쓰기모드로 열고\n",
    "filename = \"c:\\\\1\\\\d.txt\" # 파이썬파일이 저장되는곳에 다운로드라는 이름으로 파일생성됨\n",
    "with open(filename, mode='w') as f: # mode=w는 읽기전용\n",
    "    #인터넷에서 취득한 데이터 저장\n",
    "    f.write(list_data)"
   ]
  },
  {
   "cell_type": "code",
   "execution_count": 7,
   "id": "4eeceb2f",
   "metadata": {},
   "outputs": [],
   "source": [
    "from bs4 import BeautifulSoup"
   ]
  },
  {
   "cell_type": "code",
   "execution_count": 8,
   "id": "bedba0d8",
   "metadata": {},
   "outputs": [],
   "source": [
    "html = requests.get(url)\n",
    "soup = BeautifulSoup(html.content , \"html.parser\") #html을 해석"
   ]
  },
  {
   "cell_type": "code",
   "execution_count": 9,
   "id": "9500a2a2",
   "metadata": {
    "scrolled": false
   },
   "outputs": [
    {
     "data": {
      "text/plain": [
       "<!DOCTYPE html>\n",
       "\n",
       "<html>\n",
       "<head>\n",
       "<meta charset=\"utf-8\"/>\n",
       "<title>파이썬 2학년</title>\n",
       "</head>\n",
       "<body>\n",
       "<h2>제1장 파이썬으로 데이터를 다운로드</h2>\n",
       "<ol>\n",
       "<li>스크래핑이 뭐지?</li>\n",
       "<li>파이썬을 설치해 보자</li>\n",
       "<li>requests로 액세스해 보자</li>\n",
       "</ol>\n",
       "</body>\n",
       "</html>"
      ]
     },
     "execution_count": 9,
     "metadata": {},
     "output_type": "execute_result"
    }
   ],
   "source": [
    "soup"
   ]
  },
  {
   "cell_type": "code",
   "execution_count": 10,
   "id": "7228050c",
   "metadata": {},
   "outputs": [],
   "source": [
    "class Calculator:\n",
    "    def __init__(self): # 생성자\n",
    "        self.result =0\n",
    "    def add(self,num):\n",
    "        self.result += num\n",
    "        return self.result"
   ]
  },
  {
   "cell_type": "code",
   "execution_count": 11,
   "id": "c81fc81a",
   "metadata": {},
   "outputs": [],
   "source": [
    "cal1 = Calculator()\n",
    "cal2 = Calculator()"
   ]
  },
  {
   "cell_type": "code",
   "execution_count": 12,
   "id": "150d5a92",
   "metadata": {
    "scrolled": true
   },
   "outputs": [
    {
     "data": {
      "text/plain": [
       "10"
      ]
     },
     "execution_count": 12,
     "metadata": {},
     "output_type": "execute_result"
    }
   ],
   "source": [
    "cal1.add(0) + cal2.add(10)"
   ]
  },
  {
   "cell_type": "code",
   "execution_count": 23,
   "id": "bf4edac2",
   "metadata": {},
   "outputs": [],
   "source": [
    "#계산기\n",
    "class Calculator:\n",
    "    def __init__(self): # 생성자\n",
    "        self.result =0\n",
    "    def add(self,first,second):\n",
    "        return first + second\n",
    "    def sub(self,first,second):\n",
    "        return first - second\n",
    "    def mul(self,first,second):\n",
    "        return first * second\n",
    "    def div(self,first,second):\n",
    "        return first / second"
   ]
  },
  {
   "cell_type": "code",
   "execution_count": 50,
   "id": "850669c3",
   "metadata": {},
   "outputs": [],
   "source": [
    "#계산기\n",
    "class Calculator:\n",
    "    def __init__(self): # 생성자\n",
    "        self.result =0\n",
    "    def add(self,first,second):\n",
    "        return first + second\n",
    "    def sub(self,first,second):\n",
    "        return first - second\n",
    "    def mul(self,first,second):\n",
    "        return first * second\n",
    "    def div(self,first,second):\n",
    "        return first / second"
   ]
  },
  {
   "cell_type": "code",
   "execution_count": 276,
   "id": "01331e56",
   "metadata": {},
   "outputs": [
    {
     "name": "stdout",
     "output_type": "stream",
     "text": [
      "연산하고자 하는 것은 1)덧셈, 2)뺄셈, 3)곱셈, 4)나눗셈 1\n",
      "첫번째 숫자는? 2\n",
      "두번째 숫자는? 5\n",
      "7\n"
     ]
    }
   ],
   "source": [
    "input_data = input(\"연산하고자 하는 것은 1)덧셈, 2)뺄셈, 3)곱셈, 4)나눗셈 \")\n",
    "number1 = int(input(\"첫번째 숫자는? \")) # 입력된 값이 문자열이라서 정수로 변환\n",
    "number2 = int(input(\"두번째 숫자는? \"))\n",
    "if input_data == \"1\":\n",
    "    print(cal1.add(number1,number2))\n",
    "elif input_data == \"2\":\n",
    "    print(cal1.sub(number1,number2))\n",
    "elif input_data == \"3\":\n",
    "    print(cal1.mul(number1,number2))\n",
    "elif input_data == \"4\":\n",
    "    print(cal1.div(number1,number2))\n",
    "else:\n",
    "    print(\"다시 해\")"
   ]
  },
  {
   "cell_type": "code",
   "execution_count": 35,
   "id": "92b075c7",
   "metadata": {},
   "outputs": [],
   "source": [
    "cal1 = Calculator()"
   ]
  },
  {
   "cell_type": "code",
   "execution_count": 49,
   "id": "e85e905a",
   "metadata": {
    "scrolled": true
   },
   "outputs": [
    {
     "name": "stdout",
     "output_type": "stream",
     "text": [
      "연산하고자하는 것은 1)더하기add, 2)빼기sub, 3)곱하기mul, 4)나누기div >> 5\n",
      "없는 번호입니다\n"
     ]
    }
   ],
   "source": [
    "input_data = input(\"연산하고자하는 것은 1)더하기add, 2)빼기sub, 3)곱하기mul, 4)나누기div >> \")\n",
    "if input_data == \"1\":\n",
    "    print(cal1.add(45,5))\n",
    "elif input_data == \"2\":\n",
    "    print(cal1.sub(50,5))\n",
    "elif input_data == \"3\":\n",
    "    print(cal1.mul(10,5))\n",
    "elif input_data == \"4\":\n",
    "    print(cal1.div(10,5))\n",
    "else :\n",
    "    print(\"없는 번호입니다\")"
   ]
  },
  {
   "cell_type": "code",
   "execution_count": 17,
   "id": "68e010c4",
   "metadata": {},
   "outputs": [],
   "source": [
    "cal1.sub(50,20)"
   ]
  },
  {
   "cell_type": "code",
   "execution_count": 18,
   "id": "84b04103",
   "metadata": {},
   "outputs": [],
   "source": [
    "cal1.mul(2,9)"
   ]
  },
  {
   "cell_type": "code",
   "execution_count": 19,
   "id": "bf6e0c65",
   "metadata": {
    "scrolled": true
   },
   "outputs": [
    {
     "data": {
      "text/plain": [
       "3.0"
      ]
     },
     "execution_count": 19,
     "metadata": {},
     "output_type": "execute_result"
    }
   ],
   "source": [
    "cal1.div(6,2)"
   ]
  },
  {
   "cell_type": "markdown",
   "id": "ce9226f8",
   "metadata": {},
   "source": [
    "A 클래스로 객체 생성후 print_A 메서드 호출"
   ]
  },
  {
   "cell_type": "code",
   "execution_count": 20,
   "id": "d1dbb13e",
   "metadata": {},
   "outputs": [],
   "source": [
    "class A:\n",
    "    def __init__(self, num1, num2):\n",
    "        self.first = num1\n",
    "        self.second = num2\n",
    "    def print_A(self):\n",
    "        print(self.first+self.second)  "
   ]
  },
  {
   "cell_type": "code",
   "execution_count": 21,
   "id": "7b95733f",
   "metadata": {},
   "outputs": [],
   "source": [
    "a1 = A(\"4\",\"랑해\")"
   ]
  },
  {
   "cell_type": "code",
   "execution_count": 22,
   "id": "83574fe0",
   "metadata": {
    "scrolled": true
   },
   "outputs": [
    {
     "name": "stdout",
     "output_type": "stream",
     "text": [
      "4랑해\n"
     ]
    }
   ],
   "source": [
    "a1.print_A()"
   ]
  },
  {
   "cell_type": "code",
   "execution_count": 53,
   "id": "a2e68fea",
   "metadata": {},
   "outputs": [],
   "source": [
    "class Person:\n",
    "    def __init__(self):\n",
    "        self.__age=0\n",
    "        \n",
    "    def get_age(self): #getter\n",
    "        return self.__age\n",
    "    def set_age(self, value): #setter\n",
    "        self.__age = value"
   ]
  },
  {
   "cell_type": "code",
   "execution_count": 54,
   "id": "aae1a64b",
   "metadata": {},
   "outputs": [
    {
     "data": {
      "text/plain": [
       "20"
      ]
     },
     "execution_count": 54,
     "metadata": {},
     "output_type": "execute_result"
    }
   ],
   "source": [
    "james = Person()\n",
    "james.set_age(20)\n",
    "james.get_age()"
   ]
  },
  {
   "cell_type": "markdown",
   "id": "e40d617e",
   "metadata": {},
   "source": [
    "싱글 언더바 _: 변수나 메서드 이름 앞에 싱글 언더바가 붙으면, 이는 해당 변수나 메서드가 클래스 안에서만 사용되는 것을 나타냅니다. 클래스 외부에서 직접 접근할 때 조심해야 합니다.\n",
    "\n",
    "더블 언더바 __: 변수나 메서드 이름 앞에 더블 언더바가 붙으면, 파이썬이 이름을 약간 변경하여 저장합니다. 주로 클래스의 속성 이름 충돌을 피하기 위해 사용됩니다.\n",
    "\n",
    "이렇게 언더바를 사용하는 것은 주로 코드의 가독성을 높이거나 클래스의 속성과 메서드를 보호하기 위한 목적으로 사용됩니다."
   ]
  },
  {
   "cell_type": "code",
   "execution_count": 57,
   "id": "59cf5485",
   "metadata": {},
   "outputs": [],
   "source": [
    "class P:\n",
    "    def __init__(self):\n",
    "        self.__age=0\n",
    "    @property\n",
    "    def age(self): #getter\n",
    "        return self.__age\n",
    "    \n",
    "    @property\n",
    "    def name(self): #getter\n",
    "        return self.__name\n",
    "    \n",
    "    @age.setter\n",
    "    def age(self, value): #setter\n",
    "        self.__age=value\n",
    "        \n",
    "    @name.setter\n",
    "    def name(self, v): #setter\n",
    "        self.__name=v"
   ]
  },
  {
   "cell_type": "code",
   "execution_count": 58,
   "id": "d96054a4",
   "metadata": {
    "scrolled": true
   },
   "outputs": [
    {
     "data": {
      "text/plain": [
       "'김말자'"
      ]
     },
     "execution_count": 58,
     "metadata": {},
     "output_type": "execute_result"
    }
   ],
   "source": [
    "james = P()\n",
    "james.age=20\n",
    "james.name=\"김말자\"\n",
    "james.age\n",
    "james.name"
   ]
  },
  {
   "cell_type": "code",
   "execution_count": 61,
   "id": "d6f008f8",
   "metadata": {},
   "outputs": [],
   "source": [
    "def hello():\n",
    "    print(\"hello 함수 시작\") #반복되고있음\n",
    "    print(\"hello\") #기능\n",
    "    print(\"hello 함수 끝\")\n",
    "def world():\n",
    "    print(\"world 함수 시작\")\n",
    "    print(\"world\") #기능\n",
    "    print(\"world 함수 끝\")"
   ]
  },
  {
   "cell_type": "code",
   "execution_count": 62,
   "id": "91648d33",
   "metadata": {
    "scrolled": true
   },
   "outputs": [
    {
     "name": "stdout",
     "output_type": "stream",
     "text": [
      "hello 함수 시작\n",
      "hello\n",
      "hello 함수 끝\n",
      "None\n"
     ]
    }
   ],
   "source": [
    "print(hello())"
   ]
  },
  {
   "cell_type": "code",
   "execution_count": 72,
   "id": "20c1cf9b",
   "metadata": {},
   "outputs": [],
   "source": [
    "def trace(func):\n",
    "    def wrapper():\n",
    "        print(func.__name__,'함수 시작')\n",
    "        func()\n",
    "        print(func.__name__,'함수 끝')\n",
    "    return wrapper"
   ]
  },
  {
   "cell_type": "code",
   "execution_count": 101,
   "id": "db4cd66c",
   "metadata": {},
   "outputs": [],
   "source": [
    "def hello1():\n",
    "    print('hello2')"
   ]
  },
  {
   "cell_type": "code",
   "execution_count": 100,
   "id": "38c285ba",
   "metadata": {},
   "outputs": [],
   "source": [
    "def world1():\n",
    "    print('world2')"
   ]
  },
  {
   "cell_type": "code",
   "execution_count": 112,
   "id": "ec1b2b92",
   "metadata": {
    "scrolled": true
   },
   "outputs": [
    {
     "name": "stdout",
     "output_type": "stream",
     "text": [
      "hello1 함수 시작\n",
      "hello2\n",
      "hello1 함수 끝\n",
      "world1 함수 시작\n",
      "world2\n",
      "world1 함수 끝\n"
     ]
    }
   ],
   "source": [
    "trace_hello = trace(hello1)\n",
    "trace_hello()\n",
    "trace_world = trace(world1)\n",
    "trace_world()"
   ]
  },
  {
   "cell_type": "code",
   "execution_count": 111,
   "id": "3248ab10",
   "metadata": {},
   "outputs": [
    {
     "name": "stdout",
     "output_type": "stream",
     "text": [
      "hello2\n"
     ]
    }
   ],
   "source": [
    "hello1()"
   ]
  },
  {
   "cell_type": "code",
   "execution_count": 107,
   "id": "7bcdfb39",
   "metadata": {},
   "outputs": [],
   "source": [
    "@trace #Decorator (장식자)\n",
    "def hello():\n",
    "    print('hello')"
   ]
  },
  {
   "cell_type": "code",
   "execution_count": 104,
   "id": "bd8d9c9d",
   "metadata": {},
   "outputs": [],
   "source": [
    "@trace\n",
    "def world():\n",
    "    print('world')"
   ]
  },
  {
   "cell_type": "code",
   "execution_count": 108,
   "id": "8c22494e",
   "metadata": {},
   "outputs": [
    {
     "name": "stdout",
     "output_type": "stream",
     "text": [
      "hello 함수 시작\n",
      "hello\n",
      "hello 함수 끝\n",
      "world 함수 시작\n",
      "world\n",
      "world 함수 끝\n"
     ]
    }
   ],
   "source": [
    "hello()\n",
    "world()"
   ]
  },
  {
   "cell_type": "code",
   "execution_count": 83,
   "id": "4f1ecfa6",
   "metadata": {
    "scrolled": false
   },
   "outputs": [
    {
     "data": {
      "text/plain": [
       "<method-wrapper '__str__' of str object at 0x000001ADCA433C30>"
      ]
     },
     "execution_count": 83,
     "metadata": {},
     "output_type": "execute_result"
    }
   ],
   "source": [
    "\"홍길동\".__str__"
   ]
  },
  {
   "cell_type": "markdown",
   "id": "bcc1ffbd",
   "metadata": {},
   "source": [
    "<a href=\"https://blog.naver.com/PostView.naver?blogId=youndok&logNo=222566232550&categoryNo=0&parentCategoryNo=0&viewDate=&currentPage=1&postListTopCurrentPage=1&from=postView\"> __메서드__</a>"
   ]
  },
  {
   "cell_type": "code",
   "execution_count": 113,
   "id": "fd9d346d",
   "metadata": {
    "scrolled": true
   },
   "outputs": [
    {
     "data": {
      "text/plain": [
       "<title>파이썬 2학년</title>"
      ]
     },
     "execution_count": 113,
     "metadata": {},
     "output_type": "execute_result"
    }
   ],
   "source": [
    "soup.find(\"title\")"
   ]
  },
  {
   "cell_type": "code",
   "execution_count": 114,
   "id": "aaa7a6c6",
   "metadata": {
    "scrolled": false
   },
   "outputs": [
    {
     "data": {
      "text/plain": [
       "<h2>제1장 파이썬으로 데이터를 다운로드</h2>"
      ]
     },
     "execution_count": 114,
     "metadata": {},
     "output_type": "execute_result"
    }
   ],
   "source": [
    "soup.find(\"h2\")"
   ]
  },
  {
   "cell_type": "code",
   "execution_count": 116,
   "id": "69488618",
   "metadata": {
    "scrolled": false
   },
   "outputs": [
    {
     "data": {
      "text/plain": [
       "'스크래핑이 뭐지?'"
      ]
     },
     "execution_count": 116,
     "metadata": {},
     "output_type": "execute_result"
    }
   ],
   "source": [
    "soup.find(\"li\").text"
   ]
  },
  {
   "cell_type": "markdown",
   "id": "68f5f4de",
   "metadata": {},
   "source": [
    "문제1) ol 태그 찾기<br>\n",
    "문제2) {\"li\":[텍스트],\"h2\":[여러개면 list], \"title\":\"제목\"}"
   ]
  },
  {
   "cell_type": "code",
   "execution_count": 117,
   "id": "29e1b713",
   "metadata": {
    "scrolled": true
   },
   "outputs": [
    {
     "data": {
      "text/plain": [
       "<ol>\n",
       "<li>스크래핑이 뭐지?</li>\n",
       "<li>파이썬을 설치해 보자</li>\n",
       "<li>requests로 액세스해 보자</li>\n",
       "</ol>"
      ]
     },
     "execution_count": 117,
     "metadata": {},
     "output_type": "execute_result"
    }
   ],
   "source": [
    "soup.find(\"ol\")"
   ]
  },
  {
   "cell_type": "code",
   "execution_count": 166,
   "id": "f9d57b61",
   "metadata": {},
   "outputs": [
    {
     "data": {
      "text/plain": [
       "[<li>스크래핑이 뭐지?</li>, <li>파이썬을 설치해 보자</li>, <li>requests로 액세스해 보자</li>]"
      ]
     },
     "execution_count": 166,
     "metadata": {},
     "output_type": "execute_result"
    }
   ],
   "source": [
    "soup.find_all(\"li\")"
   ]
  },
  {
   "cell_type": "code",
   "execution_count": 223,
   "id": "82d2ddde",
   "metadata": {
    "scrolled": false
   },
   "outputs": [],
   "source": [
    "dict1={\"li\":0,\"h2\":0,\"title\":0}\n",
    "list1=[]\n",
    "for i in soup.find_all(\"li\"):\n",
    "    list1 += [i.get_text()]\n",
    "    dict1[\"li\"] = list1"
   ]
  },
  {
   "cell_type": "code",
   "execution_count": 224,
   "id": "a95007ad",
   "metadata": {},
   "outputs": [
    {
     "data": {
      "text/plain": [
       "{'li': ['스크래핑이 뭐지?', '파이썬을 설치해 보자', 'requests로 액세스해 보자'],\n",
       " 'h2': '제1장 파이썬으로 데이터를 다운로드',\n",
       " 'title': '파이썬 2학년'}"
      ]
     },
     "execution_count": 224,
     "metadata": {},
     "output_type": "execute_result"
    }
   ],
   "source": [
    "dict1[\"h2\"] = soup.find(\"h2\").text\n",
    "dict1[\"title\"] = soup.find(\"title\").text\n",
    "dict1"
   ]
  },
  {
   "cell_type": "code",
   "execution_count": 283,
   "id": "459a46bc",
   "metadata": {
    "scrolled": true
   },
   "outputs": [
    {
     "data": {
      "text/plain": [
       "['상단영역 바로가기',\n",
       " '서비스 메뉴 바로가기',\n",
       " '새소식 블록 바로가기',\n",
       " '쇼핑 블록 바로가기',\n",
       " '관심사 블록 바로가기',\n",
       " 'MY 영역 바로가기',\n",
       " '위젯 보드 바로가기',\n",
       " '보기 설정 바로가기',\n",
       " '@txt@',\n",
       " '@14@',\n",
       " '@txt@',\n",
       " '@txt@',\n",
       " '@query@ @intend@']"
      ]
     },
     "execution_count": 283,
     "metadata": {},
     "output_type": "execute_result"
    }
   ],
   "source": [
    "url2 = \"https://www.naver.com/\"\n",
    "html=requests.get(url2)\n",
    "soup = BeautifulSoup(html.content, \"html.parser\") # html을 해석\n",
    "\n",
    "a_list=[]\n",
    "for i in soup.find_all(\"a\"):\n",
    "    try:\n",
    "        span1 = i.find(\"span\").text\n",
    "        a_list.append(span1)\n",
    "#         print(list1)\n",
    "    except :\n",
    "        pass\n",
    "# None 타입은 try except 구문(예외) 처리하여\n",
    "#a태그의 text를 리스트에 담아주세요\n",
    "# soup.select()\n",
    "list1"
   ]
  },
  {
   "cell_type": "code",
   "execution_count": 285,
   "id": "741470ff",
   "metadata": {
    "scrolled": true
   },
   "outputs": [
    {
     "data": {
      "text/plain": [
       "['상단영역 바로가기',\n",
       " '서비스 메뉴 바로가기',\n",
       " '새소식 블록 바로가기',\n",
       " '쇼핑 블록 바로가기',\n",
       " '관심사 블록 바로가기',\n",
       " 'MY 영역 바로가기',\n",
       " '위젯 보드 바로가기',\n",
       " '보기 설정 바로가기',\n",
       " '@txt@',\n",
       " '@14@',\n",
       " '@txt@',\n",
       " '@txt@',\n",
       " '@query@ @intend@']"
      ]
     },
     "execution_count": 285,
     "metadata": {},
     "output_type": "execute_result"
    }
   ],
   "source": [
    "url2 = 'http://www.naver.com/'\n",
    "html = requests.get(url2)\n",
    "soup = BeautifulSoup(html.content, \"html.parser\")#html을 해석\n",
    "list1=[]\n",
    "for i in soup.find_all(\"a\"):\n",
    "    try:\n",
    "        span1 = i.find(\"span\").text\n",
    "        if span1 !=\"\":\n",
    "            list1.append(span1)\n",
    "    except :\n",
    "        pass\n",
    "list1"
   ]
  },
  {
   "cell_type": "code",
   "execution_count": 352,
   "id": "5c1e80db",
   "metadata": {},
   "outputs": [],
   "source": [
    "url2=\"https://www.naver.com/\"\n",
    "\n",
    "url=\"http://python.cyber.co.kr/pds/books/python2nd/test2.html\"\n",
    "html = requests.get(url2)\n",
    "soup = BeautifulSoup(html.content, \"html.parser\") # html을 해석"
   ]
  },
  {
   "cell_type": "code",
   "execution_count": 292,
   "id": "b2f537f6",
   "metadata": {},
   "outputs": [],
   "source": [
    "# ID로 검색하여 그 태그의 내용 표시\n",
    "chap2 = soup.find(id=\"chap2\")\n",
    "#chap2"
   ]
  },
  {
   "cell_type": "code",
   "execution_count": 338,
   "id": "3bd38e6b",
   "metadata": {
    "scrolled": true
   },
   "outputs": [
    {
     "data": {
      "text/plain": [
       "['#topAsideButton',\n",
       " '#shortcutArea',\n",
       " '#newsstand',\n",
       " '#shopping',\n",
       " '#feed',\n",
       " '#account',\n",
       " '#widgetboard',\n",
       " '#viewSetting',\n",
       " '#',\n",
       " '#',\n",
       " '#',\n",
       " 'https://help.naver.com/support/alias/search/word/word_29.naver',\n",
       " 'https://help.naver.com/support/alias/search/word/word_29.naver',\n",
       " 'https://help.naver.com/support/service/main.help?serviceNo=605&categoryNo=1991',\n",
       " '#',\n",
       " '#',\n",
       " '#',\n",
       " '#',\n",
       " '@5@',\n",
       " '#',\n",
       " '#',\n",
       " '#',\n",
       " '#',\n",
       " '#',\n",
       " '#',\n",
       " '#',\n",
       " 'https://help.naver.com/support/alias/search/word/word_16.naver',\n",
       " '#',\n",
       " 'https://help.naver.com/support/alias/search/word/word_16.naver',\n",
       " 'https://nid.naver.com/nidlogin.login',\n",
       " 'https://help.naver.com/support/alias/search/word/word_16.naver',\n",
       " '#',\n",
       " 'https://help.naver.com/support/service/main.help?serviceNo=605&categoryNo=1987',\n",
       " 'https://help.naver.com/support/contents/contents.help?serviceNo=605&categoryNo=18215',\n",
       " '#']"
      ]
     },
     "execution_count": 338,
     "metadata": {},
     "output_type": "execute_result"
    }
   ],
   "source": [
    "#강사님)\n",
    "naver_a_href_list=[]\n",
    "for i in soup.find_all(\"a\"):\n",
    "#     print(i.text)\n",
    "    naver_a_href_list.append(i.get(\"href\"))\n",
    "naver_a_href_list"
   ]
  },
  {
   "cell_type": "code",
   "execution_count": 339,
   "id": "c72667f7",
   "metadata": {
    "scrolled": true
   },
   "outputs": [
    {
     "data": {
      "text/plain": [
       "['#topAsideButton',\n",
       " '#shortcutArea',\n",
       " '#newsstand',\n",
       " '#shopping',\n",
       " '#feed',\n",
       " '#account',\n",
       " '#widgetboard',\n",
       " '#viewSetting',\n",
       " '#',\n",
       " '#',\n",
       " '#',\n",
       " 'https://help.naver.com/support/alias/search/word/word_29.naver',\n",
       " 'https://help.naver.com/support/alias/search/word/word_29.naver',\n",
       " 'https://help.naver.com/support/service/main.help?serviceNo=605&categoryNo=1991',\n",
       " '#',\n",
       " '#',\n",
       " '#',\n",
       " '#',\n",
       " '@5@',\n",
       " '#',\n",
       " '#',\n",
       " '#',\n",
       " '#',\n",
       " '#',\n",
       " '#',\n",
       " '#',\n",
       " 'https://help.naver.com/support/alias/search/word/word_16.naver',\n",
       " '#',\n",
       " 'https://help.naver.com/support/alias/search/word/word_16.naver',\n",
       " 'https://nid.naver.com/nidlogin.login',\n",
       " 'https://help.naver.com/support/alias/search/word/word_16.naver',\n",
       " '#',\n",
       " 'https://help.naver.com/support/service/main.help?serviceNo=605&categoryNo=1987',\n",
       " 'https://help.naver.com/support/contents/contents.help?serviceNo=605&categoryNo=18215',\n",
       " '#']"
      ]
     },
     "execution_count": 339,
     "metadata": {},
     "output_type": "execute_result"
    }
   ],
   "source": [
    "# 문제 3) naver의 a 태그의 href의 내용을 list에 담기\n",
    "a_list2=[]\n",
    "for i in soup.find_all(\"a\"):\n",
    "    href_text = i.get(\"href\")\n",
    "    a_list2.append(href_text)\n",
    "a_list2"
   ]
  },
  {
   "cell_type": "code",
   "execution_count": 353,
   "id": "30e3972d",
   "metadata": {},
   "outputs": [
    {
     "data": {
      "text/plain": [
       "[]"
      ]
     },
     "execution_count": 353,
     "metadata": {},
     "output_type": "execute_result"
    }
   ],
   "source": [
    "# 문제 4) naver의 img 태그의 src의 내용을 list에 담기\n",
    "img_list=[]\n",
    "for i in soup.find_all(\"img\"):\n",
    "    src_text = i.get(\"src\")\n",
    "    img_list.append(src_text)\n",
    "img_list"
   ]
  },
  {
   "cell_type": "code",
   "execution_count": 354,
   "id": "2f492d55",
   "metadata": {},
   "outputs": [],
   "source": [
    "# 문제5) class로 검색하고 그 안에 있는 a 태그 검색 표시\n",
    "load_url= \"https://news.daum.net/issue/512957\"\n",
    "html= requests.get(load_url)\n",
    "soup= BeautifulSoup(html.content,\"html.parser\")\n",
    "topic = soup.find(class_=\"list_newsissue\")\n",
    "for i in topic.find_all(\"a\"):\n",
    "    #print()\n",
    "    pass"
   ]
  }
 ],
 "metadata": {
  "kernelspec": {
   "display_name": "Python 3 (ipykernel)",
   "language": "python",
   "name": "python3"
  },
  "language_info": {
   "codemirror_mode": {
    "name": "ipython",
    "version": 3
   },
   "file_extension": ".py",
   "mimetype": "text/x-python",
   "name": "python",
   "nbconvert_exporter": "python",
   "pygments_lexer": "ipython3",
   "version": "3.11.4"
  }
 },
 "nbformat": 4,
 "nbformat_minor": 5
}
