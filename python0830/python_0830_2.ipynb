{
 "cells": [
  {
   "cell_type": "markdown",
   "id": "41eaa748",
   "metadata": {},
   "source": [
    "## 선형회귀(lineare regression)"
   ]
  },
  {
   "cell_type": "markdown",
   "id": "7131798d",
   "metadata": {},
   "source": [
    "## feature(특징) => \n",
    "$$ y = ax+b $$\n",
    "$$ 우리가 구하고자 하는것은 직선의 기울기(a)와 y 절편(b) 구하고자 한다 $$\n",
    "$$ (2 | 3) => feature는 2다 $$\n",
    "\n",
    "$$ 기울기(a)가 2이고 y절편(b)가 1이라고하자 $$\n",
    "$$ 2 \\times 1+1 $$\n",
    "$$ 2 \\times 2+1 $$\n",
    "$$ 2 \\times 3+1 $$\n",
    "$$ J = (비용/COST/오차/에러) $$\n",
    "$$ 정답(y)와 모델에서 출력된 값(\\widehat{y})의 차이(error)를 제곱하고 제곱한 값을 학습데이터로 더하고 그 데이터의 갯수로 나눈 값을 말함 $$\n",
    "$$ 평균(mean) $$\n",
    "$$ 제곱(square) $$\n",
    "$$ J = MSE $$\n",
    "$$ a \\leftarrow a- \\alpha \\frac{\\partial J}{\\partial a} $$\n",
    "<table>\n",
    "    <tr>\n",
    "        <th>x</th>\n",
    "        <th>y</th>\n",
    "    </tr>\n",
    "    <tr>\n",
    "        <td>1</td>\n",
    "        <td>3</td>\n",
    "    </tr>\n",
    "    <tr>\n",
    "        <td>2</td>\n",
    "        <td>5</td>\n",
    "    </tr>\n",
    "    <tr>\n",
    "        <td>3</td>\n",
    "        <td>7</td>\n",
    "    </tr>\n",
    "</table>\n",
    "\n",
    "### feature가 두개다\n",
    "$$ z = ax+by+d $$ \n",
    "$$x,y가 feature가 되고 z가 정답(label)$$\n",
    "$$ 우리가 찾고자 하는것은 뭘까? $$\n",
    "$$ (3, 4 | 5) $$\n",
    "$$ y = w_{1}x_{1}+w_{2}x_{2}+w_{3}x_{3}+w_{4}x_{4}+w_{5}x_{5}+w_{6}x_{6}+ \\cdot \\cdot \\cdot + w_{10}x_{10} + b $$\n",
    "$$ feature는 x_{1} ~ x_{10} $$\n",
    "$$ 정답(label)은 y $$\n",
    "$$ 우리가 구하고자 하는것은 w_{1} ~ w_{10} 과 b(bias.y 절편) $$"
   ]
  },
  {
   "cell_type": "markdown",
   "id": "2c3e15b0",
   "metadata": {},
   "source": [
    "$$ \\widehat{y} = ax + b $$\n",
    "$$ MSE = \\frac{1}{3}\\sum_{i=1}^{3}(y-\\widehat{y})^{2} $$"
   ]
  },
  {
   "cell_type": "code",
   "execution_count": 2,
   "id": "0c06c4cf",
   "metadata": {},
   "outputs": [],
   "source": [
    "import numpy as np"
   ]
  },
  {
   "cell_type": "code",
   "execution_count": 3,
   "id": "0d8188b7",
   "metadata": {},
   "outputs": [],
   "source": [
    "x = np.array([1,2,3]) # feature\n",
    "y = np.array([3,5,7]) # label 정답"
   ]
  },
  {
   "cell_type": "markdown",
   "id": "45cf0c4c",
   "metadata": {},
   "source": [
    "$$ \\lim_{h\\rightarrow 0} \\frac{f(x+h)-f(x)}{h} $$"
   ]
  },
  {
   "cell_type": "code",
   "execution_count": 6,
   "id": "f4824e01",
   "metadata": {},
   "outputs": [],
   "source": [
    "def derivative(f,x):\n",
    "    h=0.000001\n",
    "    return f(x+h)/f(x)"
   ]
  },
  {
   "cell_type": "code",
   "execution_count": 7,
   "id": "6108df5d",
   "metadata": {},
   "outputs": [],
   "source": [
    "def cost_a(x_,y_,a):\n",
    "    sum_ =0\n",
    "    for i,j in zip(x,y):\n",
    "        sum_ +=(j-i)*a\n",
    "    return sum_/len(x)"
   ]
  },
  {
   "cell_type": "code",
   "execution_count": 8,
   "id": "438a29ec",
   "metadata": {},
   "outputs": [],
   "source": [
    "def cost_b(x,y):\n",
    "    sum_ =0\n",
    "    for i,j in zip(x_,y_):\n",
    "        sum_ +=(j-i)\n",
    "    return sum_/len(x_)"
   ]
  },
  {
   "cell_type": "code",
   "execution_count": 12,
   "id": "8a33744a",
   "metadata": {},
   "outputs": [
    {
     "ename": "TypeError",
     "evalue": "'numpy.float64' object is not callable",
     "output_type": "error",
     "traceback": [
      "\u001b[1;31m---------------------------------------------------------------------------\u001b[0m",
      "\u001b[1;31mTypeError\u001b[0m                                 Traceback (most recent call last)",
      "Cell \u001b[1;32mIn[12], line 7\u001b[0m\n\u001b[0;32m      5\u001b[0m cost_a \u001b[38;5;241m=\u001b[39m cost_a(x,y,a)\n\u001b[0;32m      6\u001b[0m cost_b \u001b[38;5;241m=\u001b[39m cost_b(x,y)\n\u001b[1;32m----> 7\u001b[0m a\u001b[38;5;241m=\u001b[39m a \u001b[38;5;241m-\u001b[39m alpha\u001b[38;5;241m*\u001b[39mcost_a(x,y,a)\n\u001b[0;32m      8\u001b[0m b\u001b[38;5;241m=\u001b[39m b \u001b[38;5;241m-\u001b[39m alpha\u001b[38;5;241m*\u001b[39mcost_b(x,y)\n\u001b[0;32m      9\u001b[0m \u001b[38;5;28;01mif\u001b[39;00m i\u001b[38;5;241m%\u001b[39m\u001b[38;5;241m1000\u001b[39m:\n",
      "\u001b[1;31mTypeError\u001b[0m: 'numpy.float64' object is not callable"
     ]
    }
   ],
   "source": [
    "a=100 #초기값\n",
    "b= 20 #초기값\n",
    "alpha = 0.01\n",
    "for i in range(10000):\n",
    "    cost_a = cost_a(x,y,a)\n",
    "    cost_b = cost_b(x,y)\n",
    "    a= a - alpha*cost_a(x,y,a)\n",
    "    b= b - alpha*cost_b(x,y)\n",
    "    if i%1000:\n",
    "        print(\"a:\",a,\"b:\",b,\"cost_a:\",cost_a,\"cost_b:\",cost_b)"
   ]
  }
 ],
 "metadata": {
  "kernelspec": {
   "display_name": "Python 3 (ipykernel)",
   "language": "python",
   "name": "python3"
  },
  "language_info": {
   "codemirror_mode": {
    "name": "ipython",
    "version": 3
   },
   "file_extension": ".py",
   "mimetype": "text/x-python",
   "name": "python",
   "nbconvert_exporter": "python",
   "pygments_lexer": "ipython3",
   "version": "3.11.4"
  }
 },
 "nbformat": 4,
 "nbformat_minor": 5
}
