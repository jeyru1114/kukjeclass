{
 "cells": [
  {
   "cell_type": "code",
   "execution_count": 1,
   "id": "c17ffb10",
   "metadata": {},
   "outputs": [
    {
     "data": {
      "text/plain": [
       "12"
      ]
     },
     "execution_count": 1,
     "metadata": {},
     "output_type": "execute_result"
    }
   ],
   "source": [
    "collection=[1,2,None,4,None,5] # iterable 한 데이터(리스트) , iterable = 반복가능한\n",
    "total=0\n",
    "for value in collection:\n",
    "    if value is None: # 조건이 만족하면\n",
    "        continue #아래로 가지말고 다시 반복문으로 이동\n",
    "    total += value\n",
    "total"
   ]
  },
  {
   "cell_type": "code",
   "execution_count": 2,
   "id": "89f3997a",
   "metadata": {
    "scrolled": true
   },
   "outputs": [
    {
     "name": "stdout",
     "output_type": "stream",
     "text": [
      "사랑\n",
      "(0, 0)\n",
      "사랑\n",
      "(0, 1)\n",
      "사랑\n",
      "사랑\n",
      "(1, 0)\n",
      "사랑\n",
      "(1, 1)\n",
      "사랑\n",
      "사랑\n",
      "(2, 0)\n",
      "사랑\n",
      "(2, 1)\n",
      "사랑\n",
      "사랑\n",
      "(3, 0)\n",
      "사랑\n",
      "(3, 1)\n",
      "사랑\n"
     ]
    }
   ],
   "source": [
    "for i in range(4):\n",
    "    for j in range(4):\n",
    "        print(\"사랑\")\n",
    "        if j>1:\n",
    "            break\n",
    "        print((i,j))"
   ]
  },
  {
   "cell_type": "code",
   "execution_count": 3,
   "id": "8a8c3e70",
   "metadata": {
    "scrolled": true
   },
   "outputs": [
    {
     "name": "stdout",
     "output_type": "stream",
     "text": [
      "사랑\n",
      "(0, 0)\n",
      "사랑\n",
      "(0, 1)\n",
      "사랑\n",
      "믿음\n",
      "사랑\n",
      "(1, 0)\n",
      "사랑\n",
      "(1, 1)\n",
      "사랑\n",
      "믿음\n",
      "사랑\n",
      "(2, 0)\n",
      "사랑\n",
      "(2, 1)\n",
      "사랑\n",
      "믿음\n",
      "사랑\n",
      "(3, 0)\n",
      "사랑\n",
      "(3, 1)\n",
      "사랑\n"
     ]
    }
   ],
   "source": [
    "for i in range(4):\n",
    "    for j in range(4):\n",
    "        print(\"사랑\")\n",
    "        if j>1:\n",
    "            break\n",
    "        print((i,j))\n",
    "    if i>2:\n",
    "        break\n",
    "    print(\"믿음\")"
   ]
  },
  {
   "cell_type": "code",
   "execution_count": 4,
   "id": "954a2930",
   "metadata": {
    "scrolled": true
   },
   "outputs": [
    {
     "name": "stdout",
     "output_type": "stream",
     "text": [
      "사랑\n",
      "(0, 0)\n",
      "사랑\n",
      "(0, 1)\n",
      "사랑\n",
      "사랑\n",
      "사랑\n",
      "(1, 0)\n",
      "사랑\n",
      "(1, 1)\n",
      "사랑\n",
      "사랑\n",
      "사랑\n",
      "(2, 0)\n",
      "사랑\n",
      "(2, 1)\n",
      "사랑\n",
      "사랑\n",
      "사랑\n",
      "(3, 0)\n",
      "사랑\n",
      "(3, 1)\n",
      "사랑\n",
      "사랑\n"
     ]
    }
   ],
   "source": [
    "for i in range(4):\n",
    "    for j in range(4):\n",
    "        print(\"사랑\")\n",
    "        if j>1:\n",
    "            continue\n",
    "        print((i,j))"
   ]
  },
  {
   "cell_type": "code",
   "execution_count": 5,
   "id": "7105c2f0",
   "metadata": {},
   "outputs": [
    {
     "name": "stdout",
     "output_type": "stream",
     "text": [
      "6\n"
     ]
    }
   ],
   "source": [
    "# 1부터 3까지의 총합을 break를 이용\n",
    "arr=[1,2,3,4,7]\n",
    "sum1=0\n",
    "for i in arr:\n",
    "    if i>3:\n",
    "        break\n",
    "    sum1 += i\n",
    "print(sum1)"
   ]
  },
  {
   "cell_type": "code",
   "execution_count": 6,
   "id": "b5ca2282",
   "metadata": {},
   "outputs": [
    {
     "name": "stdout",
     "output_type": "stream",
     "text": [
      "13\n"
     ]
    }
   ],
   "source": [
    "# 1,2,3,7의 총합을 contiue 이용하여 구하라 (contiue을 안써도 답이나옴)\n",
    "arr=[1,2,3,4,7]\n",
    "sum1=0\n",
    "for i in arr:\n",
    "    if i != 4:\n",
    "        sum1 += i\n",
    "print(sum1)"
   ]
  },
  {
   "cell_type": "code",
   "execution_count": 7,
   "id": "e49f61ef",
   "metadata": {},
   "outputs": [
    {
     "name": "stdout",
     "output_type": "stream",
     "text": [
      "13\n"
     ]
    }
   ],
   "source": [
    "# 1,2,3,7의 총합을 contiue 이용하여 구하라\n",
    "arr=[1,2,3,4,7]\n",
    "sum1=0\n",
    "for i in arr:\n",
    "    if i == 4:\n",
    "        continue\n",
    "    sum1 += i\n",
    "print(sum1)"
   ]
  },
  {
   "cell_type": "code",
   "execution_count": 8,
   "id": "6cef95c2",
   "metadata": {},
   "outputs": [
    {
     "data": {
      "text/plain": [
       "[0, 1, 2, 3, 4, 5, 6, 7, 8, 9]"
      ]
     },
     "execution_count": 8,
     "metadata": {},
     "output_type": "execute_result"
    }
   ],
   "source": [
    "list(range(10))"
   ]
  },
  {
   "cell_type": "code",
   "execution_count": 9,
   "id": "453153fb",
   "metadata": {},
   "outputs": [
    {
     "data": {
      "text/plain": [
       "[6, 7, 8]"
      ]
     },
     "execution_count": 9,
     "metadata": {},
     "output_type": "execute_result"
    }
   ],
   "source": [
    "list(map(lambda x : x+5,[1,2,3]))"
   ]
  },
  {
   "cell_type": "code",
   "execution_count": 10,
   "id": "89ae86ec",
   "metadata": {},
   "outputs": [
    {
     "data": {
      "text/plain": [
       "(4, 5, 6)"
      ]
     },
     "execution_count": 10,
     "metadata": {},
     "output_type": "execute_result"
    }
   ],
   "source": [
    "nested_tupe =(4,5,6),(7,8)\n",
    "nested_tupe[0]"
   ]
  },
  {
   "cell_type": "code",
   "execution_count": 11,
   "id": "effc1b80",
   "metadata": {},
   "outputs": [
    {
     "data": {
      "text/plain": [
       "('홍', '길', '동')"
      ]
     },
     "execution_count": 11,
     "metadata": {},
     "output_type": "execute_result"
    }
   ],
   "source": [
    "tuple('홍길동') #문자열 -> tuple로 변환"
   ]
  },
  {
   "cell_type": "code",
   "execution_count": 12,
   "id": "cd732512",
   "metadata": {},
   "outputs": [
    {
     "data": {
      "text/plain": [
       "['홍', '길', '동']"
      ]
     },
     "execution_count": 12,
     "metadata": {},
     "output_type": "execute_result"
    }
   ],
   "source": [
    "list('홍길동') #문자열 -> tuple로 변환"
   ]
  },
  {
   "cell_type": "markdown",
   "id": "539bad70",
   "metadata": {},
   "source": [
    "split()은 문자열을 지정된 구분자(delimiter)를 기준으로 나누어 리스트로 반환하는 파이썬의 문자열 메서드"
   ]
  },
  {
   "cell_type": "code",
   "execution_count": 13,
   "id": "55b6a7ee",
   "metadata": {
    "scrolled": true
   },
   "outputs": [
    {
     "data": {
      "text/plain": [
       "['홍', '길', '동']"
      ]
     },
     "execution_count": 13,
     "metadata": {},
     "output_type": "execute_result"
    }
   ],
   "source": [
    "'홍,길,동'.split(',')"
   ]
  },
  {
   "cell_type": "code",
   "execution_count": 14,
   "id": "adc082e2",
   "metadata": {
    "scrolled": true
   },
   "outputs": [
    {
     "data": {
      "text/plain": [
       "['김단아', '권동훈', '조훈영', '유강진']"
      ]
     },
     "execution_count": 14,
     "metadata": {},
     "output_type": "execute_result"
    }
   ],
   "source": [
    "\"김단아,권동훈,조훈영,유강진\".split(\",\")"
   ]
  },
  {
   "cell_type": "code",
   "execution_count": 15,
   "id": "c69a3f09",
   "metadata": {},
   "outputs": [
    {
     "data": {
      "text/plain": [
       "['0', '1', '2', '3', '4', '5', '6', '7', '8', '9']"
      ]
     },
     "execution_count": 15,
     "metadata": {},
     "output_type": "execute_result"
    }
   ],
   "source": [
    "arr_str = list(\"0123456789\")\n",
    "arr_str"
   ]
  },
  {
   "cell_type": "code",
   "execution_count": 16,
   "id": "39fffb04",
   "metadata": {
    "scrolled": false
   },
   "outputs": [
    {
     "data": {
      "text/plain": [
       "45"
      ]
     },
     "execution_count": 16,
     "metadata": {},
     "output_type": "execute_result"
    }
   ],
   "source": [
    "list_sum=0\n",
    "for i in arr_str:\n",
    "    list_sum += int(i)\n",
    "list_sum"
   ]
  },
  {
   "cell_type": "code",
   "execution_count": 17,
   "id": "8870722f",
   "metadata": {},
   "outputs": [
    {
     "data": {
      "text/plain": [
       "45"
      ]
     },
     "execution_count": 17,
     "metadata": {},
     "output_type": "execute_result"
    }
   ],
   "source": [
    "list_sum = sum([int(i) for i in arr_str])\n",
    "list_sum"
   ]
  },
  {
   "cell_type": "markdown",
   "id": "7a36c7a6",
   "metadata": {},
   "source": [
    "reduce 함수는 리스트나 시퀀스의 원소를 반복적으로 처리하여 단일 값으로 축소시키는 함수"
   ]
  },
  {
   "cell_type": "code",
   "execution_count": 18,
   "id": "8b63b346",
   "metadata": {
    "scrolled": true
   },
   "outputs": [
    {
     "data": {
      "text/plain": [
       "45"
      ]
     },
     "execution_count": 18,
     "metadata": {},
     "output_type": "execute_result"
    }
   ],
   "source": [
    "from functools import reduce\n",
    "reduce(lambda x, y : x+y,[int(i) for i in arr_str])"
   ]
  },
  {
   "cell_type": "code",
   "execution_count": 19,
   "id": "ad6c452b",
   "metadata": {},
   "outputs": [
    {
     "data": {
      "text/plain": [
       "4"
      ]
     },
     "execution_count": 19,
     "metadata": {},
     "output_type": "execute_result"
    }
   ],
   "source": [
    "tup=(4,5,6)\n",
    "a,b,c=tup\n",
    "a"
   ]
  },
  {
   "cell_type": "code",
   "execution_count": 20,
   "id": "cde6c7d0",
   "metadata": {},
   "outputs": [
    {
     "data": {
      "text/plain": [
       "6"
      ]
     },
     "execution_count": 20,
     "metadata": {},
     "output_type": "execute_result"
    }
   ],
   "source": [
    "tup=4,5,(6,7)\n",
    "a,b,c=tup\n",
    "d,f=c\n",
    "d"
   ]
  },
  {
   "cell_type": "code",
   "execution_count": 21,
   "id": "47f4ed5e",
   "metadata": {
    "scrolled": true
   },
   "outputs": [
    {
     "data": {
      "text/plain": [
       "((1, 2), (3, 4), (5, 6), (7, 8))"
      ]
     },
     "execution_count": 21,
     "metadata": {},
     "output_type": "execute_result"
    }
   ],
   "source": [
    "tup_nested = ((1,2),(3,4),(5,6),(7,8))\n",
    "tup_nested"
   ]
  },
  {
   "cell_type": "code",
   "execution_count": 22,
   "id": "257938d5",
   "metadata": {},
   "outputs": [],
   "source": [
    "# tup_nested 총합을 구하세요"
   ]
  },
  {
   "cell_type": "code",
   "execution_count": 23,
   "id": "ef2e0078",
   "metadata": {
    "scrolled": false
   },
   "outputs": [
    {
     "data": {
      "text/plain": [
       "36"
      ]
     },
     "execution_count": 23,
     "metadata": {},
     "output_type": "execute_result"
    }
   ],
   "source": [
    "sum1=0\n",
    "for i in tup_nested:\n",
    "    for j in i:\n",
    "        sum1 += j\n",
    "sum1"
   ]
  },
  {
   "cell_type": "code",
   "execution_count": 24,
   "id": "56850c06",
   "metadata": {},
   "outputs": [],
   "source": [
    "# dict={\"first\":1+3+5+7, \"second\":2+4+6+8} 이런식으로 만들어라"
   ]
  },
  {
   "cell_type": "code",
   "execution_count": 25,
   "id": "ea6a7a92",
   "metadata": {
    "scrolled": false
   },
   "outputs": [
    {
     "data": {
      "text/plain": [
       "{'first': 16, 'second': 20}"
      ]
     },
     "execution_count": 25,
     "metadata": {},
     "output_type": "execute_result"
    }
   ],
   "source": [
    "dict1 ={\"first\":0,\"second\":0}\n",
    "sum1=0\n",
    "sum2=0\n",
    "for i in tup_nested:\n",
    "    sum1 += i[0]\n",
    "    dict1[\"first\"] = sum1\n",
    "    sum2 += i[1]\n",
    "    dict1[\"second\"] = sum2\n",
    "dict1   "
   ]
  },
  {
   "cell_type": "code",
   "execution_count": 26,
   "id": "107a3e99",
   "metadata": {},
   "outputs": [],
   "source": [
    "a_list=[2,3,7,None]\n",
    "tup=['foo','bar','baz']\n",
    "b_list = list(tup)\n",
    "b_list.append('dwarf')\n",
    "b_list.insert(1,'red')"
   ]
  },
  {
   "cell_type": "code",
   "execution_count": 27,
   "id": "d80b11e9",
   "metadata": {
    "scrolled": false
   },
   "outputs": [
    {
     "data": {
      "text/plain": [
       "'dwarf'"
      ]
     },
     "execution_count": 27,
     "metadata": {},
     "output_type": "execute_result"
    }
   ],
   "source": [
    "b_list.pop() # b_list를 역으로 저장"
   ]
  },
  {
   "cell_type": "code",
   "execution_count": 28,
   "id": "22c97e80",
   "metadata": {},
   "outputs": [
    {
     "data": {
      "text/plain": [
       "['baz', 'bar', 'red', 'foo']"
      ]
     },
     "execution_count": 28,
     "metadata": {},
     "output_type": "execute_result"
    }
   ],
   "source": [
    "list1=[]\n",
    "for i in range(len(b_list)):\n",
    "    list1.append(b_list.pop())\n",
    "list1"
   ]
  },
  {
   "cell_type": "code",
   "execution_count": 29,
   "id": "37549f33",
   "metadata": {
    "scrolled": true
   },
   "outputs": [
    {
     "data": {
      "text/plain": [
       "[]"
      ]
     },
     "execution_count": 29,
     "metadata": {},
     "output_type": "execute_result"
    }
   ],
   "source": [
    "b_list.reverse()\n",
    "b_list"
   ]
  },
  {
   "cell_type": "code",
   "execution_count": 30,
   "id": "ee92308c",
   "metadata": {
    "scrolled": true
   },
   "outputs": [
    {
     "data": {
      "text/plain": [
       "{}"
      ]
     },
     "execution_count": 30,
     "metadata": {},
     "output_type": "execute_result"
    }
   ],
   "source": [
    "# b_list에서 하나씩 꺼내서 a_list의 총합의 갯수만큼 문자열 결합 None는 제외해야함\n",
    "# dict7={\"foo\":\"foofoofoofoo12번결합\",\"bar\":\"bar12번결합\",\"bar\":\"12번결합\"}\n",
    "\n",
    "dict7={}\n",
    "sum1=0\n",
    "for i in a_list:\n",
    "    if i is None:\n",
    "        break\n",
    "    sum1 += i\n",
    "    for j in b_list:\n",
    "        dict7[j] = j*sum1\n",
    "dict7"
   ]
  },
  {
   "cell_type": "code",
   "execution_count": 31,
   "id": "554cf00f",
   "metadata": {
    "scrolled": true
   },
   "outputs": [
    {
     "data": {
      "text/plain": [
       "{}"
      ]
     },
     "execution_count": 31,
     "metadata": {},
     "output_type": "execute_result"
    }
   ],
   "source": [
    "#강사님\n",
    "dict7={}\n",
    "for i in b_list:\n",
    "    str_=\"\"\n",
    "    for j in range(sum1):\n",
    "        str_ += i\n",
    "    dict7[i] = str_\n",
    "dict7"
   ]
  },
  {
   "cell_type": "code",
   "execution_count": 32,
   "id": "43299588",
   "metadata": {
    "scrolled": true
   },
   "outputs": [
    {
     "data": {
      "text/plain": [
       "{'홍길동': '홍길동홍길동홍길동홍길동홍길동', '김말자': '김말자김말자김말자김말자김말자', '김개똥': '김개똥김개똥김개똥김개똥김개똥'}"
      ]
     },
     "execution_count": 32,
     "metadata": {},
     "output_type": "execute_result"
    }
   ],
   "source": [
    "dict10={}\n",
    "\n",
    "for v in ['홍길동','김말자','김개똥']:\n",
    "    str_=\"\"\n",
    "    for i in range(5):\n",
    "        str_+= v\n",
    "    dict10[v]=str_\n",
    "dict10"
   ]
  },
  {
   "cell_type": "markdown",
   "id": "93883fdd",
   "metadata": {},
   "source": [
    "# 문제1) 함수설계\n",
    "문자열과 숫자 두개를 받아서 문자열을 key값으로 하고 value는 두번째로 전달되는 숫자만큼\n",
    "반복하여 문자열 결합한것을 value로 하여 dictionary로 반환함"
   ]
  },
  {
   "cell_type": "code",
   "execution_count": 42,
   "id": "94236fa8",
   "metadata": {
    "scrolled": true
   },
   "outputs": [],
   "source": [
    "#문제1\n",
    "def f(x,y):\n",
    "    dict_sum={}\n",
    "    str1=\"\"\n",
    "    for i in range(y):\n",
    "        str1 += x\n",
    "    dict_sum[x] = str1\n",
    "    return dict_sum"
   ]
  },
  {
   "cell_type": "code",
   "execution_count": 43,
   "id": "d51b4422",
   "metadata": {
    "scrolled": true
   },
   "outputs": [
    {
     "data": {
      "text/plain": [
       "{'은영': '은영은영은영은영'}"
      ]
     },
     "execution_count": 43,
     "metadata": {},
     "output_type": "execute_result"
    }
   ],
   "source": [
    "f(\"은영\",4)"
   ]
  },
  {
   "cell_type": "markdown",
   "id": "84575da6",
   "metadata": {},
   "source": [
    "# 문제2) 함수 설계\n",
    "문자열 리스트와 숫자 리스트 두개를 받아서\n",
    "문자열과 숫자 리스트는 크기가 같다고 가정하고 zip으로 묶어서\n",
    "문자열을 해당되는 숫자만큼 반복하여 문자열 결합한것을 value로 하여 dictionary로 반환함"
   ]
  },
  {
   "cell_type": "code",
   "execution_count": 104,
   "id": "a91c6074",
   "metadata": {},
   "outputs": [
    {
     "name": "stdout",
     "output_type": "stream",
     "text": [
      "헝 2\n",
      "길 3\n"
     ]
    }
   ],
   "source": [
    "# zip의 예\n",
    "for v,w in zip([\"헝\",\"길\"],[2,3]):\n",
    "    print(v,w)"
   ]
  },
  {
   "cell_type": "code",
   "execution_count": 102,
   "id": "e4fc0278",
   "metadata": {},
   "outputs": [],
   "source": [
    "#문제2\n",
    "def f(x1,y1):\n",
    "    dict_v={}\n",
    "    for i,j in zip(x1,y1):\n",
    "        str2=\"\"\n",
    "        str2 += i*j\n",
    "        dict_v[i] = str2\n",
    "    return dict_v"
   ]
  },
  {
   "cell_type": "code",
   "execution_count": 112,
   "id": "5f6ffe5b",
   "metadata": {
    "scrolled": true
   },
   "outputs": [
    {
     "data": {
      "text/plain": [
       "{'은영': '은영은영', '짱구': '짱구짱구짱구짱구'}"
      ]
     },
     "execution_count": 112,
     "metadata": {},
     "output_type": "execute_result"
    }
   ],
   "source": [
    "f([\"은영\",\"짱구\"],[2,4])"
   ]
  },
  {
   "cell_type": "code",
   "execution_count": 109,
   "id": "e84fafbe",
   "metadata": {},
   "outputs": [],
   "source": [
    "#강사님)\n",
    "def g(x,y):\n",
    "    obj_ ={}\n",
    "    for i,j in zip(x,y):\n",
    "        str_ =\"\"\n",
    "        for _ in range(j):\n",
    "            str_ += i\n",
    "        obj_[i]=str_\n",
    "    return obj_"
   ]
  },
  {
   "cell_type": "code",
   "execution_count": 110,
   "id": "1fa63b62",
   "metadata": {
    "scrolled": true
   },
   "outputs": [
    {
     "data": {
      "text/plain": [
       "{'은영': '은영은영', '짱구': '짱구짱구짱구짱구'}"
      ]
     },
     "execution_count": 110,
     "metadata": {},
     "output_type": "execute_result"
    }
   ],
   "source": [
    "g([\"은영\",\"짱구\"],[2,4])"
   ]
  },
  {
   "cell_type": "code",
   "execution_count": 150,
   "id": "71afa389",
   "metadata": {},
   "outputs": [],
   "source": [
    "#강사님)\n",
    "def g(x,y):\n",
    "    obj_ ={}\n",
    "    for i,j in zip(x,y):\n",
    "        str_ =\"\"\n",
    "        for _ in range(j):\n",
    "            str_ += i\n",
    "        obj_[i]=str_c\n",
    "    return obj_"
   ]
  },
  {
   "cell_type": "code",
   "execution_count": 181,
   "id": "54757a96",
   "metadata": {},
   "outputs": [
    {
     "data": {
      "text/plain": [
       "[['홍', '길동'], [3, 4]]"
      ]
     },
     "execution_count": 181,
     "metadata": {},
     "output_type": "execute_result"
    }
   ],
   "source": [
    "data = [ [['홍','길동'],[3,4]] , [['김국제','아카데미'],[7,2]],[['마산','갈비'],[3,14]] ]\n",
    "#data를 g 함수에 적용하세요\n",
    "data[0]"
   ]
  },
  {
   "cell_type": "code",
   "execution_count": 146,
   "id": "bb8c7c58",
   "metadata": {
    "scrolled": true
   },
   "outputs": [
    {
     "data": {
      "text/plain": [
       "[{'홍': '홍홍홍', '길동': '길동길동길동길동'},\n",
       " {'김국제': '김국제김국제김국제김국제김국제김국제김국제', '아카데미': '아카데미아카데미'},\n",
       " {'마산': '마산마산마산', '갈비': '갈비갈비갈비갈비갈비갈비갈비갈비갈비갈비갈비갈비갈비갈비'}]"
      ]
     },
     "execution_count": 146,
     "metadata": {},
     "output_type": "execute_result"
    }
   ],
   "source": [
    "list(map(lambda x : g(x[0],x[1]), data))"
   ]
  },
  {
   "cell_type": "markdown",
   "id": "f4eb0521",
   "metadata": {},
   "source": [
    "## 리스트 이어붙이기"
   ]
  },
  {
   "cell_type": "code",
   "execution_count": 278,
   "id": "1a9ae8cd",
   "metadata": {},
   "outputs": [],
   "source": [
    "a = [1,2,3,4]\n",
    "b=[\"홍길동\",\"홍말자\",\"김개똥\"]\n",
    "a.extend(b)"
   ]
  },
  {
   "cell_type": "code",
   "execution_count": 279,
   "id": "8c23d9ee",
   "metadata": {
    "scrolled": true
   },
   "outputs": [
    {
     "data": {
      "text/plain": [
       "[1, 2, 3, 4, '홍길동', '홍말자', '김개똥']"
      ]
     },
     "execution_count": 279,
     "metadata": {},
     "output_type": "execute_result"
    }
   ],
   "source": [
    "a"
   ]
  },
  {
   "cell_type": "markdown",
   "id": "90c75284",
   "metadata": {},
   "source": [
    "## 정렬"
   ]
  },
  {
   "cell_type": "code",
   "execution_count": 280,
   "id": "c82fa033",
   "metadata": {},
   "outputs": [
    {
     "data": {
      "text/plain": [
       "[1, 2, 3, 5, 7]"
      ]
     },
     "execution_count": 280,
     "metadata": {},
     "output_type": "execute_result"
    }
   ],
   "source": [
    "a=[7,2,5,1,3]\n",
    "a.sort() # 내림차순\n",
    "a"
   ]
  },
  {
   "cell_type": "code",
   "execution_count": 281,
   "id": "f049e32b",
   "metadata": {},
   "outputs": [
    {
     "data": {
      "text/plain": [
       "['he', 'saw', 'six', 'small', 'foxes']"
      ]
     },
     "execution_count": 281,
     "metadata": {},
     "output_type": "execute_result"
    }
   ],
   "source": [
    "b=[\"saw\",\"small\",\"he\",\"foxes\",\"six\"]\n",
    "b.sort(key=len) # 문자열의 길이가 작은것부터 정렬\n",
    "b"
   ]
  },
  {
   "cell_type": "code",
   "execution_count": 282,
   "id": "e9bb1aa8",
   "metadata": {
    "scrolled": true
   },
   "outputs": [
    {
     "data": {
      "text/plain": [
       "[[1, 2, 3], [6, 4, 7, 8], [10, 20, 30]]"
      ]
     },
     "execution_count": 282,
     "metadata": {},
     "output_type": "execute_result"
    }
   ],
   "source": [
    "list_of_list=[[1,2,3],[10,20,30],[6,4,7,8]]\n",
    "list_of_list.sort(key=sum) # 합이 작은순으로 정렬\n",
    "list_of_list"
   ]
  },
  {
   "cell_type": "code",
   "execution_count": 283,
   "id": "919246c8",
   "metadata": {},
   "outputs": [],
   "source": [
    "import numpy as np"
   ]
  },
  {
   "cell_type": "markdown",
   "id": "15b977e0",
   "metadata": {},
   "source": [
    "$$ \\sum_{i=0}^3 log(x_{i}) $$"
   ]
  },
  {
   "cell_type": "code",
   "execution_count": 290,
   "id": "456fe8c9",
   "metadata": {},
   "outputs": [],
   "source": [
    "def log_t(x):\n",
    "    return sum(np.log(x))"
   ]
  },
  {
   "cell_type": "code",
   "execution_count": 291,
   "id": "2b21e869",
   "metadata": {
    "scrolled": false
   },
   "outputs": [
    {
     "data": {
      "text/plain": [
       "[[111, 2, 3], [6, 4, 7, 8], [10, 20, 30]]"
      ]
     },
     "execution_count": 291,
     "metadata": {},
     "output_type": "execute_result"
    }
   ],
   "source": [
    "list_of_list=[[111,2,3],[10,20,30],[6,4,7,8]]\n",
    "list_of_list.sort(key=log_t)\n",
    "list_of_list"
   ]
  },
  {
   "cell_type": "code",
   "execution_count": 303,
   "id": "e95b3254",
   "metadata": {},
   "outputs": [],
   "source": [
    "seq=[7,2,3,7,6,0,1,5,8]"
   ]
  },
  {
   "cell_type": "code",
   "execution_count": 341,
   "id": "b1e134d2",
   "metadata": {},
   "outputs": [],
   "source": [
    "seq1=[np.random.randint(100) for i in range(100)]\n",
    "#seq1"
   ]
  },
  {
   "cell_type": "code",
   "execution_count": 323,
   "id": "16ef3301",
   "metadata": {
    "scrolled": false
   },
   "outputs": [
    {
     "name": "stdout",
     "output_type": "stream",
     "text": [
      "[7, 2, 3]\n",
      "[7, 6, 0]\n",
      "[1, 5, 8]\n"
     ]
    }
   ],
   "source": [
    "#batch size 단위로 학습\n",
    "print(seq[:3])\n",
    "print(seq[3:6])\n",
    "print(seq[6:])\n"
   ]
  },
  {
   "cell_type": "code",
   "execution_count": 355,
   "id": "4323d433",
   "metadata": {},
   "outputs": [
    {
     "name": "stdout",
     "output_type": "stream",
     "text": [
      "[7, 2, 3]\n",
      "[7, 6, 0]\n",
      "[1, 5, 8]\n"
     ]
    }
   ],
   "source": [
    "for i in range(3):\n",
    "    print(seq[(i*3):(i+1)*3])"
   ]
  },
  {
   "cell_type": "code",
   "execution_count": 352,
   "id": "9a933391",
   "metadata": {
    "scrolled": true
   },
   "outputs": [
    {
     "name": "stdout",
     "output_type": "stream",
     "text": [
      "[74, 3, 79, 68, 69, 42, 90, 39, 56, 57, 41, 86, 12, 47, 76, 88, 76, 64, 40, 57]\n",
      "[92, 90, 6, 73, 76, 7, 64, 3, 75, 66, 57, 44, 23, 7, 96, 8, 93, 68, 94, 21]\n",
      "[18, 81, 9, 72, 6, 54, 45, 84, 28, 84, 58, 13, 15, 59, 81, 85, 6, 76, 23, 41]\n",
      "[10, 95, 20, 51, 32, 32, 74, 43, 65, 89, 95, 51, 58, 7, 39, 62, 7, 98, 96, 10]\n",
      "[20, 68, 97, 84, 28, 5, 51, 11, 12, 63, 94, 48, 75, 86, 96, 21, 75, 9, 41, 36]\n"
     ]
    }
   ],
   "source": [
    "bs = 20\n",
    "for i in range(len(seq1)//bs):\n",
    "    re_i = i*bs # i가 0일때 bs만큼 증가하게 하려면\n",
    "    re_j = (i+1)*bs\n",
    "    # i가 0일때 bs를 곱하면 re는 0이고 다음 값은 (i+1)+bs\n",
    "    print(seq1[re_i:re_j])"
   ]
  },
  {
   "cell_type": "code",
   "execution_count": 361,
   "id": "5bc45024",
   "metadata": {},
   "outputs": [
    {
     "data": {
      "text/plain": [
       "(100, 100)"
      ]
     },
     "execution_count": 361,
     "metadata": {},
     "output_type": "execute_result"
    }
   ],
   "source": [
    "x = np.array([[ np.random.randint(100) for _ in range(100)] for _ in range(100)])\n",
    "np.shape(np.array(x))"
   ]
  },
  {
   "cell_type": "code",
   "execution_count": 358,
   "id": "463510dd",
   "metadata": {},
   "outputs": [
    {
     "data": {
      "text/plain": [
       "array([86,  5, 49, 71, 90, 25, 53, 89, 87, 62, 60, 10, 71, 48, 19, 50,  6,\n",
       "       31, 86,  8, 34, 80, 11, 63, 75, 73, 59, 25, 89, 45,  0, 30, 27, 15,\n",
       "       88, 88, 38, 19, 50, 92, 69, 88, 88, 17, 34, 93, 57,  1, 60,  5, 50,\n",
       "       79,  8, 70, 31,  9, 81, 60, 95, 89, 56, 21, 96,  3, 39, 20, 43, 80,\n",
       "       35, 16, 79, 35, 16, 96, 93, 13, 18, 54, 96, 59,  9, 49, 16, 75, 58,\n",
       "       59, 24, 86, 88, 81, 78, 94, 31, 82, 71, 12,  1, 95, 14, 61])"
      ]
     },
     "execution_count": 358,
     "metadata": {},
     "output_type": "execute_result"
    }
   ],
   "source": [
    "y = np.array([np.random.randint(100) for _ in range(100)])\n",
    "y"
   ]
  },
  {
   "cell_type": "code",
   "execution_count": 434,
   "id": "0d9ff9be",
   "metadata": {
    "scrolled": true
   },
   "outputs": [
    {
     "data": {
      "text/plain": [
       "266126"
      ]
     },
     "execution_count": 434,
     "metadata": {},
     "output_type": "execute_result"
    }
   ],
   "source": [
    "np.dot(x[0],y)"
   ]
  },
  {
   "cell_type": "code",
   "execution_count": 362,
   "id": "6335e0dd",
   "metadata": {
    "scrolled": true
   },
   "outputs": [
    {
     "data": {
      "text/plain": [
       "array([266126, 270394, 275764, 254943, 236555, 240734, 269031, 204870,\n",
       "       238715, 248872, 254049, 252300, 238320, 267114, 277852, 265067,\n",
       "       271008, 260983, 265194, 255634, 282731, 252772, 272299, 271133,\n",
       "       260370, 289275, 231122, 270451, 250397, 261727, 265755, 238396,\n",
       "       258334, 240297, 226204, 255274, 236999, 283977, 278889, 249240,\n",
       "       260214, 258597, 233957, 270998, 233089, 277629, 267682, 238723,\n",
       "       254119, 231791, 289826, 210409, 267606, 287955, 270588, 234706,\n",
       "       267345, 235390, 230190, 274110, 229313, 246443, 245557, 265510,\n",
       "       258458, 271920, 278704, 258000, 273636, 250927, 244127, 266038,\n",
       "       254058, 268729, 215841, 257158, 261921, 246291, 241867, 245557,\n",
       "       247138, 237560, 249749, 267016, 253898, 266065, 265642, 261566,\n",
       "       269813, 269966, 238844, 261260, 273261, 232174, 231370, 266937,\n",
       "       274097, 243699, 247842, 248555])"
      ]
     },
     "execution_count": 362,
     "metadata": {},
     "output_type": "execute_result"
    }
   ],
   "source": [
    "np.dot(x,y)"
   ]
  },
  {
   "cell_type": "markdown",
   "id": "9aa7427b",
   "metadata": {},
   "source": [
    "$$ \\overrightarrow{a} = (a_{1},a_{2},a_{3}, \\cdot \\cdot \\cdot , a_{n-1},a_{n}) $$\n",
    "$$ \\overrightarrow{b} = (b_{1},b_{2},b_{3}, \\cdot \\cdot \\cdot , b_{n-1},b_{n}) $$\n",
    "$$ \\overrightarrow{a} \\cdot \\overrightarrow{b}\n",
    "    = a_{1}b_{1}+a_{2}b_{2}+a_{3}b_{3} + \\cdot \\cdot \\cdot + a_{n-1}b_{n-1}\n",
    "        +a_{n}b_{n} $$\n",
    "\n",
    "$$ \\sum_{i=0}^n a_{i}b_{i} $$\n",
    "$$ \\overrightarrow{a} \\cdot \\overrightarrow{b} = | \\overrightarrow{a} | \n",
    "    | \\overrightarrow{b} |   COS \\theta \\rightarrow \\theta=a 벡터와 b 벡터가 \n",
    "    이루는 각도$$"
   ]
  },
  {
   "cell_type": "markdown",
   "id": "ab8b5d85",
   "metadata": {},
   "source": [
    "<img src=\"1/dotpng.png\"/>"
   ]
  },
  {
   "cell_type": "markdown",
   "id": "ccc07c70",
   "metadata": {},
   "source": [
    "$$ cos(0 ^\\circ) = 1 $$\n",
    "$$ 2 \\pi = 360^{\\circ} $$"
   ]
  },
  {
   "cell_type": "code",
   "execution_count": 446,
   "id": "c42d6414",
   "metadata": {},
   "outputs": [
    {
     "data": {
      "text/plain": [
       "0.7071067811865476"
      ]
     },
     "execution_count": 446,
     "metadata": {},
     "output_type": "execute_result"
    }
   ],
   "source": [
    "np.cos(np.pi/4)"
   ]
  },
  {
   "cell_type": "code",
   "execution_count": 447,
   "id": "f840dd4f",
   "metadata": {
    "scrolled": true
   },
   "outputs": [
    {
     "data": {
      "text/plain": [
       "0.7071067811865475"
      ]
     },
     "execution_count": 447,
     "metadata": {},
     "output_type": "execute_result"
    }
   ],
   "source": [
    "1/np.sqrt(2)"
   ]
  },
  {
   "cell_type": "markdown",
   "id": "225f89de",
   "metadata": {},
   "source": [
    "$$ \\overrightarrow{a} = | \\overrightarrow{a} | = \n",
    "\\sqrt{{a_{1}^2+a_{2}^2 + a_{3}^2} + \\cdot \\cdot \\cdot + a_{n-1}^2+a_{n}^2} $$"
   ]
  },
  {
   "cell_type": "markdown",
   "id": "29364372",
   "metadata": {},
   "source": [
    "$$ \\frac{1}{2} = 2^{-1} = \\sqrt{2} $$\n",
    "$$ 제곱해서 나오는 수를 root라 한다 $$"
   ]
  },
  {
   "cell_type": "code",
   "execution_count": 566,
   "id": "53d451b2",
   "metadata": {},
   "outputs": [],
   "source": [
    "def abs_vec1(*x): # 자바스크립트의 sperad operator(...), *x는 x로받은 여러개의 인자를 튜플형태로 묶어줌\n",
    "    result=0\n",
    "    for i in x:\n",
    "        result += i*i\n",
    "    return pow(result, 1/2)"
   ]
  },
  {
   "cell_type": "code",
   "execution_count": 552,
   "id": "da096c24",
   "metadata": {
    "scrolled": true
   },
   "outputs": [
    {
     "data": {
      "text/plain": [
       "5.0"
      ]
     },
     "execution_count": 552,
     "metadata": {},
     "output_type": "execute_result"
    }
   ],
   "source": [
    "abs_vec1(3,4)"
   ]
  },
  {
   "cell_type": "code",
   "execution_count": 557,
   "id": "65f564a7",
   "metadata": {},
   "outputs": [],
   "source": [
    "def kwon(*k, **dana): # **dana는 x=5 key=value를 받아서 딕셔너리형태로 만듬 \n",
    "    #print(k)\n",
    "    str_ =\"\"\n",
    "    for i in k:\n",
    "        str_ += str(i)\n",
    "    print(dana)\n",
    "    return str_"
   ]
  },
  {
   "cell_type": "code",
   "execution_count": 559,
   "id": "4e4f3b52",
   "metadata": {},
   "outputs": [
    {
     "name": "stdout",
     "output_type": "stream",
     "text": [
      "{'x': 5, 'y': 11, 'z': 123}\n"
     ]
    },
    {
     "data": {
      "text/plain": [
       "'abc11'"
      ]
     },
     "execution_count": 559,
     "metadata": {},
     "output_type": "execute_result"
    }
   ],
   "source": [
    "kwon('a','b','c',11, x=5,y=11,z=123)"
   ]
  },
  {
   "cell_type": "code",
   "execution_count": 570,
   "id": "1138b96a",
   "metadata": {},
   "outputs": [],
   "source": [
    "def abs_vec(x):\n",
    "    result=0\n",
    "    for i in x:\n",
    "        result += i*i\n",
    "    return pow(result, 1/2) # pow 제곱(제곱할값, n승), 1/2제곱은 루트"
   ]
  },
  {
   "cell_type": "code",
   "execution_count": 548,
   "id": "8cfbe9a3",
   "metadata": {},
   "outputs": [
    {
     "data": {
      "text/plain": [
       "5.0"
      ]
     },
     "execution_count": 548,
     "metadata": {},
     "output_type": "execute_result"
    }
   ],
   "source": [
    "abs_vec([3,4])"
   ]
  },
  {
   "cell_type": "code",
   "execution_count": 576,
   "id": "616ce5d7",
   "metadata": {},
   "outputs": [],
   "source": [
    "dot_a_b = dot_zip(x[0],y)"
   ]
  },
  {
   "cell_type": "code",
   "execution_count": 574,
   "id": "829ec464",
   "metadata": {
    "scrolled": true
   },
   "outputs": [],
   "source": [
    "a_abs = abs_vec(x[0])"
   ]
  },
  {
   "cell_type": "code",
   "execution_count": 575,
   "id": "08e89915",
   "metadata": {},
   "outputs": [],
   "source": [
    "b_abs = abs_vec(y)"
   ]
  },
  {
   "cell_type": "code",
   "execution_count": 579,
   "id": "962e3ca8",
   "metadata": {},
   "outputs": [
    {
     "name": "stdout",
     "output_type": "stream",
     "text": [
      "0.7877582749041931 0.6636351015893303\n"
     ]
    }
   ],
   "source": [
    "cos_theta = dot_a_b / (a_abs*b_abs)\n",
    "theta = np.arccos(cos_theta) # a벡터와 b벡터가 이루는 각도의 cos한 값\n",
    "print(cos_theta, theta)"
   ]
  },
  {
   "cell_type": "code",
   "execution_count": 581,
   "id": "718b64bf",
   "metadata": {},
   "outputs": [
    {
     "data": {
      "text/plain": [
       "0.7877582749041931"
      ]
     },
     "execution_count": 581,
     "metadata": {},
     "output_type": "execute_result"
    }
   ],
   "source": [
    "np.cos(0.6636351015893303)"
   ]
  },
  {
   "cell_type": "code",
   "execution_count": 534,
   "id": "eca17f56",
   "metadata": {},
   "outputs": [],
   "source": [
    "def pow_(a,b):\n",
    "    result=1\n",
    "    for _ in range(b):\n",
    "        result *= a\n",
    "    return result"
   ]
  },
  {
   "cell_type": "code",
   "execution_count": 540,
   "id": "6e690b98",
   "metadata": {},
   "outputs": [
    {
     "data": {
      "text/plain": [
       "9"
      ]
     },
     "execution_count": 540,
     "metadata": {},
     "output_type": "execute_result"
    }
   ],
   "source": [
    "pow_(3,2)"
   ]
  },
  {
   "cell_type": "code",
   "execution_count": 517,
   "id": "756ed262",
   "metadata": {},
   "outputs": [],
   "source": [
    "def vec1(x):\n",
    "    result1=0\n",
    "    for i in x:\n",
    "        result1 += (i*i)\n",
    "    return np.sqrt(result1)"
   ]
  },
  {
   "cell_type": "code",
   "execution_count": 542,
   "id": "e765adf1",
   "metadata": {},
   "outputs": [
    {
     "data": {
      "text/plain": [
       "4.47213595499958"
      ]
     },
     "execution_count": 542,
     "metadata": {},
     "output_type": "execute_result"
    }
   ],
   "source": [
    "vec1([4,2])"
   ]
  },
  {
   "cell_type": "code",
   "execution_count": 520,
   "id": "3e3b0b23",
   "metadata": {},
   "outputs": [],
   "source": [
    "def vec2(x):\n",
    "    result1=0\n",
    "    for i in x:\n",
    "        result1 += (i*i)\n",
    "    return math.pow(result1,1/2)"
   ]
  },
  {
   "cell_type": "code",
   "execution_count": 543,
   "id": "f9e0e60a",
   "metadata": {
    "scrolled": true
   },
   "outputs": [
    {
     "data": {
      "text/plain": [
       "4.47213595499958"
      ]
     },
     "execution_count": 543,
     "metadata": {},
     "output_type": "execute_result"
    }
   ],
   "source": [
    "vec2([4,2])"
   ]
  },
  {
   "cell_type": "code",
   "execution_count": 471,
   "id": "0d568737",
   "metadata": {},
   "outputs": [],
   "source": [
    "import math"
   ]
  },
  {
   "cell_type": "markdown",
   "id": "6b88d9f4",
   "metadata": {},
   "source": [
    "$$ 2 * math.pi(3.14*2) : 9.869604401089358 = $$"
   ]
  },
  {
   "cell_type": "code",
   "execution_count": 475,
   "id": "bba17955",
   "metadata": {},
   "outputs": [
    {
     "data": {
      "text/plain": [
       "[(6.283185307179586, 1.0),\n",
       " (3.141592653589793, -1.0),\n",
       " (2.0943951023931953, -0.4999999999999998),\n",
       " (1.5707963267948966, 6.123233995736766e-17),\n",
       " (1.2566370614359172, 0.30901699437494745),\n",
       " (1.0471975511965976, 0.5000000000000001),\n",
       " (0.8975979010256552, 0.6234898018587336),\n",
       " (0.7853981633974483, 0.7071067811865476),\n",
       " (0.6981317007977318, 0.766044443118978),\n",
       " (0.6283185307179586, 0.8090169943749475),\n",
       " (0.5711986642890533, 0.8412535328311812),\n",
       " (0.5235987755982988, 0.8660254037844387),\n",
       " (0.483321946706122, 0.8854560256532099),\n",
       " (0.4487989505128276, 0.9009688679024191),\n",
       " (0.41887902047863906, 0.9135454576426009),\n",
       " (0.39269908169872414, 0.9238795325112867),\n",
       " (0.36959913571644626, 0.9324722294043558),\n",
       " (0.3490658503988659, 0.9396926207859084),\n",
       " (0.3306939635357677, 0.9458172417006346),\n",
       " (0.3141592653589793, 0.9510565162951535),\n",
       " (0.2991993003418851, 0.9555728057861407),\n",
       " (0.28559933214452665, 0.9594929736144974),\n",
       " (0.2731819698773733, 0.9629172873477994),\n",
       " (0.2617993877991494, 0.9659258262890683),\n",
       " (0.25132741228718347, 0.9685831611286311),\n",
       " (0.241660973353061, 0.970941817426052),\n",
       " (0.23271056693257727, 0.9730448705798238),\n",
       " (0.2243994752564138, 0.9749279121818236),\n",
       " (0.21666156231653746, 0.9766205557100867),\n",
       " (0.20943951023931953, 0.9781476007338057),\n",
       " (0.2026833970057931, 0.9795299412524945),\n",
       " (0.19634954084936207, 0.9807852804032304),\n",
       " (0.19039955476301776, 0.9819286972627067),\n",
       " (0.18479956785822313, 0.9829730996839018),\n",
       " (0.17951958020513104, 0.9839295885986297),\n",
       " (0.17453292519943295, 0.984807753012208),\n",
       " (0.16981581911296179, 0.9856159103477085),\n",
       " (0.16534698176788384, 0.9863613034027223),\n",
       " (0.16110731556870733, 0.9870502626379128),\n",
       " (0.15707963267948966, 0.9876883405951378),\n",
       " (0.15324842212633139, 0.9882804237803485),\n",
       " (0.14959965017094254, 0.9888308262251285),\n",
       " (0.14612058853906015, 0.9893433680751103),\n",
       " (0.14279966607226333, 0.9898214418809327),\n",
       " (0.13962634015954636, 0.9902680687415704),\n",
       " (0.13659098493868665, 0.9906859460363308),\n",
       " (0.13368479376977843, 0.9910774881547801),\n",
       " (0.1308996938995747, 0.9914448613738104),\n",
       " (0.1282282715750936, 0.9917900138232462),\n",
       " (0.12566370614359174, 0.9921147013144779),\n",
       " (0.12319971190548208, 0.9924205096719357),\n",
       " (0.1208304866765305, 0.992708874098054),\n",
       " (0.11855066617319975, 0.9929810960135169),\n",
       " (0.11635528346628864, 0.993238357741943),\n",
       " (0.11423973285781065, 0.9934817353485502),\n",
       " (0.1121997376282069, 0.9937122098932426),\n",
       " (0.11023132117858923, 0.9939306773179495),\n",
       " (0.10833078115826873, 0.9941379571543596),\n",
       " (0.10649466622338281, 0.9943348002101371),\n",
       " (0.10471975511965977, 0.9945218953682733),\n",
       " (0.10300303782261616, 0.9946998756145891),\n",
       " (0.10134169850289655, 0.9948693233918952),\n",
       " (0.09973310011396169, 0.9950307753654014),\n",
       " (0.09817477042468103, 0.9951847266721969),\n",
       " (0.0966643893412244, 0.9953316347176486),\n",
       " (0.09519977738150888, 0.9954719225730846),\n",
       " (0.09377888518178487, 0.9956059820218981),\n",
       " (0.09239978392911156, 0.9957341762950345),\n",
       " (0.0910606566257911, 0.9958568425315313),\n",
       " (0.08975979010256552, 0.9959742939952391),\n",
       " (0.08849556770675474, 0.9960868220749448),\n",
       " (0.08726646259971647, 0.9961946980917455),\n",
       " (0.08607103160519981, 0.9962981749346078),\n",
       " (0.08490790955648089, 0.9963974885425265),\n",
       " (0.08377580409572781, 0.9964928592495044),\n",
       " (0.08267349088394192, 0.9965844930066698),\n",
       " (0.08159980918415047, 0.9966725824941932),\n",
       " (0.08055365778435367, 0.99675730813421),\n",
       " (0.07953399123012135, 0.9968388390146958),\n",
       " (0.07853981633974483, 0.996917333733128),\n",
       " (0.07757018897752575, 0.996992941167792),\n",
       " (0.07662421106316569, 0.9970658011837404),\n",
       " (0.07570102779734442, 0.997136045279652),\n",
       " (0.07479982508547127, 0.9972037971811801),\n",
       " (0.07391982714328925, 0.997269173385788),\n",
       " (0.07306029426953008, 0.9973322836635516),\n",
       " (0.07222052077217915, 0.9973932315179498),\n",
       " (0.07139983303613166, 0.9974521146102535),\n",
       " (0.07059758772111895, 0.9975090251507638),\n",
       " (0.06981317007977318, 0.9975640502598242),\n",
       " (0.06904599238658886, 0.9976172723012476),\n",
       " (0.06829549246934333, 0.9976687691905392),\n",
       " (0.06756113233526437, 0.9977186146800707),\n",
       " (0.06684239688488922, 0.9977668786231532),\n",
       " (0.06613879270715355, 0.9978136272187745),\n",
       " (0.06544984694978735, 0.9978589232386035),\n",
       " (0.06477510625958337, 0.9979028262377116),\n",
       " (0.0641141357875468, 0.9979453927503363),\n",
       " (0.06346651825433926, 0.9979866764718844),\n",
       " (0.06283185307179587, 0.9980267284282716)]"
      ]
     },
     "execution_count": 475,
     "metadata": {},
     "output_type": "execute_result"
    }
   ],
   "source": [
    "[(((2*math.pi)/(i+1)), math.cos((2*math.pi)/(i+1))) for i in range(100)] #cos 360도를 i를 증가시키면서\n",
    "#각도를 계속 100으로까지 나눈결과"
   ]
  },
  {
   "cell_type": "code",
   "execution_count": 440,
   "id": "d1245184",
   "metadata": {},
   "outputs": [],
   "source": [
    "def dot_zip(x,y):\n",
    "    sum1=0;\n",
    "    for i,j in zip(x,y):\n",
    "        sum1 += i*j\n",
    "    return sum1"
   ]
  },
  {
   "cell_type": "code",
   "execution_count": 442,
   "id": "f13e522e",
   "metadata": {
    "scrolled": true
   },
   "outputs": [
    {
     "data": {
      "text/plain": [
       "266126"
      ]
     },
     "execution_count": 442,
     "metadata": {},
     "output_type": "execute_result"
    }
   ],
   "source": [
    "dot_zip(x[0],y)"
   ]
  },
  {
   "cell_type": "code",
   "execution_count": 441,
   "id": "1b38aacb",
   "metadata": {},
   "outputs": [],
   "source": [
    "def dot_nogada(x,y):\n",
    "    sum1=0;\n",
    "    for idx_i, i in enumerate(x):\n",
    "        for idx_j, j in enumerate(y):\n",
    "            if idx_i == idx_j:\n",
    "                sum1 += i*j\n",
    "    return sum1"
   ]
  },
  {
   "cell_type": "code",
   "execution_count": 443,
   "id": "316993e0",
   "metadata": {
    "scrolled": false
   },
   "outputs": [
    {
     "data": {
      "text/plain": [
       "266126"
      ]
     },
     "execution_count": 443,
     "metadata": {},
     "output_type": "execute_result"
    }
   ],
   "source": [
    "dot_nogada(x[0],y)"
   ]
  }
 ],
 "metadata": {
  "kernelspec": {
   "display_name": "Python 3 (ipykernel)",
   "language": "python",
   "name": "python3"
  },
  "language_info": {
   "codemirror_mode": {
    "name": "ipython",
    "version": 3
   },
   "file_extension": ".py",
   "mimetype": "text/x-python",
   "name": "python",
   "nbconvert_exporter": "python",
   "pygments_lexer": "ipython3",
   "version": "3.11.4"
  }
 },
 "nbformat": 4,
 "nbformat_minor": 5
}
