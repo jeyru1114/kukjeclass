{
 "cells": [
  {
   "cell_type": "code",
   "execution_count": 1,
   "id": "11d4f2f9",
   "metadata": {},
   "outputs": [],
   "source": [
    "from sklearn.datasets import make_moons # 머신러닝 라이브러리"
   ]
  },
  {
   "cell_type": "code",
   "execution_count": 2,
   "id": "3220d3ee",
   "metadata": {},
   "outputs": [],
   "source": [
    "import matplotlib.pyplot as plt # 그림그리기"
   ]
  },
  {
   "cell_type": "code",
   "execution_count": 3,
   "id": "713cb6f9",
   "metadata": {},
   "outputs": [],
   "source": [
    "import numpy as np"
   ]
  },
  {
   "cell_type": "code",
   "execution_count": 4,
   "id": "b65b2f06",
   "metadata": {},
   "outputs": [],
   "source": [
    "def sigmoid(z): \n",
    "    return 1.0/(1+np.exp(-z))"
   ]
  },
  {
   "cell_type": "code",
   "execution_count": 5,
   "id": "f5a4d615",
   "metadata": {},
   "outputs": [],
   "source": [
    "def loss(y,y_hat): # Cross Entropy Loss(y, y^hat)\n",
    "    loss = -np.mean(y*(np.log(y_hat)) - (1-y)*np.log(1-y_hat))\n",
    "    return loss"
   ]
  },
  {
   "cell_type": "code",
   "execution_count": 6,
   "id": "73e5ed4c",
   "metadata": {},
   "outputs": [],
   "source": [
    "def gradients(X, y, y_hat):\n",
    "    # x ---> 입력 (input)\n",
    "    # y ---> 정답(target / label)\n",
    "    # y_hat ---> 가설(모델의 출력, hypothesis/예측치(prediction/추정))\n",
    "    # w ---> weight (파라미터, theta / 우리가 구하고자 하는 값)\n",
    "    # b ---> bias (파라미터, theta 0)\n",
    "    \n",
    "    # m ---> 학습(trainging) 데이터의 갯수\n",
    "    m = X.shape[0]\n",
    "    \n",
    "    # Cost(Loss)를 weight로 미분함\n",
    "    dw = (1/m)*np.dot(X.T , (y_hat-y))\n",
    "    \n",
    "    # Cost(Loss)를 bias로 미분함\n",
    "    db = (1/m)*np.sum((y_hat-y))\n",
    "    \n",
    "    return dw, db"
   ]
  },
  {
   "cell_type": "code",
   "execution_count": 14,
   "id": "d43515ac",
   "metadata": {},
   "outputs": [],
   "source": [
    "def plot_decision_boundary(X, w, b):\n",
    "    # X = 입력\n",
    "    # w = 가중치\n",
    "    # b = bais\n",
    "    \n",
    "    # 직선은 y =mx +c\n",
    "    # 그래서 직선의 방정식 mx+c = w.X +b\n",
    "    # m과 c를 풀어라\n",
    "    x1 = [min(X[:,0]), max(X[:,0])] # X[:,0] X의 모든행을 가져오고 0열 선택\n",
    "    m = -w[0]/w[1]\n",
    "    c = -b/w[1]\n",
    "    x2 = m*x1 +c\n",
    "    \n",
    "    #그림 그리기\n",
    "    fig = plt.figure(figsize=(10,8))\n",
    "    plt.plot(X[:,0][y==0],X[:,1][y==0],\"g^\")\n",
    "    plt.plot(X[:,0][y==1],X[:,1][y==1],\"bs\")\n",
    "    plt.xlim([-2,2]) # x구간 지정\n",
    "    plt.ylim([0,2.2]) #ylimit (y 구간지정)\n",
    "    plt.xlabel(\"feature 1\")\n",
    "    plt.ylabel(\"feature 2\")\n",
    "    plt.title(\"Decision Boundary\")\n",
    "    plt.plot(x1, x2, 'y-')"
   ]
  },
  {
   "cell_type": "code",
   "execution_count": 8,
   "id": "28b51459",
   "metadata": {},
   "outputs": [],
   "source": [
    "def normalize(X):\n",
    "    # X <= 입력\n",
    "    # m <= training 개수\n",
    "    # n <= feature 의 갯수 (weight 와 내적하는 것)\n",
    "    m, n= X.shape #(m ,n) m행 n열\n",
    "    # X 행렬의 모든 n개의 feature들을 정규화함\n",
    "    for i in range(n):\n",
    "        X = (X - X.mean(axis=0))/X.std(axis=0) \n",
    "        #어제 했던 수식(데이터와 평균의 차이를) 표준편차(standard deviation)으로 나눔\n",
    "    return X"
   ]
  },
  {
   "cell_type": "code",
   "execution_count": 12,
   "id": "6884fd7b",
   "metadata": {},
   "outputs": [],
   "source": [
    "#Train 함수\n",
    "## 이 함수에서 gradient descent를 반복하여 학습을 하고 weight 와 bais를 구함\n",
    "def train(X, y, bs, epochs, lr): #epoch는 반복횟수\n",
    "    # X <- 입력\n",
    "    # y <- true / target\n",
    "    # epoch는 반복횟수\n",
    "    # lr = learning rate(학습율)\n",
    "    \n",
    "    #m <- 학습데이터의 수\n",
    "    #n <- feature의 수\n",
    "    \n",
    "    m,n = X.shape\n",
    "    #weight 와 bias 초기화\n",
    "    w = np.zeros((n,1))\n",
    "    b=0\n",
    "    # y를 reshape함(형태를 맞춤)\n",
    "    y=y.reshape(m,1)\n",
    "    #입력 데이터 normalize\n",
    "    x = normalize(X)\n",
    "    #LOSS를 저장하기 위한 빈 LIST 생성\n",
    "    losses = []\n",
    "    # 학습\n",
    "    for epoch in range(epochs):\n",
    "        for i in range((m-1)//bs+1):\n",
    "            #batch 정의, SGD(Stocastric(통계적0), Gradient Descent)\n",
    "            start_i = i*bs # bs(배치 사이즈)\n",
    "            end_i = start_i +bs\n",
    "            xb = X[start_i:end_i]\n",
    "            yb = y[start_i:end_i]\n",
    "            \n",
    "            #hypothesis / 예측 계산\n",
    "            y_hat = sigmoid(np.dot(xb,w)+b)\n",
    "            #loss를 파라미터로 미분\n",
    "            dw, db = gradients(xb, yb, y_hat)\n",
    "            #파라미터 갱신\n",
    "            w -= lr*dw\n",
    "            b -= lr*db\n",
    "        l= loss(y, sigmoid(np.dot(X,w)+b))\n",
    "        losses.append(l)\n",
    "    # weight 와 bias, loss 반환\n",
    "    return w,b, losses"
   ]
  },
  {
   "cell_type": "code",
   "execution_count": 10,
   "id": "6d25d8ab",
   "metadata": {},
   "outputs": [],
   "source": [
    "# 예측 함수\n",
    "def predict(X):\n",
    "    # X <- 입력\n",
    "    # 입력 데이터 normalize\n",
    "    x = normalize(X)\n",
    "    \n",
    "    # 예측/ 추정치/ y_hat 계산\n",
    "    preds = sigmoid(np.dot(X,w)+b)\n",
    "    # 예측 데이터 저장 리스트 생성\n",
    "    pred_class=[]\n",
    "    #y_hat >= 0.5 -> 1로 결과를 출력\n",
    "    #y_hat < 0.5 -> 0 결과를 출력\n",
    "    pred_class = [1 if i > 0.5 else 0 for i in preds]\n",
    "    return np.array(pred_class)"
   ]
  },
  {
   "cell_type": "code",
   "execution_count": 15,
   "id": "323b6359",
   "metadata": {
    "scrolled": true
   },
   "outputs": [
    {
     "data": {
      "image/png": "[encoded data removed]",
      "text/plain": [
       "<Figure size 1000x800 with 1 Axes>"
      ]
     },
     "metadata": {},
     "output_type": "display_data"
    }
   ],
   "source": [
    "# 학습\n",
    "X, y = make_moons(n_samples=100, noise=0.24)\n",
    "w, b, l = train(X,y,bs=100,epochs=1000,lr=0.01)\n",
    "#그림 그리기\n",
    "plot_decision_boundary(X,w,b)"
   ]
  },
  {
   "cell_type": "code",
   "execution_count": null,
   "id": "eb14467a",
   "metadata": {},
   "outputs": [],
   "source": [
    "from sympy import symbols , Matrix , Function, simplify, exp, hessian, solve, init_printing\n",
    "x1, x2 = symbols('x1 x2')\n",
    "f, g, h =symbols('f g h' , cls=Function)\n",
    "\n",
    "X = Matrix([x1, x2])\n",
    "f = Matrix([-x1*x2*exp(-(x1**2+x2**2)/2)])\n",
    "h = 2*x1+3*x2\n",
    "g = x1**2+x2**2-10"
   ]
  },
  {
   "cell_type": "code",
   "execution_count": null,
   "id": "e6b4fa25",
   "metadata": {},
   "outputs": [],
   "source": [
    "X = np.arange(-3,3,0.01)\n",
    "y=sigmoid(X)"
   ]
  },
  {
   "cell_type": "code",
   "execution_count": null,
   "id": "7a3920bc",
   "metadata": {},
   "outputs": [],
   "source": [
    "def derivative(f,x):\n",
    "    h=0.00001\n",
    "    return (f(x+h)-f(x))/h"
   ]
  },
  {
   "cell_type": "code",
   "execution_count": null,
   "id": "3812bbc4",
   "metadata": {},
   "outputs": [],
   "source": [
    "derivated = derivative(sigmoid,X)"
   ]
  },
  {
   "cell_type": "code",
   "execution_count": null,
   "id": "ce0ce869",
   "metadata": {
    "scrolled": false
   },
   "outputs": [],
   "source": [
    "gradf = simplify(f.jacobian(X))\n",
    "gradf"
   ]
  },
  {
   "cell_type": "code",
   "execution_count": null,
   "id": "4f1de504",
   "metadata": {
    "scrolled": false
   },
   "outputs": [],
   "source": [
    "hessian = simplify(hessian(f,X))\n",
    "hessian"
   ]
  },
  {
   "cell_type": "code",
   "execution_count": 51,
   "id": "cfc51c9c",
   "metadata": {},
   "outputs": [
    {
     "data": {
      "text/plain": [
       "(10,)"
      ]
     },
     "execution_count": 51,
     "metadata": {},
     "output_type": "execute_result"
    }
   ],
   "source": [
    "y_hat = np.array(X[:10][:,0]) # y_hat이라 가정합니다\n",
    "np.shape(y_hat)"
   ]
  },
  {
   "cell_type": "code",
   "execution_count": 60,
   "id": "ddeb9259",
   "metadata": {},
   "outputs": [
    {
     "data": {
      "text/plain": [
       "[9, 7, 1, 7, 9, 6, 2, 6, 8, 0]"
      ]
     },
     "execution_count": 60,
     "metadata": {},
     "output_type": "execute_result"
    }
   ],
   "source": [
    "y_true = [np.random.randint(10) for i in range(10)]\n",
    "y_true"
   ]
  },
  {
   "cell_type": "code",
   "execution_count": 61,
   "id": "34aed6b1",
   "metadata": {},
   "outputs": [
    {
     "data": {
      "text/plain": [
       "7.459779745413685"
      ]
     },
     "execution_count": 61,
     "metadata": {},
     "output_type": "execute_result"
    }
   ],
   "source": [
    "y_ture[0] * np.log(np.abs(y_hat[0])) + (1-y_true[0])*np.log(np.abs(1-y_hat[0]))"
   ]
  },
  {
   "cell_type": "code",
   "execution_count": 81,
   "id": "ad96ac28",
   "metadata": {
    "scrolled": true
   },
   "outputs": [
    {
     "data": {
      "text/plain": [
       "0.8251770164746912"
      ]
     },
     "execution_count": 81,
     "metadata": {},
     "output_type": "execute_result"
    }
   ],
   "source": [
    "result=0\n",
    "\n",
    "for i in range(10):\n",
    "    result += y_ture[i] * np.log(np.abs(y_hat[i])) + (1-y_true[i])*np.log(np.abs(1-y_hat[i]))\n",
    "-result / 10"
   ]
  },
  {
   "cell_type": "code",
   "execution_count": 90,
   "id": "47ee96b0",
   "metadata": {},
   "outputs": [],
   "source": [
    "for i,j in zip(y_true,y_hat):\n",
    "    #print(i,j)\n",
    "    pass"
   ]
  },
  {
   "cell_type": "code",
   "execution_count": 83,
   "id": "111b7ba3",
   "metadata": {},
   "outputs": [
    {
     "data": {
      "text/plain": [
       "0.19333681290323265"
      ]
     },
     "execution_count": 83,
     "metadata": {},
     "output_type": "execute_result"
    }
   ],
   "source": [
    "cross_entropy=0\n",
    "for i,j in zip(y_true,y_hat):\n",
    "    cross_entropy += i * np.log(np.abs(j)) + (1-i)*np.log(np.abs(1-j))\n",
    "count= len(y_true)\n",
    "-cross_entropy/count"
   ]
  },
  {
   "cell_type": "code",
   "execution_count": 35,
   "id": "6e5f5b0e",
   "metadata": {},
   "outputs": [
    {
     "name": "stdout",
     "output_type": "stream",
     "text": [
      "X: (100, 2)\n",
      "y: (100,)\n",
      "start: 0 ,end: 15 ,epoch : 0\n",
      "start: 15 ,end: 30 ,epoch : 0\n",
      "start: 0 ,end: 15 ,epoch : 1\n",
      "start: 15 ,end: 30 ,epoch : 1\n",
      "start: 0 ,end: 15 ,epoch : 2\n",
      "start: 15 ,end: 30 ,epoch : 2\n",
      "start: 0 ,end: 15 ,epoch : 3\n",
      "start: 15 ,end: 30 ,epoch : 3\n",
      "start: 0 ,end: 15 ,epoch : 4\n",
      "start: 15 ,end: 30 ,epoch : 4\n",
      "start: 0 ,end: 15 ,epoch : 5\n",
      "start: 15 ,end: 30 ,epoch : 5\n",
      "start: 0 ,end: 15 ,epoch : 6\n",
      "start: 15 ,end: 30 ,epoch : 6\n",
      "start: 0 ,end: 15 ,epoch : 7\n",
      "start: 15 ,end: 30 ,epoch : 7\n",
      "start: 0 ,end: 15 ,epoch : 8\n",
      "start: 15 ,end: 30 ,epoch : 8\n",
      "start: 0 ,end: 15 ,epoch : 9\n",
      "start: 15 ,end: 30 ,epoch : 9\n"
     ]
    }
   ],
   "source": [
    "X, y = make_moons(n_samples=100, noise=0.24)\n",
    "print('X:',np.shape(X)) # X데이터 (100행 2열 행렬)\n",
    "print('y:',np.shape(y)) # y데이터 (100행 벡터)\n",
    "bs=15\n",
    "m=20\n",
    "for epoch in range(10):\n",
    "    for i in range((m-1)//bs+1):\n",
    "        #batch 정의, SGD(Stocastric(통계적0) Gradient Descent)\n",
    "        start_i = i*bs # bs (배치사이즈)\n",
    "        end_i = start_i +bs\n",
    "        xb = X[start_i : end_i]\n",
    "        yb = y[start_i : end_i]\n",
    "        print('start:', start_i , ',end:',end_i, ',epoch :', epoch)"
   ]
  }
 ],
 "metadata": {
  "kernelspec": {
   "display_name": "Python 3 (ipykernel)",
   "language": "python",
   "name": "python3"
  },
  "language_info": {
   "codemirror_mode": {
    "name": "ipython",
    "version": 3
   },
   "file_extension": ".py",
   "mimetype": "text/x-python",
   "name": "python",
   "nbconvert_exporter": "python",
   "pygments_lexer": "ipython3",
   "version": "3.11.4"
  }
 },
 "nbformat": 4,
 "nbformat_minor": 5
}
