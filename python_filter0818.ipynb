{
 "cells": [
  {
   "cell_type": "code",
   "execution_count": null,
   "id": "483db7d2",
   "metadata": {},
   "outputs": [],
   "source": [
    "import pandas as pd"
   ]
  },
  {
   "cell_type": "code",
   "execution_count": null,
   "id": "1886f63a",
   "metadata": {},
   "outputs": [],
   "source": [
    "dict1={\n",
    "        \"math\" :[20,34,80,100,92],\n",
    "        \"korea\" :[80,87,80,66,90],\n",
    "        \"eng\" :[70,98,45,77,99],\n",
    "     }\n",
    "df = pd.DataFrame(dict1)\n",
    "df.to_csv('C:\\\\jey\\\\python\\\\1.csv') # 위에서 만든 df를 엑셀파일로 저장해줌"
   ]
  },
  {
   "cell_type": "code",
   "execution_count": null,
   "id": "8bc9cc55",
   "metadata": {
    "scrolled": true
   },
   "outputs": [],
   "source": [
    "pwd # 어디에 저장되어있는지 경로"
   ]
  },
  {
   "cell_type": "code",
   "execution_count": null,
   "id": "87bd80b2",
   "metadata": {
    "scrolled": false
   },
   "outputs": [],
   "source": [
    "df[df['math']>70][['eng','korea']]"
   ]
  },
  {
   "cell_type": "code",
   "execution_count": null,
   "id": "99493734",
   "metadata": {},
   "outputs": [],
   "source": [
    "import numpy as np"
   ]
  },
  {
   "cell_type": "code",
   "execution_count": null,
   "id": "f4eac16e",
   "metadata": {},
   "outputs": [],
   "source": [
    "url = 'https://raw.githubusercontent.com/justmarkham/DAT8/master/data/chipotle.tsv'\n",
    "chipo = pd.read_csv(url, sep='\\t')"
   ]
  },
  {
   "cell_type": "code",
   "execution_count": null,
   "id": "d8975d71",
   "metadata": {
    "scrolled": true
   },
   "outputs": [],
   "source": [
    "chipo.tail(10) # tail은 기본값이 5"
   ]
  },
  {
   "cell_type": "code",
   "execution_count": null,
   "id": "e422c8ab",
   "metadata": {},
   "outputs": [],
   "source": [
    "chipo.shape # 4622의행과 5개의 열"
   ]
  },
  {
   "cell_type": "code",
   "execution_count": null,
   "id": "0fe78347",
   "metadata": {
    "scrolled": true
   },
   "outputs": [],
   "source": [
    "chipo.shape[1]"
   ]
  },
  {
   "cell_type": "code",
   "execution_count": null,
   "id": "d80b6271",
   "metadata": {
    "scrolled": true
   },
   "outputs": [],
   "source": [
    "len('aaa')"
   ]
  },
  {
   "cell_type": "code",
   "execution_count": null,
   "id": "b6a4f9d1",
   "metadata": {},
   "outputs": [],
   "source": [
    "len(chipo['item_name'])"
   ]
  },
  {
   "cell_type": "code",
   "execution_count": null,
   "id": "fbc70dfa",
   "metadata": {},
   "outputs": [],
   "source": [
    "[len(i) for i in chipo['item_name']]"
   ]
  },
  {
   "cell_type": "code",
   "execution_count": null,
   "id": "284816dc",
   "metadata": {},
   "outputs": [],
   "source": [
    "chipo.columns"
   ]
  },
  {
   "cell_type": "code",
   "execution_count": null,
   "id": "fab86108",
   "metadata": {},
   "outputs": [],
   "source": [
    "chipo.index"
   ]
  },
  {
   "cell_type": "code",
   "execution_count": null,
   "id": "21432f79",
   "metadata": {},
   "outputs": [],
   "source": [
    "chipo.to_csv('C:\\\\jey\\\\python\\\\1.csv')"
   ]
  },
  {
   "cell_type": "markdown",
   "id": "29facd15",
   "metadata": {},
   "source": [
    " 가장 주문량이 많은 항목찾기"
   ]
  },
  {
   "cell_type": "code",
   "execution_count": null,
   "id": "baeeb1c1",
   "metadata": {},
   "outputs": [],
   "source": [
    "chipo.columns"
   ]
  },
  {
   "cell_type": "code",
   "execution_count": null,
   "id": "0871b32f",
   "metadata": {},
   "outputs": [],
   "source": [
    "df = chipo[['order_id','quantity','item_name']]\n",
    "df_c = df.groupby('item_name').sum()\n",
    "df_c = df_c.sort_values(['quantity'] , ascending =False)\n",
    "df_c.head()"
   ]
  },
  {
   "cell_type": "code",
   "execution_count": null,
   "id": "28e7963b",
   "metadata": {
    "scrolled": true
   },
   "outputs": [],
   "source": [
    "c = chipo.groupby('item_name')\n",
    "c = c.sum() # item_name 별 그룹의 총 합\n",
    "c = c.sort_values(['quantity'], ascending=False)\n",
    "c.head(5) # 아래 코드는 이중에서 quantity 로 내림차순하면 결국 상단의 하나가 최고"
   ]
  },
  {
   "cell_type": "code",
   "execution_count": null,
   "id": "942a9746",
   "metadata": {},
   "outputs": [],
   "source": [
    "df = pd.DataFrame(\n",
    "    {\n",
    "        \"A\": [\"foo\", \"bar\", \"foo\", \"bar\", \"foo\", \"bar\", \"foo\", \"foo\"],\n",
    "        \"B\": [\"one\", \"one\", \"two\", \"three\", \"two\", \"two\", \"one\", \"three\"],\n",
    "        \"C\": np.random.randn(8),\n",
    "        \"D\": np.random.randn(8),\n",
    "    }\n",
    ")\n",
    "df.head()"
   ]
  },
  {
   "cell_type": "code",
   "execution_count": null,
   "id": "ba24ac2c",
   "metadata": {
    "scrolled": true
   },
   "outputs": [],
   "source": [
    "grouped = df.groupby(\"A\") # 2개의 덩어리 (foo와 bar)\n",
    "for i in grouped:\n",
    "#    print(i)\n",
    "    pass\n",
    "#print( grouped.sum() , grouped.count() , grouped.mean()) # 집계(aggregation) 함수\n",
    "df3 = grouped.agg(['sum','count'])\n",
    "df3"
   ]
  },
  {
   "cell_type": "code",
   "execution_count": null,
   "id": "fc3c81ef",
   "metadata": {
    "scrolled": true
   },
   "outputs": [],
   "source": [
    "grouped.apply(lambda x : x.sort_values('B')) # A칼럼으로 그룹화하고 각각의 그룹별로 B칼럼기준으로 정렬"
   ]
  },
  {
   "cell_type": "code",
   "execution_count": null,
   "id": "7e501b68",
   "metadata": {},
   "outputs": [],
   "source": [
    "def f(x):\n",
    "    list1=[]\n",
    "    for i in range(x):\n",
    "        list1.append({x:str(x)+\"입니다\"})\n",
    "    return list1"
   ]
  },
  {
   "cell_type": "code",
   "execution_count": null,
   "id": "155bcd16",
   "metadata": {},
   "outputs": [],
   "source": [
    "list(map(f , [2,3,4,5,6])) #map은 데이터를 자르다기능 = 하나씩 꺼내서 함수로전달"
   ]
  },
  {
   "cell_type": "code",
   "execution_count": null,
   "id": "ae42471d",
   "metadata": {
    "scrolled": false
   },
   "outputs": [],
   "source": [
    "list(map(lambda x : x+3,[2,3,4,5,6])) # map은 입력된 데이터갯수와 출력된 갯수가 같음"
   ]
  },
  {
   "cell_type": "code",
   "execution_count": null,
   "id": "55f24803",
   "metadata": {
    "scrolled": false
   },
   "outputs": [],
   "source": [
    "list(map(lambda x : {x:str(x)+\"입니다\"},[2,3,4,5,6]))"
   ]
  },
  {
   "cell_type": "code",
   "execution_count": null,
   "id": "eed39a75",
   "metadata": {
    "scrolled": false
   },
   "outputs": [],
   "source": [
    "list(filter(lambda x : x%2==0,[2,3,4,5,6])) \n",
    "#함수의 반환되는 데이터 타입이 true,false중에 기능에 만족하는 데이터만 반환하는게 filter"
   ]
  },
  {
   "cell_type": "code",
   "execution_count": null,
   "id": "2f61bb57",
   "metadata": {
    "scrolled": true
   },
   "outputs": [],
   "source": [
    "list(map(type,filter(lambda x : x%2==0,[2,3,4,5,6])))"
   ]
  },
  {
   "cell_type": "markdown",
   "id": "06f2521c",
   "metadata": {},
   "source": [
    "reduce"
   ]
  },
  {
   "cell_type": "code",
   "execution_count": 1,
   "id": "3513096e",
   "metadata": {},
   "outputs": [],
   "source": [
    "from functools import reduce # 기능사용한다는 정의"
   ]
  },
  {
   "cell_type": "code",
   "execution_count": null,
   "id": "184f87cb",
   "metadata": {},
   "outputs": [],
   "source": [
    "a, b=(3,5)\n",
    "a"
   ]
  },
  {
   "cell_type": "code",
   "execution_count": 4,
   "id": "6c8b6da1",
   "metadata": {},
   "outputs": [],
   "source": [
    "def merge_dict(acc,cur):\n",
    "    key, value=cur\n",
    "    acc[value] = acc.get(value,[])+[key]\n",
    "    print('acc:', acc)\n",
    "    print('cur:', cur)\n",
    "    return acc"
   ]
  },
  {
   "cell_type": "code",
   "execution_count": 5,
   "id": "850db41d",
   "metadata": {
    "scrolled": true
   },
   "outputs": [
    {
     "name": "stdout",
     "output_type": "stream",
     "text": [
      "acc: {'a': ['1']}\n",
      "cur: ('1', 'a')\n",
      "acc: {'a': ['1', '2']}\n",
      "cur: ('2', 'a')\n"
     ]
    },
    {
     "data": {
      "text/plain": [
       "{'a': ['1', '2']}"
      ]
     },
     "execution_count": 5,
     "metadata": {},
     "output_type": "execute_result"
    }
   ],
   "source": [
    "reduce(merge_dict, {'1':'a','2':'a'}.items(),{})"
   ]
  },
  {
   "cell_type": "code",
   "execution_count": null,
   "id": "70949d89",
   "metadata": {},
   "outputs": [],
   "source": [
    "{'1':'a','2':'a'}.items()"
   ]
  },
  {
   "cell_type": "code",
   "execution_count": null,
   "id": "e12d81e2",
   "metadata": {},
   "outputs": [],
   "source": [
    "{'1':'a','2':'a'}.get('1',[])"
   ]
  }
 ],
 "metadata": {
  "kernelspec": {
   "display_name": "Python 3 (ipykernel)",
   "language": "python",
   "name": "python3"
  },
  "language_info": {
   "codemirror_mode": {
    "name": "ipython",
    "version": 3
   },
   "file_extension": ".py",
   "mimetype": "text/x-python",
   "name": "python",
   "nbconvert_exporter": "python",
   "pygments_lexer": "ipython3",
   "version": "3.11.4"
  }
 },
 "nbformat": 4,
 "nbformat_minor": 5
}
