{
 "cells": [
  {
   "cell_type": "markdown",
   "id": "234381fb",
   "metadata": {},
   "source": [
    "## 인공지능의 필요한 수학\n",
    "<ol>\n",
    "    <li style=\"color:red;\">선형대수</li>\n",
    "    <li>미적분</li>\n",
    "    <li>확률 및 통계</li>\n",
    "</ol>"
   ]
  },
  {
   "cell_type": "markdown",
   "id": "4bd845cf",
   "metadata": {},
   "source": [
    "## 벡터 공간의 공리 (vector space axioms)\n",
    "<ol>\n",
    "    <li>u,v가 V의 원소이면 u+v도 V의 원소이다 <b style=\"color:red;\">(덧셈에 대한 닫힘성)</b></li>\n",
    "    <li>u+v = v+u <b style=\"color:red;\">(교환 법칙)</b></li>\n",
    "    <li>$ u\\times v = v\\times u$ <b style=\"color:red;\">(곱셈에대한 교환 법칙은 없음)</b></li>\n",
    "    <li>(u+v)+w = u+(v+w) <b style=\"color:red;\">(결합 법칙)</b></li>\n",
    "    <li>V의 모든 원소 u에 대하여 u+0 = 0+u를 만족하는 개체 0(벡터)이 V에 존재한다 <b style=\"color:red;\">(덧셈에 대한 항등원이 존재)</b></li>\n",
    "    <li>V의 모든 원소 u에 대하여 u+(-u) = (-u)+u = 0 를 만족하는 개체 -u가 V에 존재한다<br> -u를 u의 음(negative of u)라 한다<b style=\"color:red;\">(덧셈에 대한 역원이 존재)</b></li>\n",
    "    <li>k 가 임의의 스칼라이고 u가 V의 원소이면 ku는 V에 속한다<b style=\"color:red;\">(스칼라 곱에 대한 닫힘성)</b></li>\n",
    "    <li>k(u+v) = ku + kv <b style=\"color:red;\">(분배 법칙)</b></li>\n",
    "    <li>(k+l)u = ku + lu <b style=\"color:red;\">(분배 법칙)</b></li>\n",
    "    <li>(kl)u = k(lu) <b style=\"color:red;\">(결합 법칙)</b></li>\n",
    "    <li>1u = u <b style=\"color:red;\">(스칼라곱에 대한 항등원이 존재)</b></li>\n",
    "    V는 벡터 공간, k,l 은 스칼라, u,v 는 벡터 공간(V)의 원소인 벡터\n",
    "</ol>"
   ]
  },
  {
   "cell_type": "markdown",
   "id": "83b7757f",
   "metadata": {},
   "source": [
    "$$ R^{2} (2차원) $$\n",
    "$$1번: u = (2,3) , v = (1000,20) \\rightarrow u+v (1002,23) 도 V 의 원소이다 (덧셈에 대한 닫힘성) $$\n",
    "<hr>\n",
    "$$ R^{3} (3차원) $$\n",
    "$$ u = (2,3,1) , v = (1000,20,7) \\rightarrow u+v (1002,23,8) 도 V 의 원소이다 (덧셈에 대한 닫힘성) $$\n"
   ]
  },
  {
   "cell_type": "markdown",
   "id": "fb3b438d",
   "metadata": {},
   "source": [
    "$$ R^{2} (2차원) $$\n",
    "$$7번: k = 2, v = (1000,20) \\rightarrow kv(2000,40)는 V에 속한다 (스칼라 곱에 대한 닫힘성) $$"
   ]
  },
  {
   "cell_type": "markdown",
   "id": "8d8af953",
   "metadata": {},
   "source": [
    "$$8번: k = 2 , u = (2,3), v = (10,20) \\rightarrow ku(4,6) + kv(20,40) = (24,46) (분배법칙) $$"
   ]
  },
  {
   "cell_type": "markdown",
   "id": "5f246d64",
   "metadata": {},
   "source": [
    "$$ 9번: k =2 , l = 4 , u = (10,20) \\rightarrow k+l(2+4)u(10,20) =(20,80) (분배법칙) $$"
   ]
  },
  {
   "cell_type": "markdown",
   "id": "5ac86760",
   "metadata": {},
   "source": [
    "$$ 10번: k =2, l = 4, u=(10,20) \\rightarrow 8(10,20) = 2(40,80) (분배법칙)$$"
   ]
  },
  {
   "cell_type": "markdown",
   "id": "8249e40c",
   "metadata": {},
   "source": [
    "$$ 11번: 1, u = (10,20) \\rightarrow 1\\times(10,20) = (10,20) (스칼라곱에 대한 항등원이 존재)$$"
   ]
  },
  {
   "cell_type": "markdown",
   "id": "d73878a1",
   "metadata": {},
   "source": [
    "## 내적(dot product)\n",
    "- 일반적으로 벡터를 세로로 세운다(column(열) 벡터)\n",
    "- 가로로 나열한것을 행(row)벡터\n",
    "\n",
    "$$ \\overrightarrow{a}^{T} = (2,3,4) \\rightarrow \n",
    "    \\overrightarrow{a} = \\begin {bmatrix} \n",
    "        2 \\\\ \n",
    "        3 \\\\\n",
    "        4\n",
    "    \\end{bmatrix}\n",
    "$$\n",
    "$$ {w}^{T} = (1,2,3) , x =(x_{1},x_{2},x_{3}) = (3,4,5) \\Rightarrow \\overrightarrow{w}^{T} \\cdot x = 1\\cdot3 + 2\\cdot4 + 3\\cdot5 $$"
   ]
  },
  {
   "cell_type": "markdown",
   "id": "7287bc19",
   "metadata": {},
   "source": [
    "## 내적(Inner Products)\n",
    "\n",
    "$$\n",
    "\\begin{equation}\n",
    "U\\cdot V = \\sum^n u_iv_i = u_1v_1 + u_2v_2 + ... + u_nv_n\n",
    "\\end{equation}\n",
    "$$\n",
    "\n",
    "$$\n",
    "\\begin{equation}\n",
    "U = \\left[ \\begin{array}{r} 2 \\\\ -1 \\\\ 2 \\\\ 3 \\end{array}\\right] \\hspace{1cm} \n",
    "V = \\left[ \\begin{array}{r} 1 \\\\ 4 \\\\ 5 \\\\ 0  \\end{array}\\right] \n",
    "\\end{equation}\n",
    "$$\n",
    "\n",
    "\n",
    "$$\n",
    "\\begin{equation}\n",
    "U\\cdot V = (2)(1) + (-1)(4) + (2)(5) + (3)(0) = 8\n",
    "\\end{equation}\n",
    "$$\n",
    "\n",
    "\n",
    "$$\n",
    "\\begin{equation}\n",
    "A = \\left[ \\begin{array}{rrrr} 1 & 1 & 0 & 2 \\\\ 2 & -1 & 2 & 3 \\\\ 3 & -1 & 2 & 1 \\\\ -2 & 0 & 0 & 1 \\end{array}\\right] \\hspace{1cm} \n",
    "B = \\left[ \\begin{array}{rrr} 1 & 1 & 1 \\\\ 4 & 1 & 4 \\\\ 0 & 1 & 5 \\\\ 1 & 1 & 0 \\end{array}\\right] \n",
    "\\hspace{1cm}\n",
    "AB =  \\left[ \\begin{array}{rrrr} 7 & 4 & 5 \\\\ 1 & 6 & 8 \\\\ 0 & 5 & 9 \\\\ -1 & -1 & -2 \\end{array}\\right] \n",
    "\\end{equation}\n",
    "$$\n",
    "\n",
    "$$\n",
    "\\begin{equation}\n",
    "U\\cdot V = U^TV\n",
    "\\end{equation}\n",
    "$$"
   ]
  },
  {
   "cell_type": "code",
   "execution_count": 4,
   "id": "141c4e12",
   "metadata": {},
   "outputs": [],
   "source": [
    "import numpy as np"
   ]
  },
  {
   "cell_type": "code",
   "execution_count": 544,
   "id": "75eb5ccf",
   "metadata": {},
   "outputs": [
    {
     "data": {
      "text/plain": [
       "array([[8]])"
      ]
     },
     "execution_count": 544,
     "metadata": {},
     "output_type": "execute_result"
    }
   ],
   "source": [
    "U = np.array([[2],[-1],[2],[3]])\n",
    "V = np.array([[1],[4],[5],[0]])\n",
    "d = U.T@V # @ = 내적\n",
    "d"
   ]
  },
  {
   "cell_type": "code",
   "execution_count": 60,
   "id": "e2ddb5f7",
   "metadata": {},
   "outputs": [
    {
     "data": {
      "text/plain": [
       "array([8])"
      ]
     },
     "execution_count": 60,
     "metadata": {},
     "output_type": "execute_result"
    }
   ],
   "source": [
    "sum_ = 0\n",
    "for i,j in zip(U,V):\n",
    "    sum_ += i*j\n",
    "sum_"
   ]
  },
  {
   "cell_type": "code",
   "execution_count": 61,
   "id": "85574fcb",
   "metadata": {
    "scrolled": true
   },
   "outputs": [
    {
     "data": {
      "text/plain": [
       "array([8])"
      ]
     },
     "execution_count": 61,
     "metadata": {},
     "output_type": "execute_result"
    }
   ],
   "source": [
    "sum_1 = sum([i*j for i,j in zip(U,V)])\n",
    "sum_1"
   ]
  },
  {
   "cell_type": "code",
   "execution_count": 63,
   "id": "22c22f36",
   "metadata": {
    "scrolled": true
   },
   "outputs": [
    {
     "data": {
      "text/plain": [
       "array([[ True]])"
      ]
     },
     "execution_count": 63,
     "metadata": {},
     "output_type": "execute_result"
    }
   ],
   "source": [
    "sum_ == sum_1 == d"
   ]
  },
  {
   "cell_type": "code",
   "execution_count": 370,
   "id": "9b563c12",
   "metadata": {
    "scrolled": false
   },
   "outputs": [
    {
     "name": "stdout",
     "output_type": "stream",
     "text": [
      "(4, 4) (4, 3)\n"
     ]
    }
   ],
   "source": [
    "A = np.array([[1,1,0,2],[2,-1,2,3],[3,-1,2,1],[-2,0,0,1]])\n",
    "B = np.array([[1,1,1],[4,1,4],[0,1,5],[1,1,0]])\n",
    "print(np.shape(A),np.shape(B)) # A행렬의 열과 B 행렬의 행이 같아야 행렬곱을 할수 있음"
   ]
  },
  {
   "cell_type": "code",
   "execution_count": 71,
   "id": "0b008b0f",
   "metadata": {
    "scrolled": true
   },
   "outputs": [
    {
     "name": "stdout",
     "output_type": "stream",
     "text": [
      "[1 1 1]\n",
      "[4 1 4]\n",
      "[0 1 5]\n",
      "[1 1 0]\n"
     ]
    }
   ],
   "source": [
    "for i in B:\n",
    "    print(i)"
   ]
  },
  {
   "cell_type": "code",
   "execution_count": 70,
   "id": "ada9e509",
   "metadata": {
    "scrolled": true
   },
   "outputs": [
    {
     "name": "stdout",
     "output_type": "stream",
     "text": [
      "[1 4 0 1]\n",
      "[1 1 1 1]\n",
      "[1 4 5 0]\n"
     ]
    }
   ],
   "source": [
    "for i in B.T:\n",
    "    print(i)"
   ]
  },
  {
   "cell_type": "code",
   "execution_count": 360,
   "id": "c3f82727",
   "metadata": {
    "scrolled": true
   },
   "outputs": [
    {
     "data": {
      "text/plain": [
       "{'a_1': array([1, 4, 0, 1]),\n",
       " 'a_2': array([1, 1, 1, 1]),\n",
       " 'a_3': array([1, 4, 5, 0])}"
      ]
     },
     "execution_count": 360,
     "metadata": {},
     "output_type": "execute_result"
    }
   ],
   "source": [
    "#dict1= {'a_1':[1,4,0,1],'a_2':[1,1,1,1],'a_3':[1,4,5,0]}\n",
    "dict1 ={}\n",
    "for idx,i in enumerate(B.T):\n",
    "    dict1['a_'+str(idx+1)] = i\n",
    "dict1"
   ]
  },
  {
   "cell_type": "code",
   "execution_count": 392,
   "id": "b10c4a24",
   "metadata": {},
   "outputs": [
    {
     "data": {
      "text/plain": [
       "{'a_1': [1, 4, 0, 1], 'a_2': [1, 1, 1, 1], 'a_3': [1, 4, 5, 0]}"
      ]
     },
     "execution_count": 392,
     "metadata": {},
     "output_type": "execute_result"
    }
   ],
   "source": [
    "dict1={'a_1':[],'a_2':[],'a_3':[]}\n",
    "for i in B:\n",
    "    for idx_j,j in enumerate(i):\n",
    "        dict1['a_'+str(idx_j+1)].append(j)\n",
    "dict1"
   ]
  },
  {
   "cell_type": "code",
   "execution_count": 374,
   "id": "d73cf051",
   "metadata": {},
   "outputs": [
    {
     "data": {
      "text/plain": [
       "{'a_1': array([1, 4, 0, 1]),\n",
       " 'a_2': array([1, 1, 1, 1]),\n",
       " 'a_3': array([1, 4, 5, 0])}"
      ]
     },
     "execution_count": 374,
     "metadata": {},
     "output_type": "execute_result"
    }
   ],
   "source": [
    "dict2={}\n",
    "for i in B:\n",
    "    for idx_j, j in enumerate(i):\n",
    "        key = 'a'+str(idx_j+1)\n",
    "        if key not in dict2.keys():\n",
    "            dict2[key] = []\n",
    "        dict2[key].append(j)\n",
    "dict1"
   ]
  },
  {
   "cell_type": "markdown",
   "id": "f2e831a1",
   "metadata": {},
   "source": [
    "$$\n",
    "\\begin{equation}\n",
    "A = \\left[ \\begin{array}{rrrr} 1 & 1 & 0 & 2 \\\\ 2 & -1 & 2 & 3 \\\\ 3 & -1 & 2 & 1 \\\\ -2 & 0 & 0 & 1 \\end{array}\\right] \\hspace{1cm} \n",
    "B = \\left[ \\begin{array}{rrr} 1 & 1 & 1 \\\\ 4 & 1 & 4 \\\\ 0 & 1 & 5 \\\\ 1 & 1 & 0 \\end{array}\\right] \n",
    "\\hspace{1cm}\n",
    "AB =  \\left[ \\begin{array}{rrrr} 7 & 4 & 5 \\\\ 1 & 6 & 8 \\\\ 0 & 5 & 9 \\\\ -1 & -1 & -2 \\end{array}\\right] \n",
    "\\end{equation}\n",
    "$$\n"
   ]
  },
  {
   "cell_type": "code",
   "execution_count": 381,
   "id": "25277f05",
   "metadata": {},
   "outputs": [
    {
     "name": "stdout",
     "output_type": "stream",
     "text": [
      "7\n",
      "4\n",
      "5\n",
      "1\n",
      "6\n",
      "8\n",
      "0\n",
      "5\n",
      "9\n",
      "-1\n",
      "-1\n",
      "-2\n"
     ]
    }
   ],
   "source": [
    "for i in A:\n",
    "    for k,v in dict2.items():\n",
    "#         print(\"k:\",k,\"v:\",v)\n",
    "        sum_ =0\n",
    "        for idx, (u1,u2) in enumerate(zip(i,v)):\n",
    "#             print(idx,\"u1:\",u1,\"u2:\",u2)\n",
    "            sum_ += u1*u2\n",
    "        print(sum_)"
   ]
  },
  {
   "cell_type": "code",
   "execution_count": 403,
   "id": "223ae13e",
   "metadata": {
    "scrolled": true
   },
   "outputs": [
    {
     "data": {
      "text/plain": [
       "[7, 4, 5, 1, 6, 8, 0, 5, 9, -1, -1, -2]"
      ]
     },
     "execution_count": 403,
     "metadata": {},
     "output_type": "execute_result"
    }
   ],
   "source": [
    "sum_list1=[]\n",
    "for i in A:\n",
    "    for k,v in dict2.items():\n",
    "        sum_ =0\n",
    "        for idx, (j1,j2) in enumerate(zip(i,v)):\n",
    "            sum_ += j1*j2\n",
    "        sum_list1.append(sum_,)\n",
    "sum_list1"
   ]
  },
  {
   "cell_type": "code",
   "execution_count": 66,
   "id": "02a9ab0d",
   "metadata": {
    "scrolled": false
   },
   "outputs": [
    {
     "data": {
      "text/plain": [
       "array([[ 7,  4,  5],\n",
       "       [-3,  5,  4],\n",
       "       [ 0,  5,  9],\n",
       "       [-1, -1, -2]])"
      ]
     },
     "execution_count": 66,
     "metadata": {},
     "output_type": "execute_result"
    }
   ],
   "source": [
    "np.dot(A,B)"
   ]
  },
  {
   "cell_type": "code",
   "execution_count": 446,
   "id": "d84c3c7c",
   "metadata": {
    "scrolled": true
   },
   "outputs": [
    {
     "data": {
      "text/plain": [
       "[26, -93, 342]"
      ]
     },
     "execution_count": 446,
     "metadata": {},
     "output_type": "execute_result"
    }
   ],
   "source": [
    "arr1=[[1,2,3],[3,5,6,7,8],[1,2,3,4,5,6,9]]\n",
    "arr2=[[11,12,-3],[-3,-5,6,7,-18],[1,2,13,4,15,6,19]]\n",
    "\n",
    "list_sum=[]\n",
    "for i,j in zip(arr1,arr2):\n",
    "    sum_ =0\n",
    "    for k,v in zip(i,j):\n",
    "        sum_ += k*v\n",
    "    list_sum.append(sum_)\n",
    "list_sum"
   ]
  },
  {
   "cell_type": "code",
   "execution_count": 459,
   "id": "9c0cc460",
   "metadata": {},
   "outputs": [
    {
     "name": "stdout",
     "output_type": "stream",
     "text": [
      "(-1, 2, 5)\n",
      "(-3, 5, 6)\n",
      "(-5, 6, 4)\n"
     ]
    }
   ],
   "source": [
    "for i in zip(*arr3):\n",
    "    print(i)"
   ]
  },
  {
   "cell_type": "code",
   "execution_count": 499,
   "id": "32238272",
   "metadata": {},
   "outputs": [
    {
     "data": {
      "text/plain": [
       "[{'a_1': [-1, 2, 5]}, {'a_2': [-3, 5, 6]}, {'a_3': [-5, 6, 4]}]"
      ]
     },
     "execution_count": 499,
     "metadata": {},
     "output_type": "execute_result"
    }
   ],
   "source": [
    "arr3=[[-1,-3,-5],[2,5,6],[5,6,4]]\n",
    "[{('a_'+str(idx+1)):list(i)} for idx, i in enumerate(zip(*arr3))]"
   ]
  },
  {
   "cell_type": "code",
   "execution_count": 487,
   "id": "e2f7f829",
   "metadata": {},
   "outputs": [],
   "source": [
    "from functools import reduce"
   ]
  },
  {
   "cell_type": "code",
   "execution_count": 506,
   "id": "34ead200",
   "metadata": {},
   "outputs": [
    {
     "data": {
      "text/plain": [
       "{'a_1': [-1, 2, 5], 'a_2': [-3, 5, 6], 'a_3': [-5, 6, 4]}"
      ]
     },
     "execution_count": 506,
     "metadata": {},
     "output_type": "execute_result"
    }
   ],
   "source": [
    "def f(acc, x):\n",
    "    for i in range(len(x)):\n",
    "        acc['a_'+str(i+1)].append(x[i])\n",
    "    return acc\n",
    "reduce(f,arr3,{'a_1':[],'a_2':[],'a_3':[]})"
   ]
  },
  {
   "cell_type": "code",
   "execution_count": 517,
   "id": "172a45cf",
   "metadata": {},
   "outputs": [],
   "source": [
    "# def DotProduct(U,V):\n",
    "#     #U와 V Shape 확인\n",
    "#     if(U.shape[1] != 1 or V.shape[1] != 1): # 벡터가 아니면\n",
    "#         print(\"내적은 열 벡터만 연산할수 있어요\")\n",
    "#         return\n",
    "#     #V의 shape 확인\n",
    "#     if(U.shape[0] != V.shape[0]): #두개의 벡터의 길이가 같지 않으면\n",
    "#         print(\"두 열벡터의 길이가 달라요\")\n",
    "#         return\n",
    "#     n= U.shape[0]\n",
    "#     product=0\n",
    "#     for i in range(n):\n",
    "#         product += U[i,0] * V[i,0]\n",
    "#     return product"
   ]
  },
  {
   "cell_type": "code",
   "execution_count": 508,
   "id": "daaea786",
   "metadata": {
    "scrolled": true
   },
   "outputs": [
    {
     "data": {
      "text/plain": [
       "(4, 1)"
      ]
     },
     "execution_count": 508,
     "metadata": {},
     "output_type": "execute_result"
    }
   ],
   "source": [
    "U.shape"
   ]
  },
  {
   "cell_type": "code",
   "execution_count": 513,
   "id": "cc95a980",
   "metadata": {
    "scrolled": true
   },
   "outputs": [
    {
     "data": {
      "text/plain": [
       "(4, 1)"
      ]
     },
     "execution_count": 513,
     "metadata": {},
     "output_type": "execute_result"
    }
   ],
   "source": [
    "V.shape"
   ]
  },
  {
   "cell_type": "code",
   "execution_count": 542,
   "id": "53ef5de9",
   "metadata": {},
   "outputs": [],
   "source": [
    "from kukje import DotProduct"
   ]
  },
  {
   "cell_type": "code",
   "execution_count": 545,
   "id": "5e3189bf",
   "metadata": {
    "scrolled": true
   },
   "outputs": [
    {
     "data": {
      "text/plain": [
       "8"
      ]
     },
     "execution_count": 545,
     "metadata": {},
     "output_type": "execute_result"
    }
   ],
   "source": [
    "DotProduct(U,V)"
   ]
  },
  {
   "cell_type": "markdown",
   "id": "a6cf6116",
   "metadata": {},
   "source": [
    "## 기하적 표현 \n",
    "두 벡터의 내적은 $\\mathbb{R}^n$ 공간에서 거리와 각도를 측정하는 수단 <br>\n",
    "$\\mathbb{R}^n$ 공간에서 이런 측정수단을 시각화<br>\n",
    "$ U $ 벡터의 <b> 크기(magnitude) </b> 는 $ ||U|| $ 로 표현하고 $ \\left(U\\cdot U \\right)^{\\frac{1}{2}} $ 로 정의한다 <br>\n",
    "$\\mathbb{R}^n$ 공간에서 피타고라스 정리에 해당하는 정의를 보자"
   ]
  },
  {
   "cell_type": "code",
   "execution_count": 493,
   "id": "c38b6bb2",
   "metadata": {},
   "outputs": [
    {
     "data": {
      "text/plain": [
       "17.320508075688775"
      ]
     },
     "execution_count": 493,
     "metadata": {},
     "output_type": "execute_result"
    }
   ],
   "source": [
    "#U벡터의 크기\n",
    "U = np.array([1,2,3,4,6,7,8,11])\n",
    "dotted = np.dot(U,U)\n",
    "np.sqrt(dotted)"
   ]
  },
  {
   "cell_type": "code",
   "execution_count": 495,
   "id": "eba47215",
   "metadata": {
    "scrolled": true
   },
   "outputs": [
    {
     "data": {
      "text/plain": [
       "17.320508075688775"
      ]
     },
     "execution_count": 495,
     "metadata": {},
     "output_type": "execute_result"
    }
   ],
   "source": [
    "sum_ =0\n",
    "for i in range(len(U)):\n",
    "    sum_ += U[i]*U[i]\n",
    "np.sqrt(sum_)"
   ]
  },
  {
   "cell_type": "code",
   "execution_count": 531,
   "id": "0b1ca7c4",
   "metadata": {
    "scrolled": true
   },
   "outputs": [
    {
     "data": {
      "image/png": "[encoded data removed]",
      "text/plain": [
       "<Figure size 640x480 with 1 Axes>"
      ]
     },
     "metadata": {},
     "output_type": "display_data"
    }
   ],
   "source": [
    "%matplotlib inline\n",
    "import numpy as np\n",
    "import matplotlib.pyplot as plt\n",
    "\n",
    "fig, ax = plt.subplots()\n",
    "options = {\"head_width\":0.2,\"head_length\":0.2,\"length_includes_head\":True}\n",
    "\n",
    "ax.arrow(0,0,2,3, fc='g', ec='g', **options)\n",
    "ax.text(1,2,'$U$')\n",
    "\n",
    "ax.set_xlim(0,5)\n",
    "ax.set_xlabel('$x_1$')\n",
    "ax.set_ylim(0,5)\n",
    "ax.set_ylabel('$x_2$')\n",
    "ax.set_aspect('equal')\n",
    "ax.grid(True, ls=':')"
   ]
  },
  {
   "cell_type": "code",
   "execution_count": 553,
   "id": "5bb30033",
   "metadata": {
    "scrolled": true
   },
   "outputs": [
    {
     "data": {
      "image/png": "[encoded data removed]",
      "text/plain": [
       "<Figure size 640x480 with 1 Axes>"
      ]
     },
     "metadata": {},
     "output_type": "display_data"
    }
   ],
   "source": [
    "fig, ax = plt.subplots()\n",
    "options = {\"head_width\":0.2,\"head_length\":0.2,\"length_includes_head\":True}\n",
    "\n",
    "ax.arrow(0,0,2,3, fc='g', ec='g', **options)\n",
    "ax.arrow(0,0,0.555,0.832, fc='b', ec='r', **options)\n",
    "\n",
    "ax.text(1,2,'$U$')\n",
    "ax.text(0.5,0.3,'$W$')\n",
    "\n",
    "ax.set_xlim(0,5)\n",
    "ax.set_xlabel('$x_1$')\n",
    "ax.set_ylim(0,5)\n",
    "ax.set_ylabel('$x_2$')\n",
    "ax.set_aspect('equal')\n",
    "ax.grid(True, ls=':')"
   ]
  },
  {
   "cell_type": "code",
   "execution_count": 533,
   "id": "874c4c85",
   "metadata": {
    "scrolled": false
   },
   "outputs": [
    {
     "data": {
      "text/plain": [
       "True"
      ]
     },
     "execution_count": 533,
     "metadata": {},
     "output_type": "execute_result"
    }
   ],
   "source": [
    "x = np.array([2,3])\n",
    "y = np.dot(x,x)\n",
    "(np.sqrt(y) - np.sqrt(x[0]*x[0] + x[1]*x[1])) < 0.00001 # 두 내적값이 같은지 확인함"
   ]
  },
  {
   "cell_type": "code",
   "execution_count": 551,
   "id": "d5211b76",
   "metadata": {
    "scrolled": false
   },
   "outputs": [],
   "source": [
    "x = np.array([2,3])\n",
    "y = np.dot(x,x)\n",
    "y_mag = np.sqrt(y)"
   ]
  },
  {
   "cell_type": "code",
   "execution_count": 552,
   "id": "d8e02af3",
   "metadata": {},
   "outputs": [
    {
     "data": {
      "text/plain": [
       "array([0.5547002 , 0.83205029])"
      ]
     },
     "execution_count": 552,
     "metadata": {},
     "output_type": "execute_result"
    }
   ],
   "source": [
    "x/y_mag"
   ]
  },
  {
   "cell_type": "code",
   "execution_count": 561,
   "id": "2e223116",
   "metadata": {},
   "outputs": [],
   "source": [
    "q_vec = np.array([4,5]) # 의 단위벡터?"
   ]
  },
  {
   "cell_type": "code",
   "execution_count": 563,
   "id": "a886317b",
   "metadata": {},
   "outputs": [
    {
     "data": {
      "text/plain": [
       "6.4031242374328485"
      ]
     },
     "execution_count": 563,
     "metadata": {},
     "output_type": "execute_result"
    }
   ],
   "source": [
    "q_mag = np.sqrt(np.dot(q_vec,q_vec))  # 벡터크기\n",
    "q_mag"
   ]
  },
  {
   "cell_type": "code",
   "execution_count": 564,
   "id": "fe3f8681",
   "metadata": {
    "scrolled": true
   },
   "outputs": [
    {
     "data": {
      "text/plain": [
       "array([0.62469505, 0.78086881])"
      ]
     },
     "execution_count": 564,
     "metadata": {},
     "output_type": "execute_result"
    }
   ],
   "source": [
    "q_unit = q_vec/q_mag\n",
    "q_unit # 단위벡터"
   ]
  },
  {
   "cell_type": "code",
   "execution_count": 567,
   "id": "d49caa12",
   "metadata": {},
   "outputs": [
    {
     "data": {
      "text/plain": [
       "1.0"
      ]
     },
     "execution_count": 567,
     "metadata": {},
     "output_type": "execute_result"
    }
   ],
   "source": [
    "i,j = q_unit\n",
    "i*i +j*j # 확인"
   ]
  },
  {
   "cell_type": "code",
   "execution_count": 566,
   "id": "28af9c2c",
   "metadata": {
    "scrolled": true
   },
   "outputs": [
    {
     "data": {
      "text/plain": [
       "1.0"
      ]
     },
     "execution_count": 566,
     "metadata": {},
     "output_type": "execute_result"
    }
   ],
   "source": [
    "q_mag/q_mag #확인방법"
   ]
  },
  {
   "cell_type": "code",
   "execution_count": 568,
   "id": "b0326e19",
   "metadata": {},
   "outputs": [],
   "source": [
    "vec1= np.array([3,4,5,2,4])"
   ]
  },
  {
   "cell_type": "code",
   "execution_count": 570,
   "id": "eb064b88",
   "metadata": {},
   "outputs": [
    {
     "data": {
      "text/plain": [
       "8.366600265340756"
      ]
     },
     "execution_count": 570,
     "metadata": {},
     "output_type": "execute_result"
    }
   ],
   "source": [
    "v1_mag = np.sqrt(np.dot(vec1,vec1))\n",
    "v1_mag"
   ]
  },
  {
   "cell_type": "code",
   "execution_count": 571,
   "id": "06031390",
   "metadata": {
    "scrolled": true
   },
   "outputs": [
    {
     "data": {
      "text/plain": [
       "array([0.35856858, 0.47809144, 0.5976143 , 0.23904572, 0.47809144])"
      ]
     },
     "execution_count": 571,
     "metadata": {},
     "output_type": "execute_result"
    }
   ],
   "source": [
    "v_unit = vec1/v1_mag\n",
    "v_unit"
   ]
  },
  {
   "cell_type": "code",
   "execution_count": 574,
   "id": "b53d785f",
   "metadata": {
    "scrolled": true
   },
   "outputs": [
    {
     "data": {
      "text/plain": [
       "0.9999999999999999"
      ]
     },
     "execution_count": 574,
     "metadata": {},
     "output_type": "execute_result"
    }
   ],
   "source": [
    "np.sqrt(np.dot(v_unit,v_unit)) # 단위벡터의 크기가 1인지 확인하는 과정"
   ]
  },
  {
   "cell_type": "code",
   "execution_count": 579,
   "id": "4e49b795",
   "metadata": {
    "scrolled": true
   },
   "outputs": [
    {
     "data": {
      "text/plain": [
       "array([[ 3,  4,  5,  2,  4],\n",
       "       [ 1,  2,  3, -1,  5],\n",
       "       [ 1,  0, -1,  2,  4],\n",
       "       [ 3, -1,  2,  3,  2],\n",
       "       [ 1,  5, -1,  7, -3],\n",
       "       [ 1,  6,  2, -1, -1],\n",
       "       [ 1,  2,  0,  0, -1],\n",
       "       [ 1, -1,  1,  3,  5]])"
      ]
     },
     "execution_count": 579,
     "metadata": {},
     "output_type": "execute_result"
    }
   ],
   "source": [
    "vec_=np.array([[3,4,5,2,4],\n",
    "[1,2,3,-1,5],\n",
    "[1,0,-1,2,4],\n",
    "[3,-1,2,3,2],\n",
    "[1,5,-1,7,-3],\n",
    "[1,6,2,-1,-1],\n",
    "[1,2,0,0,-1],\n",
    "[1,-1,1,3,5]])\n",
    "vec_"
   ]
  },
  {
   "cell_type": "code",
   "execution_count": 613,
   "id": "64d212a3",
   "metadata": {},
   "outputs": [],
   "source": [
    "def vec_f(vec_):\n",
    "    v_list=[]\n",
    "    for i in vec_: # i는 벡터\n",
    "        v_mag = np.sqrt(np.dot(i,i)) # v_mag 벡터크기\n",
    "        v_list.append(i/v_mag) # i 나누기 벡터크기 = 단위벡터를 리스트에 추가\n",
    "    return v_list"
   ]
  },
  {
   "cell_type": "code",
   "execution_count": 605,
   "id": "7c3a1c4d",
   "metadata": {},
   "outputs": [
    {
     "data": {
      "text/plain": [
       "[array([0.35856858, 0.47809144, 0.5976143 , 0.23904572, 0.47809144]),\n",
       " array([ 0.15811388,  0.31622777,  0.47434165, -0.15811388,  0.79056942]),\n",
       " array([ 0.21320072,  0.        , -0.21320072,  0.42640143,  0.85280287]),\n",
       " array([ 0.57735027, -0.19245009,  0.38490018,  0.57735027,  0.38490018]),\n",
       " array([ 0.10846523,  0.54232614, -0.10846523,  0.7592566 , -0.32539569]),\n",
       " array([ 0.15249857,  0.91499142,  0.30499714, -0.15249857, -0.15249857]),\n",
       " array([ 0.40824829,  0.81649658,  0.        ,  0.        , -0.40824829]),\n",
       " array([ 0.16439899, -0.16439899,  0.16439899,  0.49319696,  0.82199494])]"
      ]
     },
     "execution_count": 605,
     "metadata": {},
     "output_type": "execute_result"
    }
   ],
   "source": [
    "vec_f(vec_)"
   ]
  },
  {
   "cell_type": "code",
   "execution_count": 614,
   "id": "d69f6b3f",
   "metadata": {},
   "outputs": [],
   "source": [
    "def vec_f_test(vec_1):\n",
    "    for i in vec_1: # i는 단위벡터\n",
    "        test1 =np.sqrt(np.dot(i,i)) # 단위벡터*단위벡터를 루트하면 단위벡터크기 = 1\n",
    "    return test1"
   ]
  },
  {
   "cell_type": "code",
   "execution_count": 616,
   "id": "2c422bb7",
   "metadata": {
    "scrolled": true
   },
   "outputs": [
    {
     "data": {
      "text/plain": [
       "1.0"
      ]
     },
     "execution_count": 616,
     "metadata": {},
     "output_type": "execute_result"
    }
   ],
   "source": [
    "vec_f_test(vec_f(vec_))"
   ]
  },
  {
   "cell_type": "code",
   "execution_count": 617,
   "id": "96eaac30",
   "metadata": {},
   "outputs": [],
   "source": [
    "def unit_vec_calc(x):\n",
    "    return x/np.sqrt(np.dot(x,x))"
   ]
  },
  {
   "cell_type": "code",
   "execution_count": 619,
   "id": "16e52ffb",
   "metadata": {},
   "outputs": [],
   "source": [
    "def check_unit_magnitude(x):\n",
    "    sum_ =0\n",
    "    for i in x:\n",
    "        sum_ +=i*i\n",
    "    return abs(sum_ -1) <0.00001 #abs 절대값"
   ]
  },
  {
   "cell_type": "code",
   "execution_count": 622,
   "id": "08ae5626",
   "metadata": {},
   "outputs": [],
   "source": [
    "result = [unit_vec_calc(i) for i in vec_]"
   ]
  },
  {
   "cell_type": "code",
   "execution_count": 641,
   "id": "8713b2ec",
   "metadata": {},
   "outputs": [
    {
     "data": {
      "text/plain": [
       "0"
      ]
     },
     "execution_count": 641,
     "metadata": {},
     "output_type": "execute_result"
    }
   ],
   "source": [
    "sum([not check_unit_magnitude(i) for i in result])"
   ]
  },
  {
   "cell_type": "code",
   "execution_count": 642,
   "id": "6a8ee626",
   "metadata": {},
   "outputs": [
    {
     "data": {
      "text/plain": [
       "[1, 1, 1, 1, 1, 1, 1, 1]"
      ]
     },
     "execution_count": 642,
     "metadata": {},
     "output_type": "execute_result"
    }
   ],
   "source": [
    "[1 for i in result if check_unit_magnitude(i)] # 위에 코드를 i가만약 True면 1을 출력하게 함"
   ]
  },
  {
   "cell_type": "code",
   "execution_count": 539,
   "id": "9c84a30d",
   "metadata": {
    "scrolled": false
   },
   "outputs": [],
   "source": [
    "from laguide import Magnitude"
   ]
  },
  {
   "cell_type": "code",
   "execution_count": 541,
   "id": "e3f36e0d",
   "metadata": {
    "scrolled": true
   },
   "outputs": [
    {
     "data": {
      "text/plain": [
       "3.605551275463989"
      ]
     },
     "execution_count": 541,
     "metadata": {},
     "output_type": "execute_result"
    }
   ],
   "source": [
    "U = np.array([[2],[3]])\n",
    "np.sqrt(DotProduct(U,U))"
   ]
  },
  {
   "cell_type": "code",
   "execution_count": 540,
   "id": "97653e6d",
   "metadata": {
    "scrolled": false
   },
   "outputs": [
    {
     "data": {
      "text/plain": [
       "3.605551275463989"
      ]
     },
     "execution_count": 540,
     "metadata": {},
     "output_type": "execute_result"
    }
   ],
   "source": [
    "U = np.array([[2],[3]])\n",
    "Magnitude(U)"
   ]
  },
  {
   "cell_type": "code",
   "execution_count": 546,
   "id": "b6003d63",
   "metadata": {},
   "outputs": [],
   "source": [
    "from love import Love"
   ]
  },
  {
   "cell_type": "code",
   "execution_count": 547,
   "id": "71d7fbf3",
   "metadata": {
    "scrolled": false
   },
   "outputs": [
    {
     "data": {
      "text/plain": [
       "'사랑해'"
      ]
     },
     "execution_count": 547,
     "metadata": {},
     "output_type": "execute_result"
    }
   ],
   "source": [
    "Love('너를')"
   ]
  },
  {
   "cell_type": "markdown",
   "id": "5993d486",
   "metadata": {},
   "source": [
    "$$\n",
    "    \\begin{equation}\n",
    "        \\cos{\\theta}= \\frac{U\\cdot V}{||U||\\cdot||V||}\n",
    "    \\end{equation}\n",
    "    \\Rightarrow  $$\n",
    "$$    \n",
    "     \\begin{equation}\n",
    "        \\overrightarrow{U} \\cdot \\overrightarrow{V}= ||\\overrightarrow{U}||\n",
    "\\cdot||\\overrightarrow{V}||\\cos{\\theta}\n",
    "    \\end{equation}\n",
    "$$"
   ]
  },
  {
   "cell_type": "code",
   "execution_count": 667,
   "id": "373dff1c",
   "metadata": {},
   "outputs": [],
   "source": [
    "def deg_to_rad(x):\n",
    "    #redian으로 변환, 각도 => 라디안\n",
    "    return (x*np.pi)/180"
   ]
  },
  {
   "cell_type": "code",
   "execution_count": 676,
   "id": "faa97785",
   "metadata": {},
   "outputs": [
    {
     "data": {
      "text/plain": [
       "0.7853981633974483"
      ]
     },
     "execution_count": 676,
     "metadata": {},
     "output_type": "execute_result"
    }
   ],
   "source": [
    "theta45 = deg_to_rad(45)\n",
    "theta45"
   ]
  },
  {
   "cell_type": "code",
   "execution_count": 677,
   "id": "da22e301",
   "metadata": {},
   "outputs": [
    {
     "data": {
      "text/plain": [
       "0.7071067811865476"
      ]
     },
     "execution_count": 677,
     "metadata": {},
     "output_type": "execute_result"
    }
   ],
   "source": [
    "np.cos(theta45) # 45도일때 cos 값"
   ]
  },
  {
   "cell_type": "code",
   "execution_count": 661,
   "id": "d5320a76",
   "metadata": {},
   "outputs": [
    {
     "data": {
      "text/plain": [
       "0.7071067811865476"
      ]
     },
     "execution_count": 661,
     "metadata": {},
     "output_type": "execute_result"
    }
   ],
   "source": [
    "v = np.cos(np.pi/4) # 파이(180도) 를 4로 나눈것은 45도 일때의 cos 값\n",
    "v"
   ]
  },
  {
   "cell_type": "markdown",
   "id": "56fb47fd",
   "metadata": {},
   "source": [
    "$$ cos{\\theta} = x \\Rightarrow cos^{-1}(x)=\\theta $$"
   ]
  },
  {
   "cell_type": "code",
   "execution_count": 673,
   "id": "08ae9429",
   "metadata": {
    "scrolled": true
   },
   "outputs": [
    {
     "data": {
      "text/plain": [
       "array([0.        , 3.14159265])"
      ]
     },
     "execution_count": 673,
     "metadata": {},
     "output_type": "execute_result"
    }
   ],
   "source": [
    "np.arccos([1,-1]) # 는 cos 값이 1이면 각도는 0도, -1이면 파이(3.14) => 180도"
   ]
  },
  {
   "cell_type": "code",
   "execution_count": 672,
   "id": "ac36b9e3",
   "metadata": {
    "scrolled": true
   },
   "outputs": [
    {
     "data": {
      "text/plain": [
       "[3.141592653589793,\n",
       " 2.6905658417935308,\n",
       " 2.498091544796509,\n",
       " 2.34619382340565,\n",
       " 2.2142974355881813,\n",
       " 2.0943951023931957,\n",
       " 1.9823131728623848,\n",
       " 1.8754889808102944,\n",
       " 1.7721542475852277,\n",
       " 1.6709637479564565,\n",
       " 1.5707963267948968,\n",
       " 1.4706289056333373,\n",
       " 1.3694384060045661,\n",
       " 1.2661036727794994,\n",
       " 1.159279480727409,\n",
       " 1.0471975511965983,\n",
       " 0.9272952180016127,\n",
       " 0.7953988301841439,\n",
       " 0.643501108793285,\n",
       " 0.45102681179626364]"
      ]
     },
     "execution_count": 672,
     "metadata": {},
     "output_type": "execute_result"
    }
   ],
   "source": [
    "[np.arccos(i) for i in np.arange(-1,1,0.1)] # 3.141592(180도)"
   ]
  },
  {
   "cell_type": "code",
   "execution_count": 692,
   "id": "9c09f71f",
   "metadata": {
    "scrolled": true
   },
   "outputs": [
    {
     "data": {
      "text/plain": [
       "array([0.20483276, 0.43590578, 1.        , 0.40301332, 0.75324829])"
      ]
     },
     "execution_count": 692,
     "metadata": {},
     "output_type": "execute_result"
    }
   ],
   "source": [
    "list_=[0.8,0.2,-1,0.3,-5/7]\n",
    "arc_list=np.arccos(list_)\n",
    "arc_list/np.pi"
   ]
  },
  {
   "cell_type": "code",
   "execution_count": 653,
   "id": "354df692",
   "metadata": {},
   "outputs": [
    {
     "name": "stdout",
     "output_type": "stream",
     "text": [
      "1.0\n",
      "1.0\n",
      "1.0\n",
      "0.9999999999999998\n",
      "1.0000000000000002\n",
      "1.0000000000000002\n",
      "1.0000000000000002\n",
      "1.0\n"
     ]
    }
   ],
   "source": [
    "for i,j in zip(vec_, result):\n",
    "    dot_ = np.dot(i,j) # U 벡터(원래 벡터)와 V 벡터(단위벡터)의 내적\n",
    "    u_mag = np.sqrt(np.dot(i,i)) # U 벡터의 크기\n",
    "    v_mag = np.sqrt(np.dot(j,j)) # V 벡터의 크기\n",
    "    res = dot_/(u_mag*v_mag) # 같은 방향이면 각도가 0도이고 cos 0도는 1이다\n",
    "    print(res)"
   ]
  },
  {
   "cell_type": "code",
   "execution_count": 647,
   "id": "5ef04a92",
   "metadata": {},
   "outputs": [
    {
     "data": {
      "text/plain": [
       "1.0"
      ]
     },
     "execution_count": 647,
     "metadata": {},
     "output_type": "execute_result"
    }
   ],
   "source": [
    "a = np.array([1,2])\n",
    "np.cos(0)"
   ]
  }
 ],
 "metadata": {
  "kernelspec": {
   "display_name": "Python 3 (ipykernel)",
   "language": "python",
   "name": "python3"
  },
  "language_info": {
   "codemirror_mode": {
    "name": "ipython",
    "version": 3
   },
   "file_extension": ".py",
   "mimetype": "text/x-python",
   "name": "python",
   "nbconvert_exporter": "python",
   "pygments_lexer": "ipython3",
   "version": "3.11.4"
  }
 },
 "nbformat": 4,
 "nbformat_minor": 5
}
