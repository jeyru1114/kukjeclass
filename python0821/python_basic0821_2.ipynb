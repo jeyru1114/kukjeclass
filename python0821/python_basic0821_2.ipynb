{
 "cells": [
  {
   "cell_type": "code",
   "execution_count": 1,
   "id": "1322c722",
   "metadata": {},
   "outputs": [],
   "source": [
    "import requests"
   ]
  },
  {
   "cell_type": "code",
   "execution_count": 2,
   "id": "ada0f46c",
   "metadata": {},
   "outputs": [],
   "source": [
    "from bs4 import BeautifulSoup"
   ]
  },
  {
   "cell_type": "code",
   "execution_count": 3,
   "id": "a1647827",
   "metadata": {},
   "outputs": [],
   "source": [
    "import re"
   ]
  },
  {
   "cell_type": "code",
   "execution_count": 4,
   "id": "12fd6697",
   "metadata": {},
   "outputs": [],
   "source": [
    "from datetime import datetime\n",
    "import os"
   ]
  },
  {
   "cell_type": "code",
   "execution_count": 5,
   "id": "4b7c149a",
   "metadata": {},
   "outputs": [
    {
     "data": {
      "text/plain": [
       "'2023-08-21 14:20:17.392463'"
      ]
     },
     "execution_count": 5,
     "metadata": {},
     "output_type": "execute_result"
    }
   ],
   "source": [
    "# 현재 시간 저장\n",
    "date = str(datetime.now())\n",
    "date"
   ]
  },
  {
   "cell_type": "code",
   "execution_count": 8,
   "id": "34f6e3c2",
   "metadata": {
    "scrolled": false
   },
   "outputs": [
    {
     "data": {
      "text/plain": [
       "[1, 2]"
      ]
     },
     "execution_count": 8,
     "metadata": {},
     "output_type": "execute_result"
    }
   ],
   "source": [
    "a = [1,2,3]\n",
    "a[:2]"
   ]
  },
  {
   "cell_type": "code",
   "execution_count": 24,
   "id": "a3a2ac3e",
   "metadata": {
    "scrolled": true
   },
   "outputs": [
    {
     "data": {
      "text/plain": [
       "2"
      ]
     },
     "execution_count": 24,
     "metadata": {},
     "output_type": "execute_result"
    }
   ],
   "source": [
    "'ab:dcde:f'.find(\":\") # find는 왼쪽에서 찾을때"
   ]
  },
  {
   "cell_type": "code",
   "execution_count": 27,
   "id": "9881092b",
   "metadata": {},
   "outputs": [
    {
     "data": {
      "text/plain": [
       "'ab:dcde'"
      ]
     },
     "execution_count": 27,
     "metadata": {},
     "output_type": "execute_result"
    }
   ],
   "source": [
    "d = 'ab:dcde:f'\n",
    "v = d.rfind(\":\")\n",
    "d[:v] # 슬라이스"
   ]
  },
  {
   "cell_type": "code",
   "execution_count": 28,
   "id": "a1857213",
   "metadata": {
    "scrolled": true
   },
   "outputs": [
    {
     "data": {
      "text/plain": [
       "':dcde:f'"
      ]
     },
     "execution_count": 28,
     "metadata": {},
     "output_type": "execute_result"
    }
   ],
   "source": [
    "d[2:]"
   ]
  },
  {
   "cell_type": "code",
   "execution_count": 29,
   "id": "27893983",
   "metadata": {},
   "outputs": [],
   "source": [
    "arr =[[1,2,3,4,5],[6,7,8,9,10],[11,12,13,14,15]]"
   ]
  },
  {
   "cell_type": "code",
   "execution_count": 36,
   "id": "c2d7c184",
   "metadata": {},
   "outputs": [
    {
     "data": {
      "text/plain": [
       "[4, 5]"
      ]
     },
     "execution_count": 36,
     "metadata": {},
     "output_type": "execute_result"
    }
   ],
   "source": [
    "x = arr[:2] # [ ) => [는 포함하는 폐구간 )는 포함하지않는 개구간\n",
    "x[:1][0][3:]"
   ]
  },
  {
   "cell_type": "code",
   "execution_count": 22,
   "id": "46d88c14",
   "metadata": {},
   "outputs": [
    {
     "data": {
      "text/plain": [
       "'2023-08-21-14시20'"
      ]
     },
     "execution_count": 22,
     "metadata": {},
     "output_type": "execute_result"
    }
   ],
   "source": [
    "date[:date.rfind(\":\")]\n"
   ]
  },
  {
   "cell_type": "code",
   "execution_count": 6,
   "id": "93767b53",
   "metadata": {
    "scrolled": false
   },
   "outputs": [
    {
     "data": {
      "text/plain": [
       "'2023-08-21-14:20'"
      ]
     },
     "execution_count": 6,
     "metadata": {},
     "output_type": "execute_result"
    }
   ],
   "source": [
    "date = date[:date.rfind(\":\")].replace(' ',\"-\") # rfind는 오른쪽부터 찾는다replace는 대체하다\n",
    "date"
   ]
  },
  {
   "cell_type": "code",
   "execution_count": 7,
   "id": "ea70561b",
   "metadata": {
    "scrolled": true
   },
   "outputs": [
    {
     "data": {
      "text/plain": [
       "'2023-08-21-14시20분'"
      ]
     },
     "execution_count": 7,
     "metadata": {},
     "output_type": "execute_result"
    }
   ],
   "source": [
    "date=date.replace(\":\",\"시\")+\"분\"\n",
    "date"
   ]
  },
  {
   "cell_type": "code",
   "execution_count": 38,
   "id": "bb2502fe",
   "metadata": {},
   "outputs": [],
   "source": [
    "X =[[[1,2,3,4,5],[6,7,8,9,10],[1,2,3,4,5],[6,7,8,9,10]],\n",
    "     [[11,12,13,14,15],[16,17,18,19,110],[111,112,113,114,115],[116,117,118,119,210]],\n",
    "     [[122,222,322,422,522],[622,722,822,922,1022],[133,233,333,433,533],[644,744,844,944,1044]]]"
   ]
  },
  {
   "cell_type": "code",
   "execution_count": 68,
   "id": "1e3b564e",
   "metadata": {},
   "outputs": [
    {
     "data": {
      "text/plain": [
       "[118, 119, 210]"
      ]
     },
     "execution_count": 68,
     "metadata": {},
     "output_type": "execute_result"
    }
   ],
   "source": [
    "# 문제 1) 슬라이싱을 하여 [118,119,210] 추출하세요\n",
    "\n",
    "X[1][3][2:]"
   ]
  },
  {
   "cell_type": "code",
   "execution_count": 70,
   "id": "083c42d1",
   "metadata": {},
   "outputs": [],
   "source": [
    "import numpy as np"
   ]
  },
  {
   "cell_type": "code",
   "execution_count": 74,
   "id": "ff6220b0",
   "metadata": {},
   "outputs": [
    {
     "data": {
      "text/plain": [
       "(3, 4, 5)"
      ]
     },
     "execution_count": 74,
     "metadata": {},
     "output_type": "execute_result"
    }
   ],
   "source": [
    "np.array(X).shape #shape 는 행"
   ]
  },
  {
   "cell_type": "code",
   "execution_count": 75,
   "id": "977e9bab",
   "metadata": {
    "scrolled": true
   },
   "outputs": [
    {
     "ename": "SyntaxError",
     "evalue": "':' expected after dictionary key (3277166115.py, line 2)",
     "output_type": "error",
     "traceback": [
      "\u001b[1;36m  Cell \u001b[1;32mIn[75], line 2\u001b[1;36m\u001b[0m\n\u001b[1;33m    \"a_6\" :(6+16+622) , \"a_7\":(7+17+722) , ..... \"a_20:(10+210+1044)\"}\u001b[0m\n\u001b[1;37m                                             ^\u001b[0m\n\u001b[1;31mSyntaxError\u001b[0m\u001b[1;31m:\u001b[0m ':' expected after dictionary key\n"
     ]
    }
   ],
   "source": [
    "{\"a_1\":(1+11+122) ,\"a_2\": (2+12+222) ,\"a_3\": (3+13+322), \"a_4\":(4+41+422), \"a_5\":(5+15+522),\n",
    "                    \"a_6\" :(6+16+622) , \"a_7\":(7+17+722) , ..... \"a_20:(10+210+1044)\"}"
   ]
  },
  {
   "cell_type": "code",
   "execution_count": 160,
   "id": "05f6ff69",
   "metadata": {},
   "outputs": [
    {
     "data": {
      "text/plain": [
       "{'a_1': 134,\n",
       " 'a_2': 236,\n",
       " 'a_3': 338,\n",
       " 'a_4': 440,\n",
       " 'a_5': 1186,\n",
       " 'a_6': 746,\n",
       " 'a_7': 848,\n",
       " 'a_8': 950,\n",
       " 'a_9': 1387,\n",
       " 'a_10': 347,\n",
       " 'a_11': 449,\n",
       " 'a_12': 551,\n",
       " 'a_13': 1419,\n",
       " 'a_14': 868,\n",
       " 'a_15': 970,\n",
       " 'a_16': 1072,\n",
       " 'a_17': 1264}"
      ]
     },
     "execution_count": 160,
     "metadata": {},
     "output_type": "execute_result"
    }
   ],
   "source": [
    "dict={}\n",
    "for i in X:\n",
    "    for idx1, j in enumerate(i):\n",
    "        for idx2, h in enumerate(j):\n",
    "            if 'a_'+str(idx2+idx1*4+1) in dict.keys():\n",
    "                dict['a_'+str(idx2+idx1*4+1)] = dict['a_'+str(idx2+idx1*4+1)]+ h\n",
    "            else :\n",
    "                dict['a_'+str(idx2+idx1*4+1)] = 0\n",
    "                dict['a_'+str(idx2+idx1*4+1)] = dict['a_'+str(idx2+idx1*4+1)]+ h\n",
    "dict"
   ]
  },
  {
   "cell_type": "code",
   "execution_count": 162,
   "id": "d9ce6bfb",
   "metadata": {
    "scrolled": false
   },
   "outputs": [
    {
     "name": "stdout",
     "output_type": "stream",
     "text": [
      "0 0 0\n",
      "a_1\n",
      "0 0 1\n",
      "a_2\n",
      "0 0 2\n",
      "a_3\n",
      "0 0 3\n",
      "a_4\n",
      "0 0 4\n",
      "a_5\n",
      "re: 5\n",
      "0 1 0\n",
      "a_1\n",
      "0 1 1\n",
      "a_2\n",
      "0 1 2\n",
      "a_3\n",
      "0 1 3\n",
      "a_4\n",
      "0 1 4\n",
      "a_5\n",
      "re: 10\n",
      "0 2 0\n",
      "a_1\n",
      "0 2 1\n",
      "a_2\n",
      "0 2 2\n",
      "a_3\n",
      "0 2 3\n",
      "a_4\n",
      "0 2 4\n",
      "a_5\n",
      "re: 5\n",
      "0 3 0\n",
      "a_1\n",
      "0 3 1\n",
      "a_2\n",
      "0 3 2\n",
      "a_3\n",
      "0 3 3\n",
      "a_4\n",
      "0 3 4\n",
      "a_5\n",
      "re: 10\n",
      "1 0 0\n",
      "a_1\n",
      "1 0 1\n",
      "a_2\n",
      "1 0 2\n",
      "a_3\n",
      "1 0 3\n",
      "a_4\n",
      "1 0 4\n",
      "a_5\n",
      "re: 15\n",
      "1 1 0\n",
      "a_1\n",
      "1 1 1\n",
      "a_2\n",
      "1 1 2\n",
      "a_3\n",
      "1 1 3\n",
      "a_4\n",
      "1 1 4\n",
      "a_5\n",
      "re: 110\n",
      "1 2 0\n",
      "a_1\n",
      "1 2 1\n",
      "a_2\n",
      "1 2 2\n",
      "a_3\n",
      "1 2 3\n",
      "a_4\n",
      "1 2 4\n",
      "a_5\n",
      "re: 115\n",
      "1 3 0\n",
      "a_1\n",
      "1 3 1\n",
      "a_2\n",
      "1 3 2\n",
      "a_3\n",
      "1 3 3\n",
      "a_4\n",
      "1 3 4\n",
      "a_5\n",
      "re: 210\n",
      "2 0 0\n",
      "a_1\n",
      "2 0 1\n",
      "a_2\n",
      "2 0 2\n",
      "a_3\n",
      "2 0 3\n",
      "a_4\n",
      "2 0 4\n",
      "a_5\n",
      "re: 522\n",
      "2 1 0\n",
      "a_1\n",
      "2 1 1\n",
      "a_2\n",
      "2 1 2\n",
      "a_3\n",
      "2 1 3\n",
      "a_4\n",
      "2 1 4\n",
      "a_5\n",
      "re: 1022\n",
      "2 2 0\n",
      "a_1\n",
      "2 2 1\n",
      "a_2\n",
      "2 2 2\n",
      "a_3\n",
      "2 2 3\n",
      "a_4\n",
      "2 2 4\n",
      "a_5\n",
      "re: 533\n",
      "2 3 0\n",
      "a_1\n",
      "2 3 1\n",
      "a_2\n",
      "2 3 2\n",
      "a_3\n",
      "2 3 3\n",
      "a_4\n",
      "2 3 4\n",
      "a_5\n",
      "re: 1044\n"
     ]
    },
    {
     "data": {
      "text/plain": [
       "{'a_1': 0, 'a_2': 0, 'a_3': 0, 'a_4': 0, 'a_5': 1044}"
      ]
     },
     "execution_count": 162,
     "metadata": {},
     "output_type": "execute_result"
    }
   ],
   "source": [
    "obj2={}\n",
    "for idx_X, i in enumerate(X): #3회 반복\n",
    "    for idx_i, j in enumerate(i): #4회 반복\n",
    "        for idx_j, k in enumerate(j): #5회 반복\n",
    "            print(idx_X, idx_i, idx_j)\n",
    "            f=\"a_\"+str(idx_j+1)\n",
    "            print(f)\n",
    "            if f not in obj2.keys():\n",
    "                obj2[f]=0\n",
    "        re= X[idx_X][idx_i][idx_j]\n",
    "        print('re:',re)\n",
    "        obj2[f] = re\n",
    "obj2"
   ]
  },
  {
   "cell_type": "code",
   "execution_count": 163,
   "id": "904d314a",
   "metadata": {},
   "outputs": [],
   "source": [
    "import sympy"
   ]
  },
  {
   "cell_type": "code",
   "execution_count": 164,
   "id": "cb59904d",
   "metadata": {},
   "outputs": [
    {
     "data": {
      "text/latex": [
       "$\\displaystyle \\sqrt{3}$"
      ],
      "text/plain": [
       "sqrt(3)"
      ]
     },
     "execution_count": 164,
     "metadata": {},
     "output_type": "execute_result"
    }
   ],
   "source": [
    "sympy.sqrt(3)"
   ]
  },
  {
   "cell_type": "code",
   "execution_count": 165,
   "id": "be14c9cb",
   "metadata": {},
   "outputs": [],
   "source": [
    "from sympy import symbols"
   ]
  },
  {
   "cell_type": "code",
   "execution_count": 166,
   "id": "c5e3de37",
   "metadata": {},
   "outputs": [
    {
     "data": {
      "text/latex": [
       "$\\displaystyle x + 2 y$"
      ],
      "text/plain": [
       "x + 2*y"
      ]
     },
     "execution_count": 166,
     "metadata": {},
     "output_type": "execute_result"
    }
   ],
   "source": [
    "x, y = symbols('x y')\n",
    "expr = x + 2*y\n",
    "expr"
   ]
  },
  {
   "cell_type": "code",
   "execution_count": 173,
   "id": "78219661",
   "metadata": {},
   "outputs": [
    {
     "data": {
      "text/latex": [
       "$\\displaystyle 3 x^{2} + 6 x y^{2} + 9 z^{2}$"
      ],
      "text/plain": [
       "3*x**2 + 6*x*y**2 + 9*z**2"
      ]
     },
     "execution_count": 173,
     "metadata": {},
     "output_type": "execute_result"
    }
   ],
   "source": [
    "# 3x^2 + 6xy^2 + 9z^2\n",
    "x, y ,z= symbols('x y z')\n",
    "expr = 3*x**2 + 6*x*y**2 + 9*z**2\n",
    "expr"
   ]
  },
  {
   "cell_type": "code",
   "execution_count": 175,
   "id": "5624b301",
   "metadata": {},
   "outputs": [],
   "source": [
    "from sympy import * # *은 전체"
   ]
  },
  {
   "cell_type": "code",
   "execution_count": 176,
   "id": "a8b1e7bf",
   "metadata": {},
   "outputs": [],
   "source": [
    "x, t, z, nu = symbols('x t z nu')"
   ]
  },
  {
   "cell_type": "code",
   "execution_count": 177,
   "id": "e426530a",
   "metadata": {},
   "outputs": [],
   "source": [
    "init_printing(use_unicode=True)"
   ]
  },
  {
   "cell_type": "code",
   "execution_count": 178,
   "id": "280c1b6d",
   "metadata": {},
   "outputs": [
    {
     "data": {
      "image/png": "[encoded data removed]",
      "text/latex": [
       "$\\displaystyle e^{x} \\sin{\\left(x \\right)} + e^{x} \\cos{\\left(x \\right)}$"
      ],
      "text/plain": [
       " x           x       \n",
       "ℯ ⋅sin(x) + ℯ ⋅cos(x)"
      ]
     },
     "execution_count": 178,
     "metadata": {},
     "output_type": "execute_result"
    }
   ],
   "source": [
    "diff(sin(x)*exp(x) , x) # exp ="
   ]
  },
  {
   "cell_type": "code",
   "execution_count": 179,
   "id": "d44d6be8",
   "metadata": {},
   "outputs": [
    {
     "data": {
      "image/png": "[encoded data removed]",
      "text/latex": [
       "$\\displaystyle x$"
      ],
      "text/plain": [
       "x"
      ]
     },
     "execution_count": 179,
     "metadata": {},
     "output_type": "execute_result"
    }
   ],
   "source": [
    "x"
   ]
  },
  {
   "cell_type": "markdown",
   "id": "468e89e6",
   "metadata": {},
   "source": [
    "## Product Rule"
   ]
  },
  {
   "cell_type": "markdown",
   "id": "4d3c9987",
   "metadata": {},
   "source": [
    "$$ (f(x)g(x))^{'} = f^{'}(x)g(x) + f(x)g^{'}(x) $$"
   ]
  },
  {
   "cell_type": "markdown",
   "id": "f77ebfc5",
   "metadata": {},
   "source": [
    "$$ \\frac{df}{dx} = \\frac{f(sinx \\cdot e^{x})}{dx} $$"
   ]
  },
  {
   "cell_type": "code",
   "execution_count": 189,
   "id": "815a35de",
   "metadata": {},
   "outputs": [
    {
     "data": {
      "text/plain": [
       "False"
      ]
     },
     "execution_count": 189,
     "metadata": {},
     "output_type": "execute_result"
    }
   ],
   "source": [
    "np.exp(3) == exp(3) # 같은것"
   ]
  },
  {
   "cell_type": "markdown",
   "id": "97a89117",
   "metadata": {},
   "source": [
    "$$ (x^{n})^{'} = n x^{n-1} $$\n",
    "$$ (e^{x})^{'} = e^{x} $$\n",
    "$$ sin^{'}(x) = cos(x) $$\n",
    "$$ cos^{'}(x) = = -sin(x) $$\n",
    "$$ logx = \\frac{1}{x} $$\n",
    "\n",
    "$$ 적분 $$\n",
    "$$ \\int x^n dx = \\frac{x^{n+1}}{n+1}+C $$\n",
    "$$ \\int e^{x} dx = e^x +C $$\n",
    "$$ \\int sin(x) dx = cos(x) +C $$\n",
    "$$ \\int cos(x) dx = sin(x) +C $$"
   ]
  },
  {
   "cell_type": "markdown",
   "id": "26393e5f",
   "metadata": {},
   "source": [
    "$$ \\int(e^{x}sin(x) + e^{x}cos(x)) dx $$"
   ]
  },
  {
   "cell_type": "code",
   "execution_count": 185,
   "id": "2e1cc340",
   "metadata": {
    "scrolled": true
   },
   "outputs": [
    {
     "data": {
      "image/png": "[encoded data removed]",
      "text/latex": [
       "$\\displaystyle e^{x} \\sin{\\left(x \\right)}$"
      ],
      "text/plain": [
       " x       \n",
       "ℯ ⋅sin(x)"
      ]
     },
     "execution_count": 185,
     "metadata": {},
     "output_type": "execute_result"
    }
   ],
   "source": [
    "integrate(exp(x)*sin(x)+exp(x)*cos(x),x)"
   ]
  },
  {
   "cell_type": "markdown",
   "id": "de595f77",
   "metadata": {},
   "source": [
    "$$ \\int_{-\\infty}^{\\infty} sin(x^{2})dx $$"
   ]
  },
  {
   "cell_type": "code",
   "execution_count": 191,
   "id": "6b656fb9",
   "metadata": {
    "scrolled": false
   },
   "outputs": [
    {
     "data": {
      "image/png": "[encoded data removed]",
      "text/latex": [
       "$\\displaystyle \\frac{\\sqrt{2} \\sqrt{\\pi}}{2}$"
      ],
      "text/plain": [
       "√2⋅√π\n",
       "─────\n",
       "  2  "
      ]
     },
     "execution_count": 191,
     "metadata": {},
     "output_type": "execute_result"
    }
   ],
   "source": [
    "integrate(sin(x**2), (x, -oo,oo)) # -oo, oo는 무한대로 하라는것"
   ]
  },
  {
   "cell_type": "code",
   "execution_count": 192,
   "id": "f0d30191",
   "metadata": {
    "scrolled": true
   },
   "outputs": [
    {
     "data": {
      "image/png": "[encoded data removed]",
      "text/latex": [
       "$\\displaystyle \\frac{3 \\sqrt{2} \\sqrt{\\pi} S\\left(\\frac{5 \\sqrt{2}}{\\sqrt{\\pi}}\\right) \\Gamma\\left(\\frac{3}{4}\\right)}{8 \\Gamma\\left(\\frac{7}{4}\\right)} + \\frac{3 \\sqrt{2} \\sqrt{\\pi} S\\left(\\frac{4 \\sqrt{2}}{\\sqrt{\\pi}}\\right) \\Gamma\\left(\\frac{3}{4}\\right)}{8 \\Gamma\\left(\\frac{7}{4}\\right)}$"
      ],
      "text/plain": [
       "         ⎛5⋅√2⎞                   ⎛4⋅√2⎞       \n",
       "3⋅√2⋅√π⋅S⎜────⎟⋅Γ(3/4)   3⋅√2⋅√π⋅S⎜────⎟⋅Γ(3/4)\n",
       "         ⎝ √π ⎠                   ⎝ √π ⎠       \n",
       "────────────────────── + ──────────────────────\n",
       "       8⋅Γ(7/4)                 8⋅Γ(7/4)       "
      ]
     },
     "execution_count": 192,
     "metadata": {},
     "output_type": "execute_result"
    }
   ],
   "source": [
    "integrate(sin(x**2), (x, -4,5)) "
   ]
  },
  {
   "cell_type": "markdown",
   "id": "6b02ef92",
   "metadata": {},
   "source": [
    "$$ \\lim_{x\\rightarrow0} =\\frac{sin(x)}{x} $$"
   ]
  },
  {
   "cell_type": "code",
   "execution_count": 193,
   "id": "b91fc82c",
   "metadata": {},
   "outputs": [
    {
     "data": {
      "image/png": "[encoded data removed]",
      "text/latex": [
       "$\\displaystyle 1$"
      ],
      "text/plain": [
       "1"
      ]
     },
     "execution_count": 193,
     "metadata": {},
     "output_type": "execute_result"
    }
   ],
   "source": [
    "limit(sin(x)/x, x, 0)"
   ]
  },
  {
   "cell_type": "markdown",
   "id": "0c7e3548",
   "metadata": {},
   "source": [
    "$$ x^2-2=0 의 해는? $$"
   ]
  },
  {
   "cell_type": "code",
   "execution_count": 194,
   "id": "96a5bfc8",
   "metadata": {},
   "outputs": [
    {
     "data": {
      "image/png": "[encoded data removed]",
      "text/latex": [
       "$\\displaystyle \\left[ - \\sqrt{2}, \\  \\sqrt{2}\\right]$"
      ],
      "text/plain": [
       "[-√2, √2]"
      ]
     },
     "execution_count": 194,
     "metadata": {},
     "output_type": "execute_result"
    }
   ],
   "source": [
    "solve(x**2-2, x)"
   ]
  },
  {
   "cell_type": "markdown",
   "id": "33df6e75",
   "metadata": {},
   "source": [
    "$$ 미분 방정식 y^{''} -y = e{t} $$ 를 만족하는 y 함수 구하기"
   ]
  },
  {
   "cell_type": "code",
   "execution_count": 195,
   "id": "e07899f9",
   "metadata": {},
   "outputs": [
    {
     "data": {
      "image/png": "[encoded data removed]",
      "text/latex": [
       "$\\displaystyle y{\\left(t \\right)} = C_{2} e^{- t} + \\left(C_{1} + \\frac{t}{2}\\right) e^{t}$"
      ],
      "text/plain": [
       "           -t   ⎛     t⎞  t\n",
       "y(t) = C₂⋅ℯ   + ⎜C₁ + ─⎟⋅ℯ \n",
       "                ⎝     2⎠   "
      ]
     },
     "execution_count": 195,
     "metadata": {},
     "output_type": "execute_result"
    }
   ],
   "source": [
    "y= Function('y')\n",
    "dsolve(Eq(y(t).diff(t,t)-y(t), exp(t)) , y(t))"
   ]
  },
  {
   "cell_type": "code",
   "execution_count": 196,
   "id": "80a46bb3",
   "metadata": {},
   "outputs": [
    {
     "data": {
      "text/plain": [
       "['ab', 'cdf', 'efghj', 'kim']"
      ]
     },
     "execution_count": 196,
     "metadata": {},
     "output_type": "execute_result"
    }
   ],
   "source": [
    "'ab,cdf,efghj,kim'.split(',')"
   ]
  },
  {
   "cell_type": "code",
   "execution_count": 42,
   "id": "137a7378",
   "metadata": {},
   "outputs": [],
   "source": [
    "str1 =\"\"\"한화생명이 청년들의 경제적 안정과 미래 자립기반 마련에 힘을 보태고자 개발한 '2030 목돈마련 디딤돌저축보험'이 21일 출시됐다.\n",
    "\n",
    "이 상품은 결혼, 출산, 경제적 자립 등을 고민하는 2030세대 청년들을 위한 목돈 마련 목적의 저축보험으로, 올해 한화생명이 보험업계 처음으로 내놓은 상생금융 상품이다.\n",
    "\n",
    "가입대상은 만 19세~39세, 총 급여액 7천만원 이하, 종합소득금액 6천만원 이하면 누구나 가입 가능하며, 계약자와 보험대상자는 동일인이어야 한다. 가입자 편의를 위해, 가구 중위소득이나 우대 금리 등의 복잡한 제한 조건은 최대한 단순화했다는 설명이다.\n",
    "\n",
    "한화생명 2030 목돈마련 디딤돌저축보험은 5년간 연 5% 확정금리를 제공하는 저축보험이다. 월 보험료 10만~50만원까지 가능하고, 추가 납입을 통해 매월 최대 75만원까지 납입할 수 있다.\n",
    "\"\"\""
   ]
  },
  {
   "cell_type": "code",
   "execution_count": 43,
   "id": "0c0eb8e0",
   "metadata": {},
   "outputs": [
    {
     "data": {
      "text/plain": [
       "\"한화생명이 청년들의 경제적 안정과 미래 자립기반 마련에 힘을 보태고자 개발한 '2030 목돈마련 디딤돌저축보험'이 21일 출시됐다.\\n\\n이 상품은 결혼, 출산, 경제적 자립 등을 고민하는 2030세대 청년들을 위한 목돈 마련 목적의 저축보험으로, 올해 한화생명이 보험업계 처음으로 내놓은 상생금융 상품이다.\\n\\n가입대상은 만 19세~39\""
      ]
     },
     "execution_count": 43,
     "metadata": {},
     "output_type": "execute_result"
    }
   ],
   "source": [
    "list2= str1.split(\",\")\n",
    "# 리스트를 순회하면서 문자열의 길이 구하세요\n",
    "str1[:str1.rfind(\"세\")]\n",
    "#문제 2) 문자열의 길이별로 dictionary 생성\n",
    "# {\"1\":[\"홍\",\"말\"],\"2\":[\"길동\",\"출산\"], \"3\":[\"급여액\",\"상품은\"]}\n",
    "# list2를 순회하면서 문자열의 길이를 배열에 추가\n",
    "# 오늘 수업은 여기까지, 전원 제출해주세요"
   ]
  },
  {
   "cell_type": "code",
   "execution_count": 36,
   "id": "14267fc7",
   "metadata": {
    "scrolled": true
   },
   "outputs": [
    {
     "name": "stdout",
     "output_type": "stream",
     "text": [
      "83\n",
      "3\n",
      "47\n",
      "51\n",
      "14\n",
      "28\n",
      "34\n",
      "122\n",
      "33\n",
      "문자열의 길이는 :415\n"
     ]
    }
   ],
   "source": [
    "sum=0\n",
    "for i in list2:\n",
    "    print(len(i))\n",
    "    sum += len(i)\n",
    "print(\"문자열의 길이는 :\" + str(sum))"
   ]
  },
  {
   "cell_type": "code",
   "execution_count": 44,
   "id": "cb67cf37",
   "metadata": {},
   "outputs": [
    {
     "data": {
      "text/plain": [
       "[83, 3, 47, 51, 14, 28, 34, 122, 34]"
      ]
     },
     "execution_count": 44,
     "metadata": {},
     "output_type": "execute_result"
    }
   ],
   "source": [
    "[len(i) for i in list2]"
   ]
  },
  {
   "cell_type": "code",
   "execution_count": 83,
   "id": "a165a056",
   "metadata": {},
   "outputs": [
    {
     "data": {
      "text/plain": [
       "{'83': [\"한화생명이 청년들의 경제적 안정과 미래 자립기반 마련에 힘을 보태고자 개발한 '2030 목돈마련 디딤돌저축보험'이 21일 출시됐다.\\n\\n이 상품은 결혼\"],\n",
       " '3': [' 출산'],\n",
       " '47': [' 경제적 자립 등을 고민하는 2030세대 청년들을 위한 목돈 마련 목적의 저축보험으로'],\n",
       " '51': [' 올해 한화생명이 보험업계 처음으로 내놓은 상생금융 상품이다.\\n\\n가입대상은 만 19세~39세'],\n",
       " '14': [' 총 급여액 7천만원 이하'],\n",
       " '28': [' 종합소득금액 6천만원 이하면 누구나 가입 가능하며'],\n",
       " '34': [' 계약자와 보험대상자는 동일인이어야 한다. 가입자 편의를 위해',\n",
       "  ' 추가 납입을 통해 매월 최대 75만원까지 납입할 수 있다.\\n'],\n",
       " '122': [' 가구 중위소득이나 우대 금리 등의 복잡한 제한 조건은 최대한 단순화했다는 설명이다.\\n\\n한화생명 2030 목돈마련 디딤돌저축보험은 5년간 연 5% 확정금리를 제공하는 저축보험이다. 월 보험료 10만~50만원까지 가능하고']}"
      ]
     },
     "execution_count": 83,
     "metadata": {},
     "output_type": "execute_result"
    }
   ],
   "source": [
    "obj={}\n",
    "for i in list2:\n",
    "    len_int = len(i) #문자열 하나씩 길이저장\n",
    "    len_str = str(len_int) #key로 사용하기 위해 str로 문자열 형변환\n",
    "    if len_str not in obj.keys(): #dictionary에 해당 key가 존재하지 않으면\n",
    "        obj[len_str] = [i] # 새로운 key에 리스트로 저장\n",
    "    else:\n",
    "        obj[len_str].append(i) #해당 key가 있으면 기존 list에 추가\n",
    "obj"
   ]
  },
  {
   "cell_type": "code",
   "execution_count": 68,
   "id": "7dfa24df",
   "metadata": {},
   "outputs": [
    {
     "data": {
      "text/plain": [
       "{'83': [\"한화생명이 청년들의 경제적 안정과 미래 자립기반 마련에 힘을 보태고자 개발한 '2030 목돈마련 디딤돌저축보험'이 21일 출시됐다.\\n\\n이 상품은 결혼\"],\n",
       " '3': [' 출산'],\n",
       " '47': [' 경제적 자립 등을 고민하는 2030세대 청년들을 위한 목돈 마련 목적의 저축보험으로'],\n",
       " '51': [' 올해 한화생명이 보험업계 처음으로 내놓은 상생금융 상품이다.\\n\\n가입대상은 만 19세~39세'],\n",
       " '14': [' 총 급여액 7천만원 이하'],\n",
       " '28': [' 종합소득금액 6천만원 이하면 누구나 가입 가능하며'],\n",
       " '34': [' 계약자와 보험대상자는 동일인이어야 한다. 가입자 편의를 위해',\n",
       "  ' 추가 납입을 통해 매월 최대 75만원까지 납입할 수 있다.\\n'],\n",
       " '122': [' 가구 중위소득이나 우대 금리 등의 복잡한 제한 조건은 최대한 단순화했다는 설명이다.\\n\\n한화생명 2030 목돈마련 디딤돌저축보험은 5년간 연 5% 확정금리를 제공하는 저축보험이다. 월 보험료 10만~50만원까지 가능하고']}"
      ]
     },
     "execution_count": 68,
     "metadata": {},
     "output_type": "execute_result"
    }
   ],
   "source": [
    "dict={}\n",
    "\n",
    "for i in list2:\n",
    "    if str(len(i)) not in dict.keys(): \n",
    "        dict[str(len(i))] = []\n",
    "        dict[str(len(i))].append(i)\n",
    "    else : \n",
    "        dict[str(len(i))].append(i)\n",
    "dict"
   ]
  },
  {
   "cell_type": "code",
   "execution_count": 62,
   "id": "4d9fbdf1",
   "metadata": {},
   "outputs": [
    {
     "data": {
      "text/plain": [
       "{'83': [\"한화생명이 청년들의 경제적 안정과 미래 자립기반 마련에 힘을 보태고자 개발한 '2030 목돈마련 디딤돌저축보험'이 21일 출시됐다.\\n\\n이 상품은 결혼\"],\n",
       " '3': [' 출산'],\n",
       " '47': [' 경제적 자립 등을 고민하는 2030세대 청년들을 위한 목돈 마련 목적의 저축보험으로'],\n",
       " '51': [' 올해 한화생명이 보험업계 처음으로 내놓은 상생금융 상품이다.\\n\\n가입대상은 만 19세~39세'],\n",
       " '14': [' 총 급여액 7천만원 이하'],\n",
       " '28': [' 종합소득금액 6천만원 이하면 누구나 가입 가능하며'],\n",
       " '34': [' 계약자와 보험대상자는 동일인이어야 한다. 가입자 편의를 위해',\n",
       "  ' 추가 납입을 통해 매월 최대 75만원까지 납입할 수 있다.\\n'],\n",
       " '122': [' 가구 중위소득이나 우대 금리 등의 복잡한 제한 조건은 최대한 단순화했다는 설명이다.\\n\\n한화생명 2030 목돈마련 디딤돌저축보험은 5년간 연 5% 확정금리를 제공하는 저축보험이다. 월 보험료 10만~50만원까지 가능하고']}"
      ]
     },
     "execution_count": 62,
     "metadata": {},
     "output_type": "execute_result"
    }
   ],
   "source": [
    "dict={}\n",
    "\n",
    "for i in list2:\n",
    "    if str(len(i)) not in dict.keys(): \n",
    "        dict[str(len(i))] = []\n",
    "        dict[str(len(i))] = dict[str(len(i))]+[i]\n",
    "    else : \n",
    "        dict[str(len(i))] = dict[str(len(i))]+[i]\n",
    "dict"
   ]
  },
  {
   "cell_type": "markdown",
   "id": "48e1407f",
   "metadata": {},
   "source": [
    "마지막문제<br>\n",
    "dictionary에서 value의 문자열의 총 누적을 구함 => 문자열 누적<br>\n",
    "key_int = [int(i) for i in obj.keys()]<br>\n",
    "key_int.sort()<br>\n",
    "key_int => 해당 문자열의 순차적으로 문자열 결합하세요<br>"
   ]
  },
  {
   "cell_type": "code",
   "execution_count": 87,
   "id": "4efe5106",
   "metadata": {},
   "outputs": [
    {
     "data": {
      "text/plain": [
       "[3, 14, 28, 34, 47, 51, 83, 122]"
      ]
     },
     "execution_count": 87,
     "metadata": {},
     "output_type": "execute_result"
    }
   ],
   "source": [
    "key_int = [int(i) for i in obj.keys()]\n",
    "key_int.sort()\n",
    "key_int"
   ]
  },
  {
   "cell_type": "code",
   "execution_count": 88,
   "id": "f4e07c72",
   "metadata": {
    "scrolled": true
   },
   "outputs": [
    {
     "ename": "NameError",
     "evalue": "name 'idx_k' is not defined",
     "output_type": "error",
     "traceback": [
      "\u001b[1;31m---------------------------------------------------------------------------\u001b[0m",
      "\u001b[1;31mNameError\u001b[0m                                 Traceback (most recent call last)",
      "Cell \u001b[1;32mIn[88], line 6\u001b[0m\n\u001b[0;32m      4\u001b[0m str_j \u001b[38;5;241m=\u001b[39m \u001b[38;5;28mstr\u001b[39m(j)\n\u001b[0;32m      5\u001b[0m \u001b[38;5;28;01mif\u001b[39;00m j \u001b[38;5;129;01mnot\u001b[39;00m \u001b[38;5;129;01min\u001b[39;00m obj_result\u001b[38;5;241m.\u001b[39mkeys():\n\u001b[1;32m----> 6\u001b[0m     key_\u001b[38;5;241m=\u001b[39m \u001b[38;5;28mstr\u001b[39m(j\u001b[38;5;241m*\u001b[39m(idx_k\u001b[38;5;241m+\u001b[39m\u001b[38;5;241m1\u001b[39m))\n\u001b[0;32m      7\u001b[0m     obj_result[hey_]\u001b[38;5;241m=\u001b[39m\u001b[38;5;124m'\u001b[39m\u001b[38;5;124m'\u001b[39m\n\u001b[0;32m      8\u001b[0m \u001b[38;5;28;01mfor\u001b[39;00m idx_k , k \u001b[38;5;129;01min\u001b[39;00m \u001b[38;5;28menumerate\u001b[39m(obj[str_j]):\n",
      "\u001b[1;31mNameError\u001b[0m: name 'idx_k' is not defined"
     ]
    }
   ],
   "source": [
    "obj_result={}\n",
    "for i in obj.items():\n",
    "    for j in key_int:\n",
    "        str_j = str(j)\n",
    "        if j not in obj_result.keys():\n",
    "            key_= str(j*(idx_k+1))\n",
    "            obj_result[hey_]=''\n",
    "        for idx_k , k in enumerate(obj[str_j]):\n",
    "            obj_result[key_]+= k\n",
    "obj_result\n",
    "#문자열의 길이에 해당하는 문자열을 누적하고자 합니다"
   ]
  },
  {
   "cell_type": "code",
   "execution_count": 3,
   "id": "a67cb9fc",
   "metadata": {},
   "outputs": [
    {
     "data": {
      "text/plain": [
       "{'1': ['홍', '길'],\n",
       " '2': ['길동', '말동'],\n",
       " '3': ['홍길동', '홍말동', '김개동'],\n",
       " '4': ['국제아카데미']}"
      ]
     },
     "execution_count": 3,
     "metadata": {},
     "output_type": "execute_result"
    }
   ],
   "source": [
    "problrem = {\"1\":[\"홍\",\"길\"], \"2\":[\"길동\",\"말동\"],\"3\":[\"홍길동\",\"홍말동\",\"김개동\"]\n",
    ", \"4\":[\"국제아카데미\"]}\n",
    "problrem"
   ]
  },
  {
   "cell_type": "code",
   "execution_count": 91,
   "id": "a467f952",
   "metadata": {
    "scrolled": true
   },
   "outputs": [
    {
     "data": {
      "text/plain": [
       "{'2': '홍길', '2+2*2': '홍길길동말동', '6+3*3': '홍길길동말동홍길동홍말동김개동'}"
      ]
     },
     "execution_count": 91,
     "metadata": {},
     "output_type": "execute_result"
    }
   ],
   "source": [
    "re = {\"2\":\"홍길\",\"2+2*2\":\"홍길길동말동\",\"6+3*3\":\"홍길길동말동홍길동홍말동김개동\"}\n",
    "re"
   ]
  },
  {
   "cell_type": "code",
   "execution_count": 1,
   "id": "fd37fd6b",
   "metadata": {},
   "outputs": [],
   "source": [
    "from functools import reduce"
   ]
  },
  {
   "cell_type": "code",
   "execution_count": 4,
   "id": "9272d66f",
   "metadata": {},
   "outputs": [
    {
     "data": {
      "text/plain": [
       "{2: '홍길', 6: '홍길길동말동', 15: '홍길길동말동홍길동홍말동김개동', 21: '홍길길동말동홍길동홍말동김개동국제아카데미'}"
      ]
     },
     "execution_count": 4,
     "metadata": {},
     "output_type": "execute_result"
    }
   ],
   "source": [
    "a=''\n",
    "re={}\n",
    "for i in problrem.keys():\n",
    "    re[len(reduce(lambda i,j:i+j,problrem[i],a))]=reduce(lambda i,j:i+j,problrem[i],a)\n",
    "    a=reduce(lambda i,j:i+j,problrem[i],a)\n",
    "re"
   ]
  }
 ],
 "metadata": {
  "kernelspec": {
   "display_name": "Python 3 (ipykernel)",
   "language": "python",
   "name": "python3"
  },
  "language_info": {
   "codemirror_mode": {
    "name": "ipython",
    "version": 3
   },
   "file_extension": ".py",
   "mimetype": "text/x-python",
   "name": "python",
   "nbconvert_exporter": "python",
   "pygments_lexer": "ipython3",
   "version": "3.11.4"
  }
 },
 "nbformat": 4,
 "nbformat_minor": 5
}
