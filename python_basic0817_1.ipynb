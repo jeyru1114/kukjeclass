{
 "cells": [
  {
   "cell_type": "code",
   "execution_count": 1,
   "id": "95aac1c6",
   "metadata": {},
   "outputs": [],
   "source": [
    "arr = [1,2,3,4,5,6]"
   ]
  },
  {
   "cell_type": "code",
   "execution_count": 2,
   "id": "d54220f5",
   "metadata": {
    "scrolled": true
   },
   "outputs": [
    {
     "data": {
      "text/plain": [
       "[3, 6, 9, 12, 15, 18]"
      ]
     },
     "execution_count": 2,
     "metadata": {},
     "output_type": "execute_result"
    }
   ],
   "source": [
    "result=[]\n",
    "for i in arr:\n",
    "    result.append(i*3)\n",
    "result"
   ]
  },
  {
   "cell_type": "code",
   "execution_count": 4,
   "id": "c0d217fb",
   "metadata": {
    "scrolled": true
   },
   "outputs": [
    {
     "data": {
      "text/plain": [
       "[3, 6, 9, 12, 15, 18]"
      ]
     },
     "execution_count": 4,
     "metadata": {},
     "output_type": "execute_result"
    }
   ],
   "source": [
    "result=[ i * 3 for i in arr] # list comprehension\n",
    "result"
   ]
  },
  {
   "cell_type": "code",
   "execution_count": 5,
   "id": "bc80616d",
   "metadata": {
    "scrolled": true
   },
   "outputs": [
    {
     "data": {
      "text/plain": [
       "[3, 6, 9, 12, 15, 18]"
      ]
     },
     "execution_count": 5,
     "metadata": {},
     "output_type": "execute_result"
    }
   ],
   "source": [
    "result= list( map( lambda x: x*3 , arr ) )\n",
    "result"
   ]
  },
  {
   "cell_type": "code",
   "execution_count": 6,
   "id": "c43c6087",
   "metadata": {},
   "outputs": [],
   "source": [
    "import numpy as np"
   ]
  },
  {
   "cell_type": "code",
   "execution_count": 7,
   "id": "04d8bace",
   "metadata": {},
   "outputs": [
    {
     "data": {
      "text/plain": [
       "array([1, 2, 3, 4, 5, 6])"
      ]
     },
     "execution_count": 7,
     "metadata": {},
     "output_type": "execute_result"
    }
   ],
   "source": [
    "np.array(arr)"
   ]
  },
  {
   "cell_type": "code",
   "execution_count": 8,
   "id": "adb141b9",
   "metadata": {},
   "outputs": [
    {
     "data": {
      "text/plain": [
       "array([ 3,  6,  9, 12, 15, 18])"
      ]
     },
     "execution_count": 8,
     "metadata": {},
     "output_type": "execute_result"
    }
   ],
   "source": [
    "np.array(arr)*3"
   ]
  },
  {
   "cell_type": "markdown",
   "id": "2c07d567",
   "metadata": {},
   "source": [
    "$$ y = 2x + 3 $$"
   ]
  },
  {
   "cell_type": "code",
   "execution_count": 16,
   "id": "ebf252cb",
   "metadata": {},
   "outputs": [],
   "source": [
    "x = [ i for i in np.arange(-3,3,0.01)] # 시작값, 종료값, 증분\n",
    "x_ = np.array(x)\n",
    "# np.shape(x_) #shape는 데이터 개수?\n",
    "y = 2*x_ +3\n",
    "# y"
   ]
  },
  {
   "cell_type": "code",
   "execution_count": 21,
   "id": "17f1d41b",
   "metadata": {
    "scrolled": true
   },
   "outputs": [
    {
     "data": {
      "text/plain": [
       "True"
      ]
     },
     "execution_count": 21,
     "metadata": {},
     "output_type": "execute_result"
    }
   ],
   "source": [
    "np.cos(np.pi/2) < 0.000001"
   ]
  },
  {
   "cell_type": "markdown",
   "id": "6aacda33",
   "metadata": {},
   "source": [
    "$$ cos^{-1}\\theta(\\frac{1}{\\sqrt{2}}) \\rightarrow cos(45) = \\frac{1}{\\sqrt{2}} $$"
   ]
  },
  {
   "cell_type": "markdown",
   "id": "ec9eb082",
   "metadata": {},
   "source": [
    "$$ cos^{-1}\\theta(\\frac{\\sqrt{3}}{2}) \\rightarrow cos(30) = \\frac{\\sqrt{3}}{2} $$"
   ]
  },
  {
   "cell_type": "markdown",
   "id": "a1d4c02a",
   "metadata": {},
   "source": [
    "$$ sin^{-1}(\\frac{1}{2}) \\rightarrow sin(30) = \\frac{1}{2} $$"
   ]
  },
  {
   "cell_type": "code",
   "execution_count": 24,
   "id": "0e2ef031",
   "metadata": {
    "scrolled": true
   },
   "outputs": [
    {
     "data": {
      "text/plain": [
       "0.7853981633974484"
      ]
     },
     "execution_count": 24,
     "metadata": {},
     "output_type": "execute_result"
    }
   ],
   "source": [
    "np.arccos(1/np.sqrt(2))"
   ]
  },
  {
   "cell_type": "code",
   "execution_count": 27,
   "id": "61186c5c",
   "metadata": {
    "scrolled": true
   },
   "outputs": [
    {
     "data": {
      "text/plain": [
       "0.5235987755982989"
      ]
     },
     "execution_count": 27,
     "metadata": {},
     "output_type": "execute_result"
    }
   ],
   "source": [
    "np.arccos(np.sqrt(3)/2)"
   ]
  },
  {
   "cell_type": "code",
   "execution_count": 29,
   "id": "6b9a9568",
   "metadata": {
    "scrolled": true
   },
   "outputs": [
    {
     "data": {
      "text/plain": [
       "0.5235987755982988"
      ]
     },
     "execution_count": 29,
     "metadata": {},
     "output_type": "execute_result"
    }
   ],
   "source": [
    "np.pi/6"
   ]
  },
  {
   "cell_type": "code",
   "execution_count": 25,
   "id": "7ab5acc2",
   "metadata": {},
   "outputs": [
    {
     "data": {
      "text/plain": [
       "0.7853981633974483"
      ]
     },
     "execution_count": 25,
     "metadata": {},
     "output_type": "execute_result"
    }
   ],
   "source": [
    "np.pi/4 # 45도 , 2pi = 360 도, pi = 3.1415925"
   ]
  },
  {
   "cell_type": "code",
   "execution_count": 17,
   "id": "4b2fe6fc",
   "metadata": {},
   "outputs": [],
   "source": [
    "import matplotlib.pyplot as plt"
   ]
  },
  {
   "cell_type": "code",
   "execution_count": 19,
   "id": "62c00461",
   "metadata": {},
   "outputs": [
    {
     "data": {
      "text/plain": [
       "[<matplotlib.lines.Line2D at 0x2a3650c45d0>]"
      ]
     },
     "execution_count": 19,
     "metadata": {},
     "output_type": "execute_result"
    },
    {
     "data": {
      "image/png": "[encoded data removed]",
      "text/plain": [
       "<Figure size 640x480 with 1 Axes>"
      ]
     },
     "metadata": {},
     "output_type": "display_data"
    }
   ],
   "source": [
    "plt.plot(x_,y)"
   ]
  },
  {
   "cell_type": "markdown",
   "id": "ba202074",
   "metadata": {},
   "source": [
    "$$ \\kappa, \\int $$"
   ]
  },
  {
   "cell_type": "markdown",
   "id": "14f3bc09",
   "metadata": {},
   "source": [
    "\\begin{bmatrix}\n",
    "3 & 2 &  \\\\\n",
    " 11&  6&  \\\\\n",
    " 5&  4&   \n",
    "\\end{bmatrix}"
   ]
  },
  {
   "cell_type": "markdown",
   "id": "a47aa26f",
   "metadata": {},
   "source": [
    "$$ \\lim_{h\\rightarrow0} \\frac{f(x+h)-f(x)}{h} $$"
   ]
  },
  {
   "cell_type": "code",
   "execution_count": 31,
   "id": "12b3bb81",
   "metadata": {},
   "outputs": [],
   "source": [
    "def derivative(f , x):\n",
    "    h=0.0000001\n",
    "    return f(x+h)-f(x)"
   ]
  },
  {
   "cell_type": "markdown",
   "id": "f4f8976b",
   "metadata": {},
   "source": [
    "$$ 미분의 공식 $$\n",
    "$$ (x^n)^{'} = nx^{n-1} $$\n",
    "$$ (x^3){'} = 3 x^2 $$\n",
    "$$ 상수는 미분하면 0이다, 왜냐하면 미분은 기울기이므로 상수는 기울어져 있지 않으므로 0이다 $$\n",
    "$$ f(2x + 3x^{2})^{'} = 2 f^{'}(x) + 3 f(x^{2}) $$\n",
    "$$ (x^2)^{'} = 2x $$"
   ]
  },
  {
   "cell_type": "code",
   "execution_count": 36,
   "id": "1c2e85d6",
   "metadata": {},
   "outputs": [
    {
     "data": {
      "text/plain": [
       "[<matplotlib.lines.Line2D at 0x2a366b221d0>]"
      ]
     },
     "execution_count": 36,
     "metadata": {},
     "output_type": "execute_result"
    },
    {
     "data": {
      "image/png": "[encoded data removed]",
      "text/plain": [
       "<Figure size 640x480 with 1 Axes>"
      ]
     },
     "metadata": {},
     "output_type": "display_data"
    }
   ],
   "source": [
    "y = 3*x_*x_+5 # y는 3x^2+5\n",
    "plt.plot(x_,y )"
   ]
  },
  {
   "cell_type": "code",
   "execution_count": 38,
   "id": "86f9cadd",
   "metadata": {},
   "outputs": [
    {
     "data": {
      "text/plain": [
       "[<matplotlib.lines.Line2D at 0x2a366b96c50>]"
      ]
     },
     "execution_count": 38,
     "metadata": {},
     "output_type": "execute_result"
    },
    {
     "data": {
      "image/png": "[encoded data removed]",
      "text/plain": [
       "<Figure size 640x480 with 1 Axes>"
      ]
     },
     "metadata": {},
     "output_type": "display_data"
    }
   ],
   "source": [
    "deri_value = derivative(lambda x:3*x*x+5, x_)\n",
    "plt.plot(deri_value)"
   ]
  },
  {
   "cell_type": "code",
   "execution_count": 40,
   "id": "dd07b408",
   "metadata": {
    "scrolled": true
   },
   "outputs": [
    {
     "data": {
      "text/plain": [
       "6.000000141170986e-07"
      ]
     },
     "execution_count": 40,
     "metadata": {},
     "output_type": "execute_result"
    }
   ],
   "source": [
    "(deri_value[0]- deri_value[10])/(x_[0]-x_[10]) #직선의 방정식"
   ]
  },
  {
   "cell_type": "code",
   "execution_count": 41,
   "id": "1e2400cb",
   "metadata": {
    "scrolled": true
   },
   "outputs": [
    {
     "name": "stdout",
     "output_type": "stream",
     "text": [
      "5\n",
      "8\n",
      "11\n"
     ]
    }
   ],
   "source": [
    "for a in [4,7,10]:\n",
    "    print(a+1)"
   ]
  },
  {
   "cell_type": "code",
   "execution_count": 43,
   "id": "4586dc48",
   "metadata": {},
   "outputs": [
    {
     "name": "stdout",
     "output_type": "stream",
     "text": [
      "0\n",
      "1\n",
      "2\n",
      "3\n",
      "4\n"
     ]
    }
   ],
   "source": [
    "for a in range(5):\n",
    "    pass\n",
    "    print(a)"
   ]
  },
  {
   "cell_type": "code",
   "execution_count": 73,
   "id": "5ce96b02",
   "metadata": {},
   "outputs": [
    {
     "data": {
      "text/plain": [
       "7"
      ]
     },
     "execution_count": 73,
     "metadata": {},
     "output_type": "execute_result"
    }
   ],
   "source": [
    "ttt =(1,2,3,4,5,7) # 튜플\n",
    "ttt[5]"
   ]
  },
  {
   "cell_type": "code",
   "execution_count": 45,
   "id": "240220d4",
   "metadata": {
    "scrolled": false
   },
   "outputs": [
    {
     "name": "stdout",
     "output_type": "stream",
     "text": [
      "(0, 4)\n",
      "(1, 7)\n",
      "(2, 10)\n"
     ]
    }
   ],
   "source": [
    "for a in enumerate([4,7,10]): #리스트를 튜플형태의 enumerate 형식으로 ?\n",
    "    print(a)"
   ]
  },
  {
   "cell_type": "code",
   "execution_count": 75,
   "id": "bddb2980",
   "metadata": {
    "scrolled": false
   },
   "outputs": [
    {
     "name": "stdout",
     "output_type": "stream",
     "text": [
      "24\n"
     ]
    }
   ],
   "source": [
    "total=0\n",
    "for a in enumerate([4,7,10]):\n",
    "    total += a[0]+a[1]\n",
    "print(total)"
   ]
  },
  {
   "cell_type": "code",
   "execution_count": 76,
   "id": "4eb589e4",
   "metadata": {
    "scrolled": false
   },
   "outputs": [
    {
     "name": "stdout",
     "output_type": "stream",
     "text": [
      "24\n"
     ]
    }
   ],
   "source": [
    "total=0\n",
    "for a in enumerate([4,7,10]):\n",
    "    for i in a:\n",
    "        total += i\n",
    "print(total)"
   ]
  },
  {
   "cell_type": "code",
   "execution_count": 87,
   "id": "03fad303",
   "metadata": {
    "scrolled": true
   },
   "outputs": [
    {
     "data": {
      "text/plain": [
       "[(1, 3, 4, 5, 7),\n",
       " (11, 13, 14, 15, 17),\n",
       " (21, 23, 24, 25, 27),\n",
       " (31, 33, 34, 35, 57)]"
      ]
     },
     "execution_count": 87,
     "metadata": {},
     "output_type": "execute_result"
    }
   ],
   "source": [
    "chajungho = []\n",
    "chajungho.append((1,3,4,5,7))\n",
    "chajungho.append((11,13,14,15,17))\n",
    "chajungho.append((21,23,24,25,27))\n",
    "chajungho.append((31,33,34,35,57))\n",
    "chajungho"
   ]
  },
  {
   "cell_type": "code",
   "execution_count": 88,
   "id": "092b88df",
   "metadata": {},
   "outputs": [
    {
     "name": "stdout",
     "output_type": "stream",
     "text": [
      "400\n"
     ]
    }
   ],
   "source": [
    "total=0\n",
    "for i in chajungho:\n",
    "    total += i[0]+i[1]+i[2]+i[3]+i[4]\n",
    "print(total)"
   ]
  },
  {
   "cell_type": "code",
   "execution_count": 89,
   "id": "8001e818",
   "metadata": {
    "scrolled": false
   },
   "outputs": [
    {
     "name": "stdout",
     "output_type": "stream",
     "text": [
      "400\n"
     ]
    }
   ],
   "source": [
    "total=0\n",
    "for i in chajungho:\n",
    "    for j in i:\n",
    "        total += j\n",
    "print(total)"
   ]
  },
  {
   "cell_type": "code",
   "execution_count": 90,
   "id": "a4008d6f",
   "metadata": {
    "scrolled": false
   },
   "outputs": [
    {
     "data": {
      "text/plain": [
       "[(1, 3, 4, 5, 7),\n",
       " (11, 13, 14, 15, 17, 100),\n",
       " (21, 23, 24, 25, 27, 100, 200),\n",
       " (31, 33, 34, 35)]"
      ]
     },
     "execution_count": 90,
     "metadata": {},
     "output_type": "execute_result"
    }
   ],
   "source": [
    "chajungho = []\n",
    "chajungho.append((1,3,4,5,7))\n",
    "chajungho.append((11,13,14,15,17,100))\n",
    "chajungho.append((21,23,24,25,27,100,200))\n",
    "chajungho.append((31,33,34,35))\n",
    "chajungho"
   ]
  },
  {
   "cell_type": "code",
   "execution_count": 91,
   "id": "14f0d4a2",
   "metadata": {
    "scrolled": false
   },
   "outputs": [
    {
     "name": "stdout",
     "output_type": "stream",
     "text": [
      "0 1\n",
      "1 3\n",
      "2 4\n",
      "3 5\n",
      "4 7\n",
      "======구분선======\n",
      "0 11\n",
      "1 13\n",
      "2 14\n",
      "3 15\n",
      "4 17\n",
      "5 100\n",
      "======구분선======\n",
      "0 21\n",
      "1 23\n",
      "2 24\n",
      "3 25\n",
      "4 27\n",
      "5 100\n",
      "6 200\n",
      "======구분선======\n",
      "0 31\n",
      "1 33\n",
      "2 34\n",
      "3 35\n",
      "======구분선======\n"
     ]
    }
   ],
   "source": [
    "total=0\n",
    "for i in chajungho:\n",
    "    for idx,j in enumerate(i):\n",
    "        print(idx, j)\n",
    "    print(\"======구분선======\")\n"
   ]
  }
 ],
 "metadata": {
  "kernelspec": {
   "display_name": "Python 3 (ipykernel)",
   "language": "python",
   "name": "python3"
  },
  "language_info": {
   "codemirror_mode": {
    "name": "ipython",
    "version": 3
   },
   "file_extension": ".py",
   "mimetype": "text/x-python",
   "name": "python",
   "nbconvert_exporter": "python",
   "pygments_lexer": "ipython3",
   "version": "3.11.4"
  }
 },
 "nbformat": 4,
 "nbformat_minor": 5
}
