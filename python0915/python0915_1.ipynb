{
 "cells": [
  {
   "cell_type": "code",
   "execution_count": 1,
   "id": "4151b783",
   "metadata": {},
   "outputs": [],
   "source": [
    "import numpy as np\n",
    "import cv2"
   ]
  },
  {
   "cell_type": "code",
   "execution_count": null,
   "id": "2cde9e02",
   "metadata": {},
   "outputs": [],
   "source": [
    "img = np.full((400,400,3),255,np.uint8) # 3은 R,G,B 색상의 채널수 \n",
    "cv2.rectangle(img,(50,50),(150,100),(0,0,255),2) #직사각형\n",
    "cv2.circle(img,(300,120),30,(255,255,0),-1,cv2.LINE_AA) #원\n",
    "cv2.ellipse(img,(120,300),(60,30),20,0,360,(255,255,0),cv2.FILLED, cv2.LINE_AA) #타원\n",
    "cv2.imshow('img',img)\n",
    "cv2.waitKey()\n",
    "cv2.destroyAllWindows()"
   ]
  },
  {
   "cell_type": "markdown",
   "id": "aaa0d0b6",
   "metadata": {},
   "source": [
    "[타원의 방정식](https://ko.wikipedia.org/wiki/%ED%83%80%EC%9B%90)"
   ]
  },
  {
   "cell_type": "markdown",
   "id": "6900fa98",
   "metadata": {},
   "source": [
    "[고유값,고유벡터](https://blog.naver.com/subprofessor/222550079564)"
   ]
  },
  {
   "cell_type": "code",
   "execution_count": null,
   "id": "f25103e6",
   "metadata": {},
   "outputs": [],
   "source": [
    "def drawText2():\n",
    "    img = np.full((200,640,3),255,np.uint8)\n",
    "    text = \"Hello OpenCV\"\n",
    "    \n",
    "    fontFace = cv2.FONT_HERSHEY_TRIPLEX\n",
    "    fontScale = 2.5\n",
    "    thickness = 1\n",
    "    \n",
    "    sizeText, _ = cv2.getTextSize(text, fontFace, fontScale, thickness) \n",
    "    # _ 는 안쓰겠다는 의미로 변수로안담음\n",
    "    org = ((img.shape[1]-sizeText[0])//2,(img.shape[0]+sizeText[1])//2)\n",
    "    cv2.putText(img,text,org, fontFace,fontScale,(255,0,0),thickness)\n",
    "    cv2.rectangle(img, org, (org[0]+sizeText[0],org[1]-sizeText[1]),(0,255,0),1)\n",
    "    cv2.imshow('img',img)\n",
    "    cv2.waitKey()\n",
    "    cv2.destroyAllWindows()"
   ]
  },
  {
   "cell_type": "code",
   "execution_count": null,
   "id": "a8d76065",
   "metadata": {},
   "outputs": [],
   "source": [
    "drawText2()"
   ]
  },
  {
   "cell_type": "code",
   "execution_count": null,
   "id": "b2cec894",
   "metadata": {
    "scrolled": false
   },
   "outputs": [],
   "source": [
    "cv2.FONT_HERSHEY_TRIPLEX"
   ]
  },
  {
   "cell_type": "code",
   "execution_count": null,
   "id": "7e8317db",
   "metadata": {},
   "outputs": [],
   "source": [
    "def drawText2_test():\n",
    "    img = np.full((200,640,3),255,np.uint8)\n",
    "    text = \"Hello OpenCV\"\n",
    "    \n",
    "    fontFace = cv2.FONT_HERSHEY_TRIPLEX\n",
    "    fontScale = 2.5\n",
    "    thickness = 1\n",
    "    \n",
    "    sizeText= cv2.getTextSize(text, fontFace, fontScale, thickness) \n",
    "    print(sizeText)\n",
    "    s_x = sizeText[0][0]\n",
    "    s_y = sizeText[0][1]\n",
    "    org = ((img.shape[1]-s_x)//2,(img.shape[0]+s_y)//2)\n",
    "    cv2.putText(img,text,org, fontFace,fontScale,(255,0,0),thickness)\n",
    "    cv2.rectangle(img, org, (org[0]+s_x,org[1]-s_y),(0,255,0),1)\n",
    "    cv2.imshow('img',img)\n",
    "    cv2.waitKey()\n",
    "    cv2.destroyAllWindows()"
   ]
  },
  {
   "cell_type": "code",
   "execution_count": null,
   "id": "8da5cfb2",
   "metadata": {},
   "outputs": [],
   "source": [
    "drawText2_test()"
   ]
  },
  {
   "cell_type": "code",
   "execution_count": null,
   "id": "14800b08",
   "metadata": {},
   "outputs": [],
   "source": [
    "def f():\n",
    "    return [7,11]"
   ]
  },
  {
   "cell_type": "code",
   "execution_count": null,
   "id": "3ddcf3fa",
   "metadata": {},
   "outputs": [],
   "source": [
    "a,c =f()\n",
    "a"
   ]
  },
  {
   "cell_type": "code",
   "execution_count": null,
   "id": "ef93d27c",
   "metadata": {
    "scrolled": true
   },
   "outputs": [],
   "source": [
    "a= f()\n",
    "a"
   ]
  },
  {
   "cell_type": "code",
   "execution_count": null,
   "id": "89452a39",
   "metadata": {},
   "outputs": [],
   "source": [
    "def drawText2_test():\n",
    "    return ((7,9),11)"
   ]
  },
  {
   "cell_type": "code",
   "execution_count": null,
   "id": "f8784f60",
   "metadata": {},
   "outputs": [],
   "source": [
    "a,c=drawText2_test()\n",
    "a"
   ]
  },
  {
   "cell_type": "code",
   "execution_count": null,
   "id": "bbf92930",
   "metadata": {
    "scrolled": true
   },
   "outputs": [],
   "source": [
    "a= drawText2_test()\n",
    "a"
   ]
  },
  {
   "cell_type": "code",
   "execution_count": null,
   "id": "4160d912",
   "metadata": {},
   "outputs": [],
   "source": [
    "def saturated(value):\n",
    "    if value > 255 : value = 255\n",
    "    elif value < 0 : value = 0\n",
    "    return value"
   ]
  },
  {
   "cell_type": "code",
   "execution_count": null,
   "id": "e818eb11",
   "metadata": {},
   "outputs": [],
   "source": [
    "def on_level_change(pos):\n",
    "    img[:] = saturated(pos*3)\n",
    "    cv2.imshow('image', img)"
   ]
  },
  {
   "cell_type": "code",
   "execution_count": null,
   "id": "cb6fb676",
   "metadata": {},
   "outputs": [],
   "source": [
    "img = np.zeros((400,400),np.uint8)\n",
    "cv2.namedWindow('image')\n",
    "cv2.createTrackbar('level','image',0,116,on_level_change)\n",
    "cv2.imshow('image',img)\n",
    "cv2.waitKey()\n",
    "cv2.destroyAllWindows()"
   ]
  },
  {
   "cell_type": "code",
   "execution_count": null,
   "id": "33cd0dfd",
   "metadata": {},
   "outputs": [],
   "source": [
    "#이미지 밝기조절(GPT코드)\n",
    "import numpy as np\n",
    "import cv2\n",
    "\n",
    "def on_level_change(pos):\n",
    "    brightness = pos - 128\n",
    "    img_result = cv2.addWeighted(img, 1, np.zeros_like(img), 0, brightness)\n",
    "    cv2.imshow('image', img_result)\n",
    "\n",
    "img = cv2.imread('./images/m.png')\n",
    "\n",
    "cv2.namedWindow('image')\n",
    "cv2.createTrackbar('level', 'image', 128, 255, on_level_change)  # 트랙바의 초기 위치를 중앙으로 설정\n",
    "\n",
    "cv2.imshow('image', img)\n",
    "cv2.waitKey()\n",
    "cv2.destroyAllWindows()\n"
   ]
  },
  {
   "cell_type": "code",
   "execution_count": null,
   "id": "81302334",
   "metadata": {
    "scrolled": true
   },
   "outputs": [],
   "source": [
    "# 이미지 (우진코드)\n",
    "def call_back(pos) :\n",
    "    pass\n",
    "\n",
    "img = cv2.imread('images/m.png') #여기만 수정\n",
    "cv2.imshow('image', img)\n",
    "cv2.createTrackbar('threshold', 'image', 0, 255, call_back)\n",
    "cv2.setTrackbarPos('threshold', 'image', 127)\n",
    "\n",
    "while True :\n",
    "    low = cv2.getTrackbarPos('threshold', 'image')\n",
    "    ret, img_binary = cv2.threshold(img, low, 255, cv2.THRESH_BINARY)\n",
    "    cv2.imshow('image', img_binary)\n",
    "    if cv2.waitKey(1) == 27 :\n",
    "        break"
   ]
  },
  {
   "cell_type": "code",
   "execution_count": 24,
   "id": "0c5685aa",
   "metadata": {},
   "outputs": [],
   "source": [
    "def mask_SetTo():\n",
    "    src = cv2.imread('./images/lenna.bmp', cv2.IMREAD_COLOR)\n",
    "    mask = cv2.imread('./images/mask_smile.bmp', cv2.IMREAD_GRAYSCALE)\n",
    "    if src is None or mask is None:\n",
    "        print(\"이미지 파일 로딩 실패\")\n",
    "        return\n",
    "    src[mask>0]=(255,200,150)\n",
    "    \n",
    "    cv2.imshow('src',src)\n",
    "    cv2.imshow('mask',mask)\n",
    "    cv2.waitKey()\n",
    "    cv2.destroyAllWindows()"
   ]
  },
  {
   "cell_type": "code",
   "execution_count": 25,
   "id": "b3079d94",
   "metadata": {},
   "outputs": [],
   "source": [
    "mask_SetTo()"
   ]
  },
  {
   "cell_type": "code",
   "execution_count": 43,
   "id": "d8866346",
   "metadata": {},
   "outputs": [],
   "source": [
    "def mask_SetTo_test():\n",
    "    src = cv2.imread('./images/m.png', cv2.IMREAD_COLOR)\n",
    "    mask = cv2.imread('./images/mask_plane.bmp', cv2.IMREAD_GRAYSCALE)\n",
    "    \n",
    "    # mask 이미지의 크기에 맞게 src 이미지를 resize\n",
    "    mask_height, mask_width = mask.shape\n",
    "    src = cv2.resize(src, dsize=(mask_width, mask_height))\n",
    "#     src = cv2.resize(src, dsize=(mask_shape)) 이미지의 shape조정\n",
    "    if src is None or mask is None:\n",
    "        print(\"이미지 파일 로딩 실패\")\n",
    "        return\n",
    "    src[mask>0]=(200,200,255) # src이미지에서 mask이미지의 0보다 큰 흰색(좌표)값만 노란색으로 변경\n",
    "    # [mask>0]을 슬라이싱처럼 생각하면됨\n",
    "    \n",
    "    cv2.imshow('src',src)\n",
    "    cv2.imshow('mask',mask)\n",
    "    cv2.waitKey()\n",
    "    cv2.destroyAllWindows()"
   ]
  },
  {
   "cell_type": "code",
   "execution_count": 44,
   "id": "f69e890d",
   "metadata": {},
   "outputs": [],
   "source": [
    "mask_SetTo_test()"
   ]
  }
 ],
 "metadata": {
  "kernelspec": {
   "display_name": "Python 3 (ipykernel)",
   "language": "python",
   "name": "python3"
  },
  "language_info": {
   "codemirror_mode": {
    "name": "ipython",
    "version": 3
   },
   "file_extension": ".py",
   "mimetype": "text/x-python",
   "name": "python",
   "nbconvert_exporter": "python",
   "pygments_lexer": "ipython3",
   "version": "3.11.4"
  }
 },
 "nbformat": 4,
 "nbformat_minor": 5
}
