{
 "cells": [
  {
   "cell_type": "markdown",
   "id": "b8026f39",
   "metadata": {},
   "source": [
    "[고유값 고유벡터](https://www.mathsisfun.com/algebra/eigenvalue.html)"
   ]
  },
  {
   "cell_type": "markdown",
   "id": "476ec461",
   "metadata": {},
   "source": [
    "$$ Ax = \\lambda x \\rightarrow A = 정방행렬, \\lambda 고유값, x = 고유벡터 $$\n",
    "$$ Ax - \\lambda x = Ax - \\lambda I x = 0 $$\n",
    "$$ | Ax - \\lambda I | = 행렬식 $$"
   ]
  },
  {
   "cell_type": "markdown",
   "id": "09e5634f",
   "metadata": {},
   "source": [
    "$$ 5 \\times 1 = 5 $$\n",
    "$$ A \\times I = A $$"
   ]
  },
  {
   "cell_type": "markdown",
   "id": "8e0fa529",
   "metadata": {},
   "source": [
    "$$\n",
    "    A = \\begin{bmatrix}\n",
    "        -6 & 3 \\\\\n",
    "        4 & 5\n",
    "    \\end{bmatrix}\n",
    "$$\n",
    "\n",
    "$$\n",
    "    I(단위행렬) = \\begin{bmatrix}\n",
    "        1 & 0 \\\\\n",
    "        0 & 1\n",
    "    \\end{bmatrix}\n",
    "$$\n",
    "\n",
    "$$ 단위행렬은 어떤것을 곱하였을때 자기 자신이 나오게 하는것 $$\n",
    "\n",
    "$$\n",
    "    \\lambda\\times I = \\begin{bmatrix}\n",
    "        \\lambda & 0 \\\\\n",
    "        0 & \\lambda\n",
    "    \\end{bmatrix}\n",
    "$$\n",
    "\n",
    "$$ | A - \\lambda I | = 0 $$\n",
    "$$ \n",
    "    \\begin{vmatrix}\n",
    "        -6 -\\lambda & 3 \\\\\n",
    "        4 & 5 -\\lambda\n",
    "    \\end{vmatrix} = 0\n",
    "$$\n",
    "$$ (-6-\\lambda) (5-\\lambda) -3\\times 4 = 0 $$\n",
    "\n",
    "$$ -(6+\\lambda) (5-\\lambda) -3\\times 4 = 0 $$\n",
    "\n",
    "$$ (6+\\lambda) (\\lambda-5) -3\\times 4 = 0 $$\n",
    "\n",
    "$$ (6\\lambda-30 + \\lambda^2 - 5\\lambda) -3\\times 4 = 0 $$\n",
    "$$ (\\lambda+ -30 + \\lambda^2) -3\\times 4 = 0 $$\n",
    "\n",
    "$$ \\lambda^2 + \\lambda - 42 = 0  \\rightarrow \\lambda = -6 또는 7 이므로 \\lambda는 반대값인 $$ \n",
    "$$ \\lambda = -7 또는 6 $$"
   ]
  },
  {
   "cell_type": "markdown",
   "id": "a7b228d0",
   "metadata": {},
   "source": [
    "$$ 고유값 6에 대응하는 고유 벡터를 찾자 $$\n",
    "\n",
    "$$  \n",
    "    Ax= \\begin{bmatrix}\n",
    "        -6 &3 \\\\\n",
    "        4 & 5\n",
    "    \\end{bmatrix} \\begin{bmatrix}\n",
    "    x \\\\\n",
    "    y\n",
    "    \\end{bmatrix} = 6 \\begin{bmatrix}\n",
    "    x \\\\\n",
    "    y\n",
    "    \\end{bmatrix}\n",
    "$$\n",
    "\n",
    "$$ \n",
    "    -6x + 3y = 6x \\rightarrow -12x +3y =0 \\rightarrow 1)\n",
    "    4x + 5y = 6y \\rightarrow 4x -y =0 \\rightarrow 2)\n",
    "$$\n",
    "\n",
    "$$ y= 4x, x를 1로 하면 y= 4가 됨 $$ \n",
    "    \n",
    "$$\n",
    "    고유값 6에 해당하는 고유벡터는 \\begin{bmatrix}\n",
    "        1 \\\\\n",
    "        4\n",
    "    \\end{bmatrix} \n",
    "$$\n",
    "\n",
    "$$ 벡터의 크기로 나누어주면 고유벡터의 방향이고 크기가 1인 단위 벡터 $$\n",
    "\n",
    "$$ \\begin{bmatrix}\n",
    "        6 \\\\\n",
    "        24\n",
    "    \\end{bmatrix}\n",
    "    \\begin{bmatrix}\n",
    "        1 \\\\\n",
    "        4\n",
    "    \\end{bmatrix} 벡터나 \\begin{bmatrix}\n",
    "        6 \\\\\n",
    "        24\n",
    "    \\end{bmatrix}\n",
    "$$\n",
    "\n",
    "$$ 벡터는 크기로 나누어주면 결국 크기가 1인 단위벡터가 되고 $$\n",
    "\n",
    "$$ 고유값은 6인 쌍으로 그 방향으로 6배 늘린 결과가 됩니다$$\n",
    "\n",
    "$$\n",
    "    \\begin{bmatrix}\n",
    "        1 \\\\\n",
    "        4\n",
    "    \\end{bmatrix},\\begin{bmatrix}\n",
    "        6 \\\\\n",
    "        24\n",
    "    \\end{bmatrix} 에서 \\begin{bmatrix}\n",
    "        1 \\\\\n",
    "        4\n",
    "    \\end{bmatrix} 는 \\sqrt {1\\times1+4\\times4}로 나누어 준 값이\n",
    "$$\n",
    "\n",
    "$$ 크기가 1인 고유값이 6인 단위벡터임 $$"
   ]
  },
  {
   "cell_type": "markdown",
   "id": "524ce6d7",
   "metadata": {},
   "source": [
    "$$  고유값 -7에 대응하는 고유 벡터를 찾자  $$\n",
    "$$\n",
    "   Ax =  \\begin{bmatrix}\n",
    "       -6 & 3 \\\\\n",
    "       4 & 5\n",
    "    \\end{bmatrix}   \\begin{bmatrix}\n",
    "       x \\\\\n",
    "       y\n",
    "    \\end{bmatrix}   =   -7 \\begin{bmatrix}\n",
    "       x \\\\\n",
    "       y\n",
    "    \\end{bmatrix}  \n",
    "$$\n",
    "$$\n",
    "    -6x + 3y  = -7x   \\rightarrow  x +3y =0 \\rightarrow  1) \n",
    "    4x + 5y = -7y  \\rightarrow 4x +12y =0   \\rightarrow  2)  \n",
    "$$\n",
    "$$\n",
    "   y= -\\frac{1}{3}x  , x를 1로 하면 y= -\\frac{1}{3} 가 됨 \n",
    "   고유값 6에 해당하는 고유벡터는  \\begin{bmatrix}\n",
    "       1 \\\\\n",
    "        -\\frac{1}{3} \n",
    "    \\end{bmatrix} $$\n",
    "    \n",
    "$$ 벡터는 크기로 나누어주면 결국 크기가 1인 단위벡터가 되고 고유값은 $$\n",
    "\n",
    "$$ -7인 쌍으로 그 방향으로 -7배 늘린결과가 됩니다 $$\n",
    "\n",
    "$$\n",
    "\\begin{bmatrix}\n",
    " 1 \\\\\n",
    "        -\\frac{1}{3} \n",
    "    \\end{bmatrix}  를  \\sqrt{1\\times1+ (-\\frac{1}{3})\\times (-\\frac{1}{3})} 로 나누어준 값이 $$\n",
    "$$크기가 1인 고유값이 -7인 단위 벡터임$$"
   ]
  },
  {
   "cell_type": "code",
   "execution_count": 1,
   "id": "b5d408bb",
   "metadata": {},
   "outputs": [],
   "source": [
    "# -7(고유값에 대한 고유벡터를 위의 방식과 동일하게 하세요)"
   ]
  },
  {
   "cell_type": "code",
   "execution_count": 2,
   "id": "36f988db",
   "metadata": {},
   "outputs": [],
   "source": [
    "import numpy as np\n",
    "import cv2"
   ]
  },
  {
   "cell_type": "code",
   "execution_count": 3,
   "id": "c6176aae",
   "metadata": {
    "scrolled": false
   },
   "outputs": [
    {
     "name": "stdout",
     "output_type": "stream",
     "text": [
      "0.9791953479320481\n",
      "1.020380551847317\n"
     ]
    }
   ],
   "source": [
    "A = np.array([[-6,3],[4,5]])\n",
    "value, vector = np.linalg.eig(A)\n",
    "# -7에 대한 고유벡터는 [-9,486833 , -0.24253563] 이고\n",
    "# 6에 대한 고유벡터는 [ 0.31622777, -0.9701425 ] 이다\n",
    "for i,j in vector:\n",
    "    print(np.sqrt(i*i+j*j)) #벡터의 크기가 1"
   ]
  },
  {
   "cell_type": "code",
   "execution_count": 4,
   "id": "3d0c6ca4",
   "metadata": {},
   "outputs": [],
   "source": [
    "def brightness4():\n",
    "    src = cv2.imread('images/lenna.bmp', cv2.IMREAD_GRAYSCALE)\n",
    "    if src is None:\n",
    "        pirnt(\"이미지 로딩 실패\")\n",
    "        return\n",
    "    def update(pos):\n",
    "        dst = src[:] + pos\n",
    "        for i in dst:\n",
    "            for j in i:\n",
    "                if j>250:\n",
    "                    print(j)\n",
    "                    \n",
    "        cv2.imshow('dst',dst)\n",
    "    cv2.namedWindow('dst')\n",
    "    cv2.createTrackbar('Brightness','dst',0,50,update)\n",
    "    update(0)\n",
    "    cv2.waitKey()\n",
    "    cv2.destroyAllWindows()"
   ]
  },
  {
   "cell_type": "code",
   "execution_count": 5,
   "id": "d8aa2979",
   "metadata": {},
   "outputs": [],
   "source": [
    "brightness4()"
   ]
  },
  {
   "cell_type": "code",
   "execution_count": 6,
   "id": "6dce5554",
   "metadata": {},
   "outputs": [],
   "source": [
    "def brightness5():\n",
    "    src = cv2.imread('images/lenna.bmp', cv2.IMREAD_GRAYSCALE)\n",
    "    if src is None:\n",
    "        pirnt(\"이미지 로딩 실패\")\n",
    "        return\n",
    "    def update(pos):\n",
    "        dst = src[:] + int(pos*1/3)\n",
    "                    \n",
    "        cv2.imshow('dst',dst)\n",
    "    cv2.namedWindow('dst')\n",
    "    cv2.createTrackbar('Brightness','dst',0,100,update)\n",
    "    update(0)\n",
    "    cv2.waitKey()\n",
    "    cv2.destroyAllWindows()"
   ]
  },
  {
   "cell_type": "code",
   "execution_count": 7,
   "id": "e3380116",
   "metadata": {},
   "outputs": [],
   "source": [
    "brightness5()"
   ]
  },
  {
   "cell_type": "code",
   "execution_count": 8,
   "id": "5a110356",
   "metadata": {},
   "outputs": [],
   "source": [
    "def brightness6():\n",
    "    src = cv2.imread('images/lenna.bmp', cv2.IMREAD_GRAYSCALE)\n",
    "    if src is None:\n",
    "        pirnt(\"이미지 로딩 실패\")\n",
    "        return\n",
    "    def update(pos):\n",
    "        dst = src[:] - int(pos*1/3)\n",
    "        for i in dst:\n",
    "            for j in i:\n",
    "                if j<0 : return\n",
    "        cv2.imshow('dst',dst)\n",
    "    cv2.namedWindow('dst')\n",
    "    cv2.createTrackbar('Brightness','dst',0,100,update)\n",
    "    update(0)\n",
    "    cv2.waitKey()\n",
    "    cv2.destroyAllWindows()"
   ]
  },
  {
   "cell_type": "code",
   "execution_count": 9,
   "id": "07ce419b",
   "metadata": {},
   "outputs": [],
   "source": [
    "brightness6()"
   ]
  },
  {
   "cell_type": "code",
   "execution_count": 10,
   "id": "e1fb8d02",
   "metadata": {},
   "outputs": [
    {
     "data": {
      "text/plain": [
       "array([[30, 40, 50],\n",
       "       [60, 70, 80]])"
      ]
     },
     "execution_count": 10,
     "metadata": {},
     "output_type": "execute_result"
    }
   ],
   "source": [
    "X = np.array([[10,20,30],[40,50,60]])\n",
    "X+20"
   ]
  },
  {
   "cell_type": "code",
   "execution_count": 11,
   "id": "f659e1df",
   "metadata": {},
   "outputs": [],
   "source": [
    "import numpy as np\n",
    "import cv2\n",
    "\n",
    "def f1():\n",
    "    src = np.zeros((400,400),np.uint8)\n",
    "    def v(pos): \n",
    "        ad = pos*3\n",
    "        dst = src[:]+ad\n",
    "        cv2.imshow('dst',dst)\n",
    "    cv2.namedWindow('dst')\n",
    "    cv2.createTrackbar('Brightness','dst',0,100,v)\n",
    "    v(0)\n",
    "    cv2.waitKey()\n",
    "    cv2.destroyAllWindows()"
   ]
  },
  {
   "cell_type": "code",
   "execution_count": 12,
   "id": "ace0f975",
   "metadata": {},
   "outputs": [],
   "source": [
    "f1()"
   ]
  },
  {
   "cell_type": "code",
   "execution_count": 13,
   "id": "0cf7c6b5",
   "metadata": {},
   "outputs": [],
   "source": [
    "import numpy as np\n",
    "import cv2\n",
    "# 1씩증가할때 10씩 밝아지게, 225가되면 다시 0\n",
    "def f2():\n",
    "    src = np.zeros((400,400),np.uint8)\n",
    "    def v(pos): \n",
    "        ad = pos*10\n",
    "        dst = src[:]+ad\n",
    "        print(dst)\n",
    "        if pos == 255:\n",
    "            dst = src[:]\n",
    "        cv2.imshow('dst',dst)\n",
    "    cv2.namedWindow('dst')\n",
    "    cv2.createTrackbar('Brightness','dst',0,255,v)\n",
    "    v(0)\n",
    "    cv2.waitKey()\n",
    "    cv2.destroyAllWindows()"
   ]
  },
  {
   "cell_type": "code",
   "execution_count": 14,
   "id": "0ce5b775",
   "metadata": {
    "scrolled": false
   },
   "outputs": [
    {
     "name": "stdout",
     "output_type": "stream",
     "text": [
      "[[0 0 0 ... 0 0 0]\n",
      " [0 0 0 ... 0 0 0]\n",
      " [0 0 0 ... 0 0 0]\n",
      " ...\n",
      " [0 0 0 ... 0 0 0]\n",
      " [0 0 0 ... 0 0 0]\n",
      " [0 0 0 ... 0 0 0]]\n"
     ]
    }
   ],
   "source": [
    "f2()"
   ]
  },
  {
   "cell_type": "code",
   "execution_count": 15,
   "id": "3ea33218",
   "metadata": {},
   "outputs": [],
   "source": [
    "import numpy as np\n",
    "import cv2\n",
    "\n",
    "# 4구역으로나눠서 각각의 밝기값을 다르게하기\n",
    "def f3():\n",
    "    src = np.zeros((400,400),np.uint8)\n",
    "    h = src.shape[0]//2\n",
    "    w = src.shape[1]//2\n",
    "    \n",
    "    def v(pos): \n",
    "        src[:w,:h]+= (pos*1)\n",
    "        src[:w,h:]+= (pos*5)\n",
    "        src[w:,:h]+= (pos*7)\n",
    "        src[w:,h:]+= (pos*3)\n",
    "#         ad = pos*3\n",
    "        #dst = src[:]\n",
    "        cv2.imshow('dst',src)\n",
    "        \n",
    "    cv2.namedWindow('dst')\n",
    "    cv2.createTrackbar('Brightness','dst',0,100,v)\n",
    "    v(0)\n",
    "    cv2.waitKey()\n",
    "    cv2.destroyAllWindows()"
   ]
  },
  {
   "cell_type": "code",
   "execution_count": 16,
   "id": "254a0cca",
   "metadata": {},
   "outputs": [],
   "source": [
    "f3()"
   ]
  },
  {
   "cell_type": "code",
   "execution_count": 17,
   "id": "a6f76605",
   "metadata": {},
   "outputs": [],
   "source": [
    "X=np.array([[1,2,3,4],[5,6,7,8]])"
   ]
  },
  {
   "cell_type": "code",
   "execution_count": 18,
   "id": "cfd81513",
   "metadata": {
    "scrolled": true
   },
   "outputs": [
    {
     "data": {
      "text/plain": [
       "array([[4, 5, 6, 7],\n",
       "       [5, 6, 7, 8]])"
      ]
     },
     "execution_count": 18,
     "metadata": {},
     "output_type": "execute_result"
    }
   ],
   "source": [
    "X[:1] +=3\n",
    "X"
   ]
  },
  {
   "cell_type": "code",
   "execution_count": 19,
   "id": "ea7f2f3d",
   "metadata": {},
   "outputs": [],
   "source": [
    "import numpy as np\n",
    "import cv2\n",
    "\n",
    "# f4 함수에 받은 인자수 만큼 분할....\n",
    "def f4(num):\n",
    "    src = np.zeros((800,800),np.uint8)\n",
    "    h = src.shape[0]//2\n",
    "    w = src.shape[1]//2\n",
    "    h_2=src.shape[0]//4\n",
    "    w_2 = src.shape[1]//4\n",
    "    def v(pos): \n",
    "\n",
    "        if num == 2 :\n",
    "            src[:,:h] += pos*10\n",
    "            src[:w,:] += pos*5\n",
    "        elif num == 4 :\n",
    "            src[:w,:h]+= (pos*1)\n",
    "            src[:w,h:]+= (pos*5)\n",
    "            src[w:,:h]+= (pos*7)\n",
    "            src[w:,h:]+= (pos*3)\n",
    "        elif num == 8 :\n",
    "            src[:w,:h]+= (pos*1)\n",
    "            src[:w,h:]+= (pos*5)\n",
    "            src[w:,:h]+= (pos*7)\n",
    "            src[w:,h:]+= (pos*3)\n",
    "            src[:w_2,:h]+= (pos*10)\n",
    "            src[:w_2,h:]+= (pos*2)\n",
    "            src[w:,:h_2]+= (pos*5)\n",
    "            src[w:,h_2:]+= (pos*15)\n",
    "        else:\n",
    "            print(\"다시입력하세요\")\n",
    "        cv2.imshow('dst',src)\n",
    "        \n",
    "    cv2.namedWindow('dst')\n",
    "    cv2.createTrackbar('Brightness','dst',0,100,v)\n",
    "    v(0)\n",
    "    cv2.waitKey()\n",
    "    cv2.destroyAllWindows()"
   ]
  },
  {
   "cell_type": "code",
   "execution_count": 20,
   "id": "3f181bab",
   "metadata": {},
   "outputs": [],
   "source": [
    "f4(4)"
   ]
  },
  {
   "cell_type": "code",
   "execution_count": 21,
   "id": "ff1c5cf6",
   "metadata": {},
   "outputs": [],
   "source": [
    "def cyclic_iter(l, spec_index): #순환(cyclic) 반복(iteraion)\n",
    "    result =[]\n",
    "    length = len(l)\n",
    "    for i in range(length):\n",
    "        e_index = spec_index%length\n",
    "        result.append(l[e_index])\n",
    "        spec_index+=1\n",
    "    return result"
   ]
  },
  {
   "cell_type": "code",
   "execution_count": 22,
   "id": "a97d75b2",
   "metadata": {
    "scrolled": false
   },
   "outputs": [
    {
     "name": "stdout",
     "output_type": "stream",
     "text": [
      "original list\n",
      "['a', 'b', 'c', 'd', 'e', 'f', 'g', 'h', '11', '13']\n",
      "\n",
      " 특정 인덱스 3\n",
      "['d', 'e', 'f', 'g', 'h', '11', '13', 'a', 'b', 'c']\n",
      "\n",
      " 특정 인덱스 5\n",
      "['f', 'g', 'h', '11', '13', 'a', 'b', 'c', 'd', 'e']\n"
     ]
    }
   ],
   "source": [
    "chars = ['a','b','c','d','e','f','g','h','11','13']\n",
    "print('original list')\n",
    "print(chars)\n",
    "spec_index=3\n",
    "print(\"\\n 특정 인덱스\",spec_index)\n",
    "print(cyclic_iter(chars,spec_index))\n",
    "\n",
    "spec_index=5\n",
    "print(\"\\n 특정 인덱스\",spec_index)\n",
    "print(cyclic_iter(chars,spec_index))"
   ]
  },
  {
   "cell_type": "markdown",
   "id": "f414e544",
   "metadata": {},
   "source": [
    "## 이동 평균(moving averate) 구하기"
   ]
  },
  {
   "cell_type": "code",
   "execution_count": 23,
   "id": "0ad441f2",
   "metadata": {},
   "outputs": [],
   "source": [
    "arr = [1,2,3,7,9,11,23,34,100]\n",
    "window_size=3"
   ]
  },
  {
   "cell_type": "code",
   "execution_count": 24,
   "id": "e1f5a085",
   "metadata": {},
   "outputs": [
    {
     "data": {
      "text/plain": [
       "[2.0, 4.0, 6.33, 9.0, 14.33, 22.67, 52.33]"
      ]
     },
     "execution_count": 24,
     "metadata": {},
     "output_type": "execute_result"
    }
   ],
   "source": [
    "i=0\n",
    "moving_average=[] #이동 평균을 저장할 빈 list\n",
    "while i<len(arr) - window_size+1: # 매 윈도우 크기 3마다 반복함\n",
    "    window = arr[i:i+window_size]# 현재 window를 얻기위해 list에서 i부터 i+window_size를 저장함\n",
    "    window_average = round(sum(window)/window_size, 2) # 현재 window의 평균계산\n",
    "    \n",
    "    moving_average.append(window_average) # 이동 평균 list에 현재 window를 평균저장\n",
    "    i += 1 # window를 한칸 이동함\n",
    "moving_average"
   ]
  },
  {
   "cell_type": "markdown",
   "id": "9526f862",
   "metadata": {},
   "source": [
    "![moving aerate](./images/moving.jpg)"
   ]
  },
  {
   "cell_type": "code",
   "execution_count": 25,
   "id": "fd245aa8",
   "metadata": {},
   "outputs": [],
   "source": [
    "x_list = [60,120,180,240,480]\n",
    "y=[]"
   ]
  },
  {
   "cell_type": "code",
   "execution_count": 26,
   "id": "b910d922",
   "metadata": {},
   "outputs": [
    {
     "data": {
      "text/plain": [
       "[90, 150, 210, 360]"
      ]
     },
     "execution_count": 26,
     "metadata": {},
     "output_type": "execute_result"
    }
   ],
   "source": [
    "for i in range(len(x_list)-1): # x_list의 개수-1만큼 반복, x_list가 5이므로 0~3까지\n",
    "    y.append(int((x_list[i]+x_list[i+1])/2)) \n",
    "    # i가 0일경우 x_list의 [0]번째+ x_list[0+1]번째를 더하여 2로나눈값을 추가 \n",
    "y"
   ]
  },
  {
   "cell_type": "code",
   "execution_count": 27,
   "id": "25f72974",
   "metadata": {},
   "outputs": [
    {
     "data": {
      "text/plain": [
       "[[60, 90], [90, 150], [150, 210], [210, 360]]"
      ]
     },
     "execution_count": 27,
     "metadata": {},
     "output_type": "execute_result"
    }
   ],
   "source": [
    "z=[[x_list[0],y[0]]] # z는 [[x_list[0]번째 60, y[0]번째 90 ]] 추가\n",
    "for i in range(0,len(y)-1): # 0부터 y의개수 -1 만큼 이므로 0~2까지\n",
    "    z.append([y[i],y[i+1]]) # i가 0일경우 y[0]번째 90, y[0+1]번째 150 추가\n",
    "z"
   ]
  },
  {
   "cell_type": "code",
   "execution_count": 28,
   "id": "207f72b0",
   "metadata": {
    "scrolled": true
   },
   "outputs": [
    {
     "data": {
      "text/plain": [
       "[[60, 90], [90, 150], [150, 210], [210, 360], [360, 480]]"
      ]
     },
     "execution_count": 28,
     "metadata": {},
     "output_type": "execute_result"
    }
   ],
   "source": [
    "z.append([y[-1],x_list[-1]]) # y리스트와 x_list의 뒤에서 -1번째 추가\n",
    "z"
   ]
  },
  {
   "cell_type": "code",
   "execution_count": 73,
   "id": "5481da77",
   "metadata": {},
   "outputs": [],
   "source": [
    "def contrast1():\n",
    "    src= cv2.imread('./images/m.png', cv2.IMREAD_GRAYSCALE)\n",
    "    if src is None:\n",
    "        print(\"파일 로딩 실패\")\n",
    "        return\n",
    "    s = 2.0\n",
    "    dst = cv2.multiply(src, s)\n",
    "    cv2.imshow('src',src)\n",
    "    cv2.imshow('dst',dst)\n",
    "    cv2.waitKey()\n",
    "    cv2.destroyAllWindows()"
   ]
  },
  {
   "cell_type": "code",
   "execution_count": 72,
   "id": "41ea126f",
   "metadata": {},
   "outputs": [
    {
     "name": "stdout",
     "output_type": "stream",
     "text": [
      "(427, 432)\n"
     ]
    }
   ],
   "source": [
    "contrast1()"
   ]
  },
  {
   "cell_type": "code",
   "execution_count": 118,
   "id": "09852893",
   "metadata": {},
   "outputs": [],
   "source": [
    "import numpy as np\n",
    "import cv2\n",
    "\n",
    "def contrast2(s_value):\n",
    "    src= cv2.imread('./images/m.png', cv2.IMREAD_GRAYSCALE)\n",
    "    if src is None:\n",
    "        print(\"파일 로딩 실패\")\n",
    "        return\n",
    "    s = np.array([s_value])\n",
    "    dst = src * s\n",
    "    dst = np.clip(dst, 0, 255).astype(np.uint8) # np.clip은 자른다는의미 (0에서 255까지), astype은 형변환\n",
    "    cv2.imshow('src',src)\n",
    "    cv2.imshow('dst',dst)\n",
    "    cv2.waitKey()\n",
    "    cv2.destroyAllWindows()"
   ]
  },
  {
   "cell_type": "code",
   "execution_count": 130,
   "id": "2a6935b3",
   "metadata": {},
   "outputs": [
    {
     "data": {
      "text/plain": [
       "[None, None, None, None]"
      ]
     },
     "execution_count": 130,
     "metadata": {},
     "output_type": "execute_result"
    }
   ],
   "source": [
    "[contrast2(i) for i in np.arange(1.0,5.0,1.0)]"
   ]
  },
  {
   "cell_type": "markdown",
   "id": "9e3551e7",
   "metadata": {},
   "source": [
    "np.clip(dst, 0, 255): 이 부분은 NumPy의 clip 함수를 사용하여 dst 배열의 각 요소를 0과 255 사이의 값으로 제한(클리핑)합니다. 이렇게 하면 픽셀 값이 0 미만이거나 255를 초과하는 경우 해당 값을 0 또는 255로 변경합니다. 이 과정은 이미지 데이터를 정규화하여 픽셀 값이 올바른 범위 내에 있도록 보장합니다."
   ]
  },
  {
   "cell_type": "code",
   "execution_count": 104,
   "id": "af1bce5f",
   "metadata": {},
   "outputs": [],
   "source": [
    "def contrast3(ratio):\n",
    "    src= cv2.imread('./images/m.png', cv2.IMREAD_GRAYSCALE)\n",
    "    if src is None:\n",
    "        print(\"파일 로딩 실패\")\n",
    "        return\n",
    "    dst = np.asarray(src * ratio, dtype=\"uint8\")\n",
    "    cv2.imshow('src',src)\n",
    "    cv2.imshow('dst',dst)\n",
    "    cv2.waitKey()\n",
    "    cv2.destroyAllWindows()"
   ]
  },
  {
   "cell_type": "code",
   "execution_count": 105,
   "id": "3a993a98",
   "metadata": {},
   "outputs": [],
   "source": [
    "contrast3(1.1)"
   ]
  },
  {
   "cell_type": "code",
   "execution_count": 125,
   "id": "9f37bc5a",
   "metadata": {},
   "outputs": [
    {
     "data": {
      "text/plain": [
       "[None, None, None, None, None, None, None, None]"
      ]
     },
     "execution_count": 125,
     "metadata": {},
     "output_type": "execute_result"
    }
   ],
   "source": [
    "[contrast3(i) for i in [0,3,0,7,1,5,1,8]]"
   ]
  }
 ],
 "metadata": {
  "kernelspec": {
   "display_name": "Python 3 (ipykernel)",
   "language": "python",
   "name": "python3"
  },
  "language_info": {
   "codemirror_mode": {
    "name": "ipython",
    "version": 3
   },
   "file_extension": ".py",
   "mimetype": "text/x-python",
   "name": "python",
   "nbconvert_exporter": "python",
   "pygments_lexer": "ipython3",
   "version": "3.11.4"
  }
 },
 "nbformat": 4,
 "nbformat_minor": 5
}
