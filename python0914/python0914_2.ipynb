{
 "cells": [
  {
   "cell_type": "code",
   "execution_count": 1,
   "id": "5b953c4e",
   "metadata": {},
   "outputs": [],
   "source": [
    "import numpy as np\n",
    "import cv2\n"
   ]
  },
  {
   "cell_type": "code",
   "execution_count": 4,
   "id": "7106da12",
   "metadata": {},
   "outputs": [],
   "source": [
    "img = np.full((400,400,3), 255, np.uint8)\n",
    "cv2.line(img,(50,50),(200,50),(0,0,255)) # 시작점, 끝점, 색상, 두께\n",
    "cv2.line(img,(50,100),(200,100),(255,0,255),3)\n",
    "cv2.imshow('img',img)\n",
    "cv2.waitKey()\n",
    "cv2.destroyAllWindows()"
   ]
  },
  {
   "cell_type": "code",
   "execution_count": 2,
   "id": "dd797f95",
   "metadata": {},
   "outputs": [],
   "source": [
    "import random"
   ]
  },
  {
   "cell_type": "code",
   "execution_count": 4,
   "id": "84e266f9",
   "metadata": {},
   "outputs": [],
   "source": [
    "def color():\n",
    "    return (np.random.randint(1,255),np.random.randint(1,255),np.random.randint(1,255))"
   ]
  },
  {
   "cell_type": "code",
   "execution_count": 5,
   "id": "443d733e",
   "metadata": {},
   "outputs": [],
   "source": [
    "def deg_to_rad(x):\n",
    "    return np.pi*x/180"
   ]
  },
  {
   "cell_type": "code",
   "execution_count": 6,
   "id": "d53697f6",
   "metadata": {},
   "outputs": [],
   "source": [
    "def end_point(r=20, theta=20):\n",
    "    rad = deg_to_rad(theta)\n",
    "    value = (int(r*np.cos(rad)), int(r*np.sin(rad)))\n",
    "#     print(value)\n",
    "    return value"
   ]
  },
  {
   "cell_type": "code",
   "execution_count": 7,
   "id": "6fa09239",
   "metadata": {},
   "outputs": [],
   "source": [
    "img = np.full((400,400,3),255,np.uint8)\n",
    "for i in range(1,360,2):\n",
    "    start= (200,200)\n",
    "    end_x, end_y = end_point(theta=360-i,r=150)\n",
    "    end_x += start[0]\n",
    "    end_y += start[1]\n",
    "    cv2.line(img, start,(end_x,end_y), color(),2)\n",
    "cv2.imshow('img', img)\n",
    "cv2.waitKey()\n",
    "cv2.destroyAllWindows()"
   ]
  },
  {
   "cell_type": "code",
   "execution_count": 8,
   "id": "ba9735d4",
   "metadata": {},
   "outputs": [],
   "source": [
    "# 라인의 시작점과 끝점중의 하나는 시작점보다 크다\n",
    "def start_r_theta(start_, r=20, theta=20):\n",
    "    rad = deg_to_rad(theta)\n",
    "    end_x = start_[0] + int(r* np.cos(rad))\n",
    "    end_y = start_[1] + int(r* np.sin(rad))\n",
    "    return (end_x,end_y)"
   ]
  },
  {
   "cell_type": "code",
   "execution_count": 9,
   "id": "6ea57c6e",
   "metadata": {},
   "outputs": [],
   "source": [
    "img = np.full((400,400,3),255,np.uint8)\n",
    "for i in range(720):\n",
    "    start= (200,200)\n",
    "    end_x, end_y = start_r_theta(start_=start, theta=360-i/2,r=150)\n",
    "    cv2.line(img, start,(end_x,end_y), (200,150,i/2),2)\n",
    "# for i in range(360):\n",
    "#     start= (200,200)\n",
    "#     end_x, end_y = start_r_theta(start_=start, theta=360-i/2,r=150)\n",
    "#     cv2.line(img, start,(end_x,end_y), (0,0,255),2)\n",
    "cv2.imshow('img', img)\n",
    "cv2.waitKey()\n",
    "cv2.destroyAllWindows()"
   ]
  },
  {
   "cell_type": "code",
   "execution_count": 10,
   "id": "5b096f97",
   "metadata": {},
   "outputs": [],
   "source": [
    "# 태극문양\n",
    "img = np.full((400,400,3),255,np.uint8)\n",
    "for i in range(360):\n",
    "    start=  start_r_theta(start_=(200,200), theta=380-i,r=100)\n",
    "    for j in range(360):\n",
    "        end_x, end_y = start_r_theta(start_=start, theta=360-j,r=100)\n",
    "        cv2.line(img, start,(end_x,end_y), (255,0,0),2)\n",
    "    start=  start_r_theta(start_=(200,200), theta=200-i,r=100)\n",
    "    for k in range(360):\n",
    "        end_x, end_y = start_r_theta(start_=start, theta=360-k,r=100)\n",
    "        cv2.line(img, start,(end_x,end_y), (0,0,255),2)\n",
    "        \n",
    "cv2.imshow('img', img)\n",
    "cv2.waitKey()\n",
    "cv2.destroyAllWindows()"
   ]
  },
  {
   "cell_type": "code",
   "execution_count": 13,
   "id": "5b170f2e",
   "metadata": {
    "scrolled": true
   },
   "outputs": [
    {
     "name": "stdout",
     "output_type": "stream",
     "text": [
      "1번(화살표),2번(선)중 선택하세요>> 1\n"
     ]
    }
   ],
   "source": [
    "# 문제1) 1번누르면 화살표가, 2번누르면 선이 나오게하기\n",
    "answer = input(\"1번(화살표),2번(선)중 선택하세요>> \")\n",
    "img = np.full((400,400,3),255,np.uint8)\n",
    "if answer == \"1\":\n",
    "    cv2.arrowedLine(img,(50,200),(150,200),(0,0,255),1)\n",
    "elif answer == \"2\":\n",
    "    cv2.line(img,(50,200),(150,200),(0,0,255),1)\n",
    "cv2.imshow('img', img)\n",
    "cv2.waitKey()\n",
    "cv2.destroyAllWindows()\n",
    "    \n"
   ]
  },
  {
   "cell_type": "code",
   "execution_count": 14,
   "id": "2f57e992",
   "metadata": {},
   "outputs": [],
   "source": [
    "cv2.drawMarker(img,(50,350),(0,0,255),cv2.MARKER_CROSS)\n",
    "cv2.drawMarker(img,(50,350),(0,0,255),cv2.MARKER_TILTED_CROSS)\n",
    "cv2.imshow('img', img)\n",
    "cv2.waitKey()\n",
    "cv2.destroyAllWindows()\n",
    "\n",
    "list_marker = [cv2.MARKER_CROSS, cv2.MARKER_TILTED_CROSS,\n",
    "              cv2.MARKER_STAR, cv2.MARKER_DIAMOND,\n",
    "              cv2.MARKER_SQUARE, cv2.MARKER_TRIANGLE_UP,\n",
    "              cv2.MARKER_TRIANGLE_DOWN]\n",
    "# 문제2) 좌표를 변경하면서 그리기\n",
    "pts=np.array([[250,250],[300,250],[300,300],[350,300],[350,350],[250,350]])\n",
    "cv2.polylines(img,[pts],True,(255,0,255),2)\n",
    "cv2.imshow('img', img)\n",
    "cv2.waitKey()\n",
    "cv2.destroyAllWindows()\n",
    "# 문제3) polyline을 랜덤으로 points로 그리고, 숫자(점(좌표)의갯수를 변경하면서 그리기)"
   ]
  },
  {
   "cell_type": "code",
   "execution_count": 24,
   "id": "dc1bcc98",
   "metadata": {},
   "outputs": [],
   "source": [
    "# 2번\n",
    "img = np.full((400,400,3),255,np.uint8)\n",
    "for i in list_marker:\n",
    "    cv2.drawMarker(img,(200,(i+3)*30),(0,0,i),i)\n",
    "cv2.imshow('img', img)\n",
    "cv2.waitKey()\n",
    "cv2.destroyAllWindows()"
   ]
  },
  {
   "cell_type": "code",
   "execution_count": 34,
   "id": "864809af",
   "metadata": {},
   "outputs": [
    {
     "name": "stdout",
     "output_type": "stream",
     "text": [
      "116\n"
     ]
    }
   ],
   "source": [
    "# 3번\n",
    "img = np.full((800,800,3),(255,250,205),np.uint8)\n",
    "for t in range(10):\n",
    "    pts = []\n",
    "    random_ = np.random.randint(1,200)\n",
    "    random_line = np.random.randint(1,50)\n",
    "    for i in range(random_):\n",
    "        pts.append([np.random.randint((i-1)*10,i*15),np.random.randint((i-1)*5,i*10)])\n",
    "    pts = np.array(pts)\n",
    "    cv2.polylines(img,[pts],True,(random_,150+random_,255),random_line)\n",
    "print(len(pts))\n",
    "cv2.imshow('img', img)\n",
    "cv2.waitKey()\n",
    "cv2.destroyAllWindows()"
   ]
  },
  {
   "cell_type": "code",
   "execution_count": 35,
   "id": "c44b54c2",
   "metadata": {},
   "outputs": [
    {
     "name": "stdout",
     "output_type": "stream",
     "text": [
      "18\n"
     ]
    }
   ],
   "source": [
    "#3번 강사님\n",
    "pts=[]\n",
    "img = np.full((400,400,3),255,np.uint8)\n",
    "for i in range(int(np.random.randint(1,30))):\n",
    "    pts.append(np.array([100+np.random.randint(200),100+np.random.randint(50)]))\n",
    "print(len(pts))\n",
    "pts21 = np.array(pts)\n",
    "cv2.polylines(img,[pts21],True,(255,0,255),2)\n",
    "cv2.imshow('img', img)\n",
    "cv2.waitKey()\n",
    "cv2.destroyAllWindows()"
   ]
  },
  {
   "cell_type": "code",
   "execution_count": 37,
   "id": "bf66717a",
   "metadata": {},
   "outputs": [],
   "source": [
    "import sys"
   ]
  },
  {
   "cell_type": "code",
   "execution_count": 62,
   "id": "eb0114c8",
   "metadata": {},
   "outputs": [],
   "source": [
    "src = cv2.imread('images/rose.bmp', cv2.IMREAD_GRAYSCALE)\n",
    "if src is None:\n",
    "    print('이미지 로딩 실패')\n",
    "    sys.exit()\n",
    "\n",
    "emboss = np.array([[1, -1, 0], [-1, 0, 1], [0, 1, 1]], np.float32)\n",
    "dst = cv2.filter2D(src, -1, emboss, delta=10)\n",
    "\n",
    "cv2.imshow('src', src)\n",
    "cv2.imshow('dst', dst)\n",
    "\n",
    "# 이미지 표시 윈도우에서 키 입력을 기다립니다.\n",
    "cv2.waitKey(0) # 1000에 1초(밀리초 단위임), 0이나 빈공간일경우 닫기전까지 무한\n",
    "\n",
    "# 모든 창을 닫습니다.\n",
    "cv2.destroyAllWindows()"
   ]
  }
 ],
 "metadata": {
  "kernelspec": {
   "display_name": "Python 3 (ipykernel)",
   "language": "python",
   "name": "python3"
  },
  "language_info": {
   "codemirror_mode": {
    "name": "ipython",
    "version": 3
   },
   "file_extension": ".py",
   "mimetype": "text/x-python",
   "name": "python",
   "nbconvert_exporter": "python",
   "pygments_lexer": "ipython3",
   "version": "3.11.4"
  }
 },
 "nbformat": 4,
 "nbformat_minor": 5
}
