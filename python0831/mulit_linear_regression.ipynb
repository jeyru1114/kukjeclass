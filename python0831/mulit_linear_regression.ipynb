{
 "cells": [
  {
   "cell_type": "markdown",
   "id": "9abb0ddc",
   "metadata": {},
   "source": [
    "## 선형회귀(lineare regression)"
   ]
  },
  {
   "cell_type": "markdown",
   "id": "34818809",
   "metadata": {},
   "source": [
    "## feature (특징) =>\n",
    "$$ y =ax +b $$\n",
    "$$ 우리가 구하고자 하는것는 직선의 기울기(a) 와  y 절편(b) 구하고자 한다  $$ \n",
    "$$  (2 |  3)  => feature 는 2다  $$\n",
    "\n",
    "$$ 기울기(a)가 2이고  y절편(b)가 1이라고 하자  $$\n",
    "$$  2\\times 1 + 1   $$\n",
    "$$  2\\times 2 + 1  $$\n",
    "$$  2\\times 3 + 1  $$\n",
    "$$   J =(비용/COST/오차/에러) $$ \n",
    "$$  정답(y)와 모델에서 출력된 값(\\widehat{y})의 차이(error)를 \n",
    "제곱하고 제곱한 값을 학습데이터 전체를 다  더하고 그 데이터의\n",
    "갯수로 나눈값을 말함$$\n",
    "$$ 평균(mean)  $$ \n",
    "$$  제곱(square)  $$  \n",
    "$$  J =  MSE  $$ \n",
    "$$ a \\leftarrow a- \\alpha \\frac{\\partial J}{\\partial a} $$\n",
    "training data 중 데이터 하나가 공간의 점(벡터) 이다\n",
    "<table>\n",
    "    <tr>\n",
    "        <th>x1</th>\n",
    "        <th>x2</th>\n",
    "        <th>x3</th>\n",
    "        <th>x4</th>\n",
    "        <th>y(label/정답)</th>\n",
    "    </tr>\n",
    "    <tr>\n",
    "        <td>1</td>\n",
    "        <td>3</td>\n",
    "        <td>6</td>\n",
    "        <td>7</td>\n",
    "        <td>70</td>\n",
    "    </tr>\n",
    "    <tr>\n",
    "        <td>12</td>\n",
    "        <td>45</td>\n",
    "        <td>22</td>\n",
    "        <td>15</td>\n",
    "        <td>77</td>\n",
    "    </tr>\n",
    "    <tr>\n",
    "        <td>13</td>\n",
    "        <td>117</td>\n",
    "        <td>113</td>\n",
    "        <td>667</td>\n",
    "        <td>17</td>\n",
    "    </tr>\n",
    "    <tr>\n",
    "        <td>123</td>\n",
    "        <td>112</td>\n",
    "        <td>15</td>\n",
    "        <td>6467</td>\n",
    "        <td>777</td>\n",
    "    </tr>\n",
    "    <tr>\n",
    "        <td>213</td>\n",
    "        <td>1217</td>\n",
    "        <td>1213</td>\n",
    "        <td>6677</td>\n",
    "        <td>755</td>\n",
    "    </tr>\n",
    "</table>\n",
    "###  feature가 4개다 \n",
    "$$ y = w_{1}x_{1}+w_{2}x_{2}+w_{3}x_{3}+w_{4}x_{4}+b $$ \n",
    "$$ w_{1}, w_{2}, w_{3}, x_{4}가 feature가 되고 y가 정답(label) $$ \n",
    "$$ 우리가 찾고자 하는것은 뭘까?   $$ \n",
    "(3, 4, 6, 7 |  5) \n",
    "$$  우리가 구하고자 하는것은 w_{1}, w_{2}, w_{3}, x_{4} 과 b(bias.y 절편)     $$\n",
    "training data(학습) 데이터는 5개이므로 5개의 점들과 $ \\widehat{y} $ 과 거리의 제곱의 합을 5로 나눈평균이\n",
    "코스트(비용/에러/오차/손실/LOSS) 이다"
   ]
  },
  {
   "cell_type": "code",
   "execution_count": 63,
   "id": "9c28c966",
   "metadata": {},
   "outputs": [],
   "source": [
    "import numpy as np\n",
    "import pandas as pd\n",
    "import matplotlib.pyplot as plt\n",
    "from sklearn.model_selection import train_test_split"
   ]
  },
  {
   "cell_type": "code",
   "execution_count": 64,
   "id": "c70d25fe",
   "metadata": {
    "scrolled": true
   },
   "outputs": [
    {
     "data": {
      "text/html": [
       "<div>\n",
       "<style scoped>\n",
       "    .dataframe tbody tr th:only-of-type {\n",
       "        vertical-align: middle;\n",
       "    }\n",
       "\n",
       "    .dataframe tbody tr th {\n",
       "        vertical-align: top;\n",
       "    }\n",
       "\n",
       "    .dataframe thead th {\n",
       "        text-align: right;\n",
       "    }\n",
       "</style>\n",
       "<table border=\"1\" class=\"dataframe\">\n",
       "  <thead>\n",
       "    <tr style=\"text-align: right;\">\n",
       "      <th></th>\n",
       "      <th>R&amp;D Spend</th>\n",
       "      <th>Administration</th>\n",
       "      <th>Marketing Spend</th>\n",
       "      <th>State</th>\n",
       "      <th>Profit</th>\n",
       "    </tr>\n",
       "  </thead>\n",
       "  <tbody>\n",
       "    <tr>\n",
       "      <th>0</th>\n",
       "      <td>165349.20</td>\n",
       "      <td>136897.80</td>\n",
       "      <td>471784.10</td>\n",
       "      <td>New York</td>\n",
       "      <td>192261.83</td>\n",
       "    </tr>\n",
       "    <tr>\n",
       "      <th>1</th>\n",
       "      <td>162597.70</td>\n",
       "      <td>151377.59</td>\n",
       "      <td>443898.53</td>\n",
       "      <td>California</td>\n",
       "      <td>191792.06</td>\n",
       "    </tr>\n",
       "    <tr>\n",
       "      <th>2</th>\n",
       "      <td>153441.51</td>\n",
       "      <td>101145.55</td>\n",
       "      <td>407934.54</td>\n",
       "      <td>Florida</td>\n",
       "      <td>191050.39</td>\n",
       "    </tr>\n",
       "  </tbody>\n",
       "</table>\n",
       "</div>"
      ],
      "text/plain": [
       "   R&D Spend  Administration  Marketing Spend       State     Profit\n",
       "0  165349.20       136897.80        471784.10    New York  192261.83\n",
       "1  162597.70       151377.59        443898.53  California  191792.06\n",
       "2  153441.51       101145.55        407934.54     Florida  191050.39"
      ]
     },
     "execution_count": 64,
     "metadata": {},
     "output_type": "execute_result"
    }
   ],
   "source": [
    "df = pd.read_csv(\"50_Startups.csv\")\n",
    "df[:3]"
   ]
  },
  {
   "cell_type": "code",
   "execution_count": 67,
   "id": "4cb7a7db",
   "metadata": {},
   "outputs": [],
   "source": [
    "x = df.iloc[:,:-1].values # 칼럼(열) 중에서 맨 오른쪽 데이터 제외(정답)\n",
    "y = df.iloc[:,-1].values # 가장 오른쪽 데이터(정답)"
   ]
  },
  {
   "cell_type": "markdown",
   "id": "fd3d39c8",
   "metadata": {},
   "source": [
    "'State' 칼럼이 서로 다른 이름의 'New York', 'Florida' , 'California'을 가지고 있고\n",
    "데이터 형태(text 형태) 를 숫자로 변화시키고자 함\n",
    "첫번째 행이 State가 'New York'을 가지고 있다면 'New York' 칼럼만 1이 되고 나머지는\n",
    "0이 되도록 함 (one hot encoding)"
   ]
  },
  {
   "cell_type": "markdown",
   "id": "475add20",
   "metadata": {},
   "source": [
    "<a href=\"https://needjarvis.tistory.com/565\"> one hot encoding</a>\n",
    "<img src=\"2/one.png\"/>"
   ]
  },
  {
   "cell_type": "code",
   "execution_count": 68,
   "id": "bcd05c3a",
   "metadata": {},
   "outputs": [],
   "source": [
    "from sklearn.compose import ColumnTransformer\n",
    "from sklearn.preprocessing import OneHotEncoder\n",
    "ct = ColumnTransformer(transformers=[('encoder', OneHotEncoder(), [3])], remainder='passthrough')\n",
    "x = np.array(ct.fit_transform(x))"
   ]
  },
  {
   "cell_type": "markdown",
   "id": "25fa634b",
   "metadata": {},
   "source": [
    "#### 데이터를 최소값에 빠르게 수렴하도록 하기 위해 값을 원형 형태로\n",
    "#### 변형함"
   ]
  },
  {
   "cell_type": "code",
   "execution_count": 69,
   "id": "6abf5715",
   "metadata": {},
   "outputs": [],
   "source": [
    "from sklearn.preprocessing import StandardScaler\n",
    "sc = StandardScaler()\n",
    "x = sc.fit_transform(x)"
   ]
  },
  {
   "cell_type": "markdown",
   "id": "db43ffe2",
   "metadata": {},
   "source": [
    "제공되는 excel 데이터를 학습 data와 test 데이터로 분리함"
   ]
  },
  {
   "cell_type": "code",
   "execution_count": 70,
   "id": "a5c00f8f",
   "metadata": {},
   "outputs": [],
   "source": [
    "Xtrain, Xtest, Ytrain, Ytest = train_test_split( x, y, test_size = 0.3,random_state=42)"
   ]
  },
  {
   "cell_type": "code",
   "execution_count": 71,
   "id": "452b9d44",
   "metadata": {},
   "outputs": [],
   "source": [
    "def CostFunction(x,y,w,b):\n",
    "    cost = np.sum((((x.dot(w) + b) - y) ** 2) / (2*len(y)))\n",
    "    return cost"
   ]
  },
  {
   "cell_type": "markdown",
   "id": "f33811ba",
   "metadata": {},
   "source": [
    "$$ \\widehat{y} = w_{1}x_{1}+w_{2}x_{2}+w_{3}x_{3}+w_{4}x_{4}+b $$\n",
    "\n",
    "$$   MSE = \\frac{1}{n}\\sum_{i=1}^{n}(y-\\widehat{y})^{2} $$ "
   ]
  },
  {
   "cell_type": "markdown",
   "id": "8621fdbc",
   "metadata": {},
   "source": [
    "$$ 모델은 입력 데이터와 출력 데이터 사이의 선형 관계를 학습 $$\n",
    "\n",
    "$$ 직선의방정식, 선형 회귀 모델의 예측값 \\widehat{y}를 나타냄 $$\n",
    "$$ \\widehat{y} = wx + b $$ \n",
    "\n",
    "$$ MSE $$\n",
    "$$ J = \\frac{1}{n}\\sum_{i=0}^{n}(y - \\widehat{y})^2 $$\n",
    "\n",
    "$$  가중치 w에 대한 평균 제곱 오차의 미분, 손실함수조절 $$\n",
    "$$ \\frac{\\partial J}{\\partial w} = -\\frac{2}{n}\\sum_{i=0}^{n}(y - \\widehat{y})x $$\n",
    "$$ 편향 b에 대한 평균 제곱 오차의 미분, 손실함수조절 $$\n",
    "$$ \\frac{\\partial J}{\\partial b} = -\\frac{2}{n}\\sum_{i=0}^{n}(y - \\widehat{y}) $$\n",
    "\n",
    "$$ 경사 하강법(Gradient Descent)을 사용하여 가중치 w를 업데이트하는 식 $$\n",
    "$$ \\alpha는 학습률(learning rate)로, 가중치 업데이트의 크기를 제어 $$\n",
    "$$ w \\leftarrow w - \\alpha \\frac{\\partial J}{\\partial w} $$\n",
    "$$ b \\leftarrow b - \\alpha \\frac{\\partial J}{\\partial b} $$"
   ]
  },
  {
   "cell_type": "code",
   "execution_count": 72,
   "id": "ae1ad61c",
   "metadata": {},
   "outputs": [],
   "source": [
    "def GradientDescent(x, y, w, b, learning_rate, epochs):\n",
    "    cost_list = [0] * epochs\n",
    "   \n",
    "    for epoch in range(epochs):\n",
    "        z = x.dot(w) + b\n",
    "        loss = z - y\n",
    "        \n",
    "        weight_gradient = x.T.dot(loss) / len(y)\n",
    "        bias_gradient = np.sum(loss) / len(y)\n",
    "        \n",
    "        w = w - learning_rate*weight_gradient\n",
    "        b = b - learning_rate*bias_gradient\n",
    "  \n",
    "        cost = CostFunction(x, y, w, b)\n",
    "        cost_list[epoch] = cost\n",
    "        \n",
    "        if (epoch%(epochs/10)==0):\n",
    "            print(\"Cost is:\",cost)\n",
    "        \n",
    "    return w, b, cost_list"
   ]
  },
  {
   "cell_type": "code",
   "execution_count": 73,
   "id": "4ae17815",
   "metadata": {
    "scrolled": true
   },
   "outputs": [
    {
     "name": "stdout",
     "output_type": "stream",
     "text": [
      "Cost is: 6989316078.6237135\n",
      "Cost is: 93910079.25025299\n",
      "Cost is: 52213406.460179575\n",
      "Cost is: 44053387.931024216\n",
      "Cost is: 41718884.293359876\n",
      "Cost is: 41048136.36983321\n",
      "Cost is: 40855409.298071906\n",
      "Cost is: 40800032.69430475\n",
      "Cost is: 40784121.238607384\n",
      "Cost is: 40779549.37241818\n"
     ]
    }
   ],
   "source": [
    "w, b, c= GradientDescent(Xtrain, Ytrain, np.zeros(Xtrain.shape[1]), 0, 0.002,epochs=15000)"
   ]
  },
  {
   "cell_type": "code",
   "execution_count": 74,
   "id": "73467ef4",
   "metadata": {},
   "outputs": [
    {
     "data": {
      "text/plain": [
       "[<matplotlib.lines.Line2D at 0x245b1ab6110>]"
      ]
     },
     "execution_count": 74,
     "metadata": {},
     "output_type": "execute_result"
    },
    {
     "data": {
      "image/png": "[encoded data removed]",
      "text/plain": [
       "<Figure size 640x480 with 1 Axes>"
      ]
     },
     "metadata": {},
     "output_type": "display_data"
    }
   ],
   "source": [
    "plt.plot(c)"
   ]
  },
  {
   "cell_type": "code",
   "execution_count": 3,
   "id": "d7431ecb",
   "metadata": {},
   "outputs": [
    {
     "ename": "NameError",
     "evalue": "name 'x' is not defined",
     "output_type": "error",
     "traceback": [
      "\u001b[1;31m---------------------------------------------------------------------------\u001b[0m",
      "\u001b[1;31mNameError\u001b[0m                                 Traceback (most recent call last)",
      "Cell \u001b[1;32mIn[3], line 5\u001b[0m\n\u001b[0;32m      3\u001b[0m alpha \u001b[38;5;241m=\u001b[39m\u001b[38;5;241m0.01\u001b[39m\n\u001b[0;32m      4\u001b[0m \u001b[38;5;28;01mfor\u001b[39;00m i \u001b[38;5;129;01min\u001b[39;00m \u001b[38;5;28mrange\u001b[39m(\u001b[38;5;241m8000\u001b[39m):\n\u001b[1;32m----> 5\u001b[0m     y_hat \u001b[38;5;241m=\u001b[39m a\u001b[38;5;241m*\u001b[39mx\u001b[38;5;241m+\u001b[39m b\n\u001b[0;32m      6\u001b[0m     a\u001b[38;5;241m=\u001b[39m a \u001b[38;5;241m-\u001b[39m alpha\u001b[38;5;241m*\u001b[39mderivatived_cost(y,y_hat,\u001b[38;5;28;01mTrue\u001b[39;00m,x)\n\u001b[0;32m      7\u001b[0m     b\u001b[38;5;241m=\u001b[39m b \u001b[38;5;241m-\u001b[39m alpha\u001b[38;5;241m*\u001b[39mderivatived_cost(y,y_hat,\u001b[38;5;28;01mFalse\u001b[39;00m)\n",
      "\u001b[1;31mNameError\u001b[0m: name 'x' is not defined"
     ]
    }
   ],
   "source": [
    "a=10000 # 초기값\n",
    "b= 2000 #초기값 \n",
    "alpha =0.01\n",
    "for i in range(8000):\n",
    "    y_hat = w1*x1+w2*x2+w3*x3+w4*x4+ b\n",
    "    w1= w1 - alpha*derivatived_cost(y,y_hat,x1,1)\n",
    "    w1= w1 - alpha*derivatived_cost(y,y_hat,x2)\n",
    "    b= b - alpha*derivatived_cost(y,y_hat,False)\n",
    "    if i%1000:\n",
    "        print('step: ',i ,'a:',a, 'b:',b)"
   ]
  },
  {
   "cell_type": "code",
   "execution_count": 1,
   "id": "d524285d",
   "metadata": {},
   "outputs": [],
   "source": [
    "import numpy as np"
   ]
  },
  {
   "cell_type": "code",
   "execution_count": 2,
   "id": "e255c361",
   "metadata": {},
   "outputs": [],
   "source": [
    "x= np.array([1,2,3]) #feature\n",
    "y= np.array([3,5,7]) #label정답 "
   ]
  },
  {
   "cell_type": "markdown",
   "id": "c156fc95",
   "metadata": {},
   "source": [
    "$$  \\lim_{h\\rightarrow0} \\frac{f(x+h)-f(x)}{h}    $$"
   ]
  },
  {
   "cell_type": "code",
   "execution_count": 3,
   "id": "3da6a1eb",
   "metadata": {},
   "outputs": [],
   "source": [
    "def derivative(f, x):\n",
    "    h=0.000001\n",
    "    return f(x+h)/f(x)"
   ]
  },
  {
   "cell_type": "code",
   "execution_count": 14,
   "id": "71d7c93c",
   "metadata": {},
   "outputs": [],
   "source": [
    "def cost_a(x_,y_,a):\n",
    "    print('here is cost_a', x_,y_, a)\n",
    "    sum_=0\n",
    "    for i,j in zip(x_,y_):\n",
    "        sum_+= (j-i)\n",
    "        sum_*=a\n",
    "    return sum_/len(x_)"
   ]
  },
  {
   "cell_type": "code",
   "execution_count": 15,
   "id": "f02589d7",
   "metadata": {},
   "outputs": [],
   "source": [
    "def cost_b(x_,y_):\n",
    "    print('here is cost_b')\n",
    "    sum_=0\n",
    "    for i,j in zip(x_,y_):\n",
    "        sum_+= (j-i)\n",
    "    return sum_/len(x_)"
   ]
  },
  {
   "cell_type": "code",
   "execution_count": 16,
   "id": "344aeff5",
   "metadata": {},
   "outputs": [
    {
     "name": "stdout",
     "output_type": "stream",
     "text": [
      "here is cost_a [1 2 3] [3 5 7] 100\n",
      "here is cost_b\n"
     ]
    },
    {
     "ename": "TypeError",
     "evalue": "'numpy.float64' object is not callable",
     "output_type": "error",
     "traceback": [
      "\u001b[1;31m---------------------------------------------------------------------------\u001b[0m",
      "\u001b[1;31mTypeError\u001b[0m                                 Traceback (most recent call last)",
      "Cell \u001b[1;32mIn[16], line 5\u001b[0m\n\u001b[0;32m      3\u001b[0m alpha \u001b[38;5;241m=\u001b[39m\u001b[38;5;241m0.01\u001b[39m\n\u001b[0;32m      4\u001b[0m \u001b[38;5;28;01mfor\u001b[39;00m i \u001b[38;5;129;01min\u001b[39;00m \u001b[38;5;28mrange\u001b[39m(\u001b[38;5;241m10000\u001b[39m):\n\u001b[1;32m----> 5\u001b[0m     cost_a \u001b[38;5;241m=\u001b[39m  \u001b[43mcost_a\u001b[49m\u001b[43m(\u001b[49m\u001b[43mx\u001b[49m\u001b[43m,\u001b[49m\u001b[43my\u001b[49m\u001b[43m,\u001b[49m\u001b[43ma\u001b[49m\u001b[43m)\u001b[49m\n\u001b[0;32m      6\u001b[0m     cost_b \u001b[38;5;241m=\u001b[39m  cost_b(x,y)\n\u001b[0;32m      7\u001b[0m     a\u001b[38;5;241m=\u001b[39m a \u001b[38;5;241m-\u001b[39m alpha\u001b[38;5;241m*\u001b[39mcost_a \n",
      "\u001b[1;31mTypeError\u001b[0m: 'numpy.float64' object is not callable"
     ]
    }
   ],
   "source": [
    "a=100 # 초기값\n",
    "b= 20 #초기값 \n",
    "alpha =0.01\n",
    "for i in range(10000):\n",
    "    cost_a =  cost_a(x,y,a)\n",
    "    cost_b =  cost_b(x,y)\n",
    "    a= a - alpha*cost_a \n",
    "    b= b - alpha*cost_b\n",
    "    if i%1000:\n",
    "        print('a:',a, 'b:',b,'cost_a:',cost_a , 'cost_b:',cost_b)"
   ]
  }
 ],
 "metadata": {
  "kernelspec": {
   "display_name": "Python 3 (ipykernel)",
   "language": "python",
   "name": "python3"
  },
  "language_info": {
   "codemirror_mode": {
    "name": "ipython",
    "version": 3
   },
   "file_extension": ".py",
   "mimetype": "text/x-python",
   "name": "python",
   "nbconvert_exporter": "python",
   "pygments_lexer": "ipython3",
   "version": "3.11.4"
  }
 },
 "nbformat": 4,
 "nbformat_minor": 5
}
