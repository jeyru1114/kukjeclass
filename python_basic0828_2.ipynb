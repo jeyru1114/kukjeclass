{
 "cells": [
  {
   "cell_type": "markdown",
   "id": "e3e4217b",
   "metadata": {},
   "source": [
    "$$ 360^\\circ : 70^\\circ = 2*3.14: x \\rightarrow x = (70\\cdot6.28)/360 $$"
   ]
  },
  {
   "cell_type": "markdown",
   "id": "b7b08840",
   "metadata": {},
   "source": [
    "$$ 360^\\circ : x = 2\\times\\pi:3 \\rightarrow x = (360\\times3)/2 \\pi $$"
   ]
  },
  {
   "cell_type": "code",
   "execution_count": 1,
   "id": "827bb7dc",
   "metadata": {},
   "outputs": [],
   "source": [
    "import numpy as np"
   ]
  },
  {
   "cell_type": "code",
   "execution_count": 2,
   "id": "f4aac85d",
   "metadata": {},
   "outputs": [],
   "source": [
    "def degree_to_radian(x):\n",
    "    return (x*2*np.pi)/360"
   ]
  },
  {
   "cell_type": "code",
   "execution_count": 16,
   "id": "f5a5f625",
   "metadata": {},
   "outputs": [
    {
     "data": {
      "text/plain": [
       "6.283185307179586"
      ]
     },
     "execution_count": 16,
     "metadata": {},
     "output_type": "execute_result"
    }
   ],
   "source": [
    "degree_to_radian(360)"
   ]
  },
  {
   "cell_type": "code",
   "execution_count": 5,
   "id": "34f14d49",
   "metadata": {},
   "outputs": [],
   "source": [
    "def redian_to_degree(x):\n",
    "    return (x/2/np.pi)*360"
   ]
  },
  {
   "cell_type": "code",
   "execution_count": 17,
   "id": "1f02727e",
   "metadata": {
    "scrolled": true
   },
   "outputs": [
    {
     "data": {
      "text/plain": [
       "360.0"
      ]
     },
     "execution_count": 17,
     "metadata": {},
     "output_type": "execute_result"
    }
   ],
   "source": [
    "redian_to_degree(6.283185307179586)"
   ]
  },
  {
   "cell_type": "code",
   "execution_count": 18,
   "id": "c900d347",
   "metadata": {},
   "outputs": [],
   "source": [
    "#강사님)\n",
    "# def redian_to_degree(x):\n",
    "#     return(360*x)/(2np.pi)"
   ]
  },
  {
   "cell_type": "code",
   "execution_count": 31,
   "id": "7b633c55",
   "metadata": {},
   "outputs": [
    {
     "name": "stdout",
     "output_type": "stream",
     "text": [
      "90\n",
      "450\n",
      "810\n",
      "990\n",
      "1350\n"
     ]
    }
   ],
   "source": [
    "x_cos = [ ((i+1) * 15, np.cos(degree_to_radian((i+1)*15))) for i in range(100)]\n",
    "for i,j in x_cos:\n",
    "    if j>0 and j < 0.000001:\n",
    "        print(i)"
   ]
  },
  {
   "cell_type": "code",
   "execution_count": 19,
   "id": "5ee0171d",
   "metadata": {
    "scrolled": true
   },
   "outputs": [
    {
     "data": {
      "text/plain": [
       "0.8660254037844387"
      ]
     },
     "execution_count": 19,
     "metadata": {},
     "output_type": "execute_result"
    }
   ],
   "source": [
    "np.cos(degree_to_radian(30))"
   ]
  },
  {
   "cell_type": "markdown",
   "id": "3152f058",
   "metadata": {},
   "source": [
    "<img src=\"1/cos.png\"/>"
   ]
  },
  {
   "cell_type": "code",
   "execution_count": 20,
   "id": "fb4f73a8",
   "metadata": {
    "scrolled": true
   },
   "outputs": [
    {
     "data": {
      "text/plain": [
       "0.8660254037844386"
      ]
     },
     "execution_count": 20,
     "metadata": {},
     "output_type": "execute_result"
    }
   ],
   "source": [
    "np.sqrt(3)/2"
   ]
  },
  {
   "cell_type": "markdown",
   "id": "9aa7427b",
   "metadata": {},
   "source": [
    "$$ \\overrightarrow{a} = (a_{1},a_{2},a_{3}, \\cdot \\cdot \\cdot , a_{n-1},a_{n}) $$\n",
    "$$ \\overrightarrow{b} = (b_{1},b_{2},b_{3}, \\cdot \\cdot \\cdot , b_{n-1},b_{n}) $$\n",
    "$$ \\overrightarrow{a} \\cdot \\overrightarrow{b}\n",
    "    = a_{1}b_{1}+a_{2}b_{2}+a_{3}b_{3} + \\cdot \\cdot \\cdot + a_{n-1}b_{n-1}\n",
    "        +a_{n}b_{n} $$\n",
    "\n",
    "$$ \\sum_{i=0}^n a_{i}b_{i} $$\n",
    "$$ \\overrightarrow{a} \\cdot \\overrightarrow{b} = | \\overrightarrow{a} | \n",
    "    | \\overrightarrow{b} |   cos \\theta \\rightarrow \\theta=a 벡터와 b 벡터가 \n",
    "    이루는 각도$$"
   ]
  },
  {
   "cell_type": "markdown",
   "id": "ab8b5d85",
   "metadata": {},
   "source": [
    "<img src=\"1/dotpng.png\"/>"
   ]
  },
  {
   "cell_type": "code",
   "execution_count": 1,
   "id": "919246c8",
   "metadata": {},
   "outputs": [],
   "source": [
    "import numpy as np"
   ]
  },
  {
   "cell_type": "code",
   "execution_count": 2,
   "id": "5bc45024",
   "metadata": {},
   "outputs": [
    {
     "data": {
      "text/plain": [
       "(100, 100)"
      ]
     },
     "execution_count": 2,
     "metadata": {},
     "output_type": "execute_result"
    }
   ],
   "source": [
    "x = np.array([[ np.random.randint(100) for _ in range(100)] for _ in range(100)])\n",
    "np.shape(np.array(x))"
   ]
  },
  {
   "cell_type": "code",
   "execution_count": 3,
   "id": "463510dd",
   "metadata": {},
   "outputs": [
    {
     "data": {
      "text/plain": [
       "array([73, 92, 36, 66, 66, 30, 77, 85, 45, 41, 54, 39, 74, 60, 36, 59, 84,\n",
       "       71, 45, 34, 65, 24, 66, 57, 93, 15, 45, 25, 44, 21, 62, 77, 88, 94,\n",
       "       91, 85, 29, 65, 59, 64, 39, 47, 47, 90, 35, 47, 99, 68, 48, 68, 92,\n",
       "       11, 12, 88, 41, 84,  5, 47, 43, 97, 65, 36, 62, 84, 46,  1, 88, 74,\n",
       "       19, 62, 59, 94, 12,  8, 35, 92, 28, 71, 94,  7, 69, 97, 84, 89, 70,\n",
       "       58, 31, 17, 69, 21, 36,  0, 40, 81, 75,  6, 23, 79, 10, 60])"
      ]
     },
     "execution_count": 3,
     "metadata": {},
     "output_type": "execute_result"
    }
   ],
   "source": [
    "y = np.array([np.random.randint(100) for _ in range(100)])\n",
    "y"
   ]
  },
  {
   "cell_type": "code",
   "execution_count": 12,
   "id": "d1245184",
   "metadata": {},
   "outputs": [],
   "source": [
    "def dot(x,y):\n",
    "    '''두 벡터의 내적'''\n",
    "    sum1=0;\n",
    "    for i,j in zip(x,y):\n",
    "        sum1 += i*j\n",
    "    return sum1"
   ]
  },
  {
   "cell_type": "markdown",
   "id": "225f89de",
   "metadata": {},
   "source": [
    "$$ \\overrightarrow{a} = | \\overrightarrow{a} | = \n",
    "\\sqrt{{a_{1}^2+a_{2}^2 + a_{3}^2} + \\cdot \\cdot \\cdot + a_{n-1}^2+a_{n}^2} $$"
   ]
  },
  {
   "cell_type": "markdown",
   "id": "ccc07c70",
   "metadata": {},
   "source": [
    "$$ cos(0 ^\\circ) = 1 $$\n",
    "$$ 2 \\pi = 360^{\\circ} $$"
   ]
  },
  {
   "cell_type": "code",
   "execution_count": 10,
   "id": "1138b96a",
   "metadata": {},
   "outputs": [],
   "source": [
    "def abs_vec(x):\n",
    "    ''' 벡터의 크기'''\n",
    "    result=0\n",
    "    for i in x:\n",
    "        result += i*i\n",
    "    return pow(result, 1/2) # pow 제곱(제곱할값, n승), 1/2제곱은 루트"
   ]
  },
  {
   "cell_type": "code",
   "execution_count": 11,
   "id": "53d2514d",
   "metadata": {},
   "outputs": [
    {
     "name": "stdout",
     "output_type": "stream",
     "text": [
      "Help on function abs_vec in module __main__:\n",
      "\n",
      "abs_vec(x)\n",
      "    벡터의 크기\n",
      "\n"
     ]
    }
   ],
   "source": [
    "help(abs_vec)"
   ]
  },
  {
   "cell_type": "code",
   "execution_count": 22,
   "id": "6c44d1b1",
   "metadata": {
    "scrolled": false
   },
   "outputs": [
    {
     "data": {
      "text/plain": [
       "array([240854, 309576])"
      ]
     },
     "execution_count": 22,
     "metadata": {},
     "output_type": "execute_result"
    }
   ],
   "source": [
    "np.dot(x,y)[0:2]"
   ]
  },
  {
   "cell_type": "code",
   "execution_count": 27,
   "id": "3ec85f5b",
   "metadata": {
    "scrolled": false
   },
   "outputs": [
    {
     "data": {
      "text/plain": [
       "0"
      ]
     },
     "execution_count": 27,
     "metadata": {},
     "output_type": "execute_result"
    }
   ],
   "source": [
    "sum([i!=j for i,j in zip (np.dot(x,y),dotted_data)])"
   ]
  },
  {
   "cell_type": "code",
   "execution_count": 21,
   "id": "e5feeb7a",
   "metadata": {
    "scrolled": false
   },
   "outputs": [
    {
     "data": {
      "text/plain": [
       "[240854, 309576]"
      ]
     },
     "execution_count": 21,
     "metadata": {},
     "output_type": "execute_result"
    }
   ],
   "source": [
    "dotted_data = [dot(x[i],y) for i in range(len(x))] #위에랑 같음\n",
    "dotted_data[:2]"
   ]
  },
  {
   "cell_type": "code",
   "execution_count": 44,
   "id": "03b9b997",
   "metadata": {
    "scrolled": false
   },
   "outputs": [
    {
     "data": {
      "text/plain": [
       "True"
      ]
     },
     "execution_count": 44,
     "metadata": {},
     "output_type": "execute_result"
    }
   ],
   "source": [
    "np.linalg.norm(y)==abs_vec(y)"
   ]
  },
  {
   "cell_type": "code",
   "execution_count": 56,
   "id": "fd40ebfc",
   "metadata": {},
   "outputs": [],
   "source": [
    "for i in range(len(x)):\n",
    "#     print(np.linalg.norm(x[i]), abs_vec(x[i]))\n",
    "    pass"
   ]
  },
  {
   "cell_type": "code",
   "execution_count": 62,
   "id": "da91bc92",
   "metadata": {},
   "outputs": [
    {
     "data": {
      "text/plain": [
       "0"
      ]
     },
     "execution_count": 62,
     "metadata": {},
     "output_type": "execute_result"
    }
   ],
   "source": [
    "cnt=0\n",
    "for i in range(len(x)):\n",
    "    if np.linalg.norm(x[i]) != abs_vec(x[i]):\n",
    "        cnt += 1\n",
    "cnt"
   ]
  },
  {
   "cell_type": "code",
   "execution_count": 51,
   "id": "2d1dd797",
   "metadata": {
    "scrolled": false
   },
   "outputs": [
    {
     "data": {
      "text/plain": [
       "0"
      ]
     },
     "execution_count": 51,
     "metadata": {},
     "output_type": "execute_result"
    }
   ],
   "source": [
    "sum([i!=j for i,j in [ (np.linalg.norm(x[i]), abs_vec(x[i])) for i in range(len(x))]])"
   ]
  },
  {
   "cell_type": "code",
   "execution_count": 66,
   "id": "0ce34568",
   "metadata": {},
   "outputs": [
    {
     "data": {
      "text/plain": [
       "4"
      ]
     },
     "execution_count": 66,
     "metadata": {},
     "output_type": "execute_result"
    }
   ],
   "source": [
    "list77=[[1,2,3],[2,3,4,5],[3,4,5,6],[5,8,11,23]]\n",
    "len(list77)"
   ]
  },
  {
   "cell_type": "code",
   "execution_count": 78,
   "id": "829ec464",
   "metadata": {
    "scrolled": false
   },
   "outputs": [
    {
     "ename": "SyntaxError",
     "evalue": "invalid syntax. Perhaps you forgot a comma? (3704693791.py, line 1)",
     "output_type": "error",
     "traceback": [
      "\u001b[1;36m  Cell \u001b[1;32mIn[78], line 1\u001b[1;36m\u001b[0m\n\u001b[1;33m    [i==j for i,j in zip(np.linalg.norm(x[]), abs_vec(x))]\u001b[0m\n\u001b[1;37m                                        ^\u001b[0m\n\u001b[1;31mSyntaxError\u001b[0m\u001b[1;31m:\u001b[0m invalid syntax. Perhaps you forgot a comma?\n"
     ]
    }
   ],
   "source": [
    "[i==j for i,j in zip(np.linalg.norm(x[]), abs_vec(x))]"
   ]
  },
  {
   "cell_type": "code",
   "execution_count": 36,
   "id": "08e89915",
   "metadata": {},
   "outputs": [
    {
     "data": {
      "text/plain": [
       "613.0285474592517"
      ]
     },
     "execution_count": 36,
     "metadata": {},
     "output_type": "execute_result"
    }
   ],
   "source": [
    "b_abs = abs_vec(y)\n"
   ]
  },
  {
   "cell_type": "code",
   "execution_count": 16,
   "id": "962e3ca8",
   "metadata": {},
   "outputs": [
    {
     "name": "stdout",
     "output_type": "stream",
     "text": [
      "0.751150607662615 0.7209929726539149\n"
     ]
    }
   ],
   "source": [
    "cos_theta = dot_a_b / (a_abs*b_abs)\n",
    "theta = np.arccos(cos_theta) # a벡터와 b벡터가 이루는 각도의 cos한 값\n",
    "print(cos_theta, theta)"
   ]
  },
  {
   "cell_type": "markdown",
   "id": "29364372",
   "metadata": {},
   "source": [
    "$$ \\frac{1}{2} = 2^{-1} = \\sqrt{2} $$\n",
    "$$ 제곱해서 나오는 수를 root라 한다 $$"
   ]
  },
  {
   "cell_type": "code",
   "execution_count": 581,
   "id": "718b64bf",
   "metadata": {},
   "outputs": [
    {
     "data": {
      "text/plain": [
       "0.7877582749041931"
      ]
     },
     "execution_count": 581,
     "metadata": {},
     "output_type": "execute_result"
    }
   ],
   "source": [
    "np.cos(0.6636351015893303)"
   ]
  },
  {
   "cell_type": "code",
   "execution_count": 534,
   "id": "eca17f56",
   "metadata": {},
   "outputs": [],
   "source": [
    "def pow_(a,b):\n",
    "    result=1\n",
    "    for _ in range(b):\n",
    "        result *= a\n",
    "    return result"
   ]
  },
  {
   "cell_type": "code",
   "execution_count": 540,
   "id": "6e690b98",
   "metadata": {},
   "outputs": [
    {
     "data": {
      "text/plain": [
       "9"
      ]
     },
     "execution_count": 540,
     "metadata": {},
     "output_type": "execute_result"
    }
   ],
   "source": [
    "pow_(3,2)"
   ]
  },
  {
   "cell_type": "code",
   "execution_count": 517,
   "id": "756ed262",
   "metadata": {},
   "outputs": [],
   "source": [
    "def vec1(x):\n",
    "    result1=0\n",
    "    for i in x:\n",
    "        result1 += (i*i)\n",
    "    return np.sqrt(result1)"
   ]
  },
  {
   "cell_type": "code",
   "execution_count": 542,
   "id": "e765adf1",
   "metadata": {},
   "outputs": [
    {
     "data": {
      "text/plain": [
       "4.47213595499958"
      ]
     },
     "execution_count": 542,
     "metadata": {},
     "output_type": "execute_result"
    }
   ],
   "source": [
    "vec1([4,2])"
   ]
  },
  {
   "cell_type": "code",
   "execution_count": 520,
   "id": "3e3b0b23",
   "metadata": {},
   "outputs": [],
   "source": [
    "def vec2(x):\n",
    "    result1=0\n",
    "    for i in x:\n",
    "        result1 += (i*i)\n",
    "    return math.pow(result1,1/2)"
   ]
  },
  {
   "cell_type": "code",
   "execution_count": 543,
   "id": "f9e0e60a",
   "metadata": {
    "scrolled": true
   },
   "outputs": [
    {
     "data": {
      "text/plain": [
       "4.47213595499958"
      ]
     },
     "execution_count": 543,
     "metadata": {},
     "output_type": "execute_result"
    }
   ],
   "source": [
    "vec2([4,2])"
   ]
  },
  {
   "cell_type": "code",
   "execution_count": 471,
   "id": "0d568737",
   "metadata": {},
   "outputs": [],
   "source": [
    "import math"
   ]
  },
  {
   "cell_type": "markdown",
   "id": "6b88d9f4",
   "metadata": {},
   "source": [
    "$$ 2 * math.pi(3.14*2) : 9.869604401089358 = $$"
   ]
  },
  {
   "cell_type": "code",
   "execution_count": 475,
   "id": "bba17955",
   "metadata": {},
   "outputs": [
    {
     "data": {
      "text/plain": [
       "[(6.283185307179586, 1.0),\n",
       " (3.141592653589793, -1.0),\n",
       " (2.0943951023931953, -0.4999999999999998),\n",
       " (1.5707963267948966, 6.123233995736766e-17),\n",
       " (1.2566370614359172, 0.30901699437494745),\n",
       " (1.0471975511965976, 0.5000000000000001),\n",
       " (0.8975979010256552, 0.6234898018587336),\n",
       " (0.7853981633974483, 0.7071067811865476),\n",
       " (0.6981317007977318, 0.766044443118978),\n",
       " (0.6283185307179586, 0.8090169943749475),\n",
       " (0.5711986642890533, 0.8412535328311812),\n",
       " (0.5235987755982988, 0.8660254037844387),\n",
       " (0.483321946706122, 0.8854560256532099),\n",
       " (0.4487989505128276, 0.9009688679024191),\n",
       " (0.41887902047863906, 0.9135454576426009),\n",
       " (0.39269908169872414, 0.9238795325112867),\n",
       " (0.36959913571644626, 0.9324722294043558),\n",
       " (0.3490658503988659, 0.9396926207859084),\n",
       " (0.3306939635357677, 0.9458172417006346),\n",
       " (0.3141592653589793, 0.9510565162951535),\n",
       " (0.2991993003418851, 0.9555728057861407),\n",
       " (0.28559933214452665, 0.9594929736144974),\n",
       " (0.2731819698773733, 0.9629172873477994),\n",
       " (0.2617993877991494, 0.9659258262890683),\n",
       " (0.25132741228718347, 0.9685831611286311),\n",
       " (0.241660973353061, 0.970941817426052),\n",
       " (0.23271056693257727, 0.9730448705798238),\n",
       " (0.2243994752564138, 0.9749279121818236),\n",
       " (0.21666156231653746, 0.9766205557100867),\n",
       " (0.20943951023931953, 0.9781476007338057),\n",
       " (0.2026833970057931, 0.9795299412524945),\n",
       " (0.19634954084936207, 0.9807852804032304),\n",
       " (0.19039955476301776, 0.9819286972627067),\n",
       " (0.18479956785822313, 0.9829730996839018),\n",
       " (0.17951958020513104, 0.9839295885986297),\n",
       " (0.17453292519943295, 0.984807753012208),\n",
       " (0.16981581911296179, 0.9856159103477085),\n",
       " (0.16534698176788384, 0.9863613034027223),\n",
       " (0.16110731556870733, 0.9870502626379128),\n",
       " (0.15707963267948966, 0.9876883405951378),\n",
       " (0.15324842212633139, 0.9882804237803485),\n",
       " (0.14959965017094254, 0.9888308262251285),\n",
       " (0.14612058853906015, 0.9893433680751103),\n",
       " (0.14279966607226333, 0.9898214418809327),\n",
       " (0.13962634015954636, 0.9902680687415704),\n",
       " (0.13659098493868665, 0.9906859460363308),\n",
       " (0.13368479376977843, 0.9910774881547801),\n",
       " (0.1308996938995747, 0.9914448613738104),\n",
       " (0.1282282715750936, 0.9917900138232462),\n",
       " (0.12566370614359174, 0.9921147013144779),\n",
       " (0.12319971190548208, 0.9924205096719357),\n",
       " (0.1208304866765305, 0.992708874098054),\n",
       " (0.11855066617319975, 0.9929810960135169),\n",
       " (0.11635528346628864, 0.993238357741943),\n",
       " (0.11423973285781065, 0.9934817353485502),\n",
       " (0.1121997376282069, 0.9937122098932426),\n",
       " (0.11023132117858923, 0.9939306773179495),\n",
       " (0.10833078115826873, 0.9941379571543596),\n",
       " (0.10649466622338281, 0.9943348002101371),\n",
       " (0.10471975511965977, 0.9945218953682733),\n",
       " (0.10300303782261616, 0.9946998756145891),\n",
       " (0.10134169850289655, 0.9948693233918952),\n",
       " (0.09973310011396169, 0.9950307753654014),\n",
       " (0.09817477042468103, 0.9951847266721969),\n",
       " (0.0966643893412244, 0.9953316347176486),\n",
       " (0.09519977738150888, 0.9954719225730846),\n",
       " (0.09377888518178487, 0.9956059820218981),\n",
       " (0.09239978392911156, 0.9957341762950345),\n",
       " (0.0910606566257911, 0.9958568425315313),\n",
       " (0.08975979010256552, 0.9959742939952391),\n",
       " (0.08849556770675474, 0.9960868220749448),\n",
       " (0.08726646259971647, 0.9961946980917455),\n",
       " (0.08607103160519981, 0.9962981749346078),\n",
       " (0.08490790955648089, 0.9963974885425265),\n",
       " (0.08377580409572781, 0.9964928592495044),\n",
       " (0.08267349088394192, 0.9965844930066698),\n",
       " (0.08159980918415047, 0.9966725824941932),\n",
       " (0.08055365778435367, 0.99675730813421),\n",
       " (0.07953399123012135, 0.9968388390146958),\n",
       " (0.07853981633974483, 0.996917333733128),\n",
       " (0.07757018897752575, 0.996992941167792),\n",
       " (0.07662421106316569, 0.9970658011837404),\n",
       " (0.07570102779734442, 0.997136045279652),\n",
       " (0.07479982508547127, 0.9972037971811801),\n",
       " (0.07391982714328925, 0.997269173385788),\n",
       " (0.07306029426953008, 0.9973322836635516),\n",
       " (0.07222052077217915, 0.9973932315179498),\n",
       " (0.07139983303613166, 0.9974521146102535),\n",
       " (0.07059758772111895, 0.9975090251507638),\n",
       " (0.06981317007977318, 0.9975640502598242),\n",
       " (0.06904599238658886, 0.9976172723012476),\n",
       " (0.06829549246934333, 0.9976687691905392),\n",
       " (0.06756113233526437, 0.9977186146800707),\n",
       " (0.06684239688488922, 0.9977668786231532),\n",
       " (0.06613879270715355, 0.9978136272187745),\n",
       " (0.06544984694978735, 0.9978589232386035),\n",
       " (0.06477510625958337, 0.9979028262377116),\n",
       " (0.0641141357875468, 0.9979453927503363),\n",
       " (0.06346651825433926, 0.9979866764718844),\n",
       " (0.06283185307179587, 0.9980267284282716)]"
      ]
     },
     "execution_count": 475,
     "metadata": {},
     "output_type": "execute_result"
    }
   ],
   "source": [
    "[(((2*math.pi)/(i+1)), math.cos((2*math.pi)/(i+1))) for i in range(100)] #cos 360도를 i를 증가시키면서\n",
    "#각도를 계속 100으로까지 나눈결과"
   ]
  },
  {
   "cell_type": "code",
   "execution_count": 441,
   "id": "1b38aacb",
   "metadata": {},
   "outputs": [],
   "source": [
    "def dot_nogada(x,y):\n",
    "    sum1=0;\n",
    "    for idx_i, i in enumerate(x):\n",
    "        for idx_j, j in enumerate(y):\n",
    "            if idx_i == idx_j:\n",
    "                sum1 += i*j\n",
    "    return sum1"
   ]
  },
  {
   "cell_type": "code",
   "execution_count": 443,
   "id": "316993e0",
   "metadata": {
    "scrolled": false
   },
   "outputs": [
    {
     "data": {
      "text/plain": [
       "266126"
      ]
     },
     "execution_count": 443,
     "metadata": {},
     "output_type": "execute_result"
    }
   ],
   "source": [
    "dot_nogada(x[0],y)"
   ]
  }
 ],
 "metadata": {
  "kernelspec": {
   "display_name": "Python 3 (ipykernel)",
   "language": "python",
   "name": "python3"
  },
  "language_info": {
   "codemirror_mode": {
    "name": "ipython",
    "version": 3
   },
   "file_extension": ".py",
   "mimetype": "text/x-python",
   "name": "python",
   "nbconvert_exporter": "python",
   "pygments_lexer": "ipython3",
   "version": "3.11.4"
  }
 },
 "nbformat": 4,
 "nbformat_minor": 5
}
