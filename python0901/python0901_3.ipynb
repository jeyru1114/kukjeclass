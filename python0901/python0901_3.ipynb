{
 "cells": [
  {
   "cell_type": "code",
   "execution_count": 1,
   "id": "08d8ce39",
   "metadata": {},
   "outputs": [],
   "source": [
    "from selenium import webdriver"
   ]
  },
  {
   "cell_type": "code",
   "execution_count": 2,
   "id": "66f472cf",
   "metadata": {},
   "outputs": [],
   "source": [
    "import time #페이지 로딩을 기다리는데 사용할 time 모듈"
   ]
  },
  {
   "cell_type": "code",
   "execution_count": 3,
   "id": "2ac562ef",
   "metadata": {},
   "outputs": [],
   "source": [
    "from selenium.webdriver.common.by import By"
   ]
  },
  {
   "cell_type": "code",
   "execution_count": 4,
   "id": "360ab55e",
   "metadata": {},
   "outputs": [],
   "source": [
    "from bs4 import BeautifulSoup"
   ]
  },
  {
   "cell_type": "markdown",
   "id": "872d07f8",
   "metadata": {},
   "source": [
    "## 크롬 드라이버 실행\n",
    "크롬 드라이버는 컴퓨터가 크롬 웹 브라우저를 다룰수 있도록 해주는 프로그램"
   ]
  },
  {
   "cell_type": "code",
   "execution_count": 5,
   "id": "d7aa9e45",
   "metadata": {},
   "outputs": [],
   "source": [
    "driver = webdriver.Chrome()\n",
    "driver.get(url=\"https://www.naver.com\")\n",
    "search_box = driver.find_element(By.XPATH , '//*[@id=\"query\"]')\n",
    "search_button = driver.find_element(By.XPATH ,'//*[@id=\"sform\"]/fieldset/button')\n",
    "search_word='짱구'\n",
    "search_box.send_keys(search_word)\n",
    "search_button.click()\n",
    "#페이지가 완전히 로딩되도록 3초 기다림\n",
    "time.sleep(3)"
   ]
  },
  {
   "cell_type": "code",
   "execution_count": 6,
   "id": "edf50001",
   "metadata": {},
   "outputs": [],
   "source": [
    "import requests"
   ]
  },
  {
   "cell_type": "code",
   "execution_count": 9,
   "id": "f5a23bb8",
   "metadata": {},
   "outputs": [
    {
     "name": "stdout",
     "output_type": "stream",
     "text": [
      "[<ul class=\"Nlnb_menu_list\" role=\"menu\">\n",
      "<li class=\"Nlist_item is_active\"><a aria-selected=\"true\" class=\"Nitem_link\" href=\"https://news.naver.com/?viewType=pc\" onclick=\"nclk(event,'lnb.pcmedia','','');\" role=\"menuitem\"><span class=\"Nitem_link_menu\">언론사별</span></a></li>\n",
      "<li class=\"Nlist_item\"><a aria-selected=\"false\" class=\"Nitem_link\" href=\"https://news.naver.com/main/main.naver?mode=LSD&amp;mid=shm&amp;sid1=100\" onclick=\"nclk(event,'lnb.pol','','');\" role=\"menuitem\"><span class=\"Nitem_link_menu\">정치</span></a></li>\n",
      "<li class=\"Nlist_item\"><a aria-selected=\"false\" class=\"Nitem_link\" href=\"https://news.naver.com/main/main.naver?mode=LSD&amp;mid=shm&amp;sid1=101\" onclick=\"nclk(event,'lnb.eco','','');\" role=\"menuitem\"><span class=\"Nitem_link_menu\">경제</span></a></li>\n",
      "<li class=\"Nlist_item\"><a aria-selected=\"false\" class=\"Nitem_link\" href=\"https://news.naver.com/main/main.naver?mode=LSD&amp;mid=shm&amp;sid1=102\" onclick=\"nclk(event,'lnb.soc','','');\" role=\"menuitem\"><span class=\"Nitem_link_menu\">사회</span></a></li>\n",
      "<li class=\"Nlist_item\"><a aria-selected=\"false\" class=\"Nitem_link\" href=\"https://news.naver.com/main/main.naver?mode=LSD&amp;mid=shm&amp;sid1=103\" onclick=\"nclk(event,'lnb.lif','','');\" role=\"menuitem\"><span class=\"Nitem_link_menu\">생활/문화</span></a></li>\n",
      "<li class=\"Nlist_item\"><a aria-selected=\"false\" class=\"Nitem_link\" href=\"https://news.naver.com/main/main.naver?mode=LSD&amp;mid=shm&amp;sid1=105\" onclick=\"nclk(event,'lnb.sci','','');\" role=\"menuitem\"><span class=\"Nitem_link_menu\">IT/과학</span></a></li>\n",
      "<li class=\"Nlist_item\"><a aria-selected=\"false\" class=\"Nitem_link\" href=\"https://news.naver.com/main/main.naver?mode=LSD&amp;mid=shm&amp;sid1=104\" onclick=\"nclk(event,'lnb.wor','','');\" role=\"menuitem\"><span class=\"Nitem_link_menu\">세계</span></a></li>\n",
      "<li class=\"Nlist_item _isNew\"><a aria-selected=\"false\" class=\"Nitem_link\" href=\"https://news.naver.com/main/ranking/popularDay.naver\" onclick=\"nclk(event,'lnb.rank','','');\" role=\"menuitem\"><span class=\"Nitem_link_menu\">랭킹</span></a></li>\n",
      "<li class=\"Nlist_item _isNew\"><a aria-selected=\"false\" class=\"Nitem_link\" href=\"https://news.naver.com/newspaper/home?viewType=pc\" onclick=\"nclk(event,'lnb.paper','','');\" role=\"menuitem\"><span class=\"Nitem_link_menu\">신문보기</span></a></li>\n",
      "<li class=\"Nlist_item\"><a aria-selected=\"false\" class=\"Nitem_link\" href=\"https://news.naver.com/opinion/home\" onclick=\"nclk(event,'lnb.opi','','');\" role=\"menuitem\"><span class=\"Nitem_link_menu\">오피니언</span></a></li>\n",
      "<li class=\"Nlist_item\"><a aria-selected=\"false\" class=\"Nitem_link\" href=\"https://news.naver.com/main/tv/index.naver?mid=tvh\" onclick=\"nclk(event,'lnb.tv','','');\" role=\"menuitem\"><span class=\"Nitem_link_menu\">TV</span></a></li>\n",
      "<li class=\"Nlist_item\"><a aria-selected=\"false\" class=\"Nitem_link\" href=\"https://news.naver.com/main/factcheck/main.naver\" onclick=\"nclk(event,'lnb.fact','','');\" role=\"menuitem\"><span class=\"Nitem_link_menu\">팩트체크</span></a></li>\n",
      "<li class=\"Nlist_item\"><a aria-selected=\"false\" class=\"Nitem_link\" href=\"https://media.naver.com/algorithm\" onclick=\"nclk(event,'lnb.algo','','');\" role=\"menuitem\"><span class=\"Nitem_link_menu\">알고리즘 안내</span></a></li>\n",
      "</ul>]\n"
     ]
    }
   ],
   "source": [
    "#{'정치':['이미지에 대한 src'],'경제'['img']..,'사회'}\n",
    "\n",
    "driver = webdriver.Chrome()\n",
    "driver.get(url=\"https://news.naver.com/\")\n",
    "html =requests.get(\"https://news.naver.com/\")\n",
    "soup = BeautifulSoup(html.content, \"html.parser\")\n",
    "v= soup.select(\"body > section > header > div.Nlnb._float_lnb > div > div > div.Nlnb_left._lnb_scroll > div > div > ul\")\n",
    "print(v)"
   ]
  },
  {
   "cell_type": "code",
   "execution_count": 8,
   "id": "b0010dc7",
   "metadata": {},
   "outputs": [
    {
     "ename": "NoSuchElementException",
     "evalue": "Message: no such element: Unable to locate element: {\"method\":\"xpath\",\"selector\":\"//*[@id=\"lnb\"]/ul/li[1]/a/span[1]\"}\n  (Session info: chrome=116.0.5845.141); For documentation on this error, please visit: https://www.selenium.dev/documentation/webdriver/troubleshooting/errors#no-such-element-exception\nStacktrace:\n\tGetHandleVerifier [0x00007FF6383652A2+57122]\n\t(No symbol) [0x00007FF6382DEA92]\n\t(No symbol) [0x00007FF6381AE3AB]\n\t(No symbol) [0x00007FF6381E7D3E]\n\t(No symbol) [0x00007FF6381E7E2C]\n\t(No symbol) [0x00007FF638220B67]\n\t(No symbol) [0x00007FF63820701F]\n\t(No symbol) [0x00007FF63821EB82]\n\t(No symbol) [0x00007FF638206DB3]\n\t(No symbol) [0x00007FF6381DD2B1]\n\t(No symbol) [0x00007FF6381DE494]\n\tGetHandleVerifier [0x00007FF63860EF82+2849794]\n\tGetHandleVerifier [0x00007FF638661D24+3189156]\n\tGetHandleVerifier [0x00007FF63865ACAF+3160367]\n\tGetHandleVerifier [0x00007FF6383F6D06+653702]\n\t(No symbol) [0x00007FF6382EA208]\n\t(No symbol) [0x00007FF6382E62C4]\n\t(No symbol) [0x00007FF6382E63F6]\n\t(No symbol) [0x00007FF6382D67A3]\n\tBaseThreadInitThunk [0x00007FF878EC26AD+29]\n\tRtlUserThreadStart [0x00007FF87ACCAA68+40]\n",
     "output_type": "error",
     "traceback": [
      "\u001b[1;31m---------------------------------------------------------------------------\u001b[0m",
      "\u001b[1;31mNoSuchElementException\u001b[0m                    Traceback (most recent call last)",
      "Cell \u001b[1;32mIn[8], line 1\u001b[0m\n\u001b[1;32m----> 1\u001b[0m f \u001b[38;5;241m=\u001b[39m driver\u001b[38;5;241m.\u001b[39mfind_element(By\u001b[38;5;241m.\u001b[39mXPATH,\u001b[38;5;124mf\u001b[39m\u001b[38;5;124m'\u001b[39m\u001b[38;5;124m//*[@id=\u001b[39m\u001b[38;5;124m\"\u001b[39m\u001b[38;5;124mlnb\u001b[39m\u001b[38;5;124m\"\u001b[39m\u001b[38;5;124m]/ul/li[\u001b[39m\u001b[38;5;132;01m{\u001b[39;00m\u001b[38;5;241m1\u001b[39m\u001b[38;5;132;01m}\u001b[39;00m\u001b[38;5;124m]/a/span[\u001b[39m\u001b[38;5;132;01m{\u001b[39;00m\u001b[38;5;241m1\u001b[39m\u001b[38;5;132;01m}\u001b[39;00m\u001b[38;5;124m]\u001b[39m\u001b[38;5;124m'\u001b[39m)\n\u001b[0;32m      2\u001b[0m f\u001b[38;5;241m.\u001b[39mclick()\n\u001b[0;32m      3\u001b[0m time\u001b[38;5;241m.\u001b[39msleep(\u001b[38;5;241m3\u001b[39m)\n",
      "File \u001b[1;32m~\\anaconda3\\Lib\\site-packages\\selenium\\webdriver\\remote\\webdriver.py:739\u001b[0m, in \u001b[0;36mWebDriver.find_element\u001b[1;34m(self, by, value)\u001b[0m\n\u001b[0;32m    736\u001b[0m     by \u001b[38;5;241m=\u001b[39m By\u001b[38;5;241m.\u001b[39mCSS_SELECTOR\n\u001b[0;32m    737\u001b[0m     value \u001b[38;5;241m=\u001b[39m \u001b[38;5;124mf\u001b[39m\u001b[38;5;124m'\u001b[39m\u001b[38;5;124m[name=\u001b[39m\u001b[38;5;124m\"\u001b[39m\u001b[38;5;132;01m{\u001b[39;00mvalue\u001b[38;5;132;01m}\u001b[39;00m\u001b[38;5;124m\"\u001b[39m\u001b[38;5;124m]\u001b[39m\u001b[38;5;124m'\u001b[39m\n\u001b[1;32m--> 739\u001b[0m \u001b[38;5;28;01mreturn\u001b[39;00m \u001b[38;5;28mself\u001b[39m\u001b[38;5;241m.\u001b[39mexecute(Command\u001b[38;5;241m.\u001b[39mFIND_ELEMENT, {\u001b[38;5;124m\"\u001b[39m\u001b[38;5;124musing\u001b[39m\u001b[38;5;124m\"\u001b[39m: by, \u001b[38;5;124m\"\u001b[39m\u001b[38;5;124mvalue\u001b[39m\u001b[38;5;124m\"\u001b[39m: value})[\u001b[38;5;124m\"\u001b[39m\u001b[38;5;124mvalue\u001b[39m\u001b[38;5;124m\"\u001b[39m]\n",
      "File \u001b[1;32m~\\anaconda3\\Lib\\site-packages\\selenium\\webdriver\\remote\\webdriver.py:345\u001b[0m, in \u001b[0;36mWebDriver.execute\u001b[1;34m(self, driver_command, params)\u001b[0m\n\u001b[0;32m    343\u001b[0m response \u001b[38;5;241m=\u001b[39m \u001b[38;5;28mself\u001b[39m\u001b[38;5;241m.\u001b[39mcommand_executor\u001b[38;5;241m.\u001b[39mexecute(driver_command, params)\n\u001b[0;32m    344\u001b[0m \u001b[38;5;28;01mif\u001b[39;00m response:\n\u001b[1;32m--> 345\u001b[0m     \u001b[38;5;28mself\u001b[39m\u001b[38;5;241m.\u001b[39merror_handler\u001b[38;5;241m.\u001b[39mcheck_response(response)\n\u001b[0;32m    346\u001b[0m     response[\u001b[38;5;124m\"\u001b[39m\u001b[38;5;124mvalue\u001b[39m\u001b[38;5;124m\"\u001b[39m] \u001b[38;5;241m=\u001b[39m \u001b[38;5;28mself\u001b[39m\u001b[38;5;241m.\u001b[39m_unwrap_value(response\u001b[38;5;241m.\u001b[39mget(\u001b[38;5;124m\"\u001b[39m\u001b[38;5;124mvalue\u001b[39m\u001b[38;5;124m\"\u001b[39m, \u001b[38;5;28;01mNone\u001b[39;00m))\n\u001b[0;32m    347\u001b[0m     \u001b[38;5;28;01mreturn\u001b[39;00m response\n",
      "File \u001b[1;32m~\\anaconda3\\Lib\\site-packages\\selenium\\webdriver\\remote\\errorhandler.py:229\u001b[0m, in \u001b[0;36mErrorHandler.check_response\u001b[1;34m(self, response)\u001b[0m\n\u001b[0;32m    227\u001b[0m         alert_text \u001b[38;5;241m=\u001b[39m value[\u001b[38;5;124m\"\u001b[39m\u001b[38;5;124malert\u001b[39m\u001b[38;5;124m\"\u001b[39m]\u001b[38;5;241m.\u001b[39mget(\u001b[38;5;124m\"\u001b[39m\u001b[38;5;124mtext\u001b[39m\u001b[38;5;124m\"\u001b[39m)\n\u001b[0;32m    228\u001b[0m     \u001b[38;5;28;01mraise\u001b[39;00m exception_class(message, screen, stacktrace, alert_text)  \u001b[38;5;66;03m# type: ignore[call-arg]  # mypy is not smart enough here\u001b[39;00m\n\u001b[1;32m--> 229\u001b[0m \u001b[38;5;28;01mraise\u001b[39;00m exception_class(message, screen, stacktrace)\n",
      "\u001b[1;31mNoSuchElementException\u001b[0m: Message: no such element: Unable to locate element: {\"method\":\"xpath\",\"selector\":\"//*[@id=\"lnb\"]/ul/li[1]/a/span[1]\"}\n  (Session info: chrome=116.0.5845.141); For documentation on this error, please visit: https://www.selenium.dev/documentation/webdriver/troubleshooting/errors#no-such-element-exception\nStacktrace:\n\tGetHandleVerifier [0x00007FF6383652A2+57122]\n\t(No symbol) [0x00007FF6382DEA92]\n\t(No symbol) [0x00007FF6381AE3AB]\n\t(No symbol) [0x00007FF6381E7D3E]\n\t(No symbol) [0x00007FF6381E7E2C]\n\t(No symbol) [0x00007FF638220B67]\n\t(No symbol) [0x00007FF63820701F]\n\t(No symbol) [0x00007FF63821EB82]\n\t(No symbol) [0x00007FF638206DB3]\n\t(No symbol) [0x00007FF6381DD2B1]\n\t(No symbol) [0x00007FF6381DE494]\n\tGetHandleVerifier [0x00007FF63860EF82+2849794]\n\tGetHandleVerifier [0x00007FF638661D24+3189156]\n\tGetHandleVerifier [0x00007FF63865ACAF+3160367]\n\tGetHandleVerifier [0x00007FF6383F6D06+653702]\n\t(No symbol) [0x00007FF6382EA208]\n\t(No symbol) [0x00007FF6382E62C4]\n\t(No symbol) [0x00007FF6382E63F6]\n\t(No symbol) [0x00007FF6382D67A3]\n\tBaseThreadInitThunk [0x00007FF878EC26AD+29]\n\tRtlUserThreadStart [0x00007FF87ACCAA68+40]\n"
     ]
    }
   ],
   "source": [
    "f = driver.find_element(By.XPATH,f'//*[@id=\"lnb\"]/ul/li[{1}]/a/span[{1}]')\n",
    "f.click()\n",
    "time.sleep(3)"
   ]
  }
 ],
 "metadata": {
  "kernelspec": {
   "display_name": "Python 3 (ipykernel)",
   "language": "python",
   "name": "python3"
  },
  "language_info": {
   "codemirror_mode": {
    "name": "ipython",
    "version": 3
   },
   "file_extension": ".py",
   "mimetype": "text/x-python",
   "name": "python",
   "nbconvert_exporter": "python",
   "pygments_lexer": "ipython3",
   "version": "3.11.4"
  }
 },
 "nbformat": 4,
 "nbformat_minor": 5
}
