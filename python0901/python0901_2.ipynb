{
 "cells": [
  {
   "cell_type": "code",
   "execution_count": 2,
   "id": "1354f81b",
   "metadata": {},
   "outputs": [],
   "source": [
    "import sys"
   ]
  },
  {
   "cell_type": "code",
   "execution_count": 3,
   "id": "6b5d91ac",
   "metadata": {},
   "outputs": [],
   "source": [
    "import cv2"
   ]
  },
  {
   "cell_type": "code",
   "execution_count": 3,
   "id": "40337161",
   "metadata": {},
   "outputs": [
    {
     "data": {
      "text/plain": [
       "'4.8.0'"
      ]
     },
     "execution_count": 3,
     "metadata": {},
     "output_type": "execute_result"
    }
   ],
   "source": [
    "cv2.__version__"
   ]
  },
  {
   "cell_type": "code",
   "execution_count": 4,
   "id": "4ca09d20",
   "metadata": {},
   "outputs": [
    {
     "name": "stdout",
     "output_type": "stream",
     "text": [
      "191\n"
     ]
    }
   ],
   "source": [
    "img = cv2.imread('images/j1.png')\n",
    "v=int(img.shape[1]/2)\n",
    "print(v)\n",
    "img = img[:,:v]\n",
    "if img is None:\n",
    "    print(\"이미지 로딩 실패\")\n",
    "    sys.exit()\n",
    "cv2.namedWindow('image')\n",
    "cv2.imshow('image', img)\n",
    "cv2.waitKey()\n",
    "cv2.destroyAllWindows()"
   ]
  },
  {
   "cell_type": "code",
   "execution_count": 4,
   "id": "3a01ddb5",
   "metadata": {},
   "outputs": [],
   "source": [
    "import numpy as np"
   ]
  },
  {
   "cell_type": "code",
   "execution_count": 6,
   "id": "64c57848",
   "metadata": {},
   "outputs": [],
   "source": [
    "def func1():\n",
    "    img1 = cv2.imread('images/cat.bmp', cv2.IMREAD_GRAYSCALE)\n",
    "    if img1 is None:\n",
    "        print(\"이미지 로딩 실패\")\n",
    "        return\n",
    "    print('type(img1):', type(img1))\n",
    "    print('img1.shape:', img1.shape)\n",
    "    if len(img1.shape) ==2:\n",
    "        print('img은 흑백(grayscale 이다)')\n",
    "    elif len(img1.shape)==3:\n",
    "        print('img1은 컬러(truecolor)이다')\n",
    "    cv2.imshow('img1',img1.T)\n",
    "    cv2.waitKey()\n",
    "    cv2.destroyAllWindows()"
   ]
  },
  {
   "cell_type": "code",
   "execution_count": 7,
   "id": "f62cc96d",
   "metadata": {
    "scrolled": true
   },
   "outputs": [
    {
     "name": "stdout",
     "output_type": "stream",
     "text": [
      "type(img1): <class 'numpy.ndarray'>\n",
      "img1.shape: (480, 640)\n",
      "img은 흑백(grayscale 이다)\n"
     ]
    }
   ],
   "source": [
    "func1()"
   ]
  },
  {
   "cell_type": "code",
   "execution_count": 8,
   "id": "b35d1732",
   "metadata": {},
   "outputs": [],
   "source": [
    "def func2():\n",
    "    img1 = np.empty((480,640), np.uint8) #흑백이미지\n",
    "    img2 = np.zeros((480,640,3), np.uint8) #컬러이미지\n",
    "    img3 = np.ones((480,640), np.uint32) #1로 채워진 행렬\n",
    "    img4 = np.full((480,640), 0, np.float32) #0으로 채워진 행렬\n",
    "    \n",
    "    mat1 = np.array([[11,12,13,14],\n",
    "                   [21,22,23,24],\n",
    "                   [31,32,33,34]]).astype(np.uint8)\n",
    "    \n",
    "    mat1[0,1] = 100\n",
    "    mat1[2,:] = 200\n",
    "    print(mat1)"
   ]
  },
  {
   "cell_type": "code",
   "execution_count": 9,
   "id": "44d88e2f",
   "metadata": {},
   "outputs": [],
   "source": [
    "def func3():\n",
    "    img1 = cv2.imread('images/cat.bmp')\n",
    "    img2 = img1 #주소 복사, 같은 위치의 공간을 가리키고 있다(얕은 복사/shallow copy)\n",
    "    img3 = img1.copy() #깊은 복사(deep copy)\n",
    "    img1[:,:] = (204,255,255) #yellow\n",
    "    \n",
    "    cv2.imshow('img1',img1)\n",
    "    cv2.imshow('img2',img2)\n",
    "    cv2.imshow('img3',img3)\n",
    "    cv2.waitKey()\n",
    "    cv2.destroyAllWindows()"
   ]
  },
  {
   "cell_type": "code",
   "execution_count": 10,
   "id": "9aa2bbfd",
   "metadata": {},
   "outputs": [],
   "source": [
    "def func4():\n",
    "    img1 = cv2.imread('images/lenna.bmp',cv2.IMREAD_GRAYSCALE)\n",
    "#     img2 = img1[200:400,200:400]\n",
    "    img2 = img1[200:400, 200:400].copy()\n",
    "    img3 = img1[200:400,200:400].copy()\n",
    "    img2+=20\n",
    "    print('shape:', img1.shape, 'shape2:',img2.shape)\n",
    "    print('img1:',img1[200:400,200:400][0],'img2:',img2[:,:][0])\n",
    "    cv2.imshow('img1',img1)\n",
    "    cv2.imshow('img2',img2)\n",
    "    cv2.imshow('img3',img3)\n",
    "    cv2.waitKey()\n",
    "    cv2.destroyAllWindows()"
   ]
  },
  {
   "cell_type": "code",
   "execution_count": 45,
   "id": "01dbc452",
   "metadata": {},
   "outputs": [],
   "source": [
    "#문제5) img1의 이미지의 밝기가 70~150(중간밝기) 사이인 것을\n",
    "#img1의 이미지의 밝기를 255(흰색)으로 변경함\n",
    "#강사님)\n",
    "def func9():\n",
    "    img1 = cv2.imread('images/lenna.bmp')\n",
    "    avg = (img1[:,:,1]+img1[:,:,0]+img1[:,:,2])/3.0 #RGB평균\n",
    "    avg_int = avg.astype(np.uint8) #실수를 정수로 변환\n",
    "    boolean_arr = (avg_int[:,:]>75) & (avg_int[:,:]<= 200) #픽셀 값이 75~200사이\n",
    "    my_index_true = np.where(boolean_arr) # True인 index찾기\n",
    "    avg_int[my_index_true==True]=255 # 해당 index의 값을 255로 설정\n",
    "    #print(avg_int)#0이면 blue, 1이면:Green, 2면 :Red\n",
    "    #print(avg_int,av.shape)\n",
    "    cv2.imshow('avg_int',avg_int)\n",
    "    cv2.waitKey()\n",
    "    cv2.destroyAllWindows()\n",
    "func9()"
   ]
  },
  {
   "cell_type": "code",
   "execution_count": 52,
   "id": "3e292d90",
   "metadata": {},
   "outputs": [],
   "source": [
    "#문제5) img1의 이미지의 밝기가 70~150(중간밝기) 사이인 것을\n",
    "#img1의 이미지의 밝기를 255(흰색)으로 변경함\n",
    "def func4_1():\n",
    "    img1 = cv2.imread('images/lenna.bmp',cv2.IMREAD_GRAYSCALE)\n",
    "    img2 = img1[:,:].copy()\n",
    "    mask = (img2 >= 70) & (img2 <= 150)\n",
    "    img2[mask] = (100) \n",
    "    cv2.imshow('img1',img1)\n",
    "    cv2.imshow('img2',img2)\n",
    "    cv2.waitKey()\n",
    "    cv2.destroyAllWindows()\n",
    "func4_1()"
   ]
  },
  {
   "cell_type": "code",
   "execution_count": 6,
   "id": "ff6dc12f",
   "metadata": {},
   "outputs": [],
   "source": [
    "#문제6) img1의 이미지의 크기에서 중간 영역(200:300, 200:400)의 밝기를 0으로 설정함\n",
    "def func4_2():\n",
    "    img1 = cv2.imread('images/lenna.bmp')\n",
    "    img1[200:300,200:400]=(0)\n",
    "#     img1 = img1[200:300,200:400].copy()\n",
    "#     img2[:,:] = (0) \n",
    "    cv2.imshow('img1',img1)\n",
    "#     cv2.imshow('img2',img2)\n",
    "    cv2.waitKey()\n",
    "    cv2.destroyAllWindows()\n",
    "func4_2()"
   ]
  },
  {
   "cell_type": "code",
   "execution_count": null,
   "id": "3728daa3",
   "metadata": {},
   "outputs": [],
   "source": [
    "def func5():\n",
    "    mat1=np.array(np.arange(12)).reshape(3,4)\n",
    "    print('mat:')\n",
    "    print(mat1)\n",
    "    h, w =mat1.shape[:2]\n",
    "    mat2=np.zeros(mat1.shape, type(mat1))\n",
    "    for j in range(h):\n",
    "        for i in range(w):\n",
    "            mat2[j,i]=mat1[j,i]+10\n",
    "    print('mat2:')\n",
    "    print(mat2)"
   ]
  },
  {
   "cell_type": "code",
   "execution_count": null,
   "id": "e13e502a",
   "metadata": {},
   "outputs": [],
   "source": [
    "def func6():\n",
    "    mat1=np.zeros((3,4),np.int32)\n",
    "    mat2=np.arange(12).reshape(3,4)\n",
    "    mat3= mat1+mat2\n",
    "    mat4=mat2*2\n",
    "    print('mat1:',mat1,sep=\"\\n\")\n",
    "    print('mat2:',mat2,sep=\"\\n\")\n",
    "    print('mat3:',mat3,sep=\"\\n\")\n",
    "    print('mat4:',mat4,sep=\"\\n\")"
   ]
  },
  {
   "cell_type": "code",
   "execution_count": null,
   "id": "ac991ff0",
   "metadata": {},
   "outputs": [],
   "source": [
    "func1()\n",
    "func2()\n",
    "func3()\n",
    "func4()\n",
    "func5()\n",
    "func6()"
   ]
  }
 ],
 "metadata": {
  "kernelspec": {
   "display_name": "Python 3 (ipykernel)",
   "language": "python",
   "name": "python3"
  },
  "language_info": {
   "codemirror_mode": {
    "name": "ipython",
    "version": 3
   },
   "file_extension": ".py",
   "mimetype": "text/x-python",
   "name": "python",
   "nbconvert_exporter": "python",
   "pygments_lexer": "ipython3",
   "version": "3.11.4"
  }
 },
 "nbformat": 4,
 "nbformat_minor": 5
}
