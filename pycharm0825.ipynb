{
 "cells": [
  {
   "cell_type": "code",
   "execution_count": 1,
   "id": "1daa8974",
   "metadata": {},
   "outputs": [
    {
     "name": "stdout",
     "output_type": "stream",
     "text": [
      "Requirement already satisfied: opencv-python in c:\\users\\jey92\\anaconda3\\lib\\site-packages (4.8.0.76)\n",
      "Requirement already satisfied: numpy>=1.21.2 in c:\\users\\jey92\\anaconda3\\lib\\site-packages (from opencv-python) (1.24.3)\n"
     ]
    }
   ],
   "source": [
    "!pip install opencv-python"
   ]
  },
  {
   "cell_type": "code",
   "execution_count": 2,
   "id": "5a70cf2a",
   "metadata": {},
   "outputs": [],
   "source": [
    "import cv2"
   ]
  },
  {
   "cell_type": "code",
   "execution_count": 3,
   "id": "8524efd4",
   "metadata": {},
   "outputs": [],
   "source": [
    "import numpy as np"
   ]
  },
  {
   "cell_type": "code",
   "execution_count": 9,
   "id": "b5b35c47",
   "metadata": {},
   "outputs": [],
   "source": [
    "x= np.zeros((20,20,3))"
   ]
  },
  {
   "cell_type": "code",
   "execution_count": 10,
   "id": "938b0f50",
   "metadata": {},
   "outputs": [],
   "source": [
    "x[:][:][:]=200"
   ]
  },
  {
   "cell_type": "code",
   "execution_count": 14,
   "id": "e502d1b0",
   "metadata": {},
   "outputs": [],
   "source": [
    "x[:][:][:]=200"
   ]
  },
  {
   "cell_type": "code",
   "execution_count": 15,
   "id": "41a36002",
   "metadata": {
    "scrolled": true
   },
   "outputs": [
    {
     "data": {
      "text/plain": [
       "array([[[200., 200., 200.],\n",
       "        [200., 200., 200.],\n",
       "        [200., 200., 200.],\n",
       "        ...,\n",
       "        [200., 200., 200.],\n",
       "        [200., 200., 200.],\n",
       "        [200., 200., 200.]],\n",
       "\n",
       "       [[200., 200., 200.],\n",
       "        [200., 200., 200.],\n",
       "        [200., 200., 200.],\n",
       "        ...,\n",
       "        [200., 200., 200.],\n",
       "        [200., 200., 200.],\n",
       "        [200., 200., 200.]],\n",
       "\n",
       "       [[200., 200., 200.],\n",
       "        [200., 200., 200.],\n",
       "        [200., 200., 200.],\n",
       "        ...,\n",
       "        [200., 200., 200.],\n",
       "        [200., 200., 200.],\n",
       "        [200., 200., 200.]],\n",
       "\n",
       "       ...,\n",
       "\n",
       "       [[200., 200., 200.],\n",
       "        [200., 200., 200.],\n",
       "        [200., 200., 200.],\n",
       "        ...,\n",
       "        [200., 200., 200.],\n",
       "        [200., 200., 200.],\n",
       "        [200., 200., 200.]],\n",
       "\n",
       "       [[200., 200., 200.],\n",
       "        [200., 200., 200.],\n",
       "        [200., 200., 200.],\n",
       "        ...,\n",
       "        [200., 200., 200.],\n",
       "        [200., 200., 200.],\n",
       "        [200., 200., 200.]],\n",
       "\n",
       "       [[200., 200., 200.],\n",
       "        [200., 200., 200.],\n",
       "        [200., 200., 200.],\n",
       "        ...,\n",
       "        [200., 200., 200.],\n",
       "        [200., 200., 200.],\n",
       "        [200., 200., 200.]]])"
      ]
     },
     "execution_count": 15,
     "metadata": {},
     "output_type": "execute_result"
    }
   ],
   "source": [
    "x"
   ]
  }
 ],
 "metadata": {
  "kernelspec": {
   "display_name": "Python 3 (ipykernel)",
   "language": "python",
   "name": "python3"
  },
  "language_info": {
   "codemirror_mode": {
    "name": "ipython",
    "version": 3
   },
   "file_extension": ".py",
   "mimetype": "text/x-python",
   "name": "python",
   "nbconvert_exporter": "python",
   "pygments_lexer": "ipython3",
   "version": "3.11.4"
  }
 },
 "nbformat": 4,
 "nbformat_minor": 5
}
